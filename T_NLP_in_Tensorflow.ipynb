{
  "nbformat": 4,
  "nbformat_minor": 0,
  "metadata": {
    "colab": {
      "provenance": [],
      "gpuType": "T4"
    },
    "kernelspec": {
      "name": "python3",
      "display_name": "Python 3"
    },
    "language_info": {
      "name": "python"
    },
    "accelerator": "GPU"
  },
  "cells": [
    {
      "cell_type": "code",
      "source": [
        "!nvidia-smi"
      ],
      "metadata": {
        "colab": {
          "base_uri": "https://localhost:8080/"
        },
        "id": "xtGtnEVwkXKP",
        "outputId": "7c8eb916-e1f9-43a4-ad93-27264c0ea30c"
      },
      "execution_count": 1,
      "outputs": [
        {
          "output_type": "stream",
          "name": "stdout",
          "text": [
            "Sun Jun 18 03:49:29 2023       \n",
            "+-----------------------------------------------------------------------------+\n",
            "| NVIDIA-SMI 525.85.12    Driver Version: 525.85.12    CUDA Version: 12.0     |\n",
            "|-------------------------------+----------------------+----------------------+\n",
            "| GPU  Name        Persistence-M| Bus-Id        Disp.A | Volatile Uncorr. ECC |\n",
            "| Fan  Temp  Perf  Pwr:Usage/Cap|         Memory-Usage | GPU-Util  Compute M. |\n",
            "|                               |                      |               MIG M. |\n",
            "|===============================+======================+======================|\n",
            "|   0  Tesla T4            Off  | 00000000:00:04.0 Off |                    0 |\n",
            "| N/A   60C    P8    10W /  70W |      0MiB / 15360MiB |      0%      Default |\n",
            "|                               |                      |                  N/A |\n",
            "+-------------------------------+----------------------+----------------------+\n",
            "                                                                               \n",
            "+-----------------------------------------------------------------------------+\n",
            "| Processes:                                                                  |\n",
            "|  GPU   GI   CI        PID   Type   Process name                  GPU Memory |\n",
            "|        ID   ID                                                   Usage      |\n",
            "|=============================================================================|\n",
            "|  No running processes found                                                 |\n",
            "+-----------------------------------------------------------------------------+\n"
          ]
        }
      ]
    },
    {
      "cell_type": "code",
      "source": [
        "!nvidia-smi -L"
      ],
      "metadata": {
        "colab": {
          "base_uri": "https://localhost:8080/"
        },
        "id": "xwMTQKf1sYWf",
        "outputId": "2de9f8ae-e2f0-42ed-f486-6709a708d8c3"
      },
      "execution_count": 2,
      "outputs": [
        {
          "output_type": "stream",
          "name": "stdout",
          "text": [
            "GPU 0: Tesla T4 (UUID: GPU-8120533f-e06c-a397-20af-961849e5d697)\n"
          ]
        }
      ]
    },
    {
      "cell_type": "code",
      "source": [
        "import pandas as pd"
      ],
      "metadata": {
        "id": "uAE9w6pJtGUV"
      },
      "execution_count": 3,
      "outputs": []
    },
    {
      "cell_type": "code",
      "source": [
        "train_data = pd.read_csv(\"train.csv\")\n",
        "train_data"
      ],
      "metadata": {
        "colab": {
          "base_uri": "https://localhost:8080/",
          "height": 424
        },
        "id": "tIOIEdp3xNTp",
        "outputId": "e310a32a-8896-4a99-8a23-a482670be958"
      },
      "execution_count": 4,
      "outputs": [
        {
          "output_type": "execute_result",
          "data": {
            "text/plain": [
              "         id keyword location  \\\n",
              "0         1     NaN      NaN   \n",
              "1         4     NaN      NaN   \n",
              "2         5     NaN      NaN   \n",
              "3         6     NaN      NaN   \n",
              "4         7     NaN      NaN   \n",
              "...     ...     ...      ...   \n",
              "7608  10869     NaN      NaN   \n",
              "7609  10870     NaN      NaN   \n",
              "7610  10871     NaN      NaN   \n",
              "7611  10872     NaN      NaN   \n",
              "7612  10873     NaN      NaN   \n",
              "\n",
              "                                                   text  target  \n",
              "0     Our Deeds are the Reason of this #earthquake M...       1  \n",
              "1                Forest fire near La Ronge Sask. Canada       1  \n",
              "2     All residents asked to 'shelter in place' are ...       1  \n",
              "3     13,000 people receive #wildfires evacuation or...       1  \n",
              "4     Just got sent this photo from Ruby #Alaska as ...       1  \n",
              "...                                                 ...     ...  \n",
              "7608  Two giant cranes holding a bridge collapse int...       1  \n",
              "7609  @aria_ahrary @TheTawniest The out of control w...       1  \n",
              "7610  M1.94 [01:04 UTC]?5km S of Volcano Hawaii. htt...       1  \n",
              "7611  Police investigating after an e-bike collided ...       1  \n",
              "7612  The Latest: More Homes Razed by Northern Calif...       1  \n",
              "\n",
              "[7613 rows x 5 columns]"
            ],
            "text/html": [
              "\n",
              "  <div id=\"df-68eda635-e007-42dc-b35a-f6e192416b7d\">\n",
              "    <div class=\"colab-df-container\">\n",
              "      <div>\n",
              "<style scoped>\n",
              "    .dataframe tbody tr th:only-of-type {\n",
              "        vertical-align: middle;\n",
              "    }\n",
              "\n",
              "    .dataframe tbody tr th {\n",
              "        vertical-align: top;\n",
              "    }\n",
              "\n",
              "    .dataframe thead th {\n",
              "        text-align: right;\n",
              "    }\n",
              "</style>\n",
              "<table border=\"1\" class=\"dataframe\">\n",
              "  <thead>\n",
              "    <tr style=\"text-align: right;\">\n",
              "      <th></th>\n",
              "      <th>id</th>\n",
              "      <th>keyword</th>\n",
              "      <th>location</th>\n",
              "      <th>text</th>\n",
              "      <th>target</th>\n",
              "    </tr>\n",
              "  </thead>\n",
              "  <tbody>\n",
              "    <tr>\n",
              "      <th>0</th>\n",
              "      <td>1</td>\n",
              "      <td>NaN</td>\n",
              "      <td>NaN</td>\n",
              "      <td>Our Deeds are the Reason of this #earthquake M...</td>\n",
              "      <td>1</td>\n",
              "    </tr>\n",
              "    <tr>\n",
              "      <th>1</th>\n",
              "      <td>4</td>\n",
              "      <td>NaN</td>\n",
              "      <td>NaN</td>\n",
              "      <td>Forest fire near La Ronge Sask. Canada</td>\n",
              "      <td>1</td>\n",
              "    </tr>\n",
              "    <tr>\n",
              "      <th>2</th>\n",
              "      <td>5</td>\n",
              "      <td>NaN</td>\n",
              "      <td>NaN</td>\n",
              "      <td>All residents asked to 'shelter in place' are ...</td>\n",
              "      <td>1</td>\n",
              "    </tr>\n",
              "    <tr>\n",
              "      <th>3</th>\n",
              "      <td>6</td>\n",
              "      <td>NaN</td>\n",
              "      <td>NaN</td>\n",
              "      <td>13,000 people receive #wildfires evacuation or...</td>\n",
              "      <td>1</td>\n",
              "    </tr>\n",
              "    <tr>\n",
              "      <th>4</th>\n",
              "      <td>7</td>\n",
              "      <td>NaN</td>\n",
              "      <td>NaN</td>\n",
              "      <td>Just got sent this photo from Ruby #Alaska as ...</td>\n",
              "      <td>1</td>\n",
              "    </tr>\n",
              "    <tr>\n",
              "      <th>...</th>\n",
              "      <td>...</td>\n",
              "      <td>...</td>\n",
              "      <td>...</td>\n",
              "      <td>...</td>\n",
              "      <td>...</td>\n",
              "    </tr>\n",
              "    <tr>\n",
              "      <th>7608</th>\n",
              "      <td>10869</td>\n",
              "      <td>NaN</td>\n",
              "      <td>NaN</td>\n",
              "      <td>Two giant cranes holding a bridge collapse int...</td>\n",
              "      <td>1</td>\n",
              "    </tr>\n",
              "    <tr>\n",
              "      <th>7609</th>\n",
              "      <td>10870</td>\n",
              "      <td>NaN</td>\n",
              "      <td>NaN</td>\n",
              "      <td>@aria_ahrary @TheTawniest The out of control w...</td>\n",
              "      <td>1</td>\n",
              "    </tr>\n",
              "    <tr>\n",
              "      <th>7610</th>\n",
              "      <td>10871</td>\n",
              "      <td>NaN</td>\n",
              "      <td>NaN</td>\n",
              "      <td>M1.94 [01:04 UTC]?5km S of Volcano Hawaii. htt...</td>\n",
              "      <td>1</td>\n",
              "    </tr>\n",
              "    <tr>\n",
              "      <th>7611</th>\n",
              "      <td>10872</td>\n",
              "      <td>NaN</td>\n",
              "      <td>NaN</td>\n",
              "      <td>Police investigating after an e-bike collided ...</td>\n",
              "      <td>1</td>\n",
              "    </tr>\n",
              "    <tr>\n",
              "      <th>7612</th>\n",
              "      <td>10873</td>\n",
              "      <td>NaN</td>\n",
              "      <td>NaN</td>\n",
              "      <td>The Latest: More Homes Razed by Northern Calif...</td>\n",
              "      <td>1</td>\n",
              "    </tr>\n",
              "  </tbody>\n",
              "</table>\n",
              "<p>7613 rows × 5 columns</p>\n",
              "</div>\n",
              "      <button class=\"colab-df-convert\" onclick=\"convertToInteractive('df-68eda635-e007-42dc-b35a-f6e192416b7d')\"\n",
              "              title=\"Convert this dataframe to an interactive table.\"\n",
              "              style=\"display:none;\">\n",
              "        \n",
              "  <svg xmlns=\"http://www.w3.org/2000/svg\" height=\"24px\"viewBox=\"0 0 24 24\"\n",
              "       width=\"24px\">\n",
              "    <path d=\"M0 0h24v24H0V0z\" fill=\"none\"/>\n",
              "    <path d=\"M18.56 5.44l.94 2.06.94-2.06 2.06-.94-2.06-.94-.94-2.06-.94 2.06-2.06.94zm-11 1L8.5 8.5l.94-2.06 2.06-.94-2.06-.94L8.5 2.5l-.94 2.06-2.06.94zm10 10l.94 2.06.94-2.06 2.06-.94-2.06-.94-.94-2.06-.94 2.06-2.06.94z\"/><path d=\"M17.41 7.96l-1.37-1.37c-.4-.4-.92-.59-1.43-.59-.52 0-1.04.2-1.43.59L10.3 9.45l-7.72 7.72c-.78.78-.78 2.05 0 2.83L4 21.41c.39.39.9.59 1.41.59.51 0 1.02-.2 1.41-.59l7.78-7.78 2.81-2.81c.8-.78.8-2.07 0-2.86zM5.41 20L4 18.59l7.72-7.72 1.47 1.35L5.41 20z\"/>\n",
              "  </svg>\n",
              "      </button>\n",
              "      \n",
              "  <style>\n",
              "    .colab-df-container {\n",
              "      display:flex;\n",
              "      flex-wrap:wrap;\n",
              "      gap: 12px;\n",
              "    }\n",
              "\n",
              "    .colab-df-convert {\n",
              "      background-color: #E8F0FE;\n",
              "      border: none;\n",
              "      border-radius: 50%;\n",
              "      cursor: pointer;\n",
              "      display: none;\n",
              "      fill: #1967D2;\n",
              "      height: 32px;\n",
              "      padding: 0 0 0 0;\n",
              "      width: 32px;\n",
              "    }\n",
              "\n",
              "    .colab-df-convert:hover {\n",
              "      background-color: #E2EBFA;\n",
              "      box-shadow: 0px 1px 2px rgba(60, 64, 67, 0.3), 0px 1px 3px 1px rgba(60, 64, 67, 0.15);\n",
              "      fill: #174EA6;\n",
              "    }\n",
              "\n",
              "    [theme=dark] .colab-df-convert {\n",
              "      background-color: #3B4455;\n",
              "      fill: #D2E3FC;\n",
              "    }\n",
              "\n",
              "    [theme=dark] .colab-df-convert:hover {\n",
              "      background-color: #434B5C;\n",
              "      box-shadow: 0px 1px 3px 1px rgba(0, 0, 0, 0.15);\n",
              "      filter: drop-shadow(0px 1px 2px rgba(0, 0, 0, 0.3));\n",
              "      fill: #FFFFFF;\n",
              "    }\n",
              "  </style>\n",
              "\n",
              "      <script>\n",
              "        const buttonEl =\n",
              "          document.querySelector('#df-68eda635-e007-42dc-b35a-f6e192416b7d button.colab-df-convert');\n",
              "        buttonEl.style.display =\n",
              "          google.colab.kernel.accessAllowed ? 'block' : 'none';\n",
              "\n",
              "        async function convertToInteractive(key) {\n",
              "          const element = document.querySelector('#df-68eda635-e007-42dc-b35a-f6e192416b7d');\n",
              "          const dataTable =\n",
              "            await google.colab.kernel.invokeFunction('convertToInteractive',\n",
              "                                                     [key], {});\n",
              "          if (!dataTable) return;\n",
              "\n",
              "          const docLinkHtml = 'Like what you see? Visit the ' +\n",
              "            '<a target=\"_blank\" href=https://colab.research.google.com/notebooks/data_table.ipynb>data table notebook</a>'\n",
              "            + ' to learn more about interactive tables.';\n",
              "          element.innerHTML = '';\n",
              "          dataTable['output_type'] = 'display_data';\n",
              "          await google.colab.output.renderOutput(dataTable, element);\n",
              "          const docLink = document.createElement('div');\n",
              "          docLink.innerHTML = docLinkHtml;\n",
              "          element.appendChild(docLink);\n",
              "        }\n",
              "      </script>\n",
              "    </div>\n",
              "  </div>\n",
              "  "
            ]
          },
          "metadata": {},
          "execution_count": 4
        }
      ]
    },
    {
      "cell_type": "code",
      "source": [
        "test_data = pd.read_csv(\"test.csv\")\n",
        "test_data"
      ],
      "metadata": {
        "colab": {
          "base_uri": "https://localhost:8080/",
          "height": 424
        },
        "id": "S977pxoixUJK",
        "outputId": "e61ee841-a4c1-4d7a-9928-1dc8c6fe353d"
      },
      "execution_count": 5,
      "outputs": [
        {
          "output_type": "execute_result",
          "data": {
            "text/plain": [
              "         id keyword location  \\\n",
              "0         0     NaN      NaN   \n",
              "1         2     NaN      NaN   \n",
              "2         3     NaN      NaN   \n",
              "3         9     NaN      NaN   \n",
              "4        11     NaN      NaN   \n",
              "...     ...     ...      ...   \n",
              "3258  10861     NaN      NaN   \n",
              "3259  10865     NaN      NaN   \n",
              "3260  10868     NaN      NaN   \n",
              "3261  10874     NaN      NaN   \n",
              "3262  10875     NaN      NaN   \n",
              "\n",
              "                                                   text  \n",
              "0                    Just happened a terrible car crash  \n",
              "1     Heard about #earthquake is different cities, s...  \n",
              "2     there is a forest fire at spot pond, geese are...  \n",
              "3              Apocalypse lighting. #Spokane #wildfires  \n",
              "4         Typhoon Soudelor kills 28 in China and Taiwan  \n",
              "...                                                 ...  \n",
              "3258  EARTHQUAKE SAFETY LOS ANGELES ÛÒ SAFETY FASTE...  \n",
              "3259  Storm in RI worse than last hurricane. My city...  \n",
              "3260  Green Line derailment in Chicago http://t.co/U...  \n",
              "3261  MEG issues Hazardous Weather Outlook (HWO) htt...  \n",
              "3262  #CityofCalgary has activated its Municipal Eme...  \n",
              "\n",
              "[3263 rows x 4 columns]"
            ],
            "text/html": [
              "\n",
              "  <div id=\"df-2c9efc4d-b15b-4bc1-903a-19490f32bb5f\">\n",
              "    <div class=\"colab-df-container\">\n",
              "      <div>\n",
              "<style scoped>\n",
              "    .dataframe tbody tr th:only-of-type {\n",
              "        vertical-align: middle;\n",
              "    }\n",
              "\n",
              "    .dataframe tbody tr th {\n",
              "        vertical-align: top;\n",
              "    }\n",
              "\n",
              "    .dataframe thead th {\n",
              "        text-align: right;\n",
              "    }\n",
              "</style>\n",
              "<table border=\"1\" class=\"dataframe\">\n",
              "  <thead>\n",
              "    <tr style=\"text-align: right;\">\n",
              "      <th></th>\n",
              "      <th>id</th>\n",
              "      <th>keyword</th>\n",
              "      <th>location</th>\n",
              "      <th>text</th>\n",
              "    </tr>\n",
              "  </thead>\n",
              "  <tbody>\n",
              "    <tr>\n",
              "      <th>0</th>\n",
              "      <td>0</td>\n",
              "      <td>NaN</td>\n",
              "      <td>NaN</td>\n",
              "      <td>Just happened a terrible car crash</td>\n",
              "    </tr>\n",
              "    <tr>\n",
              "      <th>1</th>\n",
              "      <td>2</td>\n",
              "      <td>NaN</td>\n",
              "      <td>NaN</td>\n",
              "      <td>Heard about #earthquake is different cities, s...</td>\n",
              "    </tr>\n",
              "    <tr>\n",
              "      <th>2</th>\n",
              "      <td>3</td>\n",
              "      <td>NaN</td>\n",
              "      <td>NaN</td>\n",
              "      <td>there is a forest fire at spot pond, geese are...</td>\n",
              "    </tr>\n",
              "    <tr>\n",
              "      <th>3</th>\n",
              "      <td>9</td>\n",
              "      <td>NaN</td>\n",
              "      <td>NaN</td>\n",
              "      <td>Apocalypse lighting. #Spokane #wildfires</td>\n",
              "    </tr>\n",
              "    <tr>\n",
              "      <th>4</th>\n",
              "      <td>11</td>\n",
              "      <td>NaN</td>\n",
              "      <td>NaN</td>\n",
              "      <td>Typhoon Soudelor kills 28 in China and Taiwan</td>\n",
              "    </tr>\n",
              "    <tr>\n",
              "      <th>...</th>\n",
              "      <td>...</td>\n",
              "      <td>...</td>\n",
              "      <td>...</td>\n",
              "      <td>...</td>\n",
              "    </tr>\n",
              "    <tr>\n",
              "      <th>3258</th>\n",
              "      <td>10861</td>\n",
              "      <td>NaN</td>\n",
              "      <td>NaN</td>\n",
              "      <td>EARTHQUAKE SAFETY LOS ANGELES ÛÒ SAFETY FASTE...</td>\n",
              "    </tr>\n",
              "    <tr>\n",
              "      <th>3259</th>\n",
              "      <td>10865</td>\n",
              "      <td>NaN</td>\n",
              "      <td>NaN</td>\n",
              "      <td>Storm in RI worse than last hurricane. My city...</td>\n",
              "    </tr>\n",
              "    <tr>\n",
              "      <th>3260</th>\n",
              "      <td>10868</td>\n",
              "      <td>NaN</td>\n",
              "      <td>NaN</td>\n",
              "      <td>Green Line derailment in Chicago http://t.co/U...</td>\n",
              "    </tr>\n",
              "    <tr>\n",
              "      <th>3261</th>\n",
              "      <td>10874</td>\n",
              "      <td>NaN</td>\n",
              "      <td>NaN</td>\n",
              "      <td>MEG issues Hazardous Weather Outlook (HWO) htt...</td>\n",
              "    </tr>\n",
              "    <tr>\n",
              "      <th>3262</th>\n",
              "      <td>10875</td>\n",
              "      <td>NaN</td>\n",
              "      <td>NaN</td>\n",
              "      <td>#CityofCalgary has activated its Municipal Eme...</td>\n",
              "    </tr>\n",
              "  </tbody>\n",
              "</table>\n",
              "<p>3263 rows × 4 columns</p>\n",
              "</div>\n",
              "      <button class=\"colab-df-convert\" onclick=\"convertToInteractive('df-2c9efc4d-b15b-4bc1-903a-19490f32bb5f')\"\n",
              "              title=\"Convert this dataframe to an interactive table.\"\n",
              "              style=\"display:none;\">\n",
              "        \n",
              "  <svg xmlns=\"http://www.w3.org/2000/svg\" height=\"24px\"viewBox=\"0 0 24 24\"\n",
              "       width=\"24px\">\n",
              "    <path d=\"M0 0h24v24H0V0z\" fill=\"none\"/>\n",
              "    <path d=\"M18.56 5.44l.94 2.06.94-2.06 2.06-.94-2.06-.94-.94-2.06-.94 2.06-2.06.94zm-11 1L8.5 8.5l.94-2.06 2.06-.94-2.06-.94L8.5 2.5l-.94 2.06-2.06.94zm10 10l.94 2.06.94-2.06 2.06-.94-2.06-.94-.94-2.06-.94 2.06-2.06.94z\"/><path d=\"M17.41 7.96l-1.37-1.37c-.4-.4-.92-.59-1.43-.59-.52 0-1.04.2-1.43.59L10.3 9.45l-7.72 7.72c-.78.78-.78 2.05 0 2.83L4 21.41c.39.39.9.59 1.41.59.51 0 1.02-.2 1.41-.59l7.78-7.78 2.81-2.81c.8-.78.8-2.07 0-2.86zM5.41 20L4 18.59l7.72-7.72 1.47 1.35L5.41 20z\"/>\n",
              "  </svg>\n",
              "      </button>\n",
              "      \n",
              "  <style>\n",
              "    .colab-df-container {\n",
              "      display:flex;\n",
              "      flex-wrap:wrap;\n",
              "      gap: 12px;\n",
              "    }\n",
              "\n",
              "    .colab-df-convert {\n",
              "      background-color: #E8F0FE;\n",
              "      border: none;\n",
              "      border-radius: 50%;\n",
              "      cursor: pointer;\n",
              "      display: none;\n",
              "      fill: #1967D2;\n",
              "      height: 32px;\n",
              "      padding: 0 0 0 0;\n",
              "      width: 32px;\n",
              "    }\n",
              "\n",
              "    .colab-df-convert:hover {\n",
              "      background-color: #E2EBFA;\n",
              "      box-shadow: 0px 1px 2px rgba(60, 64, 67, 0.3), 0px 1px 3px 1px rgba(60, 64, 67, 0.15);\n",
              "      fill: #174EA6;\n",
              "    }\n",
              "\n",
              "    [theme=dark] .colab-df-convert {\n",
              "      background-color: #3B4455;\n",
              "      fill: #D2E3FC;\n",
              "    }\n",
              "\n",
              "    [theme=dark] .colab-df-convert:hover {\n",
              "      background-color: #434B5C;\n",
              "      box-shadow: 0px 1px 3px 1px rgba(0, 0, 0, 0.15);\n",
              "      filter: drop-shadow(0px 1px 2px rgba(0, 0, 0, 0.3));\n",
              "      fill: #FFFFFF;\n",
              "    }\n",
              "  </style>\n",
              "\n",
              "      <script>\n",
              "        const buttonEl =\n",
              "          document.querySelector('#df-2c9efc4d-b15b-4bc1-903a-19490f32bb5f button.colab-df-convert');\n",
              "        buttonEl.style.display =\n",
              "          google.colab.kernel.accessAllowed ? 'block' : 'none';\n",
              "\n",
              "        async function convertToInteractive(key) {\n",
              "          const element = document.querySelector('#df-2c9efc4d-b15b-4bc1-903a-19490f32bb5f');\n",
              "          const dataTable =\n",
              "            await google.colab.kernel.invokeFunction('convertToInteractive',\n",
              "                                                     [key], {});\n",
              "          if (!dataTable) return;\n",
              "\n",
              "          const docLinkHtml = 'Like what you see? Visit the ' +\n",
              "            '<a target=\"_blank\" href=https://colab.research.google.com/notebooks/data_table.ipynb>data table notebook</a>'\n",
              "            + ' to learn more about interactive tables.';\n",
              "          element.innerHTML = '';\n",
              "          dataTable['output_type'] = 'display_data';\n",
              "          await google.colab.output.renderOutput(dataTable, element);\n",
              "          const docLink = document.createElement('div');\n",
              "          docLink.innerHTML = docLinkHtml;\n",
              "          element.appendChild(docLink);\n",
              "        }\n",
              "      </script>\n",
              "    </div>\n",
              "  </div>\n",
              "  "
            ]
          },
          "metadata": {},
          "execution_count": 5
        }
      ]
    },
    {
      "cell_type": "code",
      "source": [
        "train_data_shuffled = train_data.sample(frac = 0.1 , random_state = 42 )\n",
        "train_data_shuffled"
      ],
      "metadata": {
        "colab": {
          "base_uri": "https://localhost:8080/",
          "height": 424
        },
        "id": "KJTHChh0xYLK",
        "outputId": "18eaadad-bc43-45a7-dc7b-25a459fa9a8d"
      },
      "execution_count": 6,
      "outputs": [
        {
          "output_type": "execute_result",
          "data": {
            "text/plain": [
              "        id       keyword               location  \\\n",
              "2644  3796   destruction                    NaN   \n",
              "2227  3185        deluge                    NaN   \n",
              "5448  7769        police                     UK   \n",
              "132    191    aftershock                    NaN   \n",
              "6845  9810        trauma  Montgomery County, MD   \n",
              "...    ...           ...                    ...   \n",
              "1153  1661       bombing                    NaN   \n",
              "1034  1500   body%20bags          WAISTDEEP, TX   \n",
              "3107  4458  electrocuted                    HTX   \n",
              "4379  6220      hijacker              worldwide   \n",
              "2288  3283      demolish             us-east-1a   \n",
              "\n",
              "                                                   text  target  \n",
              "2644  So you have a new weapon that can cause un-ima...       1  \n",
              "2227  The f$&amp;@ing things I do for #GISHWHES Just...       0  \n",
              "5448  DT @georgegalloway: RT @Galloway4Mayor: ÛÏThe...       1  \n",
              "132   Aftershock back to school kick off was great. ...       0  \n",
              "6845  in response to trauma Children of Addicts deve...       0  \n",
              "...                                                 ...     ...  \n",
              "1153  Today is the day Hiroshima got Atomic bomb 70 ...       1  \n",
              "1034               @Deeeznvtzzz bring the body bags tho       0  \n",
              "3107  Fr cuz I risk being electrocuted every shower ...       0  \n",
              "4379  RT NotExplained: The only known image of infam...       0  \n",
              "2288  Read this already in '14 but it was and remain...       0  \n",
              "\n",
              "[761 rows x 5 columns]"
            ],
            "text/html": [
              "\n",
              "  <div id=\"df-baa0cf1c-a860-40b1-acc2-8588d98c6a9a\">\n",
              "    <div class=\"colab-df-container\">\n",
              "      <div>\n",
              "<style scoped>\n",
              "    .dataframe tbody tr th:only-of-type {\n",
              "        vertical-align: middle;\n",
              "    }\n",
              "\n",
              "    .dataframe tbody tr th {\n",
              "        vertical-align: top;\n",
              "    }\n",
              "\n",
              "    .dataframe thead th {\n",
              "        text-align: right;\n",
              "    }\n",
              "</style>\n",
              "<table border=\"1\" class=\"dataframe\">\n",
              "  <thead>\n",
              "    <tr style=\"text-align: right;\">\n",
              "      <th></th>\n",
              "      <th>id</th>\n",
              "      <th>keyword</th>\n",
              "      <th>location</th>\n",
              "      <th>text</th>\n",
              "      <th>target</th>\n",
              "    </tr>\n",
              "  </thead>\n",
              "  <tbody>\n",
              "    <tr>\n",
              "      <th>2644</th>\n",
              "      <td>3796</td>\n",
              "      <td>destruction</td>\n",
              "      <td>NaN</td>\n",
              "      <td>So you have a new weapon that can cause un-ima...</td>\n",
              "      <td>1</td>\n",
              "    </tr>\n",
              "    <tr>\n",
              "      <th>2227</th>\n",
              "      <td>3185</td>\n",
              "      <td>deluge</td>\n",
              "      <td>NaN</td>\n",
              "      <td>The f$&amp;amp;@ing things I do for #GISHWHES Just...</td>\n",
              "      <td>0</td>\n",
              "    </tr>\n",
              "    <tr>\n",
              "      <th>5448</th>\n",
              "      <td>7769</td>\n",
              "      <td>police</td>\n",
              "      <td>UK</td>\n",
              "      <td>DT @georgegalloway: RT @Galloway4Mayor: ÛÏThe...</td>\n",
              "      <td>1</td>\n",
              "    </tr>\n",
              "    <tr>\n",
              "      <th>132</th>\n",
              "      <td>191</td>\n",
              "      <td>aftershock</td>\n",
              "      <td>NaN</td>\n",
              "      <td>Aftershock back to school kick off was great. ...</td>\n",
              "      <td>0</td>\n",
              "    </tr>\n",
              "    <tr>\n",
              "      <th>6845</th>\n",
              "      <td>9810</td>\n",
              "      <td>trauma</td>\n",
              "      <td>Montgomery County, MD</td>\n",
              "      <td>in response to trauma Children of Addicts deve...</td>\n",
              "      <td>0</td>\n",
              "    </tr>\n",
              "    <tr>\n",
              "      <th>...</th>\n",
              "      <td>...</td>\n",
              "      <td>...</td>\n",
              "      <td>...</td>\n",
              "      <td>...</td>\n",
              "      <td>...</td>\n",
              "    </tr>\n",
              "    <tr>\n",
              "      <th>1153</th>\n",
              "      <td>1661</td>\n",
              "      <td>bombing</td>\n",
              "      <td>NaN</td>\n",
              "      <td>Today is the day Hiroshima got Atomic bomb 70 ...</td>\n",
              "      <td>1</td>\n",
              "    </tr>\n",
              "    <tr>\n",
              "      <th>1034</th>\n",
              "      <td>1500</td>\n",
              "      <td>body%20bags</td>\n",
              "      <td>WAISTDEEP, TX</td>\n",
              "      <td>@Deeeznvtzzz bring the body bags tho</td>\n",
              "      <td>0</td>\n",
              "    </tr>\n",
              "    <tr>\n",
              "      <th>3107</th>\n",
              "      <td>4458</td>\n",
              "      <td>electrocuted</td>\n",
              "      <td>HTX</td>\n",
              "      <td>Fr cuz I risk being electrocuted every shower ...</td>\n",
              "      <td>0</td>\n",
              "    </tr>\n",
              "    <tr>\n",
              "      <th>4379</th>\n",
              "      <td>6220</td>\n",
              "      <td>hijacker</td>\n",
              "      <td>worldwide</td>\n",
              "      <td>RT NotExplained: The only known image of infam...</td>\n",
              "      <td>0</td>\n",
              "    </tr>\n",
              "    <tr>\n",
              "      <th>2288</th>\n",
              "      <td>3283</td>\n",
              "      <td>demolish</td>\n",
              "      <td>us-east-1a</td>\n",
              "      <td>Read this already in '14 but it was and remain...</td>\n",
              "      <td>0</td>\n",
              "    </tr>\n",
              "  </tbody>\n",
              "</table>\n",
              "<p>761 rows × 5 columns</p>\n",
              "</div>\n",
              "      <button class=\"colab-df-convert\" onclick=\"convertToInteractive('df-baa0cf1c-a860-40b1-acc2-8588d98c6a9a')\"\n",
              "              title=\"Convert this dataframe to an interactive table.\"\n",
              "              style=\"display:none;\">\n",
              "        \n",
              "  <svg xmlns=\"http://www.w3.org/2000/svg\" height=\"24px\"viewBox=\"0 0 24 24\"\n",
              "       width=\"24px\">\n",
              "    <path d=\"M0 0h24v24H0V0z\" fill=\"none\"/>\n",
              "    <path d=\"M18.56 5.44l.94 2.06.94-2.06 2.06-.94-2.06-.94-.94-2.06-.94 2.06-2.06.94zm-11 1L8.5 8.5l.94-2.06 2.06-.94-2.06-.94L8.5 2.5l-.94 2.06-2.06.94zm10 10l.94 2.06.94-2.06 2.06-.94-2.06-.94-.94-2.06-.94 2.06-2.06.94z\"/><path d=\"M17.41 7.96l-1.37-1.37c-.4-.4-.92-.59-1.43-.59-.52 0-1.04.2-1.43.59L10.3 9.45l-7.72 7.72c-.78.78-.78 2.05 0 2.83L4 21.41c.39.39.9.59 1.41.59.51 0 1.02-.2 1.41-.59l7.78-7.78 2.81-2.81c.8-.78.8-2.07 0-2.86zM5.41 20L4 18.59l7.72-7.72 1.47 1.35L5.41 20z\"/>\n",
              "  </svg>\n",
              "      </button>\n",
              "      \n",
              "  <style>\n",
              "    .colab-df-container {\n",
              "      display:flex;\n",
              "      flex-wrap:wrap;\n",
              "      gap: 12px;\n",
              "    }\n",
              "\n",
              "    .colab-df-convert {\n",
              "      background-color: #E8F0FE;\n",
              "      border: none;\n",
              "      border-radius: 50%;\n",
              "      cursor: pointer;\n",
              "      display: none;\n",
              "      fill: #1967D2;\n",
              "      height: 32px;\n",
              "      padding: 0 0 0 0;\n",
              "      width: 32px;\n",
              "    }\n",
              "\n",
              "    .colab-df-convert:hover {\n",
              "      background-color: #E2EBFA;\n",
              "      box-shadow: 0px 1px 2px rgba(60, 64, 67, 0.3), 0px 1px 3px 1px rgba(60, 64, 67, 0.15);\n",
              "      fill: #174EA6;\n",
              "    }\n",
              "\n",
              "    [theme=dark] .colab-df-convert {\n",
              "      background-color: #3B4455;\n",
              "      fill: #D2E3FC;\n",
              "    }\n",
              "\n",
              "    [theme=dark] .colab-df-convert:hover {\n",
              "      background-color: #434B5C;\n",
              "      box-shadow: 0px 1px 3px 1px rgba(0, 0, 0, 0.15);\n",
              "      filter: drop-shadow(0px 1px 2px rgba(0, 0, 0, 0.3));\n",
              "      fill: #FFFFFF;\n",
              "    }\n",
              "  </style>\n",
              "\n",
              "      <script>\n",
              "        const buttonEl =\n",
              "          document.querySelector('#df-baa0cf1c-a860-40b1-acc2-8588d98c6a9a button.colab-df-convert');\n",
              "        buttonEl.style.display =\n",
              "          google.colab.kernel.accessAllowed ? 'block' : 'none';\n",
              "\n",
              "        async function convertToInteractive(key) {\n",
              "          const element = document.querySelector('#df-baa0cf1c-a860-40b1-acc2-8588d98c6a9a');\n",
              "          const dataTable =\n",
              "            await google.colab.kernel.invokeFunction('convertToInteractive',\n",
              "                                                     [key], {});\n",
              "          if (!dataTable) return;\n",
              "\n",
              "          const docLinkHtml = 'Like what you see? Visit the ' +\n",
              "            '<a target=\"_blank\" href=https://colab.research.google.com/notebooks/data_table.ipynb>data table notebook</a>'\n",
              "            + ' to learn more about interactive tables.';\n",
              "          element.innerHTML = '';\n",
              "          dataTable['output_type'] = 'display_data';\n",
              "          await google.colab.output.renderOutput(dataTable, element);\n",
              "          const docLink = document.createElement('div');\n",
              "          docLink.innerHTML = docLinkHtml;\n",
              "          element.appendChild(docLink);\n",
              "        }\n",
              "      </script>\n",
              "    </div>\n",
              "  </div>\n",
              "  "
            ]
          },
          "metadata": {},
          "execution_count": 6
        }
      ]
    },
    {
      "cell_type": "code",
      "source": [
        "train_data_shuffled = train_data.sample(frac = 1 , random_state = 42 )\n",
        "train_data_shuffled"
      ],
      "metadata": {
        "colab": {
          "base_uri": "https://localhost:8080/",
          "height": 424
        },
        "id": "TP94WvUGxyhj",
        "outputId": "44d4a8c1-7724-46c5-de7a-32444a54e7ee"
      },
      "execution_count": 7,
      "outputs": [
        {
          "output_type": "execute_result",
          "data": {
            "text/plain": [
              "         id       keyword                        location  \\\n",
              "2644   3796   destruction                             NaN   \n",
              "2227   3185        deluge                             NaN   \n",
              "5448   7769        police                              UK   \n",
              "132     191    aftershock                             NaN   \n",
              "6845   9810        trauma           Montgomery County, MD   \n",
              "...     ...           ...                             ...   \n",
              "5226   7470  obliteration                         Merica!   \n",
              "5390   7691         panic                             NaN   \n",
              "860    1242         blood                             NaN   \n",
              "7603  10862           NaN                             NaN   \n",
              "7270  10409     whirlwind  Stamford & Cork (& Shropshire)   \n",
              "\n",
              "                                                   text  target  \n",
              "2644  So you have a new weapon that can cause un-ima...       1  \n",
              "2227  The f$&amp;@ing things I do for #GISHWHES Just...       0  \n",
              "5448  DT @georgegalloway: RT @Galloway4Mayor: ÛÏThe...       1  \n",
              "132   Aftershock back to school kick off was great. ...       0  \n",
              "6845  in response to trauma Children of Addicts deve...       0  \n",
              "...                                                 ...     ...  \n",
              "5226  @Eganator2000 There aren't many Obliteration s...       0  \n",
              "5390  just had a panic attack bc I don't have enough...       0  \n",
              "860   Omron HEM-712C Automatic Blood Pressure Monito...       0  \n",
              "7603  Officials say a quarantine is in place at an A...       1  \n",
              "7270  I moved to England five years ago today. What ...       1  \n",
              "\n",
              "[7613 rows x 5 columns]"
            ],
            "text/html": [
              "\n",
              "  <div id=\"df-954c3571-95cb-4916-9afe-131b2642a27f\">\n",
              "    <div class=\"colab-df-container\">\n",
              "      <div>\n",
              "<style scoped>\n",
              "    .dataframe tbody tr th:only-of-type {\n",
              "        vertical-align: middle;\n",
              "    }\n",
              "\n",
              "    .dataframe tbody tr th {\n",
              "        vertical-align: top;\n",
              "    }\n",
              "\n",
              "    .dataframe thead th {\n",
              "        text-align: right;\n",
              "    }\n",
              "</style>\n",
              "<table border=\"1\" class=\"dataframe\">\n",
              "  <thead>\n",
              "    <tr style=\"text-align: right;\">\n",
              "      <th></th>\n",
              "      <th>id</th>\n",
              "      <th>keyword</th>\n",
              "      <th>location</th>\n",
              "      <th>text</th>\n",
              "      <th>target</th>\n",
              "    </tr>\n",
              "  </thead>\n",
              "  <tbody>\n",
              "    <tr>\n",
              "      <th>2644</th>\n",
              "      <td>3796</td>\n",
              "      <td>destruction</td>\n",
              "      <td>NaN</td>\n",
              "      <td>So you have a new weapon that can cause un-ima...</td>\n",
              "      <td>1</td>\n",
              "    </tr>\n",
              "    <tr>\n",
              "      <th>2227</th>\n",
              "      <td>3185</td>\n",
              "      <td>deluge</td>\n",
              "      <td>NaN</td>\n",
              "      <td>The f$&amp;amp;@ing things I do for #GISHWHES Just...</td>\n",
              "      <td>0</td>\n",
              "    </tr>\n",
              "    <tr>\n",
              "      <th>5448</th>\n",
              "      <td>7769</td>\n",
              "      <td>police</td>\n",
              "      <td>UK</td>\n",
              "      <td>DT @georgegalloway: RT @Galloway4Mayor: ÛÏThe...</td>\n",
              "      <td>1</td>\n",
              "    </tr>\n",
              "    <tr>\n",
              "      <th>132</th>\n",
              "      <td>191</td>\n",
              "      <td>aftershock</td>\n",
              "      <td>NaN</td>\n",
              "      <td>Aftershock back to school kick off was great. ...</td>\n",
              "      <td>0</td>\n",
              "    </tr>\n",
              "    <tr>\n",
              "      <th>6845</th>\n",
              "      <td>9810</td>\n",
              "      <td>trauma</td>\n",
              "      <td>Montgomery County, MD</td>\n",
              "      <td>in response to trauma Children of Addicts deve...</td>\n",
              "      <td>0</td>\n",
              "    </tr>\n",
              "    <tr>\n",
              "      <th>...</th>\n",
              "      <td>...</td>\n",
              "      <td>...</td>\n",
              "      <td>...</td>\n",
              "      <td>...</td>\n",
              "      <td>...</td>\n",
              "    </tr>\n",
              "    <tr>\n",
              "      <th>5226</th>\n",
              "      <td>7470</td>\n",
              "      <td>obliteration</td>\n",
              "      <td>Merica!</td>\n",
              "      <td>@Eganator2000 There aren't many Obliteration s...</td>\n",
              "      <td>0</td>\n",
              "    </tr>\n",
              "    <tr>\n",
              "      <th>5390</th>\n",
              "      <td>7691</td>\n",
              "      <td>panic</td>\n",
              "      <td>NaN</td>\n",
              "      <td>just had a panic attack bc I don't have enough...</td>\n",
              "      <td>0</td>\n",
              "    </tr>\n",
              "    <tr>\n",
              "      <th>860</th>\n",
              "      <td>1242</td>\n",
              "      <td>blood</td>\n",
              "      <td>NaN</td>\n",
              "      <td>Omron HEM-712C Automatic Blood Pressure Monito...</td>\n",
              "      <td>0</td>\n",
              "    </tr>\n",
              "    <tr>\n",
              "      <th>7603</th>\n",
              "      <td>10862</td>\n",
              "      <td>NaN</td>\n",
              "      <td>NaN</td>\n",
              "      <td>Officials say a quarantine is in place at an A...</td>\n",
              "      <td>1</td>\n",
              "    </tr>\n",
              "    <tr>\n",
              "      <th>7270</th>\n",
              "      <td>10409</td>\n",
              "      <td>whirlwind</td>\n",
              "      <td>Stamford &amp; Cork (&amp; Shropshire)</td>\n",
              "      <td>I moved to England five years ago today. What ...</td>\n",
              "      <td>1</td>\n",
              "    </tr>\n",
              "  </tbody>\n",
              "</table>\n",
              "<p>7613 rows × 5 columns</p>\n",
              "</div>\n",
              "      <button class=\"colab-df-convert\" onclick=\"convertToInteractive('df-954c3571-95cb-4916-9afe-131b2642a27f')\"\n",
              "              title=\"Convert this dataframe to an interactive table.\"\n",
              "              style=\"display:none;\">\n",
              "        \n",
              "  <svg xmlns=\"http://www.w3.org/2000/svg\" height=\"24px\"viewBox=\"0 0 24 24\"\n",
              "       width=\"24px\">\n",
              "    <path d=\"M0 0h24v24H0V0z\" fill=\"none\"/>\n",
              "    <path d=\"M18.56 5.44l.94 2.06.94-2.06 2.06-.94-2.06-.94-.94-2.06-.94 2.06-2.06.94zm-11 1L8.5 8.5l.94-2.06 2.06-.94-2.06-.94L8.5 2.5l-.94 2.06-2.06.94zm10 10l.94 2.06.94-2.06 2.06-.94-2.06-.94-.94-2.06-.94 2.06-2.06.94z\"/><path d=\"M17.41 7.96l-1.37-1.37c-.4-.4-.92-.59-1.43-.59-.52 0-1.04.2-1.43.59L10.3 9.45l-7.72 7.72c-.78.78-.78 2.05 0 2.83L4 21.41c.39.39.9.59 1.41.59.51 0 1.02-.2 1.41-.59l7.78-7.78 2.81-2.81c.8-.78.8-2.07 0-2.86zM5.41 20L4 18.59l7.72-7.72 1.47 1.35L5.41 20z\"/>\n",
              "  </svg>\n",
              "      </button>\n",
              "      \n",
              "  <style>\n",
              "    .colab-df-container {\n",
              "      display:flex;\n",
              "      flex-wrap:wrap;\n",
              "      gap: 12px;\n",
              "    }\n",
              "\n",
              "    .colab-df-convert {\n",
              "      background-color: #E8F0FE;\n",
              "      border: none;\n",
              "      border-radius: 50%;\n",
              "      cursor: pointer;\n",
              "      display: none;\n",
              "      fill: #1967D2;\n",
              "      height: 32px;\n",
              "      padding: 0 0 0 0;\n",
              "      width: 32px;\n",
              "    }\n",
              "\n",
              "    .colab-df-convert:hover {\n",
              "      background-color: #E2EBFA;\n",
              "      box-shadow: 0px 1px 2px rgba(60, 64, 67, 0.3), 0px 1px 3px 1px rgba(60, 64, 67, 0.15);\n",
              "      fill: #174EA6;\n",
              "    }\n",
              "\n",
              "    [theme=dark] .colab-df-convert {\n",
              "      background-color: #3B4455;\n",
              "      fill: #D2E3FC;\n",
              "    }\n",
              "\n",
              "    [theme=dark] .colab-df-convert:hover {\n",
              "      background-color: #434B5C;\n",
              "      box-shadow: 0px 1px 3px 1px rgba(0, 0, 0, 0.15);\n",
              "      filter: drop-shadow(0px 1px 2px rgba(0, 0, 0, 0.3));\n",
              "      fill: #FFFFFF;\n",
              "    }\n",
              "  </style>\n",
              "\n",
              "      <script>\n",
              "        const buttonEl =\n",
              "          document.querySelector('#df-954c3571-95cb-4916-9afe-131b2642a27f button.colab-df-convert');\n",
              "        buttonEl.style.display =\n",
              "          google.colab.kernel.accessAllowed ? 'block' : 'none';\n",
              "\n",
              "        async function convertToInteractive(key) {\n",
              "          const element = document.querySelector('#df-954c3571-95cb-4916-9afe-131b2642a27f');\n",
              "          const dataTable =\n",
              "            await google.colab.kernel.invokeFunction('convertToInteractive',\n",
              "                                                     [key], {});\n",
              "          if (!dataTable) return;\n",
              "\n",
              "          const docLinkHtml = 'Like what you see? Visit the ' +\n",
              "            '<a target=\"_blank\" href=https://colab.research.google.com/notebooks/data_table.ipynb>data table notebook</a>'\n",
              "            + ' to learn more about interactive tables.';\n",
              "          element.innerHTML = '';\n",
              "          dataTable['output_type'] = 'display_data';\n",
              "          await google.colab.output.renderOutput(dataTable, element);\n",
              "          const docLink = document.createElement('div');\n",
              "          docLink.innerHTML = docLinkHtml;\n",
              "          element.appendChild(docLink);\n",
              "        }\n",
              "      </script>\n",
              "    </div>\n",
              "  </div>\n",
              "  "
            ]
          },
          "metadata": {},
          "execution_count": 7
        }
      ]
    },
    {
      "cell_type": "code",
      "source": [
        "train_data.columns"
      ],
      "metadata": {
        "colab": {
          "base_uri": "https://localhost:8080/"
        },
        "id": "_84iFhtnyK57",
        "outputId": "100de3c8-a763-4d2b-e595-f16abffdf1c3"
      },
      "execution_count": 8,
      "outputs": [
        {
          "output_type": "execute_result",
          "data": {
            "text/plain": [
              "Index(['id', 'keyword', 'location', 'text', 'target'], dtype='object')"
            ]
          },
          "metadata": {},
          "execution_count": 8
        }
      ]
    },
    {
      "cell_type": "code",
      "source": [
        "train_data[\"target\"].value_counts()"
      ],
      "metadata": {
        "colab": {
          "base_uri": "https://localhost:8080/"
        },
        "id": "r9nk-gd0yYkp",
        "outputId": "265584cc-80c8-4681-87f8-56342ed1cfc9"
      },
      "execution_count": 9,
      "outputs": [
        {
          "output_type": "execute_result",
          "data": {
            "text/plain": [
              "0    4342\n",
              "1    3271\n",
              "Name: target, dtype: int64"
            ]
          },
          "metadata": {},
          "execution_count": 9
        }
      ]
    },
    {
      "cell_type": "code",
      "source": [
        "print(\"No of Training Data : \" , len(train_data))\n",
        "print(\"No of Testing Data : \" , len(test_data))\n",
        "print(\"No of Total Data : \" , len(train_data)  + len(test_data))"
      ],
      "metadata": {
        "colab": {
          "base_uri": "https://localhost:8080/"
        },
        "id": "shEQKx1ryc62",
        "outputId": "a4a47995-5ea9-4a8b-9377-244ec38ab607"
      },
      "execution_count": 10,
      "outputs": [
        {
          "output_type": "stream",
          "name": "stdout",
          "text": [
            "No of Training Data :  7613\n",
            "No of Testing Data :  3263\n",
            "No of Total Data :  10876\n"
          ]
        }
      ]
    },
    {
      "cell_type": "code",
      "source": [
        "import random\n",
        "random_data = random.randint(0 , len(train_data) - 5)\n",
        "random_data"
      ],
      "metadata": {
        "colab": {
          "base_uri": "https://localhost:8080/"
        },
        "id": "rRaEdwO0yuSi",
        "outputId": "f2996806-4ffb-4570-a73a-fdbf8fcfc87e"
      },
      "execution_count": 11,
      "outputs": [
        {
          "output_type": "execute_result",
          "data": {
            "text/plain": [
              "4097"
            ]
          },
          "metadata": {},
          "execution_count": 11
        }
      ]
    },
    {
      "cell_type": "code",
      "source": [
        "import random\n",
        "random_data = random.randint(0 , len(train_data) - 5)\n",
        "print(\"Target : \" , train_data[\"target\"][random_data])\n",
        "if train_data[\"target\"][random_data] == 1:\n",
        "  print(\"Real Disaster\")\n",
        "else :\n",
        "  print(\"No Disaster\")\n",
        "\n",
        "print(\"\\n\")\n",
        "print(\"Text : \" , train_data[\"text\"][random_data])"
      ],
      "metadata": {
        "colab": {
          "base_uri": "https://localhost:8080/"
        },
        "id": "GDeVV8EBCwEz",
        "outputId": "4d1beae4-291d-45a0-a057-1239863f6560"
      },
      "execution_count": 12,
      "outputs": [
        {
          "output_type": "stream",
          "name": "stdout",
          "text": [
            "Target :  1\n",
            "Real Disaster\n",
            "\n",
            "\n",
            "Text :  the mv should just be them strutting like they mean it while buildings are burning up in the bg and flames everywhere how cool would that be\n"
          ]
        }
      ]
    },
    {
      "cell_type": "code",
      "source": [],
      "metadata": {
        "id": "NUCroQXHCvT9"
      },
      "execution_count": 12,
      "outputs": []
    },
    {
      "cell_type": "markdown",
      "source": [],
      "metadata": {
        "id": "YU8xbfUiEVYv"
      }
    },
    {
      "cell_type": "code",
      "source": [
        "from sklearn.model_selection import train_test_split\n",
        "train_sentence , Val_sentence , train_label  , Val_label = train_test_split(train_data_shuffled[\"text\"] , train_data_shuffled[\"target\"]  , test_size = 0.1 , random_state = 42)\n",
        "len(train_sentence) , len(Val_sentence) , len(train_label) , len(Val_label)"
      ],
      "metadata": {
        "colab": {
          "base_uri": "https://localhost:8080/"
        },
        "id": "QuCCo_iIAzKc",
        "outputId": "62bf473c-6ad6-41b0-dc2c-86166242586a"
      },
      "execution_count": 13,
      "outputs": [
        {
          "output_type": "execute_result",
          "data": {
            "text/plain": [
              "(6851, 762, 6851, 762)"
            ]
          },
          "metadata": {},
          "execution_count": 13
        }
      ]
    },
    {
      "cell_type": "code",
      "source": [
        "train_sentence"
      ],
      "metadata": {
        "colab": {
          "base_uri": "https://localhost:8080/"
        },
        "id": "4h8C9V_QBisZ",
        "outputId": "4847b6ae-9226-427b-e5c7-a1e66734032b"
      },
      "execution_count": 14,
      "outputs": [
        {
          "output_type": "execute_result",
          "data": {
            "text/plain": [
              "5921    @mogacola @zamtriossu i screamed after hitting...\n",
              "3904              Imagine getting flattened by Kurt Zouma\n",
              "2804    @Gurmeetramrahim #MSGDoing111WelfareWorks Gree...\n",
              "3718    @shakjn @C7 @Magnums im shaking in fear he's g...\n",
              "1667    Somehow find you and I collide http://t.co/Ee8...\n",
              "                              ...                        \n",
              "7090    @nytimes \\nDue to upheaval created by the west...\n",
              "629     70 won 70...&amp; some think possibility of my...\n",
              "6464    Near them on the sand half sunk a shattered vi...\n",
              "6265    kesabaran membuahkan hasil indah pada saat tep...\n",
              "3723    @ScottDPierce @billharris_tv @HarrisGle @Beeze...\n",
              "Name: text, Length: 6851, dtype: object"
            ]
          },
          "metadata": {},
          "execution_count": 14
        }
      ]
    },
    {
      "cell_type": "code",
      "source": [
        "Val_sentence"
      ],
      "metadata": {
        "colab": {
          "base_uri": "https://localhost:8080/"
        },
        "id": "6wxCVdbSCbpR",
        "outputId": "15b5ed9c-6cd4-438e-a480-da3d8be3821f"
      },
      "execution_count": 15,
      "outputs": [
        {
          "output_type": "execute_result",
          "data": {
            "text/plain": [
              "4955    DFR EP016 Monthly Meltdown - On Dnbheaven 2015...\n",
              "584     FedEx no longer to transport bioterror germs i...\n",
              "7411    Gunmen kill four in El Salvador bus attack: Su...\n",
              "5950    @camilacabello97 Internally and externally scr...\n",
              "5541    Radiation emergency #preparedness starts with ...\n",
              "                              ...                        \n",
              "2638              That's the ultimate road to destruction\n",
              "859     @SetZorah dad why dont you claim me that mean ...\n",
              "578     FedEx will no longer transport bioterror patho...\n",
              "7445    Crack in the path where I wiped out this morni...\n",
              "7226    I liked a @YouTube video from @dannyonpc http:...\n",
              "Name: text, Length: 762, dtype: object"
            ]
          },
          "metadata": {},
          "execution_count": 15
        }
      ]
    },
    {
      "cell_type": "code",
      "source": [
        "train_label"
      ],
      "metadata": {
        "colab": {
          "base_uri": "https://localhost:8080/"
        },
        "id": "vCCvjRHKCg2J",
        "outputId": "64643524-5b32-4e2b-c66b-3b54eebf257f"
      },
      "execution_count": 16,
      "outputs": [
        {
          "output_type": "execute_result",
          "data": {
            "text/plain": [
              "5921    0\n",
              "3904    0\n",
              "2804    1\n",
              "3718    0\n",
              "1667    0\n",
              "       ..\n",
              "7090    1\n",
              "629     0\n",
              "6464    1\n",
              "6265    1\n",
              "3723    0\n",
              "Name: target, Length: 6851, dtype: int64"
            ]
          },
          "metadata": {},
          "execution_count": 16
        }
      ]
    },
    {
      "cell_type": "code",
      "source": [
        "Val_label"
      ],
      "metadata": {
        "colab": {
          "base_uri": "https://localhost:8080/"
        },
        "id": "Ishox4yfEMtY",
        "outputId": "54c5d151-c1ce-4948-94f1-4e43735dd2e8"
      },
      "execution_count": 17,
      "outputs": [
        {
          "output_type": "execute_result",
          "data": {
            "text/plain": [
              "4955    0\n",
              "584     0\n",
              "7411    1\n",
              "5950    1\n",
              "5541    1\n",
              "       ..\n",
              "2638    0\n",
              "859     0\n",
              "578     0\n",
              "7445    0\n",
              "7226    0\n",
              "Name: target, Length: 762, dtype: int64"
            ]
          },
          "metadata": {},
          "execution_count": 17
        }
      ]
    },
    {
      "cell_type": "code",
      "source": [],
      "metadata": {
        "id": "ksl-3VckEOW5"
      },
      "execution_count": 17,
      "outputs": []
    },
    {
      "cell_type": "markdown",
      "source": [
        "# **Converting Text into Numbers**"
      ],
      "metadata": {
        "id": "TGnfn47aEWTx"
      }
    },
    {
      "cell_type": "code",
      "source": [
        "import tensorflow as tf\n",
        "from tensorflow.keras.layers import TextVectorization\n",
        "\n",
        "text_vectorizer = TextVectorization(max_tokens = None ,\n",
        "                                    standardize='lower_and_strip_punctuation',\n",
        "                                    split='whitespace',\n",
        "                                    ngrams=None ,\n",
        "                                    output_mode='int' ,\n",
        "                                    pad_to_max_tokens=False ,\n",
        "                                    output_sequence_length=None\n",
        "                                    )"
      ],
      "metadata": {
        "id": "EMXXfBLLEZrq"
      },
      "execution_count": 18,
      "outputs": []
    },
    {
      "cell_type": "code",
      "source": [
        "len(train_sentence)"
      ],
      "metadata": {
        "colab": {
          "base_uri": "https://localhost:8080/"
        },
        "id": "SsZ_b5-BF2pw",
        "outputId": "1ee84b65-753f-479d-8668-83029b838d1c"
      },
      "execution_count": 19,
      "outputs": [
        {
          "output_type": "execute_result",
          "data": {
            "text/plain": [
              "6851"
            ]
          },
          "metadata": {},
          "execution_count": 19
        }
      ]
    },
    {
      "cell_type": "code",
      "source": [
        "sum([len(i.split()) for i in train_sentence])"
      ],
      "metadata": {
        "colab": {
          "base_uri": "https://localhost:8080/"
        },
        "id": "oKeAMkjcJCX3",
        "outputId": "77c9ddcd-8321-4d8b-f30f-5e4a4136bf98"
      },
      "execution_count": 20,
      "outputs": [
        {
          "output_type": "execute_result",
          "data": {
            "text/plain": [
              "102087"
            ]
          },
          "metadata": {},
          "execution_count": 20
        }
      ]
    },
    {
      "cell_type": "code",
      "source": [
        "round(sum([len(i.split()) for i in train_sentence])/len(train_sentence))"
      ],
      "metadata": {
        "colab": {
          "base_uri": "https://localhost:8080/"
        },
        "id": "1dHGiZNOGCUn",
        "outputId": "5029e331-169d-47f2-d921-28b17667361a"
      },
      "execution_count": 21,
      "outputs": [
        {
          "output_type": "execute_result",
          "data": {
            "text/plain": [
              "15"
            ]
          },
          "metadata": {},
          "execution_count": 21
        }
      ]
    },
    {
      "cell_type": "code",
      "source": [
        "max_length = 15\n",
        "max_word_length = 10000"
      ],
      "metadata": {
        "id": "vlNEgcAZFunH"
      },
      "execution_count": 22,
      "outputs": []
    },
    {
      "cell_type": "code",
      "source": [
        "text_vectorizer = TextVectorization(max_tokens = max_word_length ,\n",
        "                                    standardize='lower_and_strip_punctuation',\n",
        "                                    split='whitespace',\n",
        "                                    ngrams=None ,\n",
        "                                    output_mode='int' ,\n",
        "                                    pad_to_max_tokens=True ,\n",
        "                                    output_sequence_length=max_length\n",
        "                                    )"
      ],
      "metadata": {
        "id": "L3wm8a5yJcfu"
      },
      "execution_count": 23,
      "outputs": []
    },
    {
      "cell_type": "code",
      "source": [
        "text_vectorizer.adapt(train_sentence)"
      ],
      "metadata": {
        "id": "LJGb1hgZExAS"
      },
      "execution_count": 24,
      "outputs": []
    },
    {
      "cell_type": "code",
      "source": [
        "sample_sentence = \"There is a chance of flood\"\n",
        "text_vectorizer([sample_sentence])"
      ],
      "metadata": {
        "colab": {
          "base_uri": "https://localhost:8080/"
        },
        "id": "cLfEey6fJsh4",
        "outputId": "98fe359d-5297-4c97-ebc6-9fb02c75970a"
      },
      "execution_count": 25,
      "outputs": [
        {
          "output_type": "execute_result",
          "data": {
            "text/plain": [
              "<tf.Tensor: shape=(1, 15), dtype=int64, numpy=\n",
              "array([[ 74,   9,   3, 786,   6, 232,   0,   0,   0,   0,   0,   0,   0,\n",
              "          0,   0]])>"
            ]
          },
          "metadata": {},
          "execution_count": 25
        }
      ]
    },
    {
      "cell_type": "code",
      "source": [
        "random_sentence = random.choice(train_sentence)\n",
        "print(\"Original Text : \" ,  random_sentence)\n",
        "print(\"\\n\")\n",
        "print(\"Vectorized Version : \")\n",
        "text_vectorizer([random_sentence])"
      ],
      "metadata": {
        "colab": {
          "base_uri": "https://localhost:8080/"
        },
        "id": "To0JUDgtJ4xd",
        "outputId": "7bca8e6c-41cb-4af4-9d4f-19e121bdf759"
      },
      "execution_count": 26,
      "outputs": [
        {
          "output_type": "stream",
          "name": "stdout",
          "text": [
            "Original Text :  I feel like that episode of Victorious when they all got trapped in an RV and almost died of heat stroke #MTVHottest One Direction\n",
            "\n",
            "\n",
            "Vectorized Version : \n"
          ]
        },
        {
          "output_type": "execute_result",
          "data": {
            "text/plain": [
              "<tf.Tensor: shape=(1, 15), dtype=int64, numpy=\n",
              "array([[   8,  214,   25,   16, 1296,    6, 7032,   45,   64,   44,  100,\n",
              "         448,    4,   39, 8903]])>"
            ]
          },
          "metadata": {},
          "execution_count": 26
        }
      ]
    },
    {
      "cell_type": "code",
      "source": [
        "words_in_vocabulary = text_vectorizer.get_vocabulary()\n",
        "words_in_vocabulary"
      ],
      "metadata": {
        "colab": {
          "base_uri": "https://localhost:8080/"
        },
        "id": "I77qfHzSKnbW",
        "outputId": "34d361b7-311e-4b1c-f82e-8917ae345aee"
      },
      "execution_count": 27,
      "outputs": [
        {
          "output_type": "execute_result",
          "data": {
            "text/plain": [
              "['',\n",
              " '[UNK]',\n",
              " 'the',\n",
              " 'a',\n",
              " 'in',\n",
              " 'to',\n",
              " 'of',\n",
              " 'and',\n",
              " 'i',\n",
              " 'is',\n",
              " 'for',\n",
              " 'on',\n",
              " 'you',\n",
              " 'my',\n",
              " 'with',\n",
              " 'it',\n",
              " 'that',\n",
              " 'at',\n",
              " 'by',\n",
              " 'this',\n",
              " 'from',\n",
              " 'be',\n",
              " 'are',\n",
              " 'was',\n",
              " 'have',\n",
              " 'like',\n",
              " 'as',\n",
              " 'up',\n",
              " 'so',\n",
              " 'just',\n",
              " 'but',\n",
              " 'me',\n",
              " 'im',\n",
              " 'your',\n",
              " 'not',\n",
              " 'amp',\n",
              " 'out',\n",
              " 'its',\n",
              " 'will',\n",
              " 'an',\n",
              " 'no',\n",
              " 'has',\n",
              " 'fire',\n",
              " 'after',\n",
              " 'all',\n",
              " 'when',\n",
              " 'we',\n",
              " 'if',\n",
              " 'now',\n",
              " 'via',\n",
              " 'new',\n",
              " 'more',\n",
              " 'get',\n",
              " 'or',\n",
              " 'about',\n",
              " 'what',\n",
              " 'he',\n",
              " 'people',\n",
              " 'news',\n",
              " 'been',\n",
              " 'over',\n",
              " 'one',\n",
              " 'how',\n",
              " 'dont',\n",
              " 'they',\n",
              " 'who',\n",
              " 'into',\n",
              " 'were',\n",
              " 'do',\n",
              " 'us',\n",
              " '2',\n",
              " 'can',\n",
              " 'video',\n",
              " 'emergency',\n",
              " 'there',\n",
              " 'disaster',\n",
              " 'than',\n",
              " 'police',\n",
              " 'would',\n",
              " 'his',\n",
              " 'still',\n",
              " 'her',\n",
              " 'some',\n",
              " 'body',\n",
              " 'storm',\n",
              " 'crash',\n",
              " 'burning',\n",
              " 'suicide',\n",
              " 'back',\n",
              " 'man',\n",
              " 'california',\n",
              " 'why',\n",
              " 'time',\n",
              " 'them',\n",
              " 'had',\n",
              " 'buildings',\n",
              " 'rt',\n",
              " 'first',\n",
              " 'cant',\n",
              " 'see',\n",
              " 'got',\n",
              " 'day',\n",
              " 'off',\n",
              " 'our',\n",
              " 'going',\n",
              " 'nuclear',\n",
              " 'know',\n",
              " 'world',\n",
              " 'bomb',\n",
              " 'fires',\n",
              " 'love',\n",
              " 'killed',\n",
              " 'go',\n",
              " 'attack',\n",
              " 'youtube',\n",
              " 'dead',\n",
              " 'two',\n",
              " 'families',\n",
              " '3',\n",
              " 'train',\n",
              " 'full',\n",
              " 'being',\n",
              " 'war',\n",
              " 'many',\n",
              " 'today',\n",
              " 'think',\n",
              " 'only',\n",
              " 'car',\n",
              " 'accident',\n",
              " 'life',\n",
              " 'hiroshima',\n",
              " 'their',\n",
              " 'say',\n",
              " 'may',\n",
              " 'down',\n",
              " 'watch',\n",
              " 'good',\n",
              " 'could',\n",
              " 'want',\n",
              " 'last',\n",
              " 'here',\n",
              " 'years',\n",
              " 'u',\n",
              " 'then',\n",
              " 'make',\n",
              " 'did',\n",
              " 'wildfire',\n",
              " 'way',\n",
              " 'help',\n",
              " 'best',\n",
              " 'too',\n",
              " 'even',\n",
              " 'because',\n",
              " 'home',\n",
              " 'death',\n",
              " 'collapse',\n",
              " 'bombing',\n",
              " 'mass',\n",
              " 'him',\n",
              " 'black',\n",
              " 'am',\n",
              " 'those',\n",
              " 'need',\n",
              " 'fatal',\n",
              " 'army',\n",
              " 'another',\n",
              " 'work',\n",
              " 'take',\n",
              " 'should',\n",
              " 'really',\n",
              " 'please',\n",
              " 'mh370',\n",
              " 'youre',\n",
              " 'look',\n",
              " 'lol',\n",
              " 'hot',\n",
              " 'pm',\n",
              " 'legionnaires',\n",
              " '4',\n",
              " 'right',\n",
              " '5',\n",
              " 'let',\n",
              " 'city',\n",
              " 'year',\n",
              " 'wreck',\n",
              " 'school',\n",
              " 'northern',\n",
              " 'much',\n",
              " 'forest',\n",
              " 'bomber',\n",
              " 'water',\n",
              " 'she',\n",
              " 'never',\n",
              " 'read',\n",
              " 'latest',\n",
              " 'homes',\n",
              " 'great',\n",
              " 'every',\n",
              " '1',\n",
              " 'live',\n",
              " 'god',\n",
              " 'fear',\n",
              " 'any',\n",
              " '\\x89Û',\n",
              " 'under',\n",
              " 'said',\n",
              " 'old',\n",
              " 'floods',\n",
              " '2015',\n",
              " 'getting',\n",
              " 'atomic',\n",
              " 'while',\n",
              " 'top',\n",
              " 'obama',\n",
              " 'feel',\n",
              " 'thats',\n",
              " 'since',\n",
              " 'near',\n",
              " 'flames',\n",
              " 'ever',\n",
              " 'come',\n",
              " 'where',\n",
              " 'these',\n",
              " 'military',\n",
              " 'japan',\n",
              " 'found',\n",
              " 'content',\n",
              " 'ass',\n",
              " 'without',\n",
              " 'weather',\n",
              " 'most',\n",
              " 'flooding',\n",
              " 'flood',\n",
              " 'damage',\n",
              " 'which',\n",
              " 'shit',\n",
              " 's',\n",
              " 'hope',\n",
              " 'everyone',\n",
              " 'before',\n",
              " 'stop',\n",
              " 'plan',\n",
              " 'malaysia',\n",
              " 'injured',\n",
              " 'hit',\n",
              " 'evacuation',\n",
              " 'during',\n",
              " 'debris',\n",
              " 'cross',\n",
              " 'coming',\n",
              " 'wild',\n",
              " 'well',\n",
              " 'times',\n",
              " 'sinking',\n",
              " 'oil',\n",
              " 'fucking',\n",
              " 'check',\n",
              " 'cause',\n",
              " 'weapons',\n",
              " 'truck',\n",
              " 'food',\n",
              " 'bloody',\n",
              " 'always',\n",
              " 'weapon',\n",
              " 'theres',\n",
              " 'state',\n",
              " 'little',\n",
              " 'injuries',\n",
              " 'free',\n",
              " 'wounded',\n",
              " 'summer',\n",
              " 'smoke',\n",
              " 'severe',\n",
              " 'reddit',\n",
              " 'next',\n",
              " 'movie',\n",
              " 'ive',\n",
              " 'hes',\n",
              " 'fall',\n",
              " 'evacuate',\n",
              " 'confirmed',\n",
              " 'bad',\n",
              " 'again',\n",
              " 'thunderstorm',\n",
              " 'set',\n",
              " 'night',\n",
              " 'natural',\n",
              " 'looks',\n",
              " 'heat',\n",
              " 'face',\n",
              " 'earthquake',\n",
              " 'boy',\n",
              " 'whole',\n",
              " 'until',\n",
              " 'thunder',\n",
              " 'through',\n",
              " 'says',\n",
              " 'panic',\n",
              " 'outbreak',\n",
              " 'made',\n",
              " 'lightning',\n",
              " 'fatalities',\n",
              " 'family',\n",
              " 'explosion',\n",
              " 'end',\n",
              " 'destroy',\n",
              " 'derailment',\n",
              " 'air',\n",
              " 'w',\n",
              " 'terrorist',\n",
              " 'survive',\n",
              " 'screaming',\n",
              " 'saudi',\n",
              " 'refugees',\n",
              " 'rain',\n",
              " 'murder',\n",
              " 'loud',\n",
              " 'liked',\n",
              " 'house',\n",
              " 'gonna',\n",
              " 'failure',\n",
              " 'collided',\n",
              " 'bag',\n",
              " 'attacked',\n",
              " 'ambulance',\n",
              " '70',\n",
              " 'wind',\n",
              " 'services',\n",
              " 'save',\n",
              " 'report',\n",
              " 'migrants',\n",
              " 'head',\n",
              " 'explode',\n",
              " 'charged',\n",
              " 'change',\n",
              " 'big',\n",
              " 'also',\n",
              " 'wrecked',\n",
              " 'warning',\n",
              " 'update',\n",
              " 'run',\n",
              " 'rescuers',\n",
              " 'released',\n",
              " 'photo',\n",
              " 'massacre',\n",
              " 'injury',\n",
              " 'hurricane',\n",
              " 'high',\n",
              " 'hail',\n",
              " 'fuck',\n",
              " 'does',\n",
              " 'destroyed',\n",
              " 'bus',\n",
              " 'blood',\n",
              " '40',\n",
              " '\\x89ÛÒ',\n",
              " 'wreckage',\n",
              " 'violent',\n",
              " 'twister',\n",
              " 'trauma',\n",
              " 'tragedy',\n",
              " 'terrorism',\n",
              " 'survivors',\n",
              " 'survived',\n",
              " 'sinkhole',\n",
              " 'sandstorm',\n",
              " 'road',\n",
              " 'rioting',\n",
              " 'red',\n",
              " 'real',\n",
              " 'put',\n",
              " 'post',\n",
              " 'national',\n",
              " 'missing',\n",
              " 'landslide',\n",
              " 'keep',\n",
              " 'girl',\n",
              " 'drought',\n",
              " 'curfew',\n",
              " 'breaking',\n",
              " 'bags',\n",
              " 'white',\n",
              " 'twitter',\n",
              " 'tonight',\n",
              " 'structural',\n",
              " 'spill',\n",
              " 'service',\n",
              " 'screamed',\n",
              " 'rescued',\n",
              " 'rescue',\n",
              " 'phone',\n",
              " 'ok',\n",
              " 'oh',\n",
              " 'mosque',\n",
              " 'lives',\n",
              " 'horrible',\n",
              " 'harm',\n",
              " 'game',\n",
              " 'dust',\n",
              " 'destruction',\n",
              " 'deluge',\n",
              " 'deaths',\n",
              " 'crashed',\n",
              " 'cliff',\n",
              " 'catastrophe',\n",
              " 'boat',\n",
              " 'away',\n",
              " 'august',\n",
              " 'area',\n",
              " 'apocalypse',\n",
              " 'woman',\n",
              " 'whirlwind',\n",
              " 'traumatised',\n",
              " 'stock',\n",
              " 'saw',\n",
              " 'ruin',\n",
              " 'riot',\n",
              " 'quarantine',\n",
              " 'kills',\n",
              " 'island',\n",
              " 'investigators',\n",
              " 'ill',\n",
              " 'hostages',\n",
              " 'hazard',\n",
              " 'danger',\n",
              " 'call',\n",
              " '15',\n",
              " 'women',\n",
              " 'windstorm',\n",
              " 'things',\n",
              " 'suspect',\n",
              " 'show',\n",
              " 'reunion',\n",
              " 'quarantined',\n",
              " 'lava',\n",
              " 'heart',\n",
              " 'engulfed',\n",
              " 'detonate',\n",
              " 'crush',\n",
              " 'collapsed',\n",
              " 'came',\n",
              " 'better',\n",
              " 'battle',\n",
              " 'armageddon',\n",
              " 'airplane',\n",
              " 'against',\n",
              " 'affected',\n",
              " 'use',\n",
              " 'trapped',\n",
              " 'thank',\n",
              " 'sunk',\n",
              " 'story',\n",
              " 'send',\n",
              " 'part',\n",
              " 'other',\n",
              " 'must',\n",
              " 'mudslide',\n",
              " 'market',\n",
              " 'iran',\n",
              " 'famine',\n",
              " 'exploded',\n",
              " 'electrocuted',\n",
              " 'ebay',\n",
              " 'displaced',\n",
              " 'derailed',\n",
              " 'derail',\n",
              " 'burned',\n",
              " 'bombed',\n",
              " 'blown',\n",
              " 'baby',\n",
              " 'around',\n",
              " 'zone',\n",
              " 'wave',\n",
              " 'wanna',\n",
              " 'sure',\n",
              " 'someone',\n",
              " 'screams',\n",
              " 'razed',\n",
              " 'power',\n",
              " 'obliterated',\n",
              " 'long',\n",
              " 'land',\n",
              " 'hundreds',\n",
              " 'heard',\n",
              " 'group',\n",
              " 'flattened',\n",
              " 'drown',\n",
              " 'doing',\n",
              " 'care',\n",
              " 'bridge',\n",
              " 'bagging',\n",
              " '9',\n",
              " 'went',\n",
              " 'used',\n",
              " 'typhoon',\n",
              " 'trouble',\n",
              " 'tornado',\n",
              " 'thought',\n",
              " 'thing',\n",
              " 'river',\n",
              " 'responders',\n",
              " 'past',\n",
              " 'pandemonium',\n",
              " 'officials',\n",
              " 'meltdown',\n",
              " 'lot',\n",
              " 'least',\n",
              " 'inundated',\n",
              " 'id',\n",
              " 'hostage',\n",
              " 'hijacking',\n",
              " 'hazardous',\n",
              " 'goes',\n",
              " 'drowning',\n",
              " 'didnt',\n",
              " 'devastation',\n",
              " 'demolish',\n",
              " 'collide',\n",
              " 'casualties',\n",
              " 'calgary',\n",
              " 'bang',\n",
              " 'anniversary',\n",
              " 'yet',\n",
              " 'wounds',\n",
              " 'volcano',\n",
              " 'tsunami',\n",
              " 'sue',\n",
              " 'st',\n",
              " 'song',\n",
              " 'something',\n",
              " 'shoulder',\n",
              " 'security',\n",
              " 'prebreak',\n",
              " 'possible',\n",
              " 'pkk',\n",
              " 'panicking',\n",
              " 'obliteration',\n",
              " 'obliterate',\n",
              " 'murderer',\n",
              " 'minute',\n",
              " 'light',\n",
              " 'lets',\n",
              " 'kill',\n",
              " 'isis',\n",
              " 'india',\n",
              " 'hijacker',\n",
              " 'hellfire',\n",
              " 'government',\n",
              " 'few',\n",
              " 'evacuated',\n",
              " 'due',\n",
              " 'detonated',\n",
              " 'desolation',\n",
              " 'crushed',\n",
              " 'chemical',\n",
              " 'blew',\n",
              " 'blazing',\n",
              " 'blast',\n",
              " 'annihilated',\n",
              " 'airport',\n",
              " '6',\n",
              " 'week',\n",
              " 'upheaval',\n",
              " 'trying',\n",
              " 'three',\n",
              " 'thanks',\n",
              " 'sound',\n",
              " 'soon',\n",
              " 'sirens',\n",
              " 'rainstorm',\n",
              " 'plane',\n",
              " 'music',\n",
              " 'making',\n",
              " 'kids',\n",
              " 'issues',\n",
              " 'half',\n",
              " 'guys',\n",
              " 'fedex',\n",
              " 'done',\n",
              " 'died',\n",
              " 'detonation',\n",
              " 'days',\n",
              " 'cyclone',\n",
              " 'county',\n",
              " 'collision',\n",
              " 'caused',\n",
              " 'catastrophic',\n",
              " 'bleeding',\n",
              " 'beautiful',\n",
              " '8',\n",
              " 'words',\n",
              " 'very',\n",
              " 'traffic',\n",
              " 'south',\n",
              " 'remember',\n",
              " 'policy',\n",
              " 'place',\n",
              " 'nothing',\n",
              " 'north',\n",
              " 'mp',\n",
              " 'longer',\n",
              " 'left',\n",
              " 'israeli',\n",
              " 'hell',\n",
              " 'fun',\n",
              " 'drowned',\n",
              " 'demolished',\n",
              " 'cool',\n",
              " 'both',\n",
              " 'bioterror',\n",
              " 'believe',\n",
              " 'avalanche',\n",
              " 'arson',\n",
              " 'turkey',\n",
              " 'snowstorm',\n",
              " 'site',\n",
              " 'shot',\n",
              " 'shooting',\n",
              " 'pic',\n",
              " 'nowplaying',\n",
              " 'media',\n",
              " 'islam',\n",
              " 'inside',\n",
              " 'hijack',\n",
              " 'helicopter',\n",
              " 'fight',\n",
              " 'fatality',\n",
              " 'fan',\n",
              " 'electrocute',\n",
              " 'doesnt',\n",
              " 'building',\n",
              " 'brown',\n",
              " 'bc',\n",
              " 'actually',\n",
              " '16yr',\n",
              " 'yes',\n",
              " 'watching',\n",
              " 'wait',\n",
              " 'ur',\n",
              " 'tell',\n",
              " 'swallowed',\n",
              " 'seismic',\n",
              " 'second',\n",
              " 'rubble',\n",
              " 're\\x89Û',\n",
              " 'plans',\n",
              " 'men',\n",
              " 'memories',\n",
              " 'line',\n",
              " 'la',\n",
              " 'horror',\n",
              " 'health',\n",
              " 'having',\n",
              " 'find',\n",
              " 'eyewitness',\n",
              " 'deluged',\n",
              " 'children',\n",
              " 'bush',\n",
              " 'anything',\n",
              " 'already',\n",
              " 'almost',\n",
              " 'aircraft',\n",
              " 'yourself',\n",
              " 'yeah',\n",
              " 'whats',\n",
              " 'tomorrow',\n",
              " 'such',\n",
              " 'start',\n",
              " 'side',\n",
              " 'searching',\n",
              " 'saved',\n",
              " 'reactor',\n",
              " 'probably',\n",
              " 'play',\n",
              " 'person',\n",
              " 'peace',\n",
              " 'outside',\n",
              " 'officer',\n",
              " 'nearby',\n",
              " 'n',\n",
              " 'maybe',\n",
              " 'lost',\n",
              " 'literally',\n",
              " 'hours',\n",
              " 'hear',\n",
              " 'far',\n",
              " 'die',\n",
              " 'demolition',\n",
              " 'data',\n",
              " 'crews',\n",
              " 'conclusively',\n",
              " 'business',\n",
              " 'american',\n",
              " '20',\n",
              " '\\x89ÛÓ',\n",
              " 'west',\n",
              " 'waves',\n",
              " 'team',\n",
              " 'street',\n",
              " 'stay',\n",
              " 'soudelor',\n",
              " 'reuters',\n",
              " 'manslaughter',\n",
              " 'leather',\n",
              " 'job',\n",
              " 'history',\n",
              " 'hey',\n",
              " 'feeling',\n",
              " 'eyes',\n",
              " 'everything',\n",
              " 'declares',\n",
              " 'deal',\n",
              " 'casualty',\n",
              " 'bodies',\n",
              " 'amid',\n",
              " 'ablaze',\n",
              " '7',\n",
              " '50',\n",
              " '30',\n",
              " '12',\n",
              " 'youth',\n",
              " 'wont',\n",
              " 'wake',\n",
              " 'theyre',\n",
              " 'support',\n",
              " 'stretcher',\n",
              " 'same',\n",
              " 'rise',\n",
              " 'picking',\n",
              " 'photos',\n",
              " 'own',\n",
              " 'others',\n",
              " 'order',\n",
              " 'omg',\n",
              " 'okay',\n",
              " 'name',\n",
              " 'myself',\n",
              " 'money',\n",
              " 'makes',\n",
              " 'leave',\n",
              " 'lab',\n",
              " 'gt',\n",
              " 'gets',\n",
              " 'flag',\n",
              " 'desolate',\n",
              " 'crisis',\n",
              " 'center',\n",
              " 'book',\n",
              " 'blight',\n",
              " 'blaze',\n",
              " 'ago',\n",
              " 'abc',\n",
              " '11yearold',\n",
              " 'womens',\n",
              " 'typhoondevastated',\n",
              " 'tv',\n",
              " 'trench',\n",
              " 'trains',\n",
              " 'texas',\n",
              " 'space',\n",
              " 'siren',\n",
              " 'shes',\n",
              " 'self',\n",
              " 'saipan',\n",
              " 'reason',\n",
              " 'rd',\n",
              " 'pretty',\n",
              " 'pick',\n",
              " 'offensive',\n",
              " 'move',\n",
              " 'meek',\n",
              " 'major',\n",
              " 'm',\n",
              " 'low',\n",
              " 'lord',\n",
              " 'huge',\n",
              " 'hat',\n",
              " 'flash',\n",
              " 'feared',\n",
              " 'fast',\n",
              " 'effect',\n",
              " 'course',\n",
              " 'country',\n",
              " 'control',\n",
              " 'class',\n",
              " 'child',\n",
              " 'chance',\n",
              " 'caught',\n",
              " 'called',\n",
              " 'bioterrorism',\n",
              " 'bestnaijamade',\n",
              " 'become',\n",
              " 'bar',\n",
              " 'banned',\n",
              " 'ball',\n",
              " 'aug',\n",
              " 'annihilation',\n",
              " 'wrong',\n",
              " 'win',\n",
              " 'usa',\n",
              " 'united',\n",
              " 'town',\n",
              " 'totally',\n",
              " 'toddler',\n",
              " 'though',\n",
              " 'temple',\n",
              " 'taken',\n",
              " 'stand',\n",
              " 'spot',\n",
              " 'signs',\n",
              " 'ship',\n",
              " 'pakistan',\n",
              " 'online',\n",
              " 'level',\n",
              " 'ladies',\n",
              " 'jobs',\n",
              " 'isnt',\n",
              " 'happy',\n",
              " 'hailstorm',\n",
              " 'friends',\n",
              " 'disea',\n",
              " 'damn',\n",
              " 'couple',\n",
              " 'case',\n",
              " 'blue',\n",
              " 'bigger',\n",
              " 'america',\n",
              " 'across',\n",
              " '10',\n",
              " 'yours',\n",
              " 'village',\n",
              " 'try',\n",
              " 'transport',\n",
              " 'talk',\n",
              " 'seen',\n",
              " 'russian',\n",
              " 'radio',\n",
              " 'projected',\n",
              " 'once',\n",
              " 'official',\n",
              " 'needs',\n",
              " 'nearly',\n",
              " 'mount',\n",
              " 'might',\n",
              " 'mayhem',\n",
              " 'instead',\n",
              " 'hollywood',\n",
              " 'haha',\n",
              " 'guy',\n",
              " 'gun',\n",
              " 'green',\n",
              " 'front',\n",
              " 'finally',\n",
              " 'favorite',\n",
              " 'experts',\n",
              " 'entire',\n",
              " 'east',\n",
              " 'daily',\n",
              " 'crazy',\n",
              " 'computers',\n",
              " 'coaches',\n",
              " 'christian',\n",
              " 'china',\n",
              " 'blizzard',\n",
              " 'anyone',\n",
              " 'aint',\n",
              " 'action',\n",
              " '25',\n",
              " 'virgin',\n",
              " 'vehicle',\n",
              " 'truth',\n",
              " 'trust',\n",
              " 'takes',\n",
              " 't',\n",
              " 'star',\n",
              " 'sorry',\n",
              " 'running',\n",
              " 'refugio',\n",
              " 'reddits',\n",
              " 'poor',\n",
              " 'pain',\n",
              " 'mom',\n",
              " 'miners',\n",
              " 'marks',\n",
              " 'looking',\n",
              " 'knock',\n",
              " 'issued',\n",
              " 'insurance',\n",
              " 'ignition',\n",
              " 'houses',\n",
              " 'heavy',\n",
              " 'hate',\n",
              " 'hard',\n",
              " 'happened',\n",
              " 'global',\n",
              " 'giant',\n",
              " 'gbbo',\n",
              " 'flight',\n",
              " 'eye',\n",
              " 'emmerdale',\n",
              " 'driver',\n",
              " 'devastated',\n",
              " 'd',\n",
              " 'costlier',\n",
              " 'cnn',\n",
              " 'cars',\n",
              " 'camp',\n",
              " 'beach',\n",
              " 'arsonist',\n",
              " 'angry',\n",
              " 'alone',\n",
              " 'added',\n",
              " '05',\n",
              " 'york',\n",
              " 'wonder',\n",
              " 'uk',\n",
              " 'turn',\n",
              " 'taking',\n",
              " 'subreddits',\n",
              " 'sounds',\n",
              " 'scared',\n",
              " 'russia',\n",
              " 'rly',\n",
              " 'reports',\n",
              " 'ready',\n",
              " 'quiz',\n",
              " 'public',\n",
              " 'property',\n",
              " 'pradesh',\n",
              " 'ppl',\n",
              " 'playing',\n",
              " 'pay',\n",
              " 'parole',\n",
              " 'pamela',\n",
              " 'pakistani',\n",
              " 'outrage',\n",
              " 'niggas',\n",
              " 'nagasaki',\n",
              " 'myanmar',\n",
              " 'muslims',\n",
              " 'mop',\n",
              " 'madhya',\n",
              " 'mad',\n",
              " 'lmao',\n",
              " 'learn',\n",
              " 'large',\n",
              " 'govt',\n",
              " 'give',\n",
              " 'gems',\n",
              " 'gave',\n",
              " 'funtenna',\n",
              " 'fukushima',\n",
              " 'former',\n",
              " 'film',\n",
              " 'earth',\n",
              " 'drive',\n",
              " 'downtown',\n",
              " 'dog',\n",
              " 'comes',\n",
              " 'closed',\n",
              " 'cake',\n",
              " 'british',\n",
              " 'bring',\n",
              " 'bbc',\n",
              " 'b',\n",
              " 'appears',\n",
              " 'aftershock',\n",
              " '13',\n",
              " '11',\n",
              " 'young',\n",
              " 'wow',\n",
              " 'worst',\n",
              " 'waving',\n",
              " 'washington',\n",
              " 'wanted',\n",
              " 'vs',\n",
              " 'view',\n",
              " 'upon',\n",
              " 'tweet',\n",
              " 'tree',\n",
              " 'tote',\n",
              " 'thousands',\n",
              " 'thinking',\n",
              " 'theater',\n",
              " 'soul',\n",
              " 'sky',\n",
              " 'sign',\n",
              " 'shows',\n",
              " 'shift',\n",
              " 'seeing',\n",
              " 'sea',\n",
              " 'scene',\n",
              " 'safety',\n",
              " 'rules',\n",
              " 'rock',\n",
              " 'reported',\n",
              " 'r',\n",
              " 'pray',\n",
              " 'playlist',\n",
              " 'patience',\n",
              " ...]"
            ]
          },
          "metadata": {},
          "execution_count": 27
        }
      ]
    },
    {
      "cell_type": "code",
      "source": [
        "len(words_in_vocabulary)"
      ],
      "metadata": {
        "colab": {
          "base_uri": "https://localhost:8080/"
        },
        "id": "at7kOV7zLT4q",
        "outputId": "6efdcfef-e7b5-42ed-bb1e-20b351254936"
      },
      "execution_count": 28,
      "outputs": [
        {
          "output_type": "execute_result",
          "data": {
            "text/plain": [
              "10000"
            ]
          },
          "metadata": {},
          "execution_count": 28
        }
      ]
    },
    {
      "cell_type": "code",
      "source": [
        "top_5_words = words_in_vocabulary[:5]\n",
        "top_5_words"
      ],
      "metadata": {
        "colab": {
          "base_uri": "https://localhost:8080/"
        },
        "id": "0EvT3daFK2Jg",
        "outputId": "832729c1-30a7-4dc3-c203-8438e6677036"
      },
      "execution_count": 29,
      "outputs": [
        {
          "output_type": "execute_result",
          "data": {
            "text/plain": [
              "['', '[UNK]', 'the', 'a', 'in']"
            ]
          },
          "metadata": {},
          "execution_count": 29
        }
      ]
    },
    {
      "cell_type": "code",
      "source": [
        "bottom_5_words = words_in_vocabulary[-5:]\n",
        "bottom_5_words"
      ],
      "metadata": {
        "colab": {
          "base_uri": "https://localhost:8080/"
        },
        "id": "_E5iV4dQLB_3",
        "outputId": "703c47c8-902a-4fc0-b9e1-c7ab3dfda20a"
      },
      "execution_count": 30,
      "outputs": [
        {
          "output_type": "execute_result",
          "data": {
            "text/plain": [
              "['pages', 'paeds', 'pads', 'padres', 'paddytomlinson1']"
            ]
          },
          "metadata": {},
          "execution_count": 30
        }
      ]
    },
    {
      "cell_type": "code",
      "source": [],
      "metadata": {
        "id": "TNcprwTELPrJ"
      },
      "execution_count": 30,
      "outputs": []
    },
    {
      "cell_type": "markdown",
      "source": [
        "# **Embedding**"
      ],
      "metadata": {
        "id": "jGEKWgsrLj9T"
      }
    },
    {
      "cell_type": "code",
      "source": [
        "tf.random.set_seed(42)\n",
        "from tensorflow.keras import layers\n",
        "embedding = layers.Embedding(input_dim = max_word_length ,\n",
        "                             input_length = max_length ,\n",
        "                             output_dim = 128,\n",
        "                             name = \"embedding_1\")\n",
        "\n",
        "embedding"
      ],
      "metadata": {
        "colab": {
          "base_uri": "https://localhost:8080/"
        },
        "id": "X_61BMqbLmMA",
        "outputId": "eb9a5484-39e0-4382-9338-bf7eda01f12f"
      },
      "execution_count": 31,
      "outputs": [
        {
          "output_type": "execute_result",
          "data": {
            "text/plain": [
              "<keras.layers.core.embedding.Embedding at 0x7fa3d279c640>"
            ]
          },
          "metadata": {},
          "execution_count": 31
        }
      ]
    },
    {
      "cell_type": "code",
      "source": [
        "random_sent_= random.choice(train_sentence)\n",
        "print(\"Original Text : \" ,  random_sent_)\n",
        "print(\"\\n\")\n",
        "print(\"Embedded Version : \")\n",
        "sample_embedded = embedding(text_vectorizer([random_sent_]))\n",
        "sample_embedded"
      ],
      "metadata": {
        "colab": {
          "base_uri": "https://localhost:8080/"
        },
        "id": "dIf8B_ueLvzM",
        "outputId": "dbcff638-8ea8-450a-d864-3817757b1392"
      },
      "execution_count": 32,
      "outputs": [
        {
          "output_type": "stream",
          "name": "stdout",
          "text": [
            "Original Text :  Snowstorm planned outside #Rome's St Mary Major tonight - annual occasion artificial snow remembering summer snow in 358 AD on same spot.\n",
            "\n",
            "\n",
            "Embedded Version : \n"
          ]
        },
        {
          "output_type": "execute_result",
          "data": {
            "text/plain": [
              "<tf.Tensor: shape=(1, 15, 128), dtype=float32, numpy=\n",
              "array([[[ 0.00603973, -0.03536702, -0.03366037, ..., -0.00788256,\n",
              "         -0.04190069, -0.04482723],\n",
              "        [ 0.04529308,  0.03876169,  0.02538505, ..., -0.0380689 ,\n",
              "          0.04469757, -0.0421092 ],\n",
              "        [ 0.03778051, -0.03638364,  0.01504811, ...,  0.00181949,\n",
              "         -0.00334624,  0.03627554],\n",
              "        ...,\n",
              "        [-0.0395024 ,  0.02938033,  0.01996399, ...,  0.04354746,\n",
              "          0.01531677,  0.04699037],\n",
              "        [ 0.01481023, -0.04949851,  0.02184572, ..., -0.04467287,\n",
              "          0.01842812,  0.00813263],\n",
              "        [ 0.04182519,  0.03671416,  0.01701934, ..., -0.03987407,\n",
              "         -0.02030691,  0.02731824]]], dtype=float32)>"
            ]
          },
          "metadata": {},
          "execution_count": 32
        }
      ]
    },
    {
      "cell_type": "code",
      "source": [
        "sample_embedded.shape"
      ],
      "metadata": {
        "colab": {
          "base_uri": "https://localhost:8080/"
        },
        "id": "GYOLdUmtMnqq",
        "outputId": "28d8dea0-9054-4ef1-cabf-e7c664dee508"
      },
      "execution_count": 33,
      "outputs": [
        {
          "output_type": "execute_result",
          "data": {
            "text/plain": [
              "TensorShape([1, 15, 128])"
            ]
          },
          "metadata": {},
          "execution_count": 33
        }
      ]
    },
    {
      "cell_type": "code",
      "source": [
        "sample_embedded[0].shape"
      ],
      "metadata": {
        "colab": {
          "base_uri": "https://localhost:8080/"
        },
        "id": "WsDQysVjMxTf",
        "outputId": "c557a237-8ab8-497d-ddff-0a71f658f22e"
      },
      "execution_count": 34,
      "outputs": [
        {
          "output_type": "execute_result",
          "data": {
            "text/plain": [
              "TensorShape([15, 128])"
            ]
          },
          "metadata": {},
          "execution_count": 34
        }
      ]
    },
    {
      "cell_type": "code",
      "source": [
        "sample_embedded[0][0].shape"
      ],
      "metadata": {
        "colab": {
          "base_uri": "https://localhost:8080/"
        },
        "id": "i38Do6HtMy3z",
        "outputId": "540a7707-72fe-4d3b-cae9-7ed0266d3729"
      },
      "execution_count": 35,
      "outputs": [
        {
          "output_type": "execute_result",
          "data": {
            "text/plain": [
              "TensorShape([128])"
            ]
          },
          "metadata": {},
          "execution_count": 35
        }
      ]
    },
    {
      "cell_type": "code",
      "source": [
        "sample_embedded[0][0][0].shape"
      ],
      "metadata": {
        "colab": {
          "base_uri": "https://localhost:8080/"
        },
        "id": "36LU-ctAM7AK",
        "outputId": "5561a466-7bcd-402a-924d-64eaa3f5b22e"
      },
      "execution_count": 36,
      "outputs": [
        {
          "output_type": "execute_result",
          "data": {
            "text/plain": [
              "TensorShape([])"
            ]
          },
          "metadata": {},
          "execution_count": 36
        }
      ]
    },
    {
      "cell_type": "code",
      "source": [
        "sample_embedded[0]"
      ],
      "metadata": {
        "colab": {
          "base_uri": "https://localhost:8080/"
        },
        "id": "u2R91wH8M9G6",
        "outputId": "7ec5441e-31d1-47a7-b3f1-d838b1d6e875"
      },
      "execution_count": 37,
      "outputs": [
        {
          "output_type": "execute_result",
          "data": {
            "text/plain": [
              "<tf.Tensor: shape=(15, 128), dtype=float32, numpy=\n",
              "array([[ 0.00603973, -0.03536702, -0.03366037, ..., -0.00788256,\n",
              "        -0.04190069, -0.04482723],\n",
              "       [ 0.04529308,  0.03876169,  0.02538505, ..., -0.0380689 ,\n",
              "         0.04469757, -0.0421092 ],\n",
              "       [ 0.03778051, -0.03638364,  0.01504811, ...,  0.00181949,\n",
              "        -0.00334624,  0.03627554],\n",
              "       ...,\n",
              "       [-0.0395024 ,  0.02938033,  0.01996399, ...,  0.04354746,\n",
              "         0.01531677,  0.04699037],\n",
              "       [ 0.01481023, -0.04949851,  0.02184572, ..., -0.04467287,\n",
              "         0.01842812,  0.00813263],\n",
              "       [ 0.04182519,  0.03671416,  0.01701934, ..., -0.03987407,\n",
              "        -0.02030691,  0.02731824]], dtype=float32)>"
            ]
          },
          "metadata": {},
          "execution_count": 37
        }
      ]
    },
    {
      "cell_type": "code",
      "source": [
        "sample_embedded[0][0]"
      ],
      "metadata": {
        "colab": {
          "base_uri": "https://localhost:8080/"
        },
        "id": "EFOsM1hONGjB",
        "outputId": "0b0a5b8a-9c45-4157-b06d-a462d9d3a4a1"
      },
      "execution_count": 38,
      "outputs": [
        {
          "output_type": "execute_result",
          "data": {
            "text/plain": [
              "<tf.Tensor: shape=(128,), dtype=float32, numpy=\n",
              "array([ 6.0397275e-03, -3.5367023e-02, -3.3660367e-02, -4.9898922e-02,\n",
              "       -2.8942004e-03, -4.6759415e-02,  2.1232557e-02, -4.4326793e-02,\n",
              "        3.0164123e-03, -4.1116029e-05,  1.6631652e-02,  2.3706231e-02,\n",
              "        1.8489372e-02, -3.4845792e-02, -4.9774386e-02, -4.0649343e-02,\n",
              "        7.5195208e-03,  4.1637029e-02, -1.8654324e-02, -1.1979461e-02,\n",
              "       -1.2759030e-02,  3.1432580e-02,  1.3156999e-02,  4.5711044e-02,\n",
              "        1.8494572e-02,  2.2464883e-02, -2.7678872e-02,  2.5867000e-03,\n",
              "        1.0666408e-02,  2.2225682e-02, -3.5138130e-02, -3.3639658e-02,\n",
              "        1.0913290e-02, -2.5078023e-02,  2.8083492e-02, -2.7424753e-02,\n",
              "       -4.8049737e-02, -1.3983775e-02,  4.4499304e-02, -1.8155169e-02,\n",
              "        3.6679532e-02, -4.2757072e-02,  3.7523333e-02,  1.4830481e-02,\n",
              "        1.8831518e-02,  5.2829981e-03,  3.3465195e-02,  4.8652291e-06,\n",
              "        2.4843384e-02, -3.9388649e-03,  2.6965585e-02, -3.4501303e-02,\n",
              "       -1.1975825e-02,  1.2742389e-02, -5.3228028e-03, -1.8107772e-02,\n",
              "       -3.0070126e-02,  1.1676777e-02, -1.3141133e-02, -1.1163879e-02,\n",
              "        1.5682135e-02, -3.3801056e-02,  1.9519106e-03, -3.6195885e-02,\n",
              "       -4.3467652e-02, -2.5321508e-02, -1.8499933e-02, -4.9417414e-02,\n",
              "        1.0337792e-02,  4.1933391e-02,  1.6613390e-02,  3.3495497e-02,\n",
              "       -1.5196227e-02,  4.2130951e-02,  4.7532070e-02, -3.8894664e-02,\n",
              "       -4.2019166e-02, -1.3451219e-02, -1.9458104e-02, -1.3528265e-02,\n",
              "       -1.5768565e-02,  3.2355849e-02, -2.7008343e-02,  1.7831475e-04,\n",
              "        2.2844601e-02, -2.3339737e-02, -4.5841362e-02,  1.1931229e-02,\n",
              "        2.5930773e-02, -3.0840421e-02,  2.1801267e-02, -4.8337843e-02,\n",
              "        4.2986583e-02,  1.1620857e-02, -1.1041105e-02, -8.5594654e-03,\n",
              "       -4.4888593e-02, -8.3686225e-03, -2.3428226e-02,  3.0403249e-03,\n",
              "       -3.8312208e-02,  1.1378814e-02,  4.2599965e-02,  1.5669111e-02,\n",
              "        4.8008077e-03,  4.7344971e-02, -4.8511066e-02,  6.0534254e-03,\n",
              "        3.6408771e-02,  4.7021750e-02,  1.4912788e-02,  1.3763178e-02,\n",
              "        4.7558416e-02,  9.3839057e-03,  6.6055432e-03,  4.3648828e-02,\n",
              "        4.9187530e-02,  4.5021202e-02, -3.2278515e-02, -4.7586154e-02,\n",
              "        2.8468225e-02,  1.1692144e-02,  4.4312809e-02, -1.5137911e-02,\n",
              "        3.6413100e-02, -7.8825578e-03, -4.1900694e-02, -4.4827234e-02],\n",
              "      dtype=float32)>"
            ]
          },
          "metadata": {},
          "execution_count": 38
        }
      ]
    },
    {
      "cell_type": "code",
      "source": [
        "sample_embedded[0][0][0]"
      ],
      "metadata": {
        "colab": {
          "base_uri": "https://localhost:8080/"
        },
        "id": "ZPsNOnKuNH7c",
        "outputId": "f57a25d3-4fb7-421a-903a-719e766e69c6"
      },
      "execution_count": 39,
      "outputs": [
        {
          "output_type": "execute_result",
          "data": {
            "text/plain": [
              "<tf.Tensor: shape=(), dtype=float32, numpy=0.0060397275>"
            ]
          },
          "metadata": {},
          "execution_count": 39
        }
      ]
    },
    {
      "cell_type": "code",
      "source": [],
      "metadata": {
        "id": "K9TXVsqTNKY6"
      },
      "execution_count": 39,
      "outputs": []
    },
    {
      "cell_type": "markdown",
      "source": [
        "# ***Model 0 : Creating a Baseline (Naive Bayes)***"
      ],
      "metadata": {
        "id": "FGUSCGSfOjNz"
      }
    },
    {
      "cell_type": "code",
      "source": [
        "from sklearn.feature_extraction.text import TfidfVectorizer\n",
        "from sklearn.naive_bayes import MultinomialNB\n",
        "from sklearn.pipeline import Pipeline"
      ],
      "metadata": {
        "id": "OofuzA8pOr5w"
      },
      "execution_count": 40,
      "outputs": []
    },
    {
      "cell_type": "code",
      "source": [
        "model_0 = Pipeline([(\"tfidf\" , TfidfVectorizer()),\n",
        "                (\"naive_bayes\" ,MultinomialNB())])"
      ],
      "metadata": {
        "id": "WheA-04aPAtS"
      },
      "execution_count": 41,
      "outputs": []
    },
    {
      "cell_type": "code",
      "source": [
        "model_0"
      ],
      "metadata": {
        "colab": {
          "base_uri": "https://localhost:8080/",
          "height": 126
        },
        "id": "IbOq3umtProP",
        "outputId": "2b8c8b1e-42d8-479d-bc79-af3a4eff078b"
      },
      "execution_count": 42,
      "outputs": [
        {
          "output_type": "execute_result",
          "data": {
            "text/plain": [
              "Pipeline(steps=[('tfidf', TfidfVectorizer()), ('naive_bayes', MultinomialNB())])"
            ],
            "text/html": [
              "<style>#sk-container-id-1 {color: black;background-color: white;}#sk-container-id-1 pre{padding: 0;}#sk-container-id-1 div.sk-toggleable {background-color: white;}#sk-container-id-1 label.sk-toggleable__label {cursor: pointer;display: block;width: 100%;margin-bottom: 0;padding: 0.3em;box-sizing: border-box;text-align: center;}#sk-container-id-1 label.sk-toggleable__label-arrow:before {content: \"▸\";float: left;margin-right: 0.25em;color: #696969;}#sk-container-id-1 label.sk-toggleable__label-arrow:hover:before {color: black;}#sk-container-id-1 div.sk-estimator:hover label.sk-toggleable__label-arrow:before {color: black;}#sk-container-id-1 div.sk-toggleable__content {max-height: 0;max-width: 0;overflow: hidden;text-align: left;background-color: #f0f8ff;}#sk-container-id-1 div.sk-toggleable__content pre {margin: 0.2em;color: black;border-radius: 0.25em;background-color: #f0f8ff;}#sk-container-id-1 input.sk-toggleable__control:checked~div.sk-toggleable__content {max-height: 200px;max-width: 100%;overflow: auto;}#sk-container-id-1 input.sk-toggleable__control:checked~label.sk-toggleable__label-arrow:before {content: \"▾\";}#sk-container-id-1 div.sk-estimator input.sk-toggleable__control:checked~label.sk-toggleable__label {background-color: #d4ebff;}#sk-container-id-1 div.sk-label input.sk-toggleable__control:checked~label.sk-toggleable__label {background-color: #d4ebff;}#sk-container-id-1 input.sk-hidden--visually {border: 0;clip: rect(1px 1px 1px 1px);clip: rect(1px, 1px, 1px, 1px);height: 1px;margin: -1px;overflow: hidden;padding: 0;position: absolute;width: 1px;}#sk-container-id-1 div.sk-estimator {font-family: monospace;background-color: #f0f8ff;border: 1px dotted black;border-radius: 0.25em;box-sizing: border-box;margin-bottom: 0.5em;}#sk-container-id-1 div.sk-estimator:hover {background-color: #d4ebff;}#sk-container-id-1 div.sk-parallel-item::after {content: \"\";width: 100%;border-bottom: 1px solid gray;flex-grow: 1;}#sk-container-id-1 div.sk-label:hover label.sk-toggleable__label {background-color: #d4ebff;}#sk-container-id-1 div.sk-serial::before {content: \"\";position: absolute;border-left: 1px solid gray;box-sizing: border-box;top: 0;bottom: 0;left: 50%;z-index: 0;}#sk-container-id-1 div.sk-serial {display: flex;flex-direction: column;align-items: center;background-color: white;padding-right: 0.2em;padding-left: 0.2em;position: relative;}#sk-container-id-1 div.sk-item {position: relative;z-index: 1;}#sk-container-id-1 div.sk-parallel {display: flex;align-items: stretch;justify-content: center;background-color: white;position: relative;}#sk-container-id-1 div.sk-item::before, #sk-container-id-1 div.sk-parallel-item::before {content: \"\";position: absolute;border-left: 1px solid gray;box-sizing: border-box;top: 0;bottom: 0;left: 50%;z-index: -1;}#sk-container-id-1 div.sk-parallel-item {display: flex;flex-direction: column;z-index: 1;position: relative;background-color: white;}#sk-container-id-1 div.sk-parallel-item:first-child::after {align-self: flex-end;width: 50%;}#sk-container-id-1 div.sk-parallel-item:last-child::after {align-self: flex-start;width: 50%;}#sk-container-id-1 div.sk-parallel-item:only-child::after {width: 0;}#sk-container-id-1 div.sk-dashed-wrapped {border: 1px dashed gray;margin: 0 0.4em 0.5em 0.4em;box-sizing: border-box;padding-bottom: 0.4em;background-color: white;}#sk-container-id-1 div.sk-label label {font-family: monospace;font-weight: bold;display: inline-block;line-height: 1.2em;}#sk-container-id-1 div.sk-label-container {text-align: center;}#sk-container-id-1 div.sk-container {/* jupyter's `normalize.less` sets `[hidden] { display: none; }` but bootstrap.min.css set `[hidden] { display: none !important; }` so we also need the `!important` here to be able to override the default hidden behavior on the sphinx rendered scikit-learn.org. See: https://github.com/scikit-learn/scikit-learn/issues/21755 */display: inline-block !important;position: relative;}#sk-container-id-1 div.sk-text-repr-fallback {display: none;}</style><div id=\"sk-container-id-1\" class=\"sk-top-container\"><div class=\"sk-text-repr-fallback\"><pre>Pipeline(steps=[(&#x27;tfidf&#x27;, TfidfVectorizer()), (&#x27;naive_bayes&#x27;, MultinomialNB())])</pre><b>In a Jupyter environment, please rerun this cell to show the HTML representation or trust the notebook. <br />On GitHub, the HTML representation is unable to render, please try loading this page with nbviewer.org.</b></div><div class=\"sk-container\" hidden><div class=\"sk-item sk-dashed-wrapped\"><div class=\"sk-label-container\"><div class=\"sk-label sk-toggleable\"><input class=\"sk-toggleable__control sk-hidden--visually\" id=\"sk-estimator-id-1\" type=\"checkbox\" ><label for=\"sk-estimator-id-1\" class=\"sk-toggleable__label sk-toggleable__label-arrow\">Pipeline</label><div class=\"sk-toggleable__content\"><pre>Pipeline(steps=[(&#x27;tfidf&#x27;, TfidfVectorizer()), (&#x27;naive_bayes&#x27;, MultinomialNB())])</pre></div></div></div><div class=\"sk-serial\"><div class=\"sk-item\"><div class=\"sk-estimator sk-toggleable\"><input class=\"sk-toggleable__control sk-hidden--visually\" id=\"sk-estimator-id-2\" type=\"checkbox\" ><label for=\"sk-estimator-id-2\" class=\"sk-toggleable__label sk-toggleable__label-arrow\">TfidfVectorizer</label><div class=\"sk-toggleable__content\"><pre>TfidfVectorizer()</pre></div></div></div><div class=\"sk-item\"><div class=\"sk-estimator sk-toggleable\"><input class=\"sk-toggleable__control sk-hidden--visually\" id=\"sk-estimator-id-3\" type=\"checkbox\" ><label for=\"sk-estimator-id-3\" class=\"sk-toggleable__label sk-toggleable__label-arrow\">MultinomialNB</label><div class=\"sk-toggleable__content\"><pre>MultinomialNB()</pre></div></div></div></div></div></div></div>"
            ]
          },
          "metadata": {},
          "execution_count": 42
        }
      ]
    },
    {
      "cell_type": "code",
      "source": [
        "model_0.fit(train_sentence , train_label)"
      ],
      "metadata": {
        "colab": {
          "base_uri": "https://localhost:8080/",
          "height": 126
        },
        "id": "wMq7vSc8PzbW",
        "outputId": "1947f4bb-2321-4dd1-fec5-5f15eb3e735d"
      },
      "execution_count": 43,
      "outputs": [
        {
          "output_type": "execute_result",
          "data": {
            "text/plain": [
              "Pipeline(steps=[('tfidf', TfidfVectorizer()), ('naive_bayes', MultinomialNB())])"
            ],
            "text/html": [
              "<style>#sk-container-id-2 {color: black;background-color: white;}#sk-container-id-2 pre{padding: 0;}#sk-container-id-2 div.sk-toggleable {background-color: white;}#sk-container-id-2 label.sk-toggleable__label {cursor: pointer;display: block;width: 100%;margin-bottom: 0;padding: 0.3em;box-sizing: border-box;text-align: center;}#sk-container-id-2 label.sk-toggleable__label-arrow:before {content: \"▸\";float: left;margin-right: 0.25em;color: #696969;}#sk-container-id-2 label.sk-toggleable__label-arrow:hover:before {color: black;}#sk-container-id-2 div.sk-estimator:hover label.sk-toggleable__label-arrow:before {color: black;}#sk-container-id-2 div.sk-toggleable__content {max-height: 0;max-width: 0;overflow: hidden;text-align: left;background-color: #f0f8ff;}#sk-container-id-2 div.sk-toggleable__content pre {margin: 0.2em;color: black;border-radius: 0.25em;background-color: #f0f8ff;}#sk-container-id-2 input.sk-toggleable__control:checked~div.sk-toggleable__content {max-height: 200px;max-width: 100%;overflow: auto;}#sk-container-id-2 input.sk-toggleable__control:checked~label.sk-toggleable__label-arrow:before {content: \"▾\";}#sk-container-id-2 div.sk-estimator input.sk-toggleable__control:checked~label.sk-toggleable__label {background-color: #d4ebff;}#sk-container-id-2 div.sk-label input.sk-toggleable__control:checked~label.sk-toggleable__label {background-color: #d4ebff;}#sk-container-id-2 input.sk-hidden--visually {border: 0;clip: rect(1px 1px 1px 1px);clip: rect(1px, 1px, 1px, 1px);height: 1px;margin: -1px;overflow: hidden;padding: 0;position: absolute;width: 1px;}#sk-container-id-2 div.sk-estimator {font-family: monospace;background-color: #f0f8ff;border: 1px dotted black;border-radius: 0.25em;box-sizing: border-box;margin-bottom: 0.5em;}#sk-container-id-2 div.sk-estimator:hover {background-color: #d4ebff;}#sk-container-id-2 div.sk-parallel-item::after {content: \"\";width: 100%;border-bottom: 1px solid gray;flex-grow: 1;}#sk-container-id-2 div.sk-label:hover label.sk-toggleable__label {background-color: #d4ebff;}#sk-container-id-2 div.sk-serial::before {content: \"\";position: absolute;border-left: 1px solid gray;box-sizing: border-box;top: 0;bottom: 0;left: 50%;z-index: 0;}#sk-container-id-2 div.sk-serial {display: flex;flex-direction: column;align-items: center;background-color: white;padding-right: 0.2em;padding-left: 0.2em;position: relative;}#sk-container-id-2 div.sk-item {position: relative;z-index: 1;}#sk-container-id-2 div.sk-parallel {display: flex;align-items: stretch;justify-content: center;background-color: white;position: relative;}#sk-container-id-2 div.sk-item::before, #sk-container-id-2 div.sk-parallel-item::before {content: \"\";position: absolute;border-left: 1px solid gray;box-sizing: border-box;top: 0;bottom: 0;left: 50%;z-index: -1;}#sk-container-id-2 div.sk-parallel-item {display: flex;flex-direction: column;z-index: 1;position: relative;background-color: white;}#sk-container-id-2 div.sk-parallel-item:first-child::after {align-self: flex-end;width: 50%;}#sk-container-id-2 div.sk-parallel-item:last-child::after {align-self: flex-start;width: 50%;}#sk-container-id-2 div.sk-parallel-item:only-child::after {width: 0;}#sk-container-id-2 div.sk-dashed-wrapped {border: 1px dashed gray;margin: 0 0.4em 0.5em 0.4em;box-sizing: border-box;padding-bottom: 0.4em;background-color: white;}#sk-container-id-2 div.sk-label label {font-family: monospace;font-weight: bold;display: inline-block;line-height: 1.2em;}#sk-container-id-2 div.sk-label-container {text-align: center;}#sk-container-id-2 div.sk-container {/* jupyter's `normalize.less` sets `[hidden] { display: none; }` but bootstrap.min.css set `[hidden] { display: none !important; }` so we also need the `!important` here to be able to override the default hidden behavior on the sphinx rendered scikit-learn.org. See: https://github.com/scikit-learn/scikit-learn/issues/21755 */display: inline-block !important;position: relative;}#sk-container-id-2 div.sk-text-repr-fallback {display: none;}</style><div id=\"sk-container-id-2\" class=\"sk-top-container\"><div class=\"sk-text-repr-fallback\"><pre>Pipeline(steps=[(&#x27;tfidf&#x27;, TfidfVectorizer()), (&#x27;naive_bayes&#x27;, MultinomialNB())])</pre><b>In a Jupyter environment, please rerun this cell to show the HTML representation or trust the notebook. <br />On GitHub, the HTML representation is unable to render, please try loading this page with nbviewer.org.</b></div><div class=\"sk-container\" hidden><div class=\"sk-item sk-dashed-wrapped\"><div class=\"sk-label-container\"><div class=\"sk-label sk-toggleable\"><input class=\"sk-toggleable__control sk-hidden--visually\" id=\"sk-estimator-id-4\" type=\"checkbox\" ><label for=\"sk-estimator-id-4\" class=\"sk-toggleable__label sk-toggleable__label-arrow\">Pipeline</label><div class=\"sk-toggleable__content\"><pre>Pipeline(steps=[(&#x27;tfidf&#x27;, TfidfVectorizer()), (&#x27;naive_bayes&#x27;, MultinomialNB())])</pre></div></div></div><div class=\"sk-serial\"><div class=\"sk-item\"><div class=\"sk-estimator sk-toggleable\"><input class=\"sk-toggleable__control sk-hidden--visually\" id=\"sk-estimator-id-5\" type=\"checkbox\" ><label for=\"sk-estimator-id-5\" class=\"sk-toggleable__label sk-toggleable__label-arrow\">TfidfVectorizer</label><div class=\"sk-toggleable__content\"><pre>TfidfVectorizer()</pre></div></div></div><div class=\"sk-item\"><div class=\"sk-estimator sk-toggleable\"><input class=\"sk-toggleable__control sk-hidden--visually\" id=\"sk-estimator-id-6\" type=\"checkbox\" ><label for=\"sk-estimator-id-6\" class=\"sk-toggleable__label sk-toggleable__label-arrow\">MultinomialNB</label><div class=\"sk-toggleable__content\"><pre>MultinomialNB()</pre></div></div></div></div></div></div></div>"
            ]
          },
          "metadata": {},
          "execution_count": 43
        }
      ]
    },
    {
      "cell_type": "code",
      "source": [
        "baseline_score = model_0.score(Val_sentence , Val_label)\n",
        "baseline_score = baseline_score* 100\n",
        "baseline_score"
      ],
      "metadata": {
        "colab": {
          "base_uri": "https://localhost:8080/"
        },
        "id": "p6iTd87eP9ad",
        "outputId": "83fe8e15-ecfd-4ffe-b5ee-3c85848c7e0e"
      },
      "execution_count": 44,
      "outputs": [
        {
          "output_type": "execute_result",
          "data": {
            "text/plain": [
              "79.26509186351706"
            ]
          },
          "metadata": {},
          "execution_count": 44
        }
      ]
    },
    {
      "cell_type": "code",
      "source": [
        "sent = \"We are safe\""
      ],
      "metadata": {
        "id": "jogJYkUTQVUQ"
      },
      "execution_count": 45,
      "outputs": []
    },
    {
      "cell_type": "code",
      "source": [
        "baseline_pred = model_0.predict([sent])\n",
        "print(\"Oroginal sentence : \" , sent)\n",
        "print(\"Target: \" , baseline_pred)"
      ],
      "metadata": {
        "colab": {
          "base_uri": "https://localhost:8080/"
        },
        "id": "OY2VooFzQIkc",
        "outputId": "499c4585-5025-492e-d97e-656cbb155e72"
      },
      "execution_count": 46,
      "outputs": [
        {
          "output_type": "stream",
          "name": "stdout",
          "text": [
            "Oroginal sentence :  We are safe\n",
            "Target:  [0]\n"
          ]
        }
      ]
    },
    {
      "cell_type": "code",
      "source": [
        "Val_pred = model_0.predict(Val_sentence)\n",
        "Val_pred"
      ],
      "metadata": {
        "colab": {
          "base_uri": "https://localhost:8080/"
        },
        "id": "RtFBDKiyQzzw",
        "outputId": "619e1fa7-4ace-41c3-f7da-1869064c1f19"
      },
      "execution_count": 47,
      "outputs": [
        {
          "output_type": "execute_result",
          "data": {
            "text/plain": [
              "array([1, 1, 1, 0, 0, 1, 1, 1, 1, 0, 0, 1, 0, 0, 0, 0, 0, 0, 0, 1, 1, 0,\n",
              "       0, 0, 1, 1, 0, 0, 0, 0, 1, 0, 0, 0, 0, 0, 1, 0, 0, 1, 0, 0, 0, 0,\n",
              "       0, 1, 0, 1, 0, 1, 0, 1, 0, 0, 0, 0, 0, 1, 0, 0, 0, 1, 1, 0, 1, 1,\n",
              "       0, 0, 0, 0, 0, 0, 0, 0, 0, 1, 0, 0, 0, 1, 1, 0, 1, 0, 0, 0, 0, 0,\n",
              "       1, 1, 1, 0, 0, 0, 1, 1, 1, 1, 1, 1, 1, 0, 0, 1, 1, 0, 0, 1, 0, 0,\n",
              "       1, 0, 0, 0, 0, 0, 0, 1, 1, 0, 1, 0, 0, 1, 0, 0, 0, 0, 0, 1, 0, 1,\n",
              "       1, 1, 1, 0, 1, 0, 0, 0, 1, 0, 0, 0, 0, 0, 0, 0, 0, 1, 1, 0, 0, 0,\n",
              "       0, 1, 0, 0, 1, 0, 1, 0, 0, 1, 0, 0, 1, 0, 1, 0, 1, 0, 1, 0, 1, 0,\n",
              "       0, 0, 0, 1, 0, 1, 1, 1, 1, 0, 0, 1, 0, 0, 0, 1, 0, 0, 0, 0, 0, 0,\n",
              "       1, 0, 0, 1, 1, 0, 0, 1, 0, 1, 1, 1, 0, 1, 0, 0, 0, 0, 1, 1, 0, 0,\n",
              "       1, 0, 0, 0, 1, 0, 0, 1, 1, 1, 0, 0, 1, 0, 1, 0, 0, 0, 0, 0, 0, 0,\n",
              "       1, 1, 0, 0, 1, 0, 0, 0, 0, 0, 0, 0, 1, 0, 1, 1, 0, 0, 0, 0, 0, 1,\n",
              "       1, 0, 1, 0, 0, 0, 0, 0, 1, 0, 0, 1, 0, 0, 1, 0, 0, 0, 1, 0, 1, 0,\n",
              "       1, 0, 0, 0, 0, 0, 0, 0, 0, 1, 0, 1, 0, 0, 0, 0, 0, 1, 0, 0, 0, 0,\n",
              "       0, 0, 0, 1, 0, 0, 1, 0, 1, 0, 0, 0, 0, 0, 1, 0, 1, 0, 0, 1, 0, 1,\n",
              "       0, 0, 1, 0, 0, 1, 0, 0, 0, 0, 0, 0, 1, 1, 0, 0, 0, 0, 0, 0, 0, 0,\n",
              "       0, 0, 0, 0, 1, 1, 1, 0, 0, 0, 0, 0, 0, 0, 0, 0, 0, 0, 0, 0, 0, 0,\n",
              "       0, 0, 0, 0, 0, 1, 1, 1, 0, 0, 0, 1, 1, 0, 1, 0, 0, 0, 0, 0, 0, 1,\n",
              "       0, 0, 0, 0, 1, 0, 1, 1, 0, 1, 0, 0, 0, 0, 1, 0, 0, 0, 1, 1, 0, 1,\n",
              "       0, 0, 1, 1, 1, 1, 0, 0, 0, 1, 0, 0, 0, 0, 0, 0, 0, 0, 0, 0, 1, 1,\n",
              "       0, 1, 0, 0, 0, 1, 0, 0, 0, 0, 0, 1, 1, 1, 1, 1, 0, 0, 1, 1, 1, 0,\n",
              "       0, 0, 1, 1, 0, 0, 1, 0, 0, 1, 0, 0, 0, 0, 1, 1, 0, 0, 0, 0, 0, 1,\n",
              "       0, 1, 0, 0, 0, 0, 0, 1, 0, 0, 0, 0, 0, 1, 0, 0, 1, 0, 0, 1, 0, 0,\n",
              "       0, 1, 0, 0, 0, 0, 0, 0, 1, 0, 1, 1, 1, 1, 0, 0, 1, 1, 0, 0, 0, 0,\n",
              "       0, 1, 1, 1, 0, 0, 1, 0, 1, 0, 0, 0, 0, 0, 0, 0, 0, 0, 0, 1, 1, 0,\n",
              "       0, 1, 0, 1, 0, 1, 0, 0, 0, 0, 0, 0, 1, 1, 1, 0, 1, 1, 0, 0, 1, 1,\n",
              "       1, 0, 0, 0, 0, 0, 1, 0, 0, 0, 1, 0, 0, 1, 0, 0, 0, 0, 0, 0, 0, 0,\n",
              "       0, 0, 0, 1, 1, 0, 0, 0, 1, 1, 1, 0, 1, 0, 0, 1, 0, 1, 0, 0, 1, 0,\n",
              "       0, 1, 0, 1, 1, 0, 1, 0, 0, 0, 0, 0, 0, 0, 0, 1, 1, 1, 1, 0, 0, 0,\n",
              "       0, 0, 1, 0, 1, 0, 0, 0, 0, 0, 0, 0, 1, 0, 0, 0, 0, 0, 0, 1, 0, 0,\n",
              "       0, 0, 1, 0, 0, 0, 0, 0, 1, 1, 0, 0, 0, 0, 1, 0, 1, 1, 0, 0, 0, 0,\n",
              "       0, 0, 0, 1, 0, 0, 0, 0, 1, 1, 1, 0, 1, 1, 1, 1, 1, 0, 0, 0, 1, 0,\n",
              "       0, 0, 0, 0, 0, 0, 0, 0, 1, 0, 0, 0, 0, 0, 1, 0, 0, 0, 0, 1, 0, 0,\n",
              "       0, 0, 1, 0, 0, 1, 1, 1, 1, 1, 0, 0, 0, 1, 1, 0, 0, 1, 0, 0, 0, 0,\n",
              "       0, 0, 0, 0, 1, 0, 1, 1, 0, 0, 0, 1, 0, 0])"
            ]
          },
          "metadata": {},
          "execution_count": 47
        }
      ]
    },
    {
      "cell_type": "code",
      "source": [
        "from sklearn.metrics import accuracy_score , precision_recall_fscore_support , classification_report , confusion_matrix\n",
        "print(accuracy_score(Val_pred , Val_label))\n",
        "print(confusion_matrix(Val_pred , Val_label))"
      ],
      "metadata": {
        "colab": {
          "base_uri": "https://localhost:8080/"
        },
        "id": "y389ZAkmQZQo",
        "outputId": "981e9fd4-02a4-4a67-d43a-c4255ab39a85"
      },
      "execution_count": 48,
      "outputs": [
        {
          "output_type": "stream",
          "name": "stdout",
          "text": [
            "0.7926509186351706\n",
            "[[386 130]\n",
            " [ 28 218]]\n"
          ]
        }
      ]
    },
    {
      "cell_type": "code",
      "source": [
        "model_precision, model_recall, model_f1, _ = precision_recall_fscore_support(Val_pred , Val_label, average=\"weighted\")"
      ],
      "metadata": {
        "id": "_k-EigS6RP5N"
      },
      "execution_count": 49,
      "outputs": []
    },
    {
      "cell_type": "code",
      "source": [
        "model_precision"
      ],
      "metadata": {
        "colab": {
          "base_uri": "https://localhost:8080/"
        },
        "id": "72y1bNp1Rd6u",
        "outputId": "cd7ceb64-54f9-4374-b991-cf48befdf7db"
      },
      "execution_count": 50,
      "outputs": [
        {
          "output_type": "execute_result",
          "data": {
            "text/plain": [
              "0.8336022277575122"
            ]
          },
          "metadata": {},
          "execution_count": 50
        }
      ]
    },
    {
      "cell_type": "code",
      "source": [
        "model_recall"
      ],
      "metadata": {
        "colab": {
          "base_uri": "https://localhost:8080/"
        },
        "id": "v5_qXrqjRvcj",
        "outputId": "3bd95919-30f1-4d2d-ba51-159d54c1426d"
      },
      "execution_count": 51,
      "outputs": [
        {
          "output_type": "execute_result",
          "data": {
            "text/plain": [
              "0.7926509186351706"
            ]
          },
          "metadata": {},
          "execution_count": 51
        }
      ]
    },
    {
      "cell_type": "code",
      "source": [
        "model_f1"
      ],
      "metadata": {
        "colab": {
          "base_uri": "https://localhost:8080/"
        },
        "id": "8hviLCviRwdX",
        "outputId": "cd3599b2-abeb-47a8-f9b0-426583b005e5"
      },
      "execution_count": 52,
      "outputs": [
        {
          "output_type": "execute_result",
          "data": {
            "text/plain": [
              "0.7990828614653861"
            ]
          },
          "metadata": {},
          "execution_count": 52
        }
      ]
    },
    {
      "cell_type": "code",
      "source": [
        "def calculate_results(y_true, y_pred):\n",
        "  \"\"\"\n",
        "  Calculates model accuracy, precision, recall and f1 score of a binary classification model.\n",
        "\n",
        "  Args:\n",
        "  -----\n",
        "  y_true = true labels in the form of a 1D array\n",
        "  y_pred = predicted labels in the form of a 1D array\n",
        "\n",
        "  Returns a dictionary of accuracy, precision, recall, f1-score.\n",
        "  \"\"\"\n",
        "  # Calculate model accuracy\n",
        "  model_accuracy = accuracy_score(y_true, y_pred) * 100\n",
        "  # Calculate model precision, recall and f1 score using \"weighted\" average\n",
        "  model_precision, model_recall, model_f1, _ = precision_recall_fscore_support(y_true, y_pred, average=\"weighted\")\n",
        "  model_results = {\"accuracy\": model_accuracy,\n",
        "                  \"precision\": model_precision,\n",
        "                  \"recall\": model_recall,\n",
        "                  \"f1\": model_f1}\n",
        "  return model_results"
      ],
      "metadata": {
        "id": "LHn0F3VXRxnF"
      },
      "execution_count": 53,
      "outputs": []
    },
    {
      "cell_type": "code",
      "source": [
        "model_0_results = calculate_results(y_true = Val_label , y_pred = Val_pred)\n",
        "model_0_results"
      ],
      "metadata": {
        "colab": {
          "base_uri": "https://localhost:8080/"
        },
        "id": "7_jkpp5bfryf",
        "outputId": "a5336c61-794f-4464-8d97-4ae6c015c9e5"
      },
      "execution_count": 54,
      "outputs": [
        {
          "output_type": "execute_result",
          "data": {
            "text/plain": [
              "{'accuracy': 79.26509186351706,\n",
              " 'precision': 0.8111390004213173,\n",
              " 'recall': 0.7926509186351706,\n",
              " 'f1': 0.7862189758049549}"
            ]
          },
          "metadata": {},
          "execution_count": 54
        }
      ]
    },
    {
      "cell_type": "code",
      "source": [],
      "metadata": {
        "id": "m-wFeOzyf0Lc"
      },
      "execution_count": 54,
      "outputs": []
    },
    {
      "cell_type": "markdown",
      "source": [
        "## **Model 1 : A simple Dense Model**"
      ],
      "metadata": {
        "id": "5i-wv8Hif53m"
      }
    },
    {
      "cell_type": "code",
      "source": [
        "# Create tensorboard callback (need to create a new one for each model)\n",
        "from helper_functions import create_tensorboard_callback\n",
        "\n",
        "# Create directory to save TensorBoard logs\n",
        "SAVE_DIR = \"model_logs\""
      ],
      "metadata": {
        "id": "xacIUwpvgDRt"
      },
      "execution_count": 55,
      "outputs": []
    },
    {
      "cell_type": "code",
      "source": [
        "from tensorflow.keras import layers\n",
        "from tensorflow.keras.models import Model\n",
        "input = layers.Input(shape = (1,) , dtype = \"string\" )\n",
        "x = text_vectorizer(input)\n",
        "x = embedding(x)\n",
        "output = layers.Dense(units = 1 , activation = \"sigmoid\")(x)\n",
        "model_1 = Model(input , output , name = \"model_1_dense\")"
      ],
      "metadata": {
        "id": "zinmduwOgPNs"
      },
      "execution_count": 56,
      "outputs": []
    },
    {
      "cell_type": "code",
      "source": [
        "model_1"
      ],
      "metadata": {
        "colab": {
          "base_uri": "https://localhost:8080/"
        },
        "id": "F09gilWZiSFd",
        "outputId": "101bc387-2664-4fdc-b3ff-d12ab2ada5ca"
      },
      "execution_count": 57,
      "outputs": [
        {
          "output_type": "execute_result",
          "data": {
            "text/plain": [
              "<keras.engine.functional.Functional at 0x7fa3d269ca00>"
            ]
          },
          "metadata": {},
          "execution_count": 57
        }
      ]
    },
    {
      "cell_type": "code",
      "source": [
        "model_1.summary()"
      ],
      "metadata": {
        "colab": {
          "base_uri": "https://localhost:8080/"
        },
        "id": "hzFJlpGHjQ9-",
        "outputId": "455a4f50-a853-4b86-900e-0f28f2d58f89"
      },
      "execution_count": 58,
      "outputs": [
        {
          "output_type": "stream",
          "name": "stdout",
          "text": [
            "Model: \"model_1_dense\"\n",
            "_________________________________________________________________\n",
            " Layer (type)                Output Shape              Param #   \n",
            "=================================================================\n",
            " input_1 (InputLayer)        [(None, 1)]               0         \n",
            "                                                                 \n",
            " text_vectorization_1 (TextV  (None, 15)               0         \n",
            " ectorization)                                                   \n",
            "                                                                 \n",
            " embedding_1 (Embedding)     (None, 15, 128)           1280000   \n",
            "                                                                 \n",
            " dense (Dense)               (None, 15, 1)             129       \n",
            "                                                                 \n",
            "=================================================================\n",
            "Total params: 1,280,129\n",
            "Trainable params: 1,280,129\n",
            "Non-trainable params: 0\n",
            "_________________________________________________________________\n"
          ]
        }
      ]
    },
    {
      "cell_type": "code",
      "source": [
        "from keras.optimizers import adam\n",
        "model_1.compile(loss = \"binary_crossentropy\" , metrics = [\"accuracy\"] , optimizer = \"adam\")"
      ],
      "metadata": {
        "id": "ypNePO7ojTgF"
      },
      "execution_count": 59,
      "outputs": []
    },
    {
      "cell_type": "code",
      "source": [
        "model_1_history = model_1.fit(train_sentence , train_label , epochs = 5 , validation_data = (Val_sentence , Val_label) ,\n",
        "        callbacks = [create_tensorboard_callback(dir_name = SAVE_DIR ,\n",
        "                                                 experiment_name = \"simple_dense_model\")])"
      ],
      "metadata": {
        "colab": {
          "base_uri": "https://localhost:8080/"
        },
        "id": "9ogceIZZjqhi",
        "outputId": "dc4e9db5-fabf-4874-aa63-ef0d07972a39"
      },
      "execution_count": 60,
      "outputs": [
        {
          "output_type": "stream",
          "name": "stdout",
          "text": [
            "Saving TensorBoard log files to: model_logs/simple_dense_model/20230618-034936\n",
            "Epoch 1/5\n",
            "215/215 [==============================] - 34s 126ms/step - loss: 0.6488 - accuracy: 0.6405 - val_loss: 0.6308 - val_accuracy: 0.6485\n",
            "Epoch 2/5\n",
            "215/215 [==============================] - 3s 12ms/step - loss: 0.5967 - accuracy: 0.6897 - val_loss: 0.6232 - val_accuracy: 0.6460\n",
            "Epoch 3/5\n",
            "215/215 [==============================] - 2s 11ms/step - loss: 0.5766 - accuracy: 0.6922 - val_loss: 0.6278 - val_accuracy: 0.6461\n",
            "Epoch 4/5\n",
            "215/215 [==============================] - 3s 13ms/step - loss: 0.5683 - accuracy: 0.6918 - val_loss: 0.6291 - val_accuracy: 0.6499\n",
            "Epoch 5/5\n",
            "215/215 [==============================] - 2s 10ms/step - loss: 0.5632 - accuracy: 0.6923 - val_loss: 0.6320 - val_accuracy: 0.6454\n"
          ]
        }
      ]
    },
    {
      "cell_type": "code",
      "source": [
        "loss_accuracy = model_1.evaluate(Val_sentence , Val_label)\n",
        "print(\"Accuracy : \" , loss_accuracy[1]*100)\n",
        "print(\"Loss : \" , loss_accuracy[0])"
      ],
      "metadata": {
        "colab": {
          "base_uri": "https://localhost:8080/"
        },
        "id": "P0JDHu_JjWZK",
        "outputId": "4fdf9bb4-6c43-41d6-d086-e188af78c4ea"
      },
      "execution_count": 61,
      "outputs": [
        {
          "output_type": "stream",
          "name": "stdout",
          "text": [
            "24/24 [==============================] - 0s 3ms/step - loss: 0.6320 - accuracy: 0.6454\n",
            "Accuracy :  64.54069018363953\n",
            "Loss :  0.631952702999115\n"
          ]
        }
      ]
    },
    {
      "cell_type": "code",
      "source": [],
      "metadata": {
        "id": "mhVk6yxZkqqZ"
      },
      "execution_count": 61,
      "outputs": []
    },
    {
      "cell_type": "code",
      "source": [],
      "metadata": {
        "id": "cIflrec3kzue"
      },
      "execution_count": 61,
      "outputs": []
    },
    {
      "cell_type": "code",
      "source": [
        "from tensorflow.keras import layers\n",
        "from tensorflow.keras.models import Model\n",
        "input = layers.Input(shape = (1,) , dtype = \"string\" )\n",
        "x = text_vectorizer(input)\n",
        "x = embedding(x)\n",
        "x = layers.MaxPooling1D()(x)\n",
        "output = layers.Dense(units = 1 , activation = \"sigmoid\")(x)\n",
        "model_1 = Model(input , output , name = \"model_1_dense\")\n",
        "\n",
        "from keras.optimizers import adam\n",
        "model_1.compile(loss = \"binary_crossentropy\" , metrics = [\"accuracy\"] , optimizer = \"adam\")\n",
        "\n",
        "model_1_history = model_1.fit(train_sentence , train_label , epochs = 5 , validation_data = (Val_sentence , Val_label) ,\n",
        "        callbacks = [create_tensorboard_callback(dir_name = SAVE_DIR ,\n",
        "                                                 experiment_name = \"simple_dense_model\")])"
      ],
      "metadata": {
        "colab": {
          "base_uri": "https://localhost:8080/"
        },
        "id": "LNr1O6u9kzwt",
        "outputId": "cbe7ba9a-c419-49f2-b13e-6062e8d74e20"
      },
      "execution_count": 62,
      "outputs": [
        {
          "output_type": "stream",
          "name": "stdout",
          "text": [
            "Saving TensorBoard log files to: model_logs/simple_dense_model/20230618-035020\n",
            "Epoch 1/5\n",
            "215/215 [==============================] - 12s 49ms/step - loss: 0.5781 - accuracy: 0.7434 - val_loss: 0.5834 - val_accuracy: 0.6985\n",
            "Epoch 2/5\n",
            "215/215 [==============================] - 2s 11ms/step - loss: 0.4917 - accuracy: 0.7607 - val_loss: 0.5855 - val_accuracy: 0.6984\n",
            "Epoch 3/5\n",
            "215/215 [==============================] - 2s 10ms/step - loss: 0.4640 - accuracy: 0.7699 - val_loss: 0.5996 - val_accuracy: 0.6989\n",
            "Epoch 4/5\n",
            "215/215 [==============================] - 2s 8ms/step - loss: 0.4471 - accuracy: 0.7767 - val_loss: 0.6087 - val_accuracy: 0.6991\n",
            "Epoch 5/5\n",
            "215/215 [==============================] - 2s 10ms/step - loss: 0.4325 - accuracy: 0.7825 - val_loss: 0.6191 - val_accuracy: 0.7013\n"
          ]
        }
      ]
    },
    {
      "cell_type": "code",
      "source": [
        "model_1.summary()"
      ],
      "metadata": {
        "colab": {
          "base_uri": "https://localhost:8080/"
        },
        "id": "v58g41ONlr_F",
        "outputId": "d3a5002e-d7e6-477b-bf59-64a9c3f09ff4"
      },
      "execution_count": 63,
      "outputs": [
        {
          "output_type": "stream",
          "name": "stdout",
          "text": [
            "Model: \"model_1_dense\"\n",
            "_________________________________________________________________\n",
            " Layer (type)                Output Shape              Param #   \n",
            "=================================================================\n",
            " input_2 (InputLayer)        [(None, 1)]               0         \n",
            "                                                                 \n",
            " text_vectorization_1 (TextV  (None, 15)               0         \n",
            " ectorization)                                                   \n",
            "                                                                 \n",
            " embedding_1 (Embedding)     (None, 15, 128)           1280000   \n",
            "                                                                 \n",
            " max_pooling1d (MaxPooling1D  (None, 7, 128)           0         \n",
            " )                                                               \n",
            "                                                                 \n",
            " dense_1 (Dense)             (None, 7, 1)              129       \n",
            "                                                                 \n",
            "=================================================================\n",
            "Total params: 1,280,129\n",
            "Trainable params: 1,280,129\n",
            "Non-trainable params: 0\n",
            "_________________________________________________________________\n"
          ]
        }
      ]
    },
    {
      "cell_type": "code",
      "source": [
        "loss_accuracy = model_1.evaluate(Val_sentence , Val_label)\n",
        "print(\"Accuracy : \" , loss_accuracy[1]*100)\n",
        "print(\"Loss : \" , loss_accuracy[0])"
      ],
      "metadata": {
        "colab": {
          "base_uri": "https://localhost:8080/"
        },
        "id": "zIqZqIM9lJsJ",
        "outputId": "46d1773d-74af-48af-bdb0-90778b0de984"
      },
      "execution_count": 64,
      "outputs": [
        {
          "output_type": "stream",
          "name": "stdout",
          "text": [
            "24/24 [==============================] - 0s 3ms/step - loss: 0.6191 - accuracy: 0.7013\n",
            "Accuracy :  70.13498544692993\n",
            "Loss :  0.6190705299377441\n"
          ]
        }
      ]
    },
    {
      "cell_type": "code",
      "source": [],
      "metadata": {
        "id": "wWPQwk9flSzV"
      },
      "execution_count": 64,
      "outputs": []
    },
    {
      "cell_type": "code",
      "source": [],
      "metadata": {
        "id": "fInOpyLMlS2Y"
      },
      "execution_count": 64,
      "outputs": []
    },
    {
      "cell_type": "code",
      "source": [
        "from tensorflow.keras import layers\n",
        "from tensorflow.keras.models import Model\n",
        "input = layers.Input(shape = (1,) , dtype = \"string\" )\n",
        "x = text_vectorizer(input)\n",
        "x = embedding(x)\n",
        "x = layers.AveragePooling1D()(x)\n",
        "output = layers.Dense(units = 1 , activation = \"sigmoid\")(x)\n",
        "model_1 = Model(input , output , name = \"model_1_dense\")\n",
        "\n",
        "from keras.optimizers import adam\n",
        "model_1.compile(loss = \"binary_crossentropy\" , metrics = [\"accuracy\"] , optimizer = \"adam\")\n",
        "\n",
        "model_1_history = model_1.fit(train_sentence , train_label , epochs = 5 , validation_data = (Val_sentence , Val_label) ,\n",
        "        callbacks = [create_tensorboard_callback(dir_name = SAVE_DIR ,\n",
        "                                                 experiment_name = \"simple_dense_model\")])"
      ],
      "metadata": {
        "colab": {
          "base_uri": "https://localhost:8080/"
        },
        "id": "VpXRhfivlS6L",
        "outputId": "a31d52d6-493f-40ce-bf7a-dbd1420660c6"
      },
      "execution_count": 65,
      "outputs": [
        {
          "output_type": "stream",
          "name": "stdout",
          "text": [
            "Saving TensorBoard log files to: model_logs/simple_dense_model/20230618-035042\n",
            "Epoch 1/5\n",
            "215/215 [==============================] - 11s 47ms/step - loss: 0.5744 - accuracy: 0.7346 - val_loss: 0.5858 - val_accuracy: 0.6935\n",
            "Epoch 2/5\n",
            "215/215 [==============================] - 3s 12ms/step - loss: 0.4934 - accuracy: 0.7579 - val_loss: 0.5900 - val_accuracy: 0.6957\n",
            "Epoch 3/5\n",
            "215/215 [==============================] - 2s 10ms/step - loss: 0.4766 - accuracy: 0.7611 - val_loss: 0.6040 - val_accuracy: 0.6914\n",
            "Epoch 4/5\n",
            "215/215 [==============================] - 2s 8ms/step - loss: 0.4696 - accuracy: 0.7624 - val_loss: 0.6111 - val_accuracy: 0.6914\n",
            "Epoch 5/5\n",
            "215/215 [==============================] - 2s 9ms/step - loss: 0.4644 - accuracy: 0.7637 - val_loss: 0.6181 - val_accuracy: 0.6905\n"
          ]
        }
      ]
    },
    {
      "cell_type": "code",
      "source": [
        "model_1.summary()"
      ],
      "metadata": {
        "colab": {
          "base_uri": "https://localhost:8080/"
        },
        "id": "Vqocnj0TlwFC",
        "outputId": "2c6e2a3a-b28c-427e-f683-61fb4f1c640b"
      },
      "execution_count": 66,
      "outputs": [
        {
          "output_type": "stream",
          "name": "stdout",
          "text": [
            "Model: \"model_1_dense\"\n",
            "_________________________________________________________________\n",
            " Layer (type)                Output Shape              Param #   \n",
            "=================================================================\n",
            " input_3 (InputLayer)        [(None, 1)]               0         \n",
            "                                                                 \n",
            " text_vectorization_1 (TextV  (None, 15)               0         \n",
            " ectorization)                                                   \n",
            "                                                                 \n",
            " embedding_1 (Embedding)     (None, 15, 128)           1280000   \n",
            "                                                                 \n",
            " average_pooling1d (AverageP  (None, 7, 128)           0         \n",
            " ooling1D)                                                       \n",
            "                                                                 \n",
            " dense_2 (Dense)             (None, 7, 1)              129       \n",
            "                                                                 \n",
            "=================================================================\n",
            "Total params: 1,280,129\n",
            "Trainable params: 1,280,129\n",
            "Non-trainable params: 0\n",
            "_________________________________________________________________\n"
          ]
        }
      ]
    },
    {
      "cell_type": "code",
      "source": [
        "loss_accuracy = model_1.evaluate(Val_sentence , Val_label)\n",
        "print(\"Accuracy : \" , loss_accuracy[1]*100)\n",
        "print(\"Loss : \" , loss_accuracy[0])"
      ],
      "metadata": {
        "colab": {
          "base_uri": "https://localhost:8080/"
        },
        "id": "iVfp7sEZlZDL",
        "outputId": "3bb3beef-047a-48e0-d362-9f8eab7272d7"
      },
      "execution_count": 67,
      "outputs": [
        {
          "output_type": "stream",
          "name": "stdout",
          "text": [
            "24/24 [==============================] - 0s 3ms/step - loss: 0.6181 - accuracy: 0.6905\n",
            "Accuracy :  69.04762387275696\n",
            "Loss :  0.6181015372276306\n"
          ]
        }
      ]
    },
    {
      "cell_type": "code",
      "source": [],
      "metadata": {
        "id": "I47bcf5flZ0b"
      },
      "execution_count": 67,
      "outputs": []
    },
    {
      "cell_type": "code",
      "source": [],
      "metadata": {
        "id": "1nnGuJwZlyya"
      },
      "execution_count": 67,
      "outputs": []
    },
    {
      "cell_type": "code",
      "source": [],
      "metadata": {
        "id": "MClbIzmIly0w"
      },
      "execution_count": 67,
      "outputs": []
    },
    {
      "cell_type": "code",
      "source": [
        "from tensorflow.keras import layers\n",
        "from tensorflow.keras.models import Model\n",
        "input = layers.Input(shape = (1,) , dtype = \"string\" )\n",
        "x = text_vectorizer(input)\n",
        "x = embedding(x)\n",
        "x = layers.GlobalAveragePooling1D()(x)\n",
        "output = layers.Dense(units = 1 , activation = \"sigmoid\")(x)\n",
        "model_1 = Model(input , output , name = \"model_1_dense\")\n",
        "\n",
        "from keras.optimizers import adam\n",
        "model_1.compile(loss = \"binary_crossentropy\" , metrics = [\"accuracy\"] , optimizer = \"adam\")\n",
        "\n",
        "model_1_history = model_1.fit(train_sentence , train_label , epochs = 5 , validation_data = (Val_sentence , Val_label) ,\n",
        "        callbacks = [create_tensorboard_callback(dir_name = SAVE_DIR ,\n",
        "                                                 experiment_name = \"simple_dense_model\")])"
      ],
      "metadata": {
        "colab": {
          "base_uri": "https://localhost:8080/"
        },
        "id": "-7UHCQDxly3Q",
        "outputId": "a625a52b-c1cf-4272-c86c-1761c446ec89"
      },
      "execution_count": 68,
      "outputs": [
        {
          "output_type": "stream",
          "name": "stdout",
          "text": [
            "Saving TensorBoard log files to: model_logs/simple_dense_model/20230618-035101\n",
            "Epoch 1/5\n",
            "215/215 [==============================] - 13s 57ms/step - loss: 0.5141 - accuracy: 0.8272 - val_loss: 0.4965 - val_accuracy: 0.7795\n",
            "Epoch 2/5\n",
            "215/215 [==============================] - 3s 12ms/step - loss: 0.3346 - accuracy: 0.8854 - val_loss: 0.4549 - val_accuracy: 0.7848\n",
            "Epoch 3/5\n",
            "215/215 [==============================] - 3s 12ms/step - loss: 0.2651 - accuracy: 0.9050 - val_loss: 0.4559 - val_accuracy: 0.7887\n",
            "Epoch 4/5\n",
            "215/215 [==============================] - 2s 8ms/step - loss: 0.2239 - accuracy: 0.9215 - val_loss: 0.4673 - val_accuracy: 0.7887\n",
            "Epoch 5/5\n",
            "215/215 [==============================] - 2s 8ms/step - loss: 0.1936 - accuracy: 0.9324 - val_loss: 0.4838 - val_accuracy: 0.7835\n"
          ]
        }
      ]
    },
    {
      "cell_type": "code",
      "source": [
        "model_1.summary()"
      ],
      "metadata": {
        "colab": {
          "base_uri": "https://localhost:8080/"
        },
        "id": "qV8ZzH_vl_JD",
        "outputId": "573fa99f-a3a2-4c26-db36-9d02de70c334"
      },
      "execution_count": 69,
      "outputs": [
        {
          "output_type": "stream",
          "name": "stdout",
          "text": [
            "Model: \"model_1_dense\"\n",
            "_________________________________________________________________\n",
            " Layer (type)                Output Shape              Param #   \n",
            "=================================================================\n",
            " input_4 (InputLayer)        [(None, 1)]               0         \n",
            "                                                                 \n",
            " text_vectorization_1 (TextV  (None, 15)               0         \n",
            " ectorization)                                                   \n",
            "                                                                 \n",
            " embedding_1 (Embedding)     (None, 15, 128)           1280000   \n",
            "                                                                 \n",
            " global_average_pooling1d (G  (None, 128)              0         \n",
            " lobalAveragePooling1D)                                          \n",
            "                                                                 \n",
            " dense_3 (Dense)             (None, 1)                 129       \n",
            "                                                                 \n",
            "=================================================================\n",
            "Total params: 1,280,129\n",
            "Trainable params: 1,280,129\n",
            "Non-trainable params: 0\n",
            "_________________________________________________________________\n"
          ]
        }
      ]
    },
    {
      "cell_type": "code",
      "source": [
        "loss_accuracy = model_1.evaluate(Val_sentence , Val_label)\n",
        "print(\"Accuracy : \" , loss_accuracy[1]*100)\n",
        "print(\"Loss : \" , loss_accuracy[0])"
      ],
      "metadata": {
        "colab": {
          "base_uri": "https://localhost:8080/"
        },
        "id": "xeYM1lNimBMS",
        "outputId": "7bf4c7dd-090f-48aa-9754-3eb344673971"
      },
      "execution_count": 70,
      "outputs": [
        {
          "output_type": "stream",
          "name": "stdout",
          "text": [
            "24/24 [==============================] - 0s 3ms/step - loss: 0.4838 - accuracy: 0.7835\n",
            "Accuracy :  78.34645509719849\n",
            "Loss :  0.4838196337223053\n"
          ]
        }
      ]
    },
    {
      "cell_type": "code",
      "source": [],
      "metadata": {
        "id": "CR8_dNqUmCe-"
      },
      "execution_count": 70,
      "outputs": []
    },
    {
      "cell_type": "code",
      "source": [],
      "metadata": {
        "id": "6gz32owfmSHz"
      },
      "execution_count": 70,
      "outputs": []
    },
    {
      "cell_type": "code",
      "source": [
        "embedding.weights"
      ],
      "metadata": {
        "colab": {
          "base_uri": "https://localhost:8080/"
        },
        "id": "muznE0kvmSMI",
        "outputId": "0717b1e0-72b4-4330-f07b-482d0e1906c3"
      },
      "execution_count": 71,
      "outputs": [
        {
          "output_type": "execute_result",
          "data": {
            "text/plain": [
              "[<tf.Variable 'embedding_1/embeddings:0' shape=(10000, 128) dtype=float32, numpy=\n",
              " array([[-0.00448153, -0.0065466 , -0.04476688, ..., -0.116086  ,\n",
              "         -0.02483549, -0.02369872],\n",
              "        [-0.1214218 ,  0.02450966, -0.1466042 , ...,  0.02894582,\n",
              "         -0.11967384, -0.06792917],\n",
              "        [-0.07285535, -0.00326913, -0.01287363, ...,  0.02379862,\n",
              "         -0.06824671,  0.06751571],\n",
              "        ...,\n",
              "        [-0.00140563,  0.01724893,  0.00605804, ...,  0.0181219 ,\n",
              "          0.03712865,  0.01700327],\n",
              "        [-0.16985005,  0.14899829,  0.1693085 , ...,  0.09578235,\n",
              "          0.14612135,  0.19143368],\n",
              "        [-0.12654418,  0.12962884,  0.22858174, ...,  0.16016985,\n",
              "          0.15249085,  0.15665364]], dtype=float32)>]"
            ]
          },
          "metadata": {},
          "execution_count": 71
        }
      ]
    },
    {
      "cell_type": "code",
      "source": [
        "embedded_wt = model_1.get_layer(\"embedding_1\").get_weights()[0]\n",
        "embedded_wt"
      ],
      "metadata": {
        "colab": {
          "base_uri": "https://localhost:8080/"
        },
        "id": "McgWSSXTmVos",
        "outputId": "5e23970d-18d1-4ac1-cf21-fd89dfaf8cb9"
      },
      "execution_count": 72,
      "outputs": [
        {
          "output_type": "execute_result",
          "data": {
            "text/plain": [
              "array([[-0.00448153, -0.0065466 , -0.04476688, ..., -0.116086  ,\n",
              "        -0.02483549, -0.02369872],\n",
              "       [-0.1214218 ,  0.02450966, -0.1466042 , ...,  0.02894582,\n",
              "        -0.11967384, -0.06792917],\n",
              "       [-0.07285535, -0.00326913, -0.01287363, ...,  0.02379862,\n",
              "        -0.06824671,  0.06751571],\n",
              "       ...,\n",
              "       [-0.00140563,  0.01724893,  0.00605804, ...,  0.0181219 ,\n",
              "         0.03712865,  0.01700327],\n",
              "       [-0.16985005,  0.14899829,  0.1693085 , ...,  0.09578235,\n",
              "         0.14612135,  0.19143368],\n",
              "       [-0.12654418,  0.12962884,  0.22858174, ...,  0.16016985,\n",
              "         0.15249085,  0.15665364]], dtype=float32)"
            ]
          },
          "metadata": {},
          "execution_count": 72
        }
      ]
    },
    {
      "cell_type": "code",
      "source": [
        "embedded_wt.shape"
      ],
      "metadata": {
        "colab": {
          "base_uri": "https://localhost:8080/"
        },
        "id": "maf2UtInmvf-",
        "outputId": "3a9ac6c0-0150-47f9-c28b-a5981a98f9ac"
      },
      "execution_count": 73,
      "outputs": [
        {
          "output_type": "execute_result",
          "data": {
            "text/plain": [
              "(10000, 128)"
            ]
          },
          "metadata": {},
          "execution_count": 73
        }
      ]
    },
    {
      "cell_type": "code",
      "source": [
        "model_1_pred = model_1.predict(Val_sentence)\n",
        "model_1_pred"
      ],
      "metadata": {
        "colab": {
          "base_uri": "https://localhost:8080/"
        },
        "id": "athzk4Y7mzr-",
        "outputId": "0a8106e6-3ff6-4687-c6c9-e42188dcac9b"
      },
      "execution_count": 74,
      "outputs": [
        {
          "output_type": "stream",
          "name": "stdout",
          "text": [
            "24/24 [==============================] - 0s 2ms/step\n"
          ]
        },
        {
          "output_type": "execute_result",
          "data": {
            "text/plain": [
              "array([[2.47631341e-01],\n",
              "       [7.65910149e-01],\n",
              "       [9.99101043e-01],\n",
              "       [1.51113912e-01],\n",
              "       [8.20888206e-02],\n",
              "       [9.54422772e-01],\n",
              "       [8.90529096e-01],\n",
              "       [9.98790324e-01],\n",
              "       [9.85059023e-01],\n",
              "       [1.95049509e-01],\n",
              "       [8.05042535e-02],\n",
              "       [7.34413683e-01],\n",
              "       [9.76130217e-02],\n",
              "       [2.00237483e-01],\n",
              "       [1.78847718e-03],\n",
              "       [1.68412641e-01],\n",
              "       [5.11925109e-02],\n",
              "       [9.38349590e-02],\n",
              "       [2.84602612e-01],\n",
              "       [5.93938231e-01],\n",
              "       [9.26948547e-01],\n",
              "       [2.59554572e-02],\n",
              "       [5.71498811e-01],\n",
              "       [1.13066085e-01],\n",
              "       [9.75460231e-01],\n",
              "       [9.99399424e-01],\n",
              "       [3.72249074e-02],\n",
              "       [1.30329132e-01],\n",
              "       [4.29330021e-02],\n",
              "       [3.59735668e-01],\n",
              "       [4.50375676e-01],\n",
              "       [1.69161931e-01],\n",
              "       [5.13345718e-01],\n",
              "       [1.24050654e-01],\n",
              "       [5.88641584e-01],\n",
              "       [6.41887113e-02],\n",
              "       [9.92861569e-01],\n",
              "       [1.65387243e-01],\n",
              "       [2.84813587e-02],\n",
              "       [9.98955727e-01],\n",
              "       [2.51275629e-01],\n",
              "       [3.80382426e-02],\n",
              "       [3.82596314e-01],\n",
              "       [7.35050887e-02],\n",
              "       [6.91378295e-01],\n",
              "       [9.79000390e-01],\n",
              "       [4.19574261e-01],\n",
              "       [9.61760879e-01],\n",
              "       [2.25214437e-01],\n",
              "       [5.95709145e-01],\n",
              "       [1.11966774e-01],\n",
              "       [5.85192442e-01],\n",
              "       [4.90490794e-01],\n",
              "       [5.88542074e-02],\n",
              "       [2.13097006e-01],\n",
              "       [4.50980589e-02],\n",
              "       [1.86671495e-01],\n",
              "       [9.85264361e-01],\n",
              "       [1.19500719e-01],\n",
              "       [3.99048300e-03],\n",
              "       [2.24529386e-01],\n",
              "       [9.76933539e-01],\n",
              "       [9.23803747e-01],\n",
              "       [2.07951024e-01],\n",
              "       [9.09407735e-01],\n",
              "       [9.93799388e-01],\n",
              "       [6.76264882e-01],\n",
              "       [3.21312696e-01],\n",
              "       [1.32209867e-01],\n",
              "       [2.14569539e-01],\n",
              "       [9.05884057e-02],\n",
              "       [5.40472008e-02],\n",
              "       [9.51948702e-01],\n",
              "       [1.18425734e-01],\n",
              "       [1.77378014e-01],\n",
              "       [5.62694311e-01],\n",
              "       [3.39351952e-01],\n",
              "       [8.08728874e-01],\n",
              "       [3.06473821e-01],\n",
              "       [4.43419009e-01],\n",
              "       [4.81719762e-01],\n",
              "       [2.20167637e-01],\n",
              "       [9.98486996e-01],\n",
              "       [1.26755655e-01],\n",
              "       [1.59460515e-01],\n",
              "       [1.29768953e-01],\n",
              "       [1.70946494e-02],\n",
              "       [6.73005953e-02],\n",
              "       [6.24061286e-01],\n",
              "       [9.56598878e-01],\n",
              "       [9.91480947e-01],\n",
              "       [1.19660245e-02],\n",
              "       [6.40118361e-01],\n",
              "       [2.44253166e-02],\n",
              "       [9.92149472e-01],\n",
              "       [7.59912729e-01],\n",
              "       [8.30800891e-01],\n",
              "       [9.81571794e-01],\n",
              "       [8.82812500e-01],\n",
              "       [9.48950768e-01],\n",
              "       [9.99856830e-01],\n",
              "       [1.71835959e-01],\n",
              "       [8.85882694e-03],\n",
              "       [9.02826130e-01],\n",
              "       [8.86530638e-01],\n",
              "       [1.14264764e-01],\n",
              "       [8.05257082e-01],\n",
              "       [9.76916015e-01],\n",
              "       [5.03423028e-02],\n",
              "       [6.20665014e-01],\n",
              "       [7.80378819e-01],\n",
              "       [4.18184809e-02],\n",
              "       [3.01323354e-01],\n",
              "       [1.34007663e-01],\n",
              "       [4.90760617e-02],\n",
              "       [4.16844994e-01],\n",
              "       [4.94906396e-01],\n",
              "       [7.76549041e-01],\n",
              "       [5.73603928e-01],\n",
              "       [7.38597363e-02],\n",
              "       [9.99961376e-01],\n",
              "       [5.93201257e-02],\n",
              "       [7.54315555e-02],\n",
              "       [8.86226118e-01],\n",
              "       [3.63035768e-01],\n",
              "       [2.45305210e-01],\n",
              "       [8.20564330e-01],\n",
              "       [6.77590678e-03],\n",
              "       [7.45155290e-02],\n",
              "       [7.08764195e-01],\n",
              "       [1.03316031e-01],\n",
              "       [9.99961376e-01],\n",
              "       [9.99952316e-01],\n",
              "       [9.99399424e-01],\n",
              "       [9.56548631e-01],\n",
              "       [1.38050810e-01],\n",
              "       [9.86725569e-01],\n",
              "       [3.31429183e-01],\n",
              "       [3.82950932e-01],\n",
              "       [5.35176769e-02],\n",
              "       [9.97721255e-01],\n",
              "       [3.32765371e-01],\n",
              "       [2.00237483e-01],\n",
              "       [8.55362296e-01],\n",
              "       [2.29115993e-01],\n",
              "       [5.87684155e-01],\n",
              "       [2.45137885e-02],\n",
              "       [4.25476860e-03],\n",
              "       [3.10206085e-01],\n",
              "       [9.60285008e-01],\n",
              "       [3.29094321e-01],\n",
              "       [1.04463607e-01],\n",
              "       [4.15732384e-01],\n",
              "       [7.27340579e-02],\n",
              "       [2.71881253e-01],\n",
              "       [9.85389829e-01],\n",
              "       [7.92338610e-01],\n",
              "       [5.00525653e-01],\n",
              "       [9.75695431e-01],\n",
              "       [2.27069668e-02],\n",
              "       [9.50248361e-01],\n",
              "       [1.54505402e-01],\n",
              "       [2.60781050e-01],\n",
              "       [9.98285830e-01],\n",
              "       [1.95639461e-01],\n",
              "       [7.85188749e-02],\n",
              "       [9.99217272e-01],\n",
              "       [2.39132851e-01],\n",
              "       [9.86362636e-01],\n",
              "       [2.31527671e-01],\n",
              "       [9.96949136e-01],\n",
              "       [9.06857014e-01],\n",
              "       [9.25695658e-01],\n",
              "       [2.43606977e-02],\n",
              "       [9.99295473e-01],\n",
              "       [7.13759214e-02],\n",
              "       [3.30518782e-01],\n",
              "       [3.00797224e-01],\n",
              "       [7.05492675e-01],\n",
              "       [9.98060048e-01],\n",
              "       [1.89988185e-02],\n",
              "       [7.91581631e-01],\n",
              "       [8.67471993e-01],\n",
              "       [9.82648849e-01],\n",
              "       [9.73525345e-01],\n",
              "       [3.35662812e-01],\n",
              "       [9.42541659e-02],\n",
              "       [9.99973774e-01],\n",
              "       [1.84085197e-03],\n",
              "       [4.04144414e-02],\n",
              "       [1.92620844e-01],\n",
              "       [9.22005594e-01],\n",
              "       [7.81928897e-02],\n",
              "       [2.23548427e-01],\n",
              "       [1.39791938e-02],\n",
              "       [8.51437151e-02],\n",
              "       [3.60392109e-02],\n",
              "       [1.90933317e-01],\n",
              "       [8.71365190e-01],\n",
              "       [7.81076849e-02],\n",
              "       [1.93290815e-01],\n",
              "       [8.98098111e-01],\n",
              "       [9.76759195e-01],\n",
              "       [4.34355468e-01],\n",
              "       [1.31047770e-01],\n",
              "       [9.99923229e-01],\n",
              "       [8.35229397e-01],\n",
              "       [9.48856175e-01],\n",
              "       [7.33164072e-01],\n",
              "       [8.42917740e-01],\n",
              "       [2.40832597e-01],\n",
              "       [9.83947277e-01],\n",
              "       [1.99383926e-02],\n",
              "       [1.24187306e-01],\n",
              "       [3.40168294e-03],\n",
              "       [3.84424743e-03],\n",
              "       [9.90430057e-01],\n",
              "       [7.81694770e-01],\n",
              "       [8.77433956e-01],\n",
              "       [2.17392549e-01],\n",
              "       [6.31451547e-01],\n",
              "       [6.97908401e-02],\n",
              "       [1.97160412e-02],\n",
              "       [1.46162286e-01],\n",
              "       [9.81558025e-01],\n",
              "       [3.10163140e-01],\n",
              "       [4.99592513e-01],\n",
              "       [9.98517811e-01],\n",
              "       [5.48553467e-01],\n",
              "       [7.92248368e-01],\n",
              "       [5.55082783e-02],\n",
              "       [2.75217652e-01],\n",
              "       [7.20245838e-01],\n",
              "       [2.78083473e-01],\n",
              "       [4.58682030e-01],\n",
              "       [1.57535136e-01],\n",
              "       [3.88181686e-01],\n",
              "       [2.63974488e-01],\n",
              "       [1.85214162e-01],\n",
              "       [4.91951220e-02],\n",
              "       [3.93957496e-01],\n",
              "       [3.44277442e-01],\n",
              "       [9.99860406e-01],\n",
              "       [9.84139025e-01],\n",
              "       [6.84957206e-02],\n",
              "       [7.61741027e-03],\n",
              "       [8.67026687e-01],\n",
              "       [1.20956525e-01],\n",
              "       [7.52923787e-02],\n",
              "       [4.61160481e-01],\n",
              "       [2.24965978e-02],\n",
              "       [6.96781695e-01],\n",
              "       [9.52798000e-04],\n",
              "       [2.05854446e-01],\n",
              "       [9.73101199e-01],\n",
              "       [1.99876696e-01],\n",
              "       [9.67020631e-01],\n",
              "       [9.99719083e-01],\n",
              "       [3.16744119e-01],\n",
              "       [1.71722367e-01],\n",
              "       [3.92008096e-01],\n",
              "       [4.63112704e-02],\n",
              "       [2.81808130e-03],\n",
              "       [9.94157434e-01],\n",
              "       [9.67529535e-01],\n",
              "       [3.59359711e-01],\n",
              "       [9.01733458e-01],\n",
              "       [6.79118931e-02],\n",
              "       [1.20373659e-01],\n",
              "       [1.63658150e-02],\n",
              "       [2.26711199e-01],\n",
              "       [1.83918439e-02],\n",
              "       [9.63774800e-01],\n",
              "       [1.13619134e-01],\n",
              "       [3.88921751e-03],\n",
              "       [9.83500361e-01],\n",
              "       [1.81261208e-02],\n",
              "       [1.16507076e-01],\n",
              "       [9.78452742e-01],\n",
              "       [1.86290145e-02],\n",
              "       [6.90012947e-02],\n",
              "       [1.26801040e-02],\n",
              "       [9.82569337e-01],\n",
              "       [5.27016699e-01],\n",
              "       [7.68091977e-01],\n",
              "       [5.69741666e-01],\n",
              "       [8.39070141e-01],\n",
              "       [6.54415265e-02],\n",
              "       [8.89817417e-01],\n",
              "       [3.86447087e-02],\n",
              "       [7.64145076e-01],\n",
              "       [3.08344096e-01],\n",
              "       [3.86500895e-01],\n",
              "       [3.66652429e-01],\n",
              "       [1.75984234e-01],\n",
              "       [6.62270606e-01],\n",
              "       [3.59968245e-01],\n",
              "       [6.31320059e-01],\n",
              "       [1.28778860e-01],\n",
              "       [7.93280959e-01],\n",
              "       [2.40773614e-02],\n",
              "       [1.11825727e-01],\n",
              "       [2.31480271e-01],\n",
              "       [9.90701199e-01],\n",
              "       [1.19196594e-01],\n",
              "       [8.75638947e-02],\n",
              "       [2.70837307e-01],\n",
              "       [2.18608141e-01],\n",
              "       [1.46242082e-01],\n",
              "       [3.14067900e-02],\n",
              "       [1.79751050e-02],\n",
              "       [9.73337948e-01],\n",
              "       [3.43033195e-01],\n",
              "       [2.14011356e-01],\n",
              "       [9.99935865e-01],\n",
              "       [3.24684195e-02],\n",
              "       [7.52554655e-01],\n",
              "       [2.65260875e-01],\n",
              "       [4.02932055e-02],\n",
              "       [1.34828866e-01],\n",
              "       [8.82033184e-02],\n",
              "       [8.47493261e-02],\n",
              "       [9.24952745e-01],\n",
              "       [2.02986166e-01],\n",
              "       [9.86080647e-01],\n",
              "       [7.59097785e-02],\n",
              "       [2.18372028e-02],\n",
              "       [9.97335970e-01],\n",
              "       [1.67584643e-02],\n",
              "       [9.97079253e-01],\n",
              "       [1.74931139e-01],\n",
              "       [3.39374840e-02],\n",
              "       [9.51346040e-01],\n",
              "       [5.88981360e-02],\n",
              "       [2.73384470e-02],\n",
              "       [9.58758295e-01],\n",
              "       [8.69268086e-03],\n",
              "       [1.42989725e-01],\n",
              "       [7.49934077e-01],\n",
              "       [7.94884145e-01],\n",
              "       [1.57905258e-02],\n",
              "       [3.30413550e-01],\n",
              "       [9.90524948e-01],\n",
              "       [9.72965062e-01],\n",
              "       [7.60686040e-01],\n",
              "       [4.34075505e-01],\n",
              "       [5.79078376e-01],\n",
              "       [5.72940350e-01],\n",
              "       [5.44134527e-02],\n",
              "       [1.09932154e-01],\n",
              "       [1.17947243e-01],\n",
              "       [5.04333019e-01],\n",
              "       [2.64591388e-02],\n",
              "       [3.88855040e-01],\n",
              "       [3.72139275e-01],\n",
              "       [1.07709887e-02],\n",
              "       [9.72713232e-01],\n",
              "       [9.99399424e-01],\n",
              "       [9.95179176e-01],\n",
              "       [6.11738600e-02],\n",
              "       [3.28684688e-01],\n",
              "       [1.53386280e-01],\n",
              "       [4.92605001e-01],\n",
              "       [7.73702025e-01],\n",
              "       [1.42818362e-01],\n",
              "       [3.45299207e-02],\n",
              "       [7.06666633e-02],\n",
              "       [3.20775434e-02],\n",
              "       [5.67297339e-01],\n",
              "       [1.37047060e-02],\n",
              "       [2.99774230e-01],\n",
              "       [2.29697637e-02],\n",
              "       [4.24696118e-01],\n",
              "       [4.94423747e-01],\n",
              "       [3.17377806e-01],\n",
              "       [1.92628354e-01],\n",
              "       [5.52872084e-02],\n",
              "       [2.19079450e-01],\n",
              "       [7.30554536e-02],\n",
              "       [9.96595204e-01],\n",
              "       [9.05374289e-01],\n",
              "       [3.79438400e-01],\n",
              "       [5.60265720e-01],\n",
              "       [6.54203165e-03],\n",
              "       [5.53860426e-01],\n",
              "       [9.93900537e-01],\n",
              "       [7.24795759e-01],\n",
              "       [2.15289786e-01],\n",
              "       [9.58594084e-01],\n",
              "       [1.42627433e-01],\n",
              "       [9.85716701e-01],\n",
              "       [2.41690636e-01],\n",
              "       [3.92614044e-02],\n",
              "       [5.91756523e-01],\n",
              "       [3.73228848e-01],\n",
              "       [9.97640133e-01],\n",
              "       [1.60707727e-01],\n",
              "       [1.85397044e-02],\n",
              "       [4.77431230e-02],\n",
              "       [1.42818362e-01],\n",
              "       [9.99415278e-01],\n",
              "       [3.53299938e-02],\n",
              "       [5.21942675e-01],\n",
              "       [9.66169119e-01],\n",
              "       [6.15340769e-02],\n",
              "       [9.99961376e-01],\n",
              "       [5.86878546e-02],\n",
              "       [2.08367392e-01],\n",
              "       [4.51253690e-02],\n",
              "       [8.14970255e-01],\n",
              "       [8.67052674e-01],\n",
              "       [8.14877823e-02],\n",
              "       [4.79265768e-03],\n",
              "       [2.75248259e-01],\n",
              "       [9.92598891e-01],\n",
              "       [8.71062160e-01],\n",
              "       [4.66475263e-02],\n",
              "       [2.93190271e-01],\n",
              "       [6.99337959e-01],\n",
              "       [3.69157121e-02],\n",
              "       [9.99118388e-01],\n",
              "       [4.68010336e-01],\n",
              "       [9.99593198e-01],\n",
              "       [9.56296086e-01],\n",
              "       [7.24646300e-02],\n",
              "       [4.24311519e-01],\n",
              "       [1.12055987e-01],\n",
              "       [9.42517579e-01],\n",
              "       [7.91562736e-01],\n",
              "       [4.02584910e-01],\n",
              "       [4.82791625e-02],\n",
              "       [3.56313258e-01],\n",
              "       [4.80222292e-02],\n",
              "       [2.67061777e-02],\n",
              "       [1.62915736e-01],\n",
              "       [2.02302158e-01],\n",
              "       [5.41597664e-01],\n",
              "       [1.39371619e-01],\n",
              "       [9.99891281e-01],\n",
              "       [9.91549015e-01],\n",
              "       [3.07241976e-01],\n",
              "       [7.65910149e-01],\n",
              "       [2.01248631e-01],\n",
              "       [7.77188689e-02],\n",
              "       [3.08326215e-01],\n",
              "       [7.85902083e-01],\n",
              "       [2.38519102e-01],\n",
              "       [2.55202204e-01],\n",
              "       [6.10719295e-03],\n",
              "       [4.67902362e-01],\n",
              "       [1.70300470e-03],\n",
              "       [9.73277986e-01],\n",
              "       [9.85684872e-01],\n",
              "       [9.96722996e-01],\n",
              "       [9.63901579e-01],\n",
              "       [7.34649658e-01],\n",
              "       [2.23857731e-01],\n",
              "       [1.72191653e-02],\n",
              "       [5.57715118e-01],\n",
              "       [9.38150704e-01],\n",
              "       [9.99133885e-01],\n",
              "       [2.37898133e-03],\n",
              "       [1.24344587e-01],\n",
              "       [1.30520269e-01],\n",
              "       [9.99705970e-01],\n",
              "       [9.99520183e-01],\n",
              "       [2.62251109e-01],\n",
              "       [2.29278028e-01],\n",
              "       [9.94415522e-01],\n",
              "       [7.06055313e-02],\n",
              "       [2.12287784e-01],\n",
              "       [9.88267004e-01],\n",
              "       [8.74140784e-02],\n",
              "       [3.64932455e-02],\n",
              "       [8.88369083e-01],\n",
              "       [3.25890958e-01],\n",
              "       [4.02021766e-01],\n",
              "       [9.86384094e-01],\n",
              "       [4.09058630e-02],\n",
              "       [1.00693248e-01],\n",
              "       [1.25980633e-03],\n",
              "       [1.14807067e-02],\n",
              "       [1.09661266e-01],\n",
              "       [9.90717590e-01],\n",
              "       [1.62353460e-02],\n",
              "       [4.59543884e-01],\n",
              "       [3.88802588e-01],\n",
              "       [8.77991617e-02],\n",
              "       [2.43458107e-01],\n",
              "       [4.24981266e-02],\n",
              "       [2.60531753e-01],\n",
              "       [9.97996211e-01],\n",
              "       [7.97515988e-01],\n",
              "       [1.26380876e-01],\n",
              "       [5.29174991e-02],\n",
              "       [1.13004595e-01],\n",
              "       [4.39294055e-02],\n",
              "       [8.21074545e-01],\n",
              "       [3.71663272e-02],\n",
              "       [7.99713850e-01],\n",
              "       [6.30659938e-01],\n",
              "       [3.94905806e-01],\n",
              "       [6.26370192e-01],\n",
              "       [7.83469379e-01],\n",
              "       [7.76447281e-02],\n",
              "       [2.67494023e-01],\n",
              "       [4.12736893e-01],\n",
              "       [9.53725517e-01],\n",
              "       [4.24324721e-01],\n",
              "       [2.32414529e-01],\n",
              "       [3.51231694e-01],\n",
              "       [7.30544981e-03],\n",
              "       [9.40512270e-02],\n",
              "       [4.47920710e-01],\n",
              "       [8.18609297e-01],\n",
              "       [1.29965678e-01],\n",
              "       [9.90101576e-01],\n",
              "       [9.33692992e-01],\n",
              "       [7.59912729e-01],\n",
              "       [9.87631261e-01],\n",
              "       [1.68429092e-01],\n",
              "       [6.68673143e-02],\n",
              "       [9.26754057e-01],\n",
              "       [3.00320685e-01],\n",
              "       [2.11615525e-02],\n",
              "       [5.33939861e-02],\n",
              "       [2.04149082e-01],\n",
              "       [7.79879992e-05],\n",
              "       [5.83353639e-01],\n",
              "       [7.30141938e-01],\n",
              "       [8.05632591e-01],\n",
              "       [9.68728781e-01],\n",
              "       [1.02672957e-01],\n",
              "       [1.56379953e-01],\n",
              "       [7.00733960e-01],\n",
              "       [1.68484747e-02],\n",
              "       [3.52419525e-01],\n",
              "       [1.44552439e-01],\n",
              "       [6.15309000e-01],\n",
              "       [5.58240652e-01],\n",
              "       [4.98380437e-02],\n",
              "       [5.84829152e-02],\n",
              "       [4.24519032e-01],\n",
              "       [9.34122130e-02],\n",
              "       [1.27178684e-01],\n",
              "       [1.77727818e-01],\n",
              "       [2.02099875e-01],\n",
              "       [9.98621345e-01],\n",
              "       [9.84223306e-01],\n",
              "       [3.95701200e-01],\n",
              "       [8.32183838e-01],\n",
              "       [9.93788302e-01],\n",
              "       [1.06444082e-03],\n",
              "       [9.81397986e-01],\n",
              "       [2.24135399e-01],\n",
              "       [7.26085126e-01],\n",
              "       [2.52961487e-01],\n",
              "       [1.84259191e-01],\n",
              "       [9.96175855e-02],\n",
              "       [1.08021004e-02],\n",
              "       [9.40337032e-02],\n",
              "       [2.73237694e-02],\n",
              "       [7.41214454e-01],\n",
              "       [2.13249236e-01],\n",
              "       [9.96392429e-01],\n",
              "       [5.57679497e-02],\n",
              "       [8.00556242e-01],\n",
              "       [6.53674960e-01],\n",
              "       [1.58191621e-02],\n",
              "       [6.95695952e-02],\n",
              "       [9.76174593e-01],\n",
              "       [5.17967105e-01],\n",
              "       [9.68623936e-01],\n",
              "       [1.72793761e-01],\n",
              "       [1.23167999e-01],\n",
              "       [5.16918480e-01],\n",
              "       [2.82446563e-01],\n",
              "       [2.54684538e-01],\n",
              "       [9.93788302e-01],\n",
              "       [1.81701407e-03],\n",
              "       [6.92623183e-02],\n",
              "       [1.07174993e-01],\n",
              "       [9.99039292e-01],\n",
              "       [2.48479322e-01],\n",
              "       [4.44230512e-02],\n",
              "       [8.44482839e-01],\n",
              "       [2.56790277e-02],\n",
              "       [1.67873148e-02],\n",
              "       [1.58255860e-01],\n",
              "       [2.76457161e-01],\n",
              "       [1.31261200e-01],\n",
              "       [3.38115990e-01],\n",
              "       [3.64901483e-01],\n",
              "       [2.24770248e-01],\n",
              "       [1.26757398e-01],\n",
              "       [3.12898546e-01],\n",
              "       [6.10390306e-03],\n",
              "       [9.65786397e-01],\n",
              "       [7.66669095e-01],\n",
              "       [4.73676831e-01],\n",
              "       [3.77794169e-02],\n",
              "       [3.00720353e-02],\n",
              "       [9.70952690e-01],\n",
              "       [7.07548618e-01],\n",
              "       [9.99930143e-01],\n",
              "       [2.77683973e-01],\n",
              "       [8.93634140e-01],\n",
              "       [1.03090979e-01],\n",
              "       [6.74210787e-01],\n",
              "       [7.10769832e-01],\n",
              "       [1.79235376e-02],\n",
              "       [9.81182516e-01],\n",
              "       [1.08005710e-01],\n",
              "       [5.49347520e-01],\n",
              "       [9.99409676e-01],\n",
              "       [2.35502437e-01],\n",
              "       [3.08783241e-02],\n",
              "       [4.16162699e-01],\n",
              "       [1.57261547e-02],\n",
              "       [5.40167212e-01],\n",
              "       [9.99923229e-01],\n",
              "       [2.17077017e-01],\n",
              "       [9.59151745e-01],\n",
              "       [2.12063983e-01],\n",
              "       [7.45549858e-01],\n",
              "       [3.18956256e-01],\n",
              "       [2.21432015e-01],\n",
              "       [2.96348380e-03],\n",
              "       [6.39813602e-01],\n",
              "       [9.81284678e-03],\n",
              "       [1.73991174e-01],\n",
              "       [9.71018910e-01],\n",
              "       [9.52572942e-01],\n",
              "       [9.97592747e-01],\n",
              "       [8.93139005e-01],\n",
              "       [6.97437525e-02],\n",
              "       [4.28442597e-01],\n",
              "       [4.66870004e-03],\n",
              "       [3.79431427e-01],\n",
              "       [4.07144368e-01],\n",
              "       [8.19617569e-01],\n",
              "       [6.67819008e-02],\n",
              "       [7.67715096e-01],\n",
              "       [7.58272588e-01],\n",
              "       [2.60209113e-01],\n",
              "       [1.78286985e-01],\n",
              "       [2.32414529e-01],\n",
              "       [1.85779810e-01],\n",
              "       [3.68781567e-01],\n",
              "       [7.39114463e-01],\n",
              "       [9.99386787e-01],\n",
              "       [6.60702288e-02],\n",
              "       [2.64399056e-03],\n",
              "       [1.43582374e-02],\n",
              "       [1.95436180e-01],\n",
              "       [1.61845922e-01],\n",
              "       [4.57697138e-02],\n",
              "       [8.59032929e-01],\n",
              "       [1.04156643e-01],\n",
              "       [2.83524275e-01],\n",
              "       [2.03511432e-01],\n",
              "       [2.05451146e-01],\n",
              "       [9.60438251e-01],\n",
              "       [2.20799744e-01],\n",
              "       [3.92670602e-01],\n",
              "       [2.55047381e-01],\n",
              "       [7.94431660e-03],\n",
              "       [1.00197479e-01],\n",
              "       [9.99948025e-01],\n",
              "       [7.02853322e-01],\n",
              "       [4.29391209e-03],\n",
              "       [3.51486206e-01],\n",
              "       [1.41677067e-01],\n",
              "       [6.23344854e-02],\n",
              "       [8.91092837e-01],\n",
              "       [5.18599510e-01],\n",
              "       [6.24916315e-01],\n",
              "       [6.12560391e-01],\n",
              "       [2.34471917e-01],\n",
              "       [4.91401494e-01],\n",
              "       [2.51910061e-01],\n",
              "       [9.32586715e-02],\n",
              "       [9.25974548e-01],\n",
              "       [1.77842453e-01],\n",
              "       [4.83203888e-01],\n",
              "       [9.76061940e-01],\n",
              "       [3.38611007e-01],\n",
              "       [3.09674174e-01],\n",
              "       [7.79879992e-05],\n",
              "       [2.74038851e-01],\n",
              "       [7.00292468e-01],\n",
              "       [9.99961376e-01],\n",
              "       [7.65142083e-01],\n",
              "       [7.53758252e-02],\n",
              "       [9.91239011e-01],\n",
              "       [4.41414475e-01],\n",
              "       [9.44822788e-01],\n",
              "       [4.41414475e-01],\n",
              "       [9.96367812e-01],\n",
              "       [1.59093272e-03],\n",
              "       [3.78576875e-01],\n",
              "       [4.63150851e-02],\n",
              "       [9.93052125e-01],\n",
              "       [1.09922081e-01],\n",
              "       [3.69089901e-01],\n",
              "       [5.43568879e-02],\n",
              "       [3.32269281e-01],\n",
              "       [9.95133668e-02],\n",
              "       [1.79895535e-02],\n",
              "       [2.80092984e-01],\n",
              "       [7.18977526e-02],\n",
              "       [1.15484811e-01],\n",
              "       [8.23126435e-01],\n",
              "       [3.32513675e-02],\n",
              "       [9.83910188e-02],\n",
              "       [4.71598841e-02],\n",
              "       [4.09944030e-03],\n",
              "       [1.14131488e-01],\n",
              "       [6.06168449e-01],\n",
              "       [7.69357160e-02],\n",
              "       [3.70330960e-01],\n",
              "       [1.66351080e-01],\n",
              "       [4.33100522e-01],\n",
              "       [9.24956679e-01],\n",
              "       [1.04555853e-01],\n",
              "       [3.65269966e-02],\n",
              "       [3.68684493e-02],\n",
              "       [7.18977442e-03],\n",
              "       [9.93745923e-01],\n",
              "       [4.09944030e-03],\n",
              "       [2.76880562e-01],\n",
              "       [9.97449458e-01],\n",
              "       [9.96223330e-01],\n",
              "       [9.98935163e-01],\n",
              "       [9.99901295e-01],\n",
              "       [9.99798834e-01],\n",
              "       [1.59953848e-01],\n",
              "       [5.61305918e-02],\n",
              "       [2.09184706e-01],\n",
              "       [4.38585073e-01],\n",
              "       [9.99008358e-01],\n",
              "       [5.44047952e-01],\n",
              "       [2.02730089e-01],\n",
              "       [6.83786750e-01],\n",
              "       [6.45870626e-01],\n",
              "       [3.76748443e-02],\n",
              "       [2.56714621e-03],\n",
              "       [8.25406238e-02],\n",
              "       [4.56736356e-01],\n",
              "       [8.96342658e-03],\n",
              "       [7.10112154e-02],\n",
              "       [6.04963362e-01],\n",
              "       [9.91323590e-01],\n",
              "       [4.26114127e-02],\n",
              "       [9.65613186e-01],\n",
              "       [7.42848694e-01],\n",
              "       [1.13655269e-01],\n",
              "       [2.76613504e-01],\n",
              "       [1.42733306e-01],\n",
              "       [7.19936788e-01],\n",
              "       [4.93843138e-01],\n",
              "       [9.01100039e-03]], dtype=float32)"
            ]
          },
          "metadata": {},
          "execution_count": 74
        }
      ]
    },
    {
      "cell_type": "code",
      "source": [
        "model_1_pred = model_1_pred.round()\n",
        "model_1_pred[:20]"
      ],
      "metadata": {
        "colab": {
          "base_uri": "https://localhost:8080/"
        },
        "id": "ufMQmBkxnHWm",
        "outputId": "74d30699-874a-47ee-d4ca-477513d5269c"
      },
      "execution_count": 75,
      "outputs": [
        {
          "output_type": "execute_result",
          "data": {
            "text/plain": [
              "array([[0.],\n",
              "       [1.],\n",
              "       [1.],\n",
              "       [0.],\n",
              "       [0.],\n",
              "       [1.],\n",
              "       [1.],\n",
              "       [1.],\n",
              "       [1.],\n",
              "       [0.],\n",
              "       [0.],\n",
              "       [1.],\n",
              "       [0.],\n",
              "       [0.],\n",
              "       [0.],\n",
              "       [0.],\n",
              "       [0.],\n",
              "       [0.],\n",
              "       [0.],\n",
              "       [1.]], dtype=float32)"
            ]
          },
          "metadata": {},
          "execution_count": 75
        }
      ]
    },
    {
      "cell_type": "code",
      "source": [
        "len(model_1_pred)"
      ],
      "metadata": {
        "colab": {
          "base_uri": "https://localhost:8080/"
        },
        "id": "eGUa3dVtnelI",
        "outputId": "4b4bbb03-9b89-4b2f-e81b-d406a271fb0a"
      },
      "execution_count": 76,
      "outputs": [
        {
          "output_type": "execute_result",
          "data": {
            "text/plain": [
              "762"
            ]
          },
          "metadata": {},
          "execution_count": 76
        }
      ]
    },
    {
      "cell_type": "code",
      "source": [
        "model_1_results = calculate_results(y_true=Val_label,\n",
        "                                    y_pred=model_1_pred)\n",
        "model_1_results"
      ],
      "metadata": {
        "colab": {
          "base_uri": "https://localhost:8080/"
        },
        "id": "Tt4934k2nsbj",
        "outputId": "2718c7e2-69dc-4b4e-b86a-2f59c041c9fe"
      },
      "execution_count": 77,
      "outputs": [
        {
          "output_type": "execute_result",
          "data": {
            "text/plain": [
              "{'accuracy': 78.34645669291339,\n",
              " 'precision': 0.7875988615317319,\n",
              " 'recall': 0.7834645669291339,\n",
              " 'f1': 0.7806382038884261}"
            ]
          },
          "metadata": {},
          "execution_count": 77
        }
      ]
    },
    {
      "cell_type": "code",
      "source": [],
      "metadata": {
        "id": "eIHykKmxoU7R"
      },
      "execution_count": 77,
      "outputs": []
    },
    {
      "cell_type": "markdown",
      "source": [
        "# ***Comparing Model 1 and Model 0***"
      ],
      "metadata": {
        "id": "VwS0buN4oe39"
      }
    },
    {
      "cell_type": "code",
      "source": [
        "import numpy as np"
      ],
      "metadata": {
        "id": "Z9SH0XtRoi5m"
      },
      "execution_count": 78,
      "outputs": []
    },
    {
      "cell_type": "code",
      "source": [
        "model_1_results.values()"
      ],
      "metadata": {
        "colab": {
          "base_uri": "https://localhost:8080/"
        },
        "id": "PWOKSWRbol4e",
        "outputId": "4fe51ac5-c45e-4e8a-a25a-5c67e378a789"
      },
      "execution_count": 79,
      "outputs": [
        {
          "output_type": "execute_result",
          "data": {
            "text/plain": [
              "dict_values([78.34645669291339, 0.7875988615317319, 0.7834645669291339, 0.7806382038884261])"
            ]
          },
          "metadata": {},
          "execution_count": 79
        }
      ]
    },
    {
      "cell_type": "code",
      "source": [
        "model_0_results.values()"
      ],
      "metadata": {
        "colab": {
          "base_uri": "https://localhost:8080/"
        },
        "id": "oyFSX6sNo5Kb",
        "outputId": "4868d679-a7b3-43f9-dce9-fc86b52a2878"
      },
      "execution_count": 80,
      "outputs": [
        {
          "output_type": "execute_result",
          "data": {
            "text/plain": [
              "dict_values([79.26509186351706, 0.8111390004213173, 0.7926509186351706, 0.7862189758049549])"
            ]
          },
          "metadata": {},
          "execution_count": 80
        }
      ]
    },
    {
      "cell_type": "code",
      "source": [
        "np.array(list(model_1_results.values())) > np.array(list(model_0_results.values()))"
      ],
      "metadata": {
        "colab": {
          "base_uri": "https://localhost:8080/"
        },
        "id": "m5SHD9V4pOS9",
        "outputId": "cb0f3e92-e6b9-4bb7-96ba-9c85f7c2f7c9"
      },
      "execution_count": 81,
      "outputs": [
        {
          "output_type": "execute_result",
          "data": {
            "text/plain": [
              "array([False, False, False, False])"
            ]
          },
          "metadata": {},
          "execution_count": 81
        }
      ]
    },
    {
      "cell_type": "code",
      "source": [],
      "metadata": {
        "id": "tMi8WmuRpTlu"
      },
      "execution_count": 81,
      "outputs": []
    },
    {
      "cell_type": "code",
      "source": [
        "import io\n",
        "out_v = io.open('vectors.tsv', 'w', encoding='utf-8')\n",
        "out_m = io.open('metadata.tsv', 'w', encoding='utf-8')\n",
        "\n",
        "for index, word in enumerate(words_in_vocabulary):\n",
        "  if index == 0:\n",
        "    continue  # skip 0, it's padding.\n",
        "  vec = embedded_wt[index]\n",
        "  out_v.write('\\t'.join([str(x) for x in vec]) + \"\\n\")\n",
        "  out_m.write(word + \"\\n\")\n",
        "out_v.close()\n",
        "out_m.close()"
      ],
      "metadata": {
        "id": "1g7vMxpop5XP"
      },
      "execution_count": 82,
      "outputs": []
    },
    {
      "cell_type": "code",
      "source": [
        "try:\n",
        "  from google.colab import files\n",
        "  files.download('vectors.tsv')\n",
        "  files.download('metadata.tsv')\n",
        "except Exception:\n",
        "  pass"
      ],
      "metadata": {
        "colab": {
          "base_uri": "https://localhost:8080/",
          "height": 17
        },
        "id": "l-kR1vGPp5aV",
        "outputId": "cd7218e5-a114-48ad-f17c-a626e3f5e58a"
      },
      "execution_count": 83,
      "outputs": [
        {
          "output_type": "display_data",
          "data": {
            "text/plain": [
              "<IPython.core.display.Javascript object>"
            ],
            "application/javascript": [
              "\n",
              "    async function download(id, filename, size) {\n",
              "      if (!google.colab.kernel.accessAllowed) {\n",
              "        return;\n",
              "      }\n",
              "      const div = document.createElement('div');\n",
              "      const label = document.createElement('label');\n",
              "      label.textContent = `Downloading \"${filename}\": `;\n",
              "      div.appendChild(label);\n",
              "      const progress = document.createElement('progress');\n",
              "      progress.max = size;\n",
              "      div.appendChild(progress);\n",
              "      document.body.appendChild(div);\n",
              "\n",
              "      const buffers = [];\n",
              "      let downloaded = 0;\n",
              "\n",
              "      const channel = await google.colab.kernel.comms.open(id);\n",
              "      // Send a message to notify the kernel that we're ready.\n",
              "      channel.send({})\n",
              "\n",
              "      for await (const message of channel.messages) {\n",
              "        // Send a message to notify the kernel that we're ready.\n",
              "        channel.send({})\n",
              "        if (message.buffers) {\n",
              "          for (const buffer of message.buffers) {\n",
              "            buffers.push(buffer);\n",
              "            downloaded += buffer.byteLength;\n",
              "            progress.value = downloaded;\n",
              "          }\n",
              "        }\n",
              "      }\n",
              "      const blob = new Blob(buffers, {type: 'application/binary'});\n",
              "      const a = document.createElement('a');\n",
              "      a.href = window.URL.createObjectURL(blob);\n",
              "      a.download = filename;\n",
              "      div.appendChild(a);\n",
              "      a.click();\n",
              "      div.remove();\n",
              "    }\n",
              "  "
            ]
          },
          "metadata": {}
        },
        {
          "output_type": "display_data",
          "data": {
            "text/plain": [
              "<IPython.core.display.Javascript object>"
            ],
            "application/javascript": [
              "download(\"download_64ffabc9-371d-4566-a610-de9b8b74129c\", \"vectors.tsv\", 14900894)"
            ]
          },
          "metadata": {}
        },
        {
          "output_type": "display_data",
          "data": {
            "text/plain": [
              "<IPython.core.display.Javascript object>"
            ],
            "application/javascript": [
              "\n",
              "    async function download(id, filename, size) {\n",
              "      if (!google.colab.kernel.accessAllowed) {\n",
              "        return;\n",
              "      }\n",
              "      const div = document.createElement('div');\n",
              "      const label = document.createElement('label');\n",
              "      label.textContent = `Downloading \"${filename}\": `;\n",
              "      div.appendChild(label);\n",
              "      const progress = document.createElement('progress');\n",
              "      progress.max = size;\n",
              "      div.appendChild(progress);\n",
              "      document.body.appendChild(div);\n",
              "\n",
              "      const buffers = [];\n",
              "      let downloaded = 0;\n",
              "\n",
              "      const channel = await google.colab.kernel.comms.open(id);\n",
              "      // Send a message to notify the kernel that we're ready.\n",
              "      channel.send({})\n",
              "\n",
              "      for await (const message of channel.messages) {\n",
              "        // Send a message to notify the kernel that we're ready.\n",
              "        channel.send({})\n",
              "        if (message.buffers) {\n",
              "          for (const buffer of message.buffers) {\n",
              "            buffers.push(buffer);\n",
              "            downloaded += buffer.byteLength;\n",
              "            progress.value = downloaded;\n",
              "          }\n",
              "        }\n",
              "      }\n",
              "      const blob = new Blob(buffers, {type: 'application/binary'});\n",
              "      const a = document.createElement('a');\n",
              "      a.href = window.URL.createObjectURL(blob);\n",
              "      a.download = filename;\n",
              "      div.appendChild(a);\n",
              "      a.click();\n",
              "      div.remove();\n",
              "    }\n",
              "  "
            ]
          },
          "metadata": {}
        },
        {
          "output_type": "display_data",
          "data": {
            "text/plain": [
              "<IPython.core.display.Javascript object>"
            ],
            "application/javascript": [
              "download(\"download_7a62bed8-96e3-4cf1-95a8-1c69f74cf6cb\", \"metadata.tsv\", 80388)"
            ]
          },
          "metadata": {}
        }
      ]
    },
    {
      "cell_type": "markdown",
      "source": [
        "# ***Model 2 : LSTM (RNN)***\n",
        "\n",
        "LSTM - Low Short Term Memory"
      ],
      "metadata": {
        "id": "BbUxvPbRp5mn"
      }
    },
    {
      "cell_type": "code",
      "source": [
        "from keras.models import Model , Sequential\n",
        "from keras import layers\n",
        "from keras.optimizers import adam"
      ],
      "metadata": {
        "id": "KBIl7NuhqJ7n"
      },
      "execution_count": 84,
      "outputs": []
    },
    {
      "cell_type": "code",
      "source": [
        "input = layers.Input(shape = (1,) , dtype = \"string\")\n",
        "x = text_vectorizer(input)\n",
        "x = embedding(x)\n",
        "x = layers.LSTM(units = 64 , return_sequences = True)(x)  # --> It accepts only 3 dim input\n",
        "print(x.shape)\n",
        "x = layers.LSTM(units = 64)(x)   # --> It accepts only 3 dim input\n",
        "print(x.shape)\n",
        "output = layers.Dense(units = 1 , activation = \"sigmoid\")(x)\n",
        "print(x.shape)\n",
        "model_2 = Model(input , output , name = \"model_2_LSTM\")"
      ],
      "metadata": {
        "colab": {
          "base_uri": "https://localhost:8080/"
        },
        "id": "Mc6dXJt_F71Z",
        "outputId": "5341b506-ab4c-4891-a14d-deb348a27590"
      },
      "execution_count": 85,
      "outputs": [
        {
          "output_type": "stream",
          "name": "stdout",
          "text": [
            "(None, 15, 64)\n",
            "(None, 64)\n",
            "(None, 64)\n"
          ]
        }
      ]
    },
    {
      "cell_type": "code",
      "source": [
        "model_2.summary()"
      ],
      "metadata": {
        "colab": {
          "base_uri": "https://localhost:8080/"
        },
        "id": "HZJ52dEsF8N0",
        "outputId": "9465f28b-a86a-436d-d0d1-9378fb88a482"
      },
      "execution_count": 86,
      "outputs": [
        {
          "output_type": "stream",
          "name": "stdout",
          "text": [
            "Model: \"model_2_LSTM\"\n",
            "_________________________________________________________________\n",
            " Layer (type)                Output Shape              Param #   \n",
            "=================================================================\n",
            " input_5 (InputLayer)        [(None, 1)]               0         \n",
            "                                                                 \n",
            " text_vectorization_1 (TextV  (None, 15)               0         \n",
            " ectorization)                                                   \n",
            "                                                                 \n",
            " embedding_1 (Embedding)     (None, 15, 128)           1280000   \n",
            "                                                                 \n",
            " lstm (LSTM)                 (None, 15, 64)            49408     \n",
            "                                                                 \n",
            " lstm_1 (LSTM)               (None, 64)                33024     \n",
            "                                                                 \n",
            " dense_4 (Dense)             (None, 1)                 65        \n",
            "                                                                 \n",
            "=================================================================\n",
            "Total params: 1,362,497\n",
            "Trainable params: 1,362,497\n",
            "Non-trainable params: 0\n",
            "_________________________________________________________________\n"
          ]
        }
      ]
    },
    {
      "cell_type": "code",
      "source": [
        "model_2.compile(loss = \"binary_crossentropy\" , optimizer = \"adam\" , metrics = [\"accuracy\"])\n",
        "\n",
        "model_2.fit(train_sentence , train_label , validation_data = (Val_sentence , Val_label) , epochs = 5 ,\n",
        "                callbacks = [create_tensorboard_callback(dir_name = SAVE_DIR ,\n",
        "                                                 experiment_name = \"LSTM_model\")]\n",
        "              )"
      ],
      "metadata": {
        "colab": {
          "base_uri": "https://localhost:8080/"
        },
        "id": "vAtARFoUIaak",
        "outputId": "58c0fb37-b52a-4198-a887-47a17ea171c3"
      },
      "execution_count": 87,
      "outputs": [
        {
          "output_type": "stream",
          "name": "stdout",
          "text": [
            "Saving TensorBoard log files to: model_logs/LSTM_model/20230618-035145\n",
            "Epoch 1/5\n",
            "215/215 [==============================] - 16s 53ms/step - loss: 0.1798 - accuracy: 0.9358 - val_loss: 0.6092 - val_accuracy: 0.7795\n",
            "Epoch 2/5\n",
            "215/215 [==============================] - 3s 15ms/step - loss: 0.1276 - accuracy: 0.9520 - val_loss: 0.7158 - val_accuracy: 0.7822\n",
            "Epoch 3/5\n",
            "215/215 [==============================] - 3s 15ms/step - loss: 0.1001 - accuracy: 0.9612 - val_loss: 0.8867 - val_accuracy: 0.7690\n",
            "Epoch 4/5\n",
            "215/215 [==============================] - 2s 10ms/step - loss: 0.0824 - accuracy: 0.9661 - val_loss: 0.9680 - val_accuracy: 0.7808\n",
            "Epoch 5/5\n",
            "215/215 [==============================] - 2s 11ms/step - loss: 0.0660 - accuracy: 0.9721 - val_loss: 1.1092 - val_accuracy: 0.7717\n"
          ]
        },
        {
          "output_type": "execute_result",
          "data": {
            "text/plain": [
              "<keras.callbacks.History at 0x7fa358b670d0>"
            ]
          },
          "metadata": {},
          "execution_count": 87
        }
      ]
    },
    {
      "cell_type": "code",
      "source": [
        "loss_accuracy = model_1.evaluate(Val_sentence , Val_label)\n",
        "print(\"Accuracy : \" , loss_accuracy[1]*100)\n",
        "print(\"Loss : \" , loss_accuracy[0])"
      ],
      "metadata": {
        "colab": {
          "base_uri": "https://localhost:8080/"
        },
        "id": "TZxlwAtSIHkB",
        "outputId": "99b1c8f5-6bdf-478d-bc57-f6b22478153d"
      },
      "execution_count": 88,
      "outputs": [
        {
          "output_type": "stream",
          "name": "stdout",
          "text": [
            "24/24 [==============================] - 0s 3ms/step - loss: 0.4956 - accuracy: 0.7861\n",
            "Accuracy :  78.60892415046692\n",
            "Loss :  0.49564647674560547\n"
          ]
        }
      ]
    },
    {
      "cell_type": "code",
      "source": [],
      "metadata": {
        "id": "DIOze3PBItmu"
      },
      "execution_count": 88,
      "outputs": []
    },
    {
      "cell_type": "code",
      "source": [],
      "metadata": {
        "id": "o1k6R2lmIt9j"
      },
      "execution_count": 88,
      "outputs": []
    },
    {
      "cell_type": "code",
      "source": [],
      "metadata": {
        "id": "2zJtSr8fIuAs"
      },
      "execution_count": 88,
      "outputs": []
    },
    {
      "cell_type": "code",
      "source": [
        "input = layers.Input(shape = (1,) , dtype = \"string\")\n",
        "x = text_vectorizer(input)\n",
        "x = embedding(x)\n",
        "# x = layers.LSTM(units = 64 , return_sequences = True)(x)\n",
        "print(x.shape)\n",
        "x = layers.LSTM(units = 64)(x)\n",
        "print(x.shape)\n",
        "output = layers.Dense(units = 1 , activation = \"sigmoid\")(x)\n",
        "print(x.shape)\n",
        "model_2 = Model(input , output , name = \"model_2_LSTM\")"
      ],
      "metadata": {
        "colab": {
          "base_uri": "https://localhost:8080/"
        },
        "id": "h8lrrL8cIuD9",
        "outputId": "e3b241a0-bf73-4579-fe8f-08c812332acf"
      },
      "execution_count": 89,
      "outputs": [
        {
          "output_type": "stream",
          "name": "stdout",
          "text": [
            "(None, 15, 128)\n",
            "(None, 64)\n",
            "(None, 64)\n"
          ]
        }
      ]
    },
    {
      "cell_type": "code",
      "source": [
        "model_2.summary()"
      ],
      "metadata": {
        "colab": {
          "base_uri": "https://localhost:8080/"
        },
        "id": "Ujr-11YiI9sA",
        "outputId": "5cf98293-4f12-412b-db07-01f780c3b124"
      },
      "execution_count": 90,
      "outputs": [
        {
          "output_type": "stream",
          "name": "stdout",
          "text": [
            "Model: \"model_2_LSTM\"\n",
            "_________________________________________________________________\n",
            " Layer (type)                Output Shape              Param #   \n",
            "=================================================================\n",
            " input_6 (InputLayer)        [(None, 1)]               0         \n",
            "                                                                 \n",
            " text_vectorization_1 (TextV  (None, 15)               0         \n",
            " ectorization)                                                   \n",
            "                                                                 \n",
            " embedding_1 (Embedding)     (None, 15, 128)           1280000   \n",
            "                                                                 \n",
            " lstm_2 (LSTM)               (None, 64)                49408     \n",
            "                                                                 \n",
            " dense_5 (Dense)             (None, 1)                 65        \n",
            "                                                                 \n",
            "=================================================================\n",
            "Total params: 1,329,473\n",
            "Trainable params: 1,329,473\n",
            "Non-trainable params: 0\n",
            "_________________________________________________________________\n"
          ]
        }
      ]
    },
    {
      "cell_type": "code",
      "source": [
        "model_2.compile(loss = \"binary_crossentropy\" , optimizer = \"adam\" , metrics = [\"accuracy\"])\n",
        "\n",
        "model_2.fit(train_sentence , train_label , validation_data = (Val_sentence , Val_label) , epochs = 5 ,\n",
        "                callbacks = [create_tensorboard_callback(dir_name = SAVE_DIR ,\n",
        "                                                 experiment_name = \"LSTM_model\")]\n",
        "              )"
      ],
      "metadata": {
        "colab": {
          "base_uri": "https://localhost:8080/"
        },
        "id": "k2vQdszwJGDy",
        "outputId": "a71cf0b3-8f23-44bd-cc20-f63dbda33da1"
      },
      "execution_count": 91,
      "outputs": [
        {
          "output_type": "stream",
          "name": "stdout",
          "text": [
            "Saving TensorBoard log files to: model_logs/LSTM_model/20230618-035229\n",
            "Epoch 1/5\n",
            "215/215 [==============================] - 14s 51ms/step - loss: 0.1357 - accuracy: 0.9552 - val_loss: 0.7648 - val_accuracy: 0.7651\n",
            "Epoch 2/5\n",
            "215/215 [==============================] - 3s 12ms/step - loss: 0.0699 - accuracy: 0.9726 - val_loss: 0.9648 - val_accuracy: 0.7743\n",
            "Epoch 3/5\n",
            "215/215 [==============================] - 2s 11ms/step - loss: 0.0548 - accuracy: 0.9769 - val_loss: 1.3327 - val_accuracy: 0.7612\n",
            "Epoch 4/5\n",
            "215/215 [==============================] - 2s 9ms/step - loss: 0.0540 - accuracy: 0.9762 - val_loss: 1.0645 - val_accuracy: 0.7808\n",
            "Epoch 5/5\n",
            "215/215 [==============================] - 3s 12ms/step - loss: 0.0457 - accuracy: 0.9791 - val_loss: 1.2784 - val_accuracy: 0.7651\n"
          ]
        },
        {
          "output_type": "execute_result",
          "data": {
            "text/plain": [
              "<keras.callbacks.History at 0x7fa35153f2b0>"
            ]
          },
          "metadata": {},
          "execution_count": 91
        }
      ]
    },
    {
      "cell_type": "code",
      "source": [
        "loss_accuracy = model_2.evaluate(Val_sentence , Val_label)\n",
        "print(\"Accuracy : \" , loss_accuracy[1]*100)\n",
        "print(\"Loss : \" , loss_accuracy[0])"
      ],
      "metadata": {
        "colab": {
          "base_uri": "https://localhost:8080/"
        },
        "id": "dHIDDjFvJJJi",
        "outputId": "af078dfb-0fac-4dfc-d75a-3debc9738697"
      },
      "execution_count": 92,
      "outputs": [
        {
          "output_type": "stream",
          "name": "stdout",
          "text": [
            "24/24 [==============================] - 0s 5ms/step - loss: 1.2784 - accuracy: 0.7651\n",
            "Accuracy :  76.50918364524841\n",
            "Loss :  1.278412103652954\n"
          ]
        }
      ]
    },
    {
      "cell_type": "code",
      "source": [
        "model_2_pred = model_2.predict(Val_sentence)\n",
        "model_2_pred[:10]"
      ],
      "metadata": {
        "colab": {
          "base_uri": "https://localhost:8080/"
        },
        "id": "GmPLY0d4JYBL",
        "outputId": "e17f07c3-6bc7-4f06-ecc7-1debad5ab247"
      },
      "execution_count": 93,
      "outputs": [
        {
          "output_type": "stream",
          "name": "stdout",
          "text": [
            "24/24 [==============================] - 1s 3ms/step\n"
          ]
        },
        {
          "output_type": "execute_result",
          "data": {
            "text/plain": [
              "array([[2.6825478e-03],\n",
              "       [7.1614182e-01],\n",
              "       [9.9979740e-01],\n",
              "       [3.4010470e-02],\n",
              "       [8.2123232e-05],\n",
              "       [9.9951839e-01],\n",
              "       [9.7651643e-01],\n",
              "       [9.9981707e-01],\n",
              "       [9.9978870e-01],\n",
              "       [8.1378914e-02]], dtype=float32)"
            ]
          },
          "metadata": {},
          "execution_count": 93
        }
      ]
    },
    {
      "cell_type": "code",
      "source": [
        "model_2_pred = model_2_pred.round()\n",
        "model_2_pred[:10]"
      ],
      "metadata": {
        "colab": {
          "base_uri": "https://localhost:8080/"
        },
        "id": "3esD_7CtJLDK",
        "outputId": "32cbabdf-4aed-4aa8-814a-e4c2956fa555"
      },
      "execution_count": 94,
      "outputs": [
        {
          "output_type": "execute_result",
          "data": {
            "text/plain": [
              "array([[0.],\n",
              "       [1.],\n",
              "       [1.],\n",
              "       [0.],\n",
              "       [0.],\n",
              "       [1.],\n",
              "       [1.],\n",
              "       [1.],\n",
              "       [1.],\n",
              "       [0.]], dtype=float32)"
            ]
          },
          "metadata": {},
          "execution_count": 94
        }
      ]
    },
    {
      "cell_type": "code",
      "source": [
        "model_2_results = calculate_results(y_true=Val_label,\n",
        "                                    y_pred=model_2_pred)\n",
        "model_2_results"
      ],
      "metadata": {
        "colab": {
          "base_uri": "https://localhost:8080/"
        },
        "id": "7laCrk7eJLtg",
        "outputId": "1879f767-dec0-45b3-804d-04dcfb496f9a"
      },
      "execution_count": 95,
      "outputs": [
        {
          "output_type": "execute_result",
          "data": {
            "text/plain": [
              "{'accuracy': 76.50918635170603,\n",
              " 'precision': 0.7647204511375334,\n",
              " 'recall': 0.7650918635170604,\n",
              " 'f1': 0.7647456620231007}"
            ]
          },
          "metadata": {},
          "execution_count": 95
        }
      ]
    },
    {
      "cell_type": "markdown",
      "source": [
        "# ***Compare Model 0 & 2 ***"
      ],
      "metadata": {
        "id": "COfJeh9qJwW9"
      }
    },
    {
      "cell_type": "code",
      "source": [
        "np.array(list(model_2_results.values())) > np.array(list(model_0_results.values()))"
      ],
      "metadata": {
        "colab": {
          "base_uri": "https://localhost:8080/"
        },
        "id": "f-EW9HxJJ2zt",
        "outputId": "ab99a70b-33f3-49b6-dd90-2868bf811fef"
      },
      "execution_count": 96,
      "outputs": [
        {
          "output_type": "execute_result",
          "data": {
            "text/plain": [
              "array([False, False, False, False])"
            ]
          },
          "metadata": {},
          "execution_count": 96
        }
      ]
    },
    {
      "cell_type": "markdown",
      "source": [
        "# ***Model 3 : GRU (RNN)***\n",
        "\n",
        "GRU - Gated Recurrent\n",
        "\n",
        "It is similar to LSTM"
      ],
      "metadata": {
        "id": "0ch7YbpFJL33"
      }
    },
    {
      "cell_type": "code",
      "source": [
        "input = layers.Input(shape = (1,) , dtype = \"string\")\n",
        "x = text_vectorizer(input)\n",
        "x = embedding(x)\n",
        "x = layers.GRU(units = 64 , return_sequences = True)(x)\n",
        "print(x.shape)\n",
        "x = layers.GRU(units = 64 )(x)\n",
        "print(x.shape)\n",
        "output = layers.Dense(units = 1 , activation = \"sigmoid\")(x)\n",
        "print(x.shape)\n",
        "model_3 = Model(input , output , name = \"model_3_GRU\")"
      ],
      "metadata": {
        "colab": {
          "base_uri": "https://localhost:8080/"
        },
        "id": "ceQsveFWJXRR",
        "outputId": "260038af-e4d4-48ff-c2f9-5dc3f286ccbf"
      },
      "execution_count": 97,
      "outputs": [
        {
          "output_type": "stream",
          "name": "stdout",
          "text": [
            "(None, 15, 64)\n",
            "(None, 64)\n",
            "(None, 64)\n"
          ]
        }
      ]
    },
    {
      "cell_type": "code",
      "source": [
        "model_3.summary()"
      ],
      "metadata": {
        "colab": {
          "base_uri": "https://localhost:8080/"
        },
        "id": "jVrZo6OhKINg",
        "outputId": "f9ffd9b8-c670-4534-8ab1-54ea4772f32b"
      },
      "execution_count": 98,
      "outputs": [
        {
          "output_type": "stream",
          "name": "stdout",
          "text": [
            "Model: \"model_3_GRU\"\n",
            "_________________________________________________________________\n",
            " Layer (type)                Output Shape              Param #   \n",
            "=================================================================\n",
            " input_7 (InputLayer)        [(None, 1)]               0         \n",
            "                                                                 \n",
            " text_vectorization_1 (TextV  (None, 15)               0         \n",
            " ectorization)                                                   \n",
            "                                                                 \n",
            " embedding_1 (Embedding)     (None, 15, 128)           1280000   \n",
            "                                                                 \n",
            " gru (GRU)                   (None, 15, 64)            37248     \n",
            "                                                                 \n",
            " gru_1 (GRU)                 (None, 64)                24960     \n",
            "                                                                 \n",
            " dense_6 (Dense)             (None, 1)                 65        \n",
            "                                                                 \n",
            "=================================================================\n",
            "Total params: 1,342,273\n",
            "Trainable params: 1,342,273\n",
            "Non-trainable params: 0\n",
            "_________________________________________________________________\n"
          ]
        }
      ]
    },
    {
      "cell_type": "code",
      "source": [
        "model_3.compile(loss = \"binary_crossentropy\" , optimizer = \"adam\" , metrics = [\"accuracy\"])\n",
        "\n",
        "model_3.fit(train_sentence , train_label , validation_data = (Val_sentence , Val_label) , epochs = 5 ,\n",
        "                callbacks = [create_tensorboard_callback(dir_name = SAVE_DIR ,\n",
        "                                                 experiment_name = \"GRU_model\")]\n",
        "              )"
      ],
      "metadata": {
        "colab": {
          "base_uri": "https://localhost:8080/"
        },
        "id": "xr1c0MKEK0Ax",
        "outputId": "4c6a1522-db9f-488e-b5b4-2a2ceda40e38"
      },
      "execution_count": 99,
      "outputs": [
        {
          "output_type": "stream",
          "name": "stdout",
          "text": [
            "Saving TensorBoard log files to: model_logs/GRU_model/20230618-035254\n",
            "Epoch 1/5\n",
            "215/215 [==============================] - 15s 53ms/step - loss: 0.1199 - accuracy: 0.9602 - val_loss: 0.8290 - val_accuracy: 0.7638\n",
            "Epoch 2/5\n",
            "215/215 [==============================] - 3s 13ms/step - loss: 0.0679 - accuracy: 0.9740 - val_loss: 0.8816 - val_accuracy: 0.7664\n",
            "Epoch 3/5\n",
            "215/215 [==============================] - 3s 12ms/step - loss: 0.0508 - accuracy: 0.9787 - val_loss: 1.4443 - val_accuracy: 0.7585\n",
            "Epoch 4/5\n",
            "215/215 [==============================] - 3s 13ms/step - loss: 0.0488 - accuracy: 0.9788 - val_loss: 1.1787 - val_accuracy: 0.7717\n",
            "Epoch 5/5\n",
            "215/215 [==============================] - 3s 12ms/step - loss: 0.0411 - accuracy: 0.9813 - val_loss: 1.3338 - val_accuracy: 0.7743\n"
          ]
        },
        {
          "output_type": "execute_result",
          "data": {
            "text/plain": [
              "<keras.callbacks.History at 0x7fa35acf7f70>"
            ]
          },
          "metadata": {},
          "execution_count": 99
        }
      ]
    },
    {
      "cell_type": "code",
      "source": [
        "loss_accuracy = model_3.evaluate(Val_sentence , Val_label)\n",
        "print(\"Accuracy : \" , loss_accuracy[1]*100)\n",
        "print(\"Loss : \" , loss_accuracy[0])"
      ],
      "metadata": {
        "colab": {
          "base_uri": "https://localhost:8080/"
        },
        "id": "nUDdg13ZK3w4",
        "outputId": "3a3f7f47-f441-4338-b5f9-eb0d3f2f457e"
      },
      "execution_count": 100,
      "outputs": [
        {
          "output_type": "stream",
          "name": "stdout",
          "text": [
            "24/24 [==============================] - 0s 4ms/step - loss: 1.3338 - accuracy: 0.7743\n",
            "Accuracy :  77.42782235145569\n",
            "Loss :  1.3337738513946533\n"
          ]
        }
      ]
    },
    {
      "cell_type": "code",
      "source": [
        "model_3_pred = model_3.predict(Val_sentence)\n",
        "model_3_pred[:10]"
      ],
      "metadata": {
        "colab": {
          "base_uri": "https://localhost:8080/"
        },
        "id": "tPVHqkhXLI6n",
        "outputId": "0ef14d12-176a-4cac-8038-413a5ba8e3c1"
      },
      "execution_count": 101,
      "outputs": [
        {
          "output_type": "stream",
          "name": "stdout",
          "text": [
            "24/24 [==============================] - 1s 3ms/step\n"
          ]
        },
        {
          "output_type": "execute_result",
          "data": {
            "text/plain": [
              "array([[6.1387836e-04],\n",
              "       [7.5901318e-01],\n",
              "       [9.9983311e-01],\n",
              "       [1.4530092e-01],\n",
              "       [1.1678519e-04],\n",
              "       [9.9970287e-01],\n",
              "       [9.9029875e-01],\n",
              "       [9.9984729e-01],\n",
              "       [9.9983585e-01],\n",
              "       [2.6630524e-01]], dtype=float32)"
            ]
          },
          "metadata": {},
          "execution_count": 101
        }
      ]
    },
    {
      "cell_type": "code",
      "source": [
        "model_3_pred = model_3_pred.round()\n",
        "model_3_pred[:10]"
      ],
      "metadata": {
        "colab": {
          "base_uri": "https://localhost:8080/"
        },
        "id": "xFwBvwy0LXh-",
        "outputId": "500f508e-4c8a-4cff-f91b-7f3adca018e5"
      },
      "execution_count": 102,
      "outputs": [
        {
          "output_type": "execute_result",
          "data": {
            "text/plain": [
              "array([[0.],\n",
              "       [1.],\n",
              "       [1.],\n",
              "       [0.],\n",
              "       [0.],\n",
              "       [1.],\n",
              "       [1.],\n",
              "       [1.],\n",
              "       [1.],\n",
              "       [0.]], dtype=float32)"
            ]
          },
          "metadata": {},
          "execution_count": 102
        }
      ]
    },
    {
      "cell_type": "code",
      "source": [
        "model_3_results = calculate_results(y_true=Val_label,\n",
        "                                    y_pred=model_3_pred)\n",
        "model_3_results"
      ],
      "metadata": {
        "colab": {
          "base_uri": "https://localhost:8080/"
        },
        "id": "SD_HuS19LbVc",
        "outputId": "419e1d48-ee0e-4444-bf25-59bf5fbcf1ec"
      },
      "execution_count": 103,
      "outputs": [
        {
          "output_type": "execute_result",
          "data": {
            "text/plain": [
              "{'accuracy': 77.42782152230971,\n",
              " 'precision': 0.7747317935775544,\n",
              " 'recall': 0.7742782152230971,\n",
              " 'f1': 0.7729333240681188}"
            ]
          },
          "metadata": {},
          "execution_count": 103
        }
      ]
    },
    {
      "cell_type": "markdown",
      "source": [
        "# ***Comparing model 0 and 3***"
      ],
      "metadata": {
        "id": "T-Tf_Q-dLrjl"
      }
    },
    {
      "cell_type": "code",
      "source": [
        "np.array(list(model_3_results.values())) > np.array(list(model_0_results.values()))"
      ],
      "metadata": {
        "colab": {
          "base_uri": "https://localhost:8080/"
        },
        "id": "0OjROOtiLnCv",
        "outputId": "23328845-6735-4ab4-faf2-8e56d8aad276"
      },
      "execution_count": 104,
      "outputs": [
        {
          "output_type": "execute_result",
          "data": {
            "text/plain": [
              "array([False, False, False, False])"
            ]
          },
          "metadata": {},
          "execution_count": 104
        }
      ]
    },
    {
      "cell_type": "code",
      "source": [],
      "metadata": {
        "id": "yjyAtmjcLqNr"
      },
      "execution_count": 104,
      "outputs": []
    },
    {
      "cell_type": "code",
      "source": [],
      "metadata": {
        "id": "XehaGUujLwU1"
      },
      "execution_count": 104,
      "outputs": []
    },
    {
      "cell_type": "markdown",
      "source": [
        "\n",
        "\n",
        "# ***Bidirectional RNN***\n",
        "Combination of LSTM & GRU\n",
        "\n"
      ],
      "metadata": {
        "id": "ssbnRayULwkl"
      }
    },
    {
      "cell_type": "code",
      "source": [
        "input = layers.Input(shape = (1,) , dtype = \"string\")\n",
        "x = text_vectorizer(input)\n",
        "x = embedding(x)\n",
        "print(x.shape)\n",
        "x = layers.Bidirectional(layers.LSTM(units = 64 , return_sequences = True))(x)\n",
        "print(x.shape)\n",
        "x = layers.Bidirectional(layers.LSTM(units = 64))(x)\n",
        "print(x.shape)\n",
        "output = layers.Dense(units = 1 , activation = \"sigmoid\")(x)\n",
        "print(x.shape)\n",
        "model_4 = Model(input , output , name = \"model_4_Bodirectional\")"
      ],
      "metadata": {
        "colab": {
          "base_uri": "https://localhost:8080/"
        },
        "id": "iURVxqauURKm",
        "outputId": "2e270e3b-5312-4ce9-d262-3e04ab63a501"
      },
      "execution_count": 105,
      "outputs": [
        {
          "output_type": "stream",
          "name": "stdout",
          "text": [
            "(None, 15, 128)\n",
            "(None, 15, 128)\n",
            "(None, 128)\n",
            "(None, 128)\n"
          ]
        }
      ]
    },
    {
      "cell_type": "code",
      "source": [
        "model_4.summary()"
      ],
      "metadata": {
        "colab": {
          "base_uri": "https://localhost:8080/"
        },
        "id": "XE0OxbU9UnpF",
        "outputId": "857dcfaf-644d-4a61-d278-758733af69f5"
      },
      "execution_count": 106,
      "outputs": [
        {
          "output_type": "stream",
          "name": "stdout",
          "text": [
            "Model: \"model_4_Bodirectional\"\n",
            "_________________________________________________________________\n",
            " Layer (type)                Output Shape              Param #   \n",
            "=================================================================\n",
            " input_8 (InputLayer)        [(None, 1)]               0         \n",
            "                                                                 \n",
            " text_vectorization_1 (TextV  (None, 15)               0         \n",
            " ectorization)                                                   \n",
            "                                                                 \n",
            " embedding_1 (Embedding)     (None, 15, 128)           1280000   \n",
            "                                                                 \n",
            " bidirectional (Bidirectiona  (None, 15, 128)          98816     \n",
            " l)                                                              \n",
            "                                                                 \n",
            " bidirectional_1 (Bidirectio  (None, 128)              98816     \n",
            " nal)                                                            \n",
            "                                                                 \n",
            " dense_7 (Dense)             (None, 1)                 129       \n",
            "                                                                 \n",
            "=================================================================\n",
            "Total params: 1,477,761\n",
            "Trainable params: 1,477,761\n",
            "Non-trainable params: 0\n",
            "_________________________________________________________________\n"
          ]
        }
      ]
    },
    {
      "cell_type": "code",
      "source": [
        "model_4.compile(loss = \"binary_crossentropy\" , optimizer = \"adam\" , metrics = [\"accuracy\"])\n",
        "\n",
        "model_4.fit(train_sentence , train_label , validation_data = (Val_sentence , Val_label) , epochs = 5 ,\n",
        "                callbacks = [create_tensorboard_callback(dir_name = SAVE_DIR ,\n",
        "                                                 experiment_name = \"BIDIRECTIONAL_model\")]\n",
        "              )"
      ],
      "metadata": {
        "colab": {
          "base_uri": "https://localhost:8080/"
        },
        "id": "yQg_chxUVkDI",
        "outputId": "70e35695-46e2-4187-b9cc-fc938aa97379"
      },
      "execution_count": 107,
      "outputs": [
        {
          "output_type": "stream",
          "name": "stdout",
          "text": [
            "Saving TensorBoard log files to: model_logs/BIDIRECTIONAL_model/20230618-035340\n",
            "Epoch 1/5\n",
            "215/215 [==============================] - 20s 58ms/step - loss: 0.0890 - accuracy: 0.9673 - val_loss: 1.8831 - val_accuracy: 0.7100\n",
            "Epoch 2/5\n",
            "215/215 [==============================] - 4s 17ms/step - loss: 0.0559 - accuracy: 0.9762 - val_loss: 0.9919 - val_accuracy: 0.7769\n",
            "Epoch 3/5\n",
            "215/215 [==============================] - 4s 18ms/step - loss: 0.0443 - accuracy: 0.9790 - val_loss: 1.3753 - val_accuracy: 0.7572\n",
            "Epoch 4/5\n",
            "215/215 [==============================] - 3s 13ms/step - loss: 0.0470 - accuracy: 0.9787 - val_loss: 1.2961 - val_accuracy: 0.7664\n",
            "Epoch 5/5\n",
            "215/215 [==============================] - 3s 14ms/step - loss: 0.0352 - accuracy: 0.9832 - val_loss: 1.7316 - val_accuracy: 0.7743\n"
          ]
        },
        {
          "output_type": "execute_result",
          "data": {
            "text/plain": [
              "<keras.callbacks.History at 0x7fa350452ef0>"
            ]
          },
          "metadata": {},
          "execution_count": 107
        }
      ]
    },
    {
      "cell_type": "code",
      "source": [
        "loss_accuracy = model_4.evaluate(Val_sentence , Val_label)\n",
        "print(\"Accuracy : \" , loss_accuracy[1]*100)\n",
        "print(\"Loss : \" , loss_accuracy[0])"
      ],
      "metadata": {
        "colab": {
          "base_uri": "https://localhost:8080/"
        },
        "id": "QxoeyuYjVy0A",
        "outputId": "f83ec43a-4bba-4f7b-eaa3-efc4956eb89a"
      },
      "execution_count": 108,
      "outputs": [
        {
          "output_type": "stream",
          "name": "stdout",
          "text": [
            "24/24 [==============================] - 0s 8ms/step - loss: 1.7316 - accuracy: 0.7743\n",
            "Accuracy :  77.42782235145569\n",
            "Loss :  1.7316367626190186\n"
          ]
        }
      ]
    },
    {
      "cell_type": "code",
      "source": [
        "model_4_pred = model_4.predict(Val_sentence)\n",
        "model_4_pred[:10]"
      ],
      "metadata": {
        "colab": {
          "base_uri": "https://localhost:8080/"
        },
        "id": "34rXvtFRV21U",
        "outputId": "cc4bad1e-bd3a-48b8-ff74-4cda881abeac"
      },
      "execution_count": 109,
      "outputs": [
        {
          "output_type": "stream",
          "name": "stdout",
          "text": [
            "24/24 [==============================] - 2s 7ms/step\n"
          ]
        },
        {
          "output_type": "execute_result",
          "data": {
            "text/plain": [
              "array([[6.6602355e-05],\n",
              "       [7.0268106e-01],\n",
              "       [9.9994028e-01],\n",
              "       [1.2747474e-01],\n",
              "       [9.4226134e-06],\n",
              "       [9.9993491e-01],\n",
              "       [9.8033386e-01],\n",
              "       [9.9995434e-01],\n",
              "       [9.9991870e-01],\n",
              "       [7.1958490e-02]], dtype=float32)"
            ]
          },
          "metadata": {},
          "execution_count": 109
        }
      ]
    },
    {
      "cell_type": "code",
      "source": [
        "model_4_pred = model_4_pred.round()\n",
        "model_4_pred[:10]"
      ],
      "metadata": {
        "colab": {
          "base_uri": "https://localhost:8080/"
        },
        "id": "EdX3JHm_V24H",
        "outputId": "0753ad80-d040-46ab-a191-dbe0ef73791f"
      },
      "execution_count": 110,
      "outputs": [
        {
          "output_type": "execute_result",
          "data": {
            "text/plain": [
              "array([[0.],\n",
              "       [1.],\n",
              "       [1.],\n",
              "       [0.],\n",
              "       [0.],\n",
              "       [1.],\n",
              "       [1.],\n",
              "       [1.],\n",
              "       [1.],\n",
              "       [0.]], dtype=float32)"
            ]
          },
          "metadata": {},
          "execution_count": 110
        }
      ]
    },
    {
      "cell_type": "code",
      "source": [
        "model_4_results = calculate_results(y_true=Val_label,\n",
        "                                    y_pred=model_4_pred)\n",
        "model_4_results"
      ],
      "metadata": {
        "colab": {
          "base_uri": "https://localhost:8080/"
        },
        "id": "QeIUTRUuWGZo",
        "outputId": "8caaa86f-1ecd-4644-bf53-cfd8f3eb97cf"
      },
      "execution_count": 111,
      "outputs": [
        {
          "output_type": "execute_result",
          "data": {
            "text/plain": [
              "{'accuracy': 77.42782152230971,\n",
              " 'precision': 0.7755035361291913,\n",
              " 'recall': 0.7742782152230971,\n",
              " 'f1': 0.7724787248794153}"
            ]
          },
          "metadata": {},
          "execution_count": 111
        }
      ]
    },
    {
      "cell_type": "code",
      "source": [],
      "metadata": {
        "id": "qd062szFWJW0"
      },
      "execution_count": 111,
      "outputs": []
    },
    {
      "cell_type": "markdown",
      "source": [
        "# ***Comparing Model 0 & 4***"
      ],
      "metadata": {
        "id": "JDVK0Ic0WK8k"
      }
    },
    {
      "cell_type": "code",
      "source": [
        "np.array(list(model_4_results.values())) > np.array(list(model_0_results.values()))"
      ],
      "metadata": {
        "colab": {
          "base_uri": "https://localhost:8080/"
        },
        "id": "-WkXxFbEWlKV",
        "outputId": "fe4b02f8-0e8c-4368-ecb8-bdeac9915f71"
      },
      "execution_count": 112,
      "outputs": [
        {
          "output_type": "execute_result",
          "data": {
            "text/plain": [
              "array([False, False, False, False])"
            ]
          },
          "metadata": {},
          "execution_count": 112
        }
      ]
    },
    {
      "cell_type": "code",
      "source": [
        ""
      ],
      "metadata": {
        "id": "AXzNi_PgWsWR"
      },
      "execution_count": 112,
      "outputs": []
    },
    {
      "cell_type": "markdown",
      "source": [
        "# ***Model 5 : Conv1D(CNN)***"
      ],
      "metadata": {
        "id": "daCHOjhX_Gli"
      }
    },
    {
      "cell_type": "code",
      "source": [
        "embedded_text = embedding(text_vectorizer([\"This is a test sentence\"]))\n",
        "conv_1d = layers.Conv1D(filters = 32 , kernel_size = 5 , activation = \"relu\" , padding = \"same\")\n",
        "conv_1d_output = conv_1d(embedded_text)\n",
        "max_pool = layers.GlobalMaxPool1D()\n",
        "max_pool_output = max_pool(conv_1d_output)\n"
      ],
      "metadata": {
        "id": "1zBWCJVr_Rg1"
      },
      "execution_count": 113,
      "outputs": []
    },
    {
      "cell_type": "code",
      "source": [
        "embedded_text"
      ],
      "metadata": {
        "colab": {
          "base_uri": "https://localhost:8080/"
        },
        "id": "OXxZAinSAE4L",
        "outputId": "ac1902d2-910c-4f41-a460-afe2c2a7a8a2"
      },
      "execution_count": 114,
      "outputs": [
        {
          "output_type": "execute_result",
          "data": {
            "text/plain": [
              "<tf.Tensor: shape=(1, 15, 128), dtype=float32, numpy=\n",
              "array([[[-0.15421118, -0.08943924,  0.00473382, ...,  0.01681474,\n",
              "          0.06347811,  0.00528523],\n",
              "        [-0.16457976, -0.00151918, -0.0721127 , ..., -0.00077643,\n",
              "         -0.05295511, -0.03737142],\n",
              "        [-0.08350171,  0.06818415, -0.07106464, ...,  0.00891216,\n",
              "         -0.0403527 ,  0.08735679],\n",
              "        ...,\n",
              "        [-0.00897039,  0.02117352, -0.03612978, ..., -0.0532719 ,\n",
              "          0.01394746,  0.02914197],\n",
              "        [-0.00897039,  0.02117352, -0.03612978, ..., -0.0532719 ,\n",
              "          0.01394746,  0.02914197],\n",
              "        [-0.00897039,  0.02117352, -0.03612978, ..., -0.0532719 ,\n",
              "          0.01394746,  0.02914197]]], dtype=float32)>"
            ]
          },
          "metadata": {},
          "execution_count": 114
        }
      ]
    },
    {
      "cell_type": "code",
      "source": [
        "embedded_text.shape"
      ],
      "metadata": {
        "colab": {
          "base_uri": "https://localhost:8080/"
        },
        "id": "1ghlNsvICNQ-",
        "outputId": "e0853084-5745-4a86-9c7c-69c600d43387"
      },
      "execution_count": 115,
      "outputs": [
        {
          "output_type": "execute_result",
          "data": {
            "text/plain": [
              "TensorShape([1, 15, 128])"
            ]
          },
          "metadata": {},
          "execution_count": 115
        }
      ]
    },
    {
      "cell_type": "code",
      "source": [
        "conv_1d_output"
      ],
      "metadata": {
        "colab": {
          "base_uri": "https://localhost:8080/"
        },
        "id": "5tjkzjuiAOEP",
        "outputId": "a6b734da-df83-4272-f1f0-bc407867d041"
      },
      "execution_count": 116,
      "outputs": [
        {
          "output_type": "execute_result",
          "data": {
            "text/plain": [
              "<tf.Tensor: shape=(1, 15, 32), dtype=float32, numpy=\n",
              "array([[[0.        , 0.        , 0.1367854 , 0.        , 0.        ,\n",
              "         0.        , 0.        , 0.14369087, 0.04611303, 0.10121339,\n",
              "         0.        , 0.00122748, 0.07374576, 0.        , 0.        ,\n",
              "         0.01400049, 0.06514973, 0.0786808 , 0.        , 0.        ,\n",
              "         0.11332539, 0.        , 0.        , 0.05667549, 0.        ,\n",
              "         0.08403288, 0.        , 0.15962082, 0.        , 0.0455352 ,\n",
              "         0.        , 0.000921  ],\n",
              "        [0.        , 0.09546896, 0.11828124, 0.        , 0.        ,\n",
              "         0.02952744, 0.        , 0.        , 0.06398175, 0.        ,\n",
              "         0.03328656, 0.        , 0.        , 0.        , 0.        ,\n",
              "         0.24369265, 0.02493094, 0.11323711, 0.04054659, 0.        ,\n",
              "         0.        , 0.        , 0.        , 0.        , 0.06279887,\n",
              "         0.        , 0.        , 0.15407962, 0.04550057, 0.        ,\n",
              "         0.06438623, 0.00615996],\n",
              "        [0.09657662, 0.        , 0.03479913, 0.        , 0.        ,\n",
              "         0.        , 0.12405688, 0.        , 0.        , 0.26236087,\n",
              "         0.08096758, 0.05023627, 0.02044207, 0.        , 0.        ,\n",
              "         0.        , 0.04822642, 0.        , 0.        , 0.        ,\n",
              "         0.1880591 , 0.        , 0.        , 0.04857219, 0.09899282,\n",
              "         0.06288159, 0.        , 0.        , 0.        , 0.        ,\n",
              "         0.        , 0.        ],\n",
              "        [0.        , 0.01617946, 0.07575112, 0.04142493, 0.08157471,\n",
              "         0.04575044, 0.04626111, 0.        , 0.00396789, 0.01888076,\n",
              "         0.        , 0.        , 0.        , 0.        , 0.0398106 ,\n",
              "         0.16364868, 0.        , 0.04680937, 0.11796805, 0.07383958,\n",
              "         0.        , 0.01193608, 0.        , 0.00216688, 0.        ,\n",
              "         0.        , 0.        , 0.13670814, 0.        , 0.12408376,\n",
              "         0.04247668, 0.16998804],\n",
              "        [0.24599347, 0.        , 0.03053126, 0.1297777 , 0.0297041 ,\n",
              "         0.        , 0.        , 0.        , 0.08176012, 0.14601493,\n",
              "         0.        , 0.        , 0.        , 0.07421552, 0.05156733,\n",
              "         0.01573324, 0.        , 0.        , 0.        , 0.20761625,\n",
              "         0.        , 0.        , 0.05160464, 0.16491318, 0.        ,\n",
              "         0.05711779, 0.00692149, 0.04323184, 0.12960708, 0.        ,\n",
              "         0.        , 0.21594784],\n",
              "        [0.00426418, 0.        , 0.        , 0.09630985, 0.        ,\n",
              "         0.05456993, 0.12214731, 0.        , 0.0793861 , 0.01861928,\n",
              "         0.10140978, 0.        , 0.0698026 , 0.02881603, 0.        ,\n",
              "         0.        , 0.        , 0.02446293, 0.01208549, 0.07018194,\n",
              "         0.0379823 , 0.        , 0.        , 0.02616302, 0.10825364,\n",
              "         0.02356284, 0.        , 0.        , 0.15649208, 0.        ,\n",
              "         0.02602572, 0.19796744],\n",
              "        [0.02960527, 0.01826592, 0.06838744, 0.06734759, 0.03720239,\n",
              "         0.02491311, 0.03464074, 0.        , 0.01785852, 0.        ,\n",
              "         0.04726838, 0.        , 0.        , 0.00342061, 0.        ,\n",
              "         0.01725314, 0.        , 0.        , 0.07890562, 0.00784178,\n",
              "         0.02057451, 0.        , 0.        , 0.04046657, 0.02379471,\n",
              "         0.06853539, 0.01216281, 0.02693546, 0.16712555, 0.        ,\n",
              "         0.        , 0.1256309 ],\n",
              "        [0.00570822, 0.01279755, 0.06201761, 0.05073614, 0.08372408,\n",
              "         0.0366628 , 0.        , 0.        , 0.06118501, 0.        ,\n",
              "         0.04201243, 0.02239671, 0.        , 0.07461423, 0.        ,\n",
              "         0.0097156 , 0.        , 0.        , 0.        , 0.        ,\n",
              "         0.        , 0.        , 0.        , 0.05779266, 0.        ,\n",
              "         0.06239303, 0.        , 0.00839555, 0.11606143, 0.        ,\n",
              "         0.        , 0.12328427],\n",
              "        [0.00570822, 0.01279755, 0.06201761, 0.05073614, 0.08372408,\n",
              "         0.0366628 , 0.        , 0.        , 0.06118501, 0.        ,\n",
              "         0.04201243, 0.02239671, 0.        , 0.07461423, 0.        ,\n",
              "         0.0097156 , 0.        , 0.        , 0.        , 0.        ,\n",
              "         0.        , 0.        , 0.        , 0.05779266, 0.        ,\n",
              "         0.06239303, 0.        , 0.00839555, 0.11606143, 0.        ,\n",
              "         0.        , 0.12328427],\n",
              "        [0.00570822, 0.01279755, 0.06201761, 0.05073614, 0.08372408,\n",
              "         0.0366628 , 0.        , 0.        , 0.06118501, 0.        ,\n",
              "         0.04201243, 0.02239671, 0.        , 0.07461423, 0.        ,\n",
              "         0.0097156 , 0.        , 0.        , 0.        , 0.        ,\n",
              "         0.        , 0.        , 0.        , 0.05779266, 0.        ,\n",
              "         0.06239303, 0.        , 0.00839555, 0.11606143, 0.        ,\n",
              "         0.        , 0.12328427],\n",
              "        [0.00570822, 0.01279755, 0.06201761, 0.05073614, 0.08372408,\n",
              "         0.0366628 , 0.        , 0.        , 0.06118501, 0.        ,\n",
              "         0.04201243, 0.02239671, 0.        , 0.07461423, 0.        ,\n",
              "         0.0097156 , 0.        , 0.        , 0.        , 0.        ,\n",
              "         0.        , 0.        , 0.        , 0.05779266, 0.        ,\n",
              "         0.06239303, 0.        , 0.00839555, 0.11606143, 0.        ,\n",
              "         0.        , 0.12328427],\n",
              "        [0.00570822, 0.01279755, 0.06201761, 0.05073614, 0.08372408,\n",
              "         0.0366628 , 0.        , 0.        , 0.06118501, 0.        ,\n",
              "         0.04201243, 0.02239671, 0.        , 0.07461423, 0.        ,\n",
              "         0.0097156 , 0.        , 0.        , 0.        , 0.        ,\n",
              "         0.        , 0.        , 0.        , 0.05779266, 0.        ,\n",
              "         0.06239303, 0.        , 0.00839555, 0.11606143, 0.        ,\n",
              "         0.        , 0.12328427],\n",
              "        [0.00570822, 0.01279755, 0.06201761, 0.05073614, 0.08372408,\n",
              "         0.0366628 , 0.        , 0.        , 0.06118501, 0.        ,\n",
              "         0.04201243, 0.02239671, 0.        , 0.07461423, 0.        ,\n",
              "         0.0097156 , 0.        , 0.        , 0.        , 0.        ,\n",
              "         0.        , 0.        , 0.        , 0.05779266, 0.        ,\n",
              "         0.06239303, 0.        , 0.00839555, 0.11606143, 0.        ,\n",
              "         0.        , 0.12328427],\n",
              "        [0.        , 0.        , 0.03734921, 0.02454517, 0.06107884,\n",
              "         0.        , 0.        , 0.        , 0.03158224, 0.        ,\n",
              "         0.04596015, 0.02334862, 0.        , 0.09313133, 0.        ,\n",
              "         0.        , 0.        , 0.        , 0.00372498, 0.        ,\n",
              "         0.        , 0.        , 0.        , 0.        , 0.        ,\n",
              "         0.02037754, 0.        , 0.        , 0.09207827, 0.        ,\n",
              "         0.        , 0.1234208 ],\n",
              "        [0.        , 0.        , 0.01825958, 0.01596575, 0.06793278,\n",
              "         0.        , 0.        , 0.        , 0.02901523, 0.        ,\n",
              "         0.03455286, 0.06006362, 0.00246451, 0.06269242, 0.        ,\n",
              "         0.        , 0.        , 0.        , 0.00307455, 0.00133299,\n",
              "         0.        , 0.        , 0.01039174, 0.        , 0.        ,\n",
              "         0.        , 0.        , 0.        , 0.06532382, 0.        ,\n",
              "         0.        , 0.10953186]]], dtype=float32)>"
            ]
          },
          "metadata": {},
          "execution_count": 116
        }
      ]
    },
    {
      "cell_type": "code",
      "source": [
        "conv_1d_output.shape"
      ],
      "metadata": {
        "colab": {
          "base_uri": "https://localhost:8080/"
        },
        "id": "H9UWth52CLXH",
        "outputId": "ba7fe18c-e0b7-46a4-9ee2-910f04795db7"
      },
      "execution_count": 117,
      "outputs": [
        {
          "output_type": "execute_result",
          "data": {
            "text/plain": [
              "TensorShape([1, 15, 32])"
            ]
          },
          "metadata": {},
          "execution_count": 117
        }
      ]
    },
    {
      "cell_type": "code",
      "source": [
        "max_pool_output"
      ],
      "metadata": {
        "colab": {
          "base_uri": "https://localhost:8080/"
        },
        "id": "U3DuXk9ZCRHr",
        "outputId": "820af8e7-cdd3-400f-e308-7ee8a628fb91"
      },
      "execution_count": 118,
      "outputs": [
        {
          "output_type": "execute_result",
          "data": {
            "text/plain": [
              "<tf.Tensor: shape=(1, 32), dtype=float32, numpy=\n",
              "array([[0.24599347, 0.09546896, 0.1367854 , 0.1297777 , 0.08372408,\n",
              "        0.05456993, 0.12405688, 0.14369087, 0.08176012, 0.26236087,\n",
              "        0.10140978, 0.06006362, 0.07374576, 0.09313133, 0.05156733,\n",
              "        0.24369265, 0.06514973, 0.11323711, 0.11796805, 0.20761625,\n",
              "        0.1880591 , 0.01193608, 0.05160464, 0.16491318, 0.10825364,\n",
              "        0.08403288, 0.01216281, 0.15962082, 0.16712555, 0.12408376,\n",
              "        0.06438623, 0.21594784]], dtype=float32)>"
            ]
          },
          "metadata": {},
          "execution_count": 118
        }
      ]
    },
    {
      "cell_type": "code",
      "source": [
        "max_pool_output.shape"
      ],
      "metadata": {
        "colab": {
          "base_uri": "https://localhost:8080/"
        },
        "id": "O1UHYHuOCUK_",
        "outputId": "e005c667-82ea-4abc-d19f-bb9b14cbe4d1"
      },
      "execution_count": 119,
      "outputs": [
        {
          "output_type": "execute_result",
          "data": {
            "text/plain": [
              "TensorShape([1, 32])"
            ]
          },
          "metadata": {},
          "execution_count": 119
        }
      ]
    },
    {
      "cell_type": "code",
      "source": [
        "embedded_text = embedding(text_vectorizer([\"This is a test sentence\"]))\n",
        "conv_1d = layers.Conv1D(filters = 32 , kernel_size = 5 , activation = \"relu\" )\n",
        "conv_1d_output = conv_1d(embedded_text)\n",
        "max_pool = layers.GlobalMaxPool1D()\n",
        "max_pool_output = max_pool(conv_1d_output)"
      ],
      "metadata": {
        "id": "mzRYITOHCVQd"
      },
      "execution_count": 120,
      "outputs": []
    },
    {
      "cell_type": "code",
      "source": [
        "embedded_text.shape , conv_1d_output.shape , max_pool_output.shape"
      ],
      "metadata": {
        "colab": {
          "base_uri": "https://localhost:8080/"
        },
        "id": "LQ6qyuFNCfbs",
        "outputId": "ece72c28-0275-419f-dec8-c7e13b1482d8"
      },
      "execution_count": 121,
      "outputs": [
        {
          "output_type": "execute_result",
          "data": {
            "text/plain": [
              "(TensorShape([1, 15, 128]), TensorShape([1, 11, 32]), TensorShape([1, 32]))"
            ]
          },
          "metadata": {},
          "execution_count": 121
        }
      ]
    },
    {
      "cell_type": "code",
      "source": [
        "input = layers.Input(shape = (1,) , dtype = \"string\")\n",
        "x = text_vectorizer(input)\n",
        "x = embedding(x)\n",
        "x = layers.Conv1D(filters = 32 , kernel_size = 5 , activation = \"relu\")(x)\n",
        "x = layers.GlobalMaxPool1D()(x)\n",
        "output = layers.Dense(units = 1 , activation = \"sigmoid\")(x)\n",
        "model_5 = Model(input , output , name = \"model_5_conv_1d\")"
      ],
      "metadata": {
        "id": "O4-vnxFSCmrj"
      },
      "execution_count": 122,
      "outputs": []
    },
    {
      "cell_type": "code",
      "source": [
        "model_5.summary()"
      ],
      "metadata": {
        "colab": {
          "base_uri": "https://localhost:8080/"
        },
        "id": "H9BZaTRiDhKd",
        "outputId": "7414f388-4c68-410f-8a65-2e26ab951a04"
      },
      "execution_count": 123,
      "outputs": [
        {
          "output_type": "stream",
          "name": "stdout",
          "text": [
            "Model: \"model_5_conv_1d\"\n",
            "_________________________________________________________________\n",
            " Layer (type)                Output Shape              Param #   \n",
            "=================================================================\n",
            " input_9 (InputLayer)        [(None, 1)]               0         \n",
            "                                                                 \n",
            " text_vectorization_1 (TextV  (None, 15)               0         \n",
            " ectorization)                                                   \n",
            "                                                                 \n",
            " embedding_1 (Embedding)     (None, 15, 128)           1280000   \n",
            "                                                                 \n",
            " conv1d_2 (Conv1D)           (None, 11, 32)            20512     \n",
            "                                                                 \n",
            " global_max_pooling1d_2 (Glo  (None, 32)               0         \n",
            " balMaxPooling1D)                                                \n",
            "                                                                 \n",
            " dense_8 (Dense)             (None, 1)                 33        \n",
            "                                                                 \n",
            "=================================================================\n",
            "Total params: 1,300,545\n",
            "Trainable params: 1,300,545\n",
            "Non-trainable params: 0\n",
            "_________________________________________________________________\n"
          ]
        }
      ]
    },
    {
      "cell_type": "code",
      "source": [
        "model_5.compile(loss = \"binary_crossentropy\" , optimizer = \"adam\" , metrics = [\"accuracy\"])\n",
        "\n",
        "model_5.fit(train_sentence , train_label , validation_data = (Val_sentence , Val_label) , epochs = 5 ,\n",
        "                callbacks = [create_tensorboard_callback(dir_name = SAVE_DIR ,\n",
        "                                                 experiment_name = \"Conv1D_model\")]\n",
        "              )"
      ],
      "metadata": {
        "colab": {
          "base_uri": "https://localhost:8080/"
        },
        "id": "wmX0FTjXEGpp",
        "outputId": "40d01e36-1e58-41a5-cb38-8eed894f48ee"
      },
      "execution_count": 124,
      "outputs": [
        {
          "output_type": "stream",
          "name": "stdout",
          "text": [
            "Saving TensorBoard log files to: model_logs/Conv1D_model/20230618-035433\n",
            "Epoch 1/5\n",
            "215/215 [==============================] - 13s 49ms/step - loss: 0.1210 - accuracy: 0.9581 - val_loss: 0.8530 - val_accuracy: 0.7743\n",
            "Epoch 2/5\n",
            "215/215 [==============================] - 2s 11ms/step - loss: 0.0688 - accuracy: 0.9746 - val_loss: 1.0368 - val_accuracy: 0.7598\n",
            "Epoch 3/5\n",
            "215/215 [==============================] - 2s 10ms/step - loss: 0.0572 - accuracy: 0.9783 - val_loss: 1.1338 - val_accuracy: 0.7585\n",
            "Epoch 4/5\n",
            "215/215 [==============================] - 2s 9ms/step - loss: 0.0508 - accuracy: 0.9790 - val_loss: 1.2347 - val_accuracy: 0.7546\n",
            "Epoch 5/5\n",
            "215/215 [==============================] - 3s 12ms/step - loss: 0.0472 - accuracy: 0.9799 - val_loss: 1.2908 - val_accuracy: 0.7638\n"
          ]
        },
        {
          "output_type": "execute_result",
          "data": {
            "text/plain": [
              "<keras.callbacks.History at 0x7fa347dee200>"
            ]
          },
          "metadata": {},
          "execution_count": 124
        }
      ]
    },
    {
      "cell_type": "code",
      "source": [
        "loss_accuracy = model_5.evaluate(Val_sentence , Val_label)\n",
        "print(\"Accuracy : \" , loss_accuracy[1]*100)\n",
        "print(\"Loss : \" , loss_accuracy[0])"
      ],
      "metadata": {
        "colab": {
          "base_uri": "https://localhost:8080/"
        },
        "id": "3g1MmKhSEc1r",
        "outputId": "2ef0d7f7-b71b-4923-d461-ae7b69a3271a"
      },
      "execution_count": 125,
      "outputs": [
        {
          "output_type": "stream",
          "name": "stdout",
          "text": [
            "24/24 [==============================] - 0s 3ms/step - loss: 1.2908 - accuracy: 0.7638\n",
            "Accuracy :  76.37795209884644\n",
            "Loss :  1.2907716035842896\n"
          ]
        }
      ]
    },
    {
      "cell_type": "code",
      "source": [
        "model_5_pred = model_5.predict(Val_sentence)\n",
        "model_5_pred = model_5_pred.round()\n",
        "model_5_pred[:20]"
      ],
      "metadata": {
        "colab": {
          "base_uri": "https://localhost:8080/"
        },
        "id": "uzcNp7hAEuIe",
        "outputId": "f2ce7981-1168-4ed5-95ab-eeaaf207d5f7"
      },
      "execution_count": 126,
      "outputs": [
        {
          "output_type": "stream",
          "name": "stdout",
          "text": [
            "24/24 [==============================] - 0s 3ms/step\n"
          ]
        },
        {
          "output_type": "execute_result",
          "data": {
            "text/plain": [
              "array([[0.],\n",
              "       [1.],\n",
              "       [1.],\n",
              "       [0.],\n",
              "       [0.],\n",
              "       [1.],\n",
              "       [1.],\n",
              "       [1.],\n",
              "       [1.],\n",
              "       [0.],\n",
              "       [0.],\n",
              "       [1.],\n",
              "       [0.],\n",
              "       [0.],\n",
              "       [0.],\n",
              "       [0.],\n",
              "       [0.],\n",
              "       [0.],\n",
              "       [0.],\n",
              "       [1.]], dtype=float32)"
            ]
          },
          "metadata": {},
          "execution_count": 126
        }
      ]
    },
    {
      "cell_type": "code",
      "source": [
        "model_5_results = calculate_results(y_true=Val_label,\n",
        "                                    y_pred=model_5_pred)\n",
        "model_5_results"
      ],
      "metadata": {
        "colab": {
          "base_uri": "https://localhost:8080/"
        },
        "id": "uOlqo8NJE3yN",
        "outputId": "545c08e3-a697-44b4-fb90-933cd4ef4bb8"
      },
      "execution_count": 127,
      "outputs": [
        {
          "output_type": "execute_result",
          "data": {
            "text/plain": [
              "{'accuracy': 76.37795275590551,\n",
              " 'precision': 0.7647678424871814,\n",
              " 'recall': 0.7637795275590551,\n",
              " 'f1': 0.761896339990086}"
            ]
          },
          "metadata": {},
          "execution_count": 127
        }
      ]
    },
    {
      "cell_type": "code",
      "source": [],
      "metadata": {
        "id": "jvdNi37lE8PM"
      },
      "execution_count": 127,
      "outputs": []
    },
    {
      "cell_type": "markdown",
      "source": [
        "# ***Comparing Model 0 & 5***"
      ],
      "metadata": {
        "id": "2tsdxDGRFNxc"
      }
    },
    {
      "cell_type": "code",
      "source": [
        "model_0_results.values()"
      ],
      "metadata": {
        "colab": {
          "base_uri": "https://localhost:8080/"
        },
        "id": "7D9WltOmFSkL",
        "outputId": "b2267f21-cbec-4fb8-b90b-cd24e3137467"
      },
      "execution_count": 128,
      "outputs": [
        {
          "output_type": "execute_result",
          "data": {
            "text/plain": [
              "dict_values([79.26509186351706, 0.8111390004213173, 0.7926509186351706, 0.7862189758049549])"
            ]
          },
          "metadata": {},
          "execution_count": 128
        }
      ]
    },
    {
      "cell_type": "code",
      "source": [
        "model_5_results.values()"
      ],
      "metadata": {
        "colab": {
          "base_uri": "https://localhost:8080/"
        },
        "id": "tA38WiPPFW85",
        "outputId": "784b4118-e563-48bf-b031-035240a272a6"
      },
      "execution_count": 129,
      "outputs": [
        {
          "output_type": "execute_result",
          "data": {
            "text/plain": [
              "dict_values([76.37795275590551, 0.7647678424871814, 0.7637795275590551, 0.761896339990086])"
            ]
          },
          "metadata": {},
          "execution_count": 129
        }
      ]
    },
    {
      "cell_type": "code",
      "source": [
        "np.array(list(model_5_results.values())) > np.array(list(model_0_results.values()))"
      ],
      "metadata": {
        "colab": {
          "base_uri": "https://localhost:8080/"
        },
        "id": "-5UtU9izFY1o",
        "outputId": "ba82ed9c-a679-40ab-e73b-8fc2abb918c3"
      },
      "execution_count": 130,
      "outputs": [
        {
          "output_type": "execute_result",
          "data": {
            "text/plain": [
              "array([False, False, False, False])"
            ]
          },
          "metadata": {},
          "execution_count": 130
        }
      ]
    },
    {
      "cell_type": "code",
      "source": [],
      "metadata": {
        "id": "5LDRtrucFpND"
      },
      "execution_count": 130,
      "outputs": []
    },
    {
      "cell_type": "markdown",
      "source": [
        "# ***Model 6: TensorFlow Hub Pretrained Sentence Encoder***\n",
        "\n",
        "#  Using Pretrained Embeddings (transfer learning for NLP)\n",
        "\n",
        "We will use USE(Universal Sentence Encoder)"
      ],
      "metadata": {
        "id": "3oclIqNObEan"
      }
    },
    {
      "cell_type": "code",
      "source": [
        "sample_sentence = [\"This is a very good place to teach\"]"
      ],
      "metadata": {
        "id": "6tTdKI1Gb9W5"
      },
      "execution_count": 131,
      "outputs": []
    },
    {
      "cell_type": "code",
      "source": [
        "import tensorflow_hub as hub\n",
        "embed = hub.load(\"https://tfhub.dev/google/universal-sentence-encoder/4\") # load Universal Sentence Encoder\n",
        "embed_samples = embed([\"When you call the universal sentence encoder on a sentence, it turns it into numbers.\"])"
      ],
      "metadata": {
        "id": "LdtfGE6WbQAb"
      },
      "execution_count": 132,
      "outputs": []
    },
    {
      "cell_type": "code",
      "source": [
        "print(embed_samples)"
      ],
      "metadata": {
        "colab": {
          "base_uri": "https://localhost:8080/"
        },
        "id": "BKg_XrJpcYyo",
        "outputId": "b11cd32b-abdd-43a1-80d1-13ecdcdc1829"
      },
      "execution_count": 133,
      "outputs": [
        {
          "output_type": "stream",
          "name": "stdout",
          "text": [
            "tf.Tensor(\n",
            "[[ 3.59669030e-02 -8.57946724e-02 -1.15274079e-02  5.25983097e-03\n",
            "  -1.85217224e-02 -5.04201241e-02 -3.61693986e-02  5.34677599e-03\n",
            "   4.80591506e-02  4.69074510e-02 -3.72333303e-02 -1.14954337e-02\n",
            "   4.35241535e-02  7.05099031e-02  7.09376186e-02 -8.18042755e-02\n",
            "   8.71716905e-03 -4.65412177e-02 -2.24577505e-02  4.68687266e-02\n",
            "   2.02255812e-03  3.09907310e-02  2.04356406e-02  6.39216825e-02\n",
            "  -7.64108524e-02  8.42117742e-02 -4.57603857e-02 -1.06163975e-03\n",
            "  -2.05942038e-02  1.24110505e-02  5.72753772e-02  3.81562151e-02\n",
            "  -2.74211410e-02 -3.54346540e-03 -9.83258486e-02 -1.24485446e-02\n",
            "   3.86562757e-02  5.03195524e-02 -2.36250609e-02  3.21848062e-03\n",
            "   3.22521292e-02  7.38092838e-03  4.47310172e-02 -4.12238901e-03\n",
            "   1.15160486e-02  2.83772498e-02  6.01380074e-04 -5.90335056e-02\n",
            "  -4.94344486e-03 -6.88529061e-03 -4.12424058e-02 -2.07704282e-03\n",
            "  -1.77201908e-02 -2.27782149e-02 -2.42898241e-02  1.39938006e-02\n",
            "  -5.17674796e-02  5.97374775e-02  3.81307416e-02 -3.59316431e-02\n",
            "   3.09860688e-02  6.09486923e-03 -4.37487327e-02 -5.38942702e-02\n",
            "  -4.32431698e-02 -3.92870642e-02  5.61528467e-02  3.82246054e-03\n",
            "   6.57870108e-03 -4.53821830e-02  3.96313630e-02 -5.69341192e-03\n",
            "  -2.00726129e-02  8.17294195e-02  4.15083803e-02  3.72894965e-02\n",
            "  -6.70029223e-02 -5.10405079e-02 -2.56260131e-02  1.60032343e-02\n",
            "   3.81825194e-02 -8.70014261e-03 -2.34965291e-02  1.55745475e-02\n",
            "   5.66765293e-02  7.38508180e-02  1.52101656e-02 -8.41726176e-03\n",
            "  -6.44073784e-02 -5.55147789e-02  7.97353014e-02  3.61874886e-03\n",
            "   6.64433464e-02  2.87908670e-02 -2.44696848e-02  2.12148055e-02\n",
            "  -1.03562608e-01 -4.12506796e-02  2.98409071e-02 -9.24953669e-02\n",
            "   4.00585821e-03  6.01526983e-02 -3.41755301e-02  3.29850018e-02\n",
            "  -4.83456068e-02 -3.69677991e-02  1.21584628e-02 -2.31851339e-02\n",
            "  -4.88560200e-02  3.28469649e-02 -4.62380052e-02  3.91753856e-03\n",
            "  -3.57808396e-02 -1.83102097e-02 -3.70729938e-02  3.35949808e-02\n",
            "   5.02075031e-02 -5.49601614e-02  4.69865017e-02 -3.31131220e-02\n",
            "   1.66335069e-02 -3.02660111e-02  6.20632209e-02 -4.43871655e-02\n",
            "   6.67187944e-02 -6.10225787e-03  3.40605006e-02 -5.00078946e-02\n",
            "   2.04586494e-03  3.39132287e-02 -3.10871042e-02 -1.93446260e-02\n",
            "   7.54030049e-02 -6.52688071e-02  5.25344424e-02 -6.12028465e-02\n",
            "  -3.02657485e-02  4.56584571e-03 -8.89162719e-02 -4.83766310e-02\n",
            "  -2.00605374e-02 -3.86418998e-02  1.66886039e-02 -1.47099299e-02\n",
            "   1.01379547e-02 -8.22198316e-02  2.74562370e-02 -3.86100472e-03\n",
            "  -1.09152673e-02 -5.79520464e-02  2.82120146e-02 -1.71919316e-02\n",
            "   3.00881565e-02  2.37061065e-02 -2.33156141e-03 -2.97772903e-02\n",
            "   1.91768426e-02  5.16294166e-02 -1.44551359e-02  1.86848156e-02\n",
            "  -2.49356646e-02  3.22919451e-02  2.82293651e-02 -2.51184069e-02\n",
            "  -1.08434856e-02  3.01642790e-02  5.04565251e-04 -2.27955766e-02\n",
            "   2.47642193e-02  6.97232485e-02  6.99917832e-03 -7.34951114e-03\n",
            "   9.45000276e-02 -6.13124557e-02  2.62528472e-02  3.58930416e-02\n",
            "   6.17793668e-03  3.43658738e-02  1.17269829e-02  4.01629657e-02\n",
            "   1.53442631e-02  4.48108697e-03  5.02520427e-02  1.88765246e-02\n",
            "   3.31166647e-02 -2.70847213e-02 -6.57292176e-03  8.24265704e-02\n",
            "   1.05237253e-02  3.99747491e-02  2.82467995e-03 -1.24388589e-02\n",
            "  -3.28868371e-03 -7.26752877e-02 -1.81356724e-03 -2.76129395e-02\n",
            "   6.45669252e-02  5.02010696e-02  6.75971732e-02  9.59103182e-03\n",
            "  -8.90628621e-02  1.17861172e-02  2.72054933e-02 -3.41815804e-03\n",
            "  -8.05912167e-02 -5.22511154e-02 -3.81536456e-03 -4.17376868e-02\n",
            "  -9.68296267e-03  3.78751159e-02 -5.67596592e-02 -2.05952264e-02\n",
            "  -1.14134252e-02 -2.83810720e-02  9.09043849e-02  3.93453665e-04\n",
            "  -2.67905067e-03  1.53435837e-03  6.49558008e-02  5.22872768e-02\n",
            "   1.80281475e-02  1.84829552e-02  1.61396563e-02  5.27072288e-02\n",
            "  -4.12998945e-02 -4.80412953e-02 -2.36369185e-02 -2.67371330e-02\n",
            "   3.93584110e-02  7.55006168e-03 -6.21337891e-02 -1.67872682e-02\n",
            "   1.47808902e-03 -5.64959757e-02  5.52060902e-02 -1.27273342e-02\n",
            "   1.03164569e-01 -1.69769414e-02 -2.17627585e-02 -1.17612118e-02\n",
            "   1.40765840e-02 -1.40489740e-02  6.19004704e-02 -3.57006676e-02\n",
            "   1.31613957e-02 -3.44647840e-02 -7.06138043e-03  1.24527076e-02\n",
            "   8.55674893e-02  5.42758666e-02 -3.89169380e-02 -7.57954642e-02\n",
            "  -1.40139246e-02  1.48370601e-02  9.68214422e-02 -1.03704751e-01\n",
            "   3.29137035e-02 -6.21125214e-02  1.86114758e-02 -2.82176621e-02\n",
            "  -7.13014463e-03  4.11866372e-03 -8.93324763e-02 -5.72975837e-02\n",
            "   4.44727838e-02  2.29126103e-02  4.30734176e-03 -6.96439222e-02\n",
            "  -6.36359453e-02 -2.61848141e-02 -6.48371428e-02 -9.65941325e-02\n",
            "   5.09348139e-02 -8.90865326e-02 -3.94752212e-02 -2.23109741e-02\n",
            "  -2.93313861e-02  3.75236645e-02  4.67261262e-02  8.62412006e-02\n",
            "  -2.14183815e-02 -5.29951677e-02  5.89277968e-02  1.65255610e-02\n",
            "  -1.04241595e-02 -2.38159783e-02  1.38605088e-02  2.62650345e-02\n",
            "   5.47959954e-02 -4.24158424e-02  3.17359506e-03 -3.96554396e-02\n",
            "  -7.35217705e-02  2.73186387e-03 -2.72396719e-03 -3.98468412e-02\n",
            "  -4.29545194e-02  2.14427747e-02  3.84629145e-02  3.88851948e-02\n",
            "   5.13685727e-03 -4.95571345e-02 -3.24903764e-02  2.83540208e-02\n",
            "  -4.67896834e-02  1.97179094e-02 -4.20575403e-02 -7.54898712e-02\n",
            "  -1.03863399e-03 -6.73990920e-02  3.91278267e-02  4.40352075e-02\n",
            "  -8.06924328e-02 -2.36365143e-02  5.99047281e-02  2.12468533e-03\n",
            "   2.21580286e-02  4.36153375e-02  2.49225250e-03  4.98778885e-03\n",
            "   7.48325558e-03 -2.41463929e-02  4.05476056e-02  2.91890651e-02\n",
            "  -1.10162674e-02 -5.65643385e-02 -6.73807561e-02  4.05558497e-02\n",
            "  -8.50009471e-02 -5.40723391e-02  7.34481812e-02 -7.35007823e-02\n",
            "   7.54499622e-03 -7.00687617e-02  4.39716205e-02 -2.71130539e-02\n",
            "  -6.92854822e-02 -2.58241761e-02  3.92786637e-02  5.67648523e-02\n",
            "   1.59088988e-02  2.35409923e-02 -5.06520942e-02  1.17192222e-02\n",
            "  -6.92344531e-02  1.38217779e-02  1.09325293e-02  7.00728670e-02\n",
            "  -1.26283057e-02  7.97541216e-02 -3.13802809e-02 -4.11442295e-02\n",
            "  -3.50070931e-02 -4.26069386e-02  4.05676924e-02  7.93018341e-02\n",
            "  -9.75148231e-02 -1.42815523e-02  2.42777523e-02 -7.38641843e-02\n",
            "  -1.56749804e-02 -3.48734260e-02 -5.93835153e-02 -4.12432328e-02\n",
            "  -4.60706977e-03  3.71532813e-02  2.14900505e-02  5.58095239e-02\n",
            "   2.14638934e-02 -6.75328374e-02  1.01269560e-03  5.95024973e-02\n",
            "   1.24681811e-03  3.76901776e-02  4.18491662e-02 -2.79387627e-02\n",
            "  -4.01746295e-02 -8.21424183e-03 -5.58206253e-02 -1.60544608e-02\n",
            "  -4.75718342e-02 -5.95801845e-02 -1.01037398e-02 -7.33451918e-02\n",
            "  -1.84457749e-02  3.76496017e-02 -8.28180164e-02  7.54496129e-03\n",
            "  -2.76730079e-02 -3.70695628e-02 -4.07461748e-02  7.34208571e-03\n",
            "  -3.86686460e-03 -1.10412011e-05  3.76898311e-02  1.45606063e-02\n",
            "   2.78663542e-03 -6.57308921e-02 -2.55980734e-02 -4.81109768e-02\n",
            "   1.18657295e-02 -2.13191286e-02  3.31166666e-03  4.66567501e-02\n",
            "   4.63188142e-02 -3.60699967e-02 -7.05618784e-02 -7.14360029e-02\n",
            "  -9.04086139e-03  2.11612042e-02 -4.92307991e-02  3.87155786e-02\n",
            "   7.73286670e-02  1.89449005e-02  3.85826416e-02 -6.83923811e-02\n",
            "  -5.28842248e-02  8.54228511e-02  1.28640160e-02  2.20266264e-02\n",
            "   2.16054991e-02  5.56518091e-04  1.64826382e-02 -3.31564434e-02\n",
            "   8.13280120e-02 -2.25724317e-02 -4.43335883e-02  7.10498765e-02\n",
            "  -8.87572765e-02  5.36287874e-02 -6.93188310e-02 -2.98251049e-03\n",
            "   4.52212542e-02  4.61279601e-02  3.65344770e-02  4.84847277e-02\n",
            "  -2.92588454e-02  7.36932978e-02  3.66693251e-02 -6.80679157e-02\n",
            "   3.96357197e-03 -9.04875994e-02 -6.32659867e-02 -5.38307689e-02\n",
            "   6.08243123e-02 -1.84412524e-02  4.89365533e-02 -5.12656905e-02\n",
            "  -1.50805693e-02 -5.71212312e-03 -5.10706753e-02 -6.49115220e-02\n",
            "  -1.13348605e-03  1.27703361e-02  1.82183404e-02 -8.28226283e-02\n",
            "   2.10516993e-03 -3.31831351e-02  5.95651940e-02  3.61991301e-02\n",
            "   5.35384603e-02 -2.25340668e-02  2.64133271e-02 -3.91572677e-02\n",
            "  -5.87077662e-02 -1.03312612e-01  7.45017081e-04  1.97312422e-02\n",
            "   3.94937098e-02  9.22513306e-02 -2.05244943e-02  2.21597627e-02\n",
            "  -3.13704312e-02 -1.32244034e-02  4.00840305e-02 -1.50230015e-02\n",
            "   6.54290393e-02 -6.08944222e-02  7.63121061e-04 -3.62863205e-02\n",
            "   4.91616242e-02 -6.04683273e-02 -1.77060347e-02  2.45513255e-03\n",
            "  -4.52068187e-02  3.63887809e-02 -9.97238010e-02 -2.95222048e-02\n",
            "   8.41338746e-03 -8.18829611e-02  1.82565153e-02  1.11088166e-02\n",
            "  -3.46704014e-02 -1.07370326e-02 -4.20162529e-02 -2.58049667e-02\n",
            "   3.06181516e-02  1.86228156e-02  2.78462167e-03 -3.67319537e-03\n",
            "   5.00444286e-02 -2.75492482e-02  4.84464318e-02  7.04697818e-02\n",
            "   9.36839655e-02  2.49331277e-02 -4.27237116e-02 -3.15811969e-02\n",
            "  -4.44082916e-02 -3.41433510e-02  2.81602796e-02 -8.78943503e-03]], shape=(1, 512), dtype=float32)\n"
          ]
        }
      ]
    },
    {
      "cell_type": "code",
      "source": [
        "embed_samples.shape"
      ],
      "metadata": {
        "colab": {
          "base_uri": "https://localhost:8080/"
        },
        "id": "P_hXzYQTcdSW",
        "outputId": "3dd7834d-3325-4d03-ad1f-31520e8e5508"
      },
      "execution_count": 134,
      "outputs": [
        {
          "output_type": "execute_result",
          "data": {
            "text/plain": [
              "TensorShape([1, 512])"
            ]
          },
          "metadata": {},
          "execution_count": 134
        }
      ]
    },
    {
      "cell_type": "code",
      "source": [
        "sentence_encoder_layer = hub.KerasLayer(\"https://tfhub.dev/google/universal-sentence-encoder/4\",\n",
        "                                      input_shape=[] ,\n",
        "                                      dtype = \"string\" ,\n",
        "                                      trainable =  False ,\n",
        "                                        name = \"USA\"\n",
        "                                      )"
      ],
      "metadata": {
        "id": "X_50ZDQSce1w"
      },
      "execution_count": 135,
      "outputs": []
    },
    {
      "cell_type": "code",
      "source": [
        "from keras.models import Sequential\n",
        "from keras.layers import Dense\n",
        "model_6 = Sequential(sentence_encoder_layer ,  name=\"model_6_USE\")\n",
        "model_6.add(Dense(units = 1 , activation = \"sigmoid\"))\n",
        "\n",
        "\n",
        "model_6.compile(loss = \"binary_crossentropy\" , optimizer = \"adam\" , metrics = [\"accuracy\"])"
      ],
      "metadata": {
        "id": "itWSn1wDdkXR"
      },
      "execution_count": 136,
      "outputs": []
    },
    {
      "cell_type": "code",
      "source": [
        "model_6.summary()"
      ],
      "metadata": {
        "colab": {
          "base_uri": "https://localhost:8080/"
        },
        "id": "YGyw7bxveXmQ",
        "outputId": "099a11fb-d987-4233-ee5d-b0e813b36952"
      },
      "execution_count": 137,
      "outputs": [
        {
          "output_type": "stream",
          "name": "stdout",
          "text": [
            "Model: \"model_6_USE\"\n",
            "_________________________________________________________________\n",
            " Layer (type)                Output Shape              Param #   \n",
            "=================================================================\n",
            " USA (KerasLayer)            (None, 512)               256797824 \n",
            "                                                                 \n",
            " dense_9 (Dense)             (None, 1)                 513       \n",
            "                                                                 \n",
            "=================================================================\n",
            "Total params: 256,798,337\n",
            "Trainable params: 513\n",
            "Non-trainable params: 256,797,824\n",
            "_________________________________________________________________\n"
          ]
        }
      ]
    },
    {
      "cell_type": "code",
      "source": [
        "model_6_history = model_6.fit(train_sentence,\n",
        "                              train_label,\n",
        "                              epochs=5,\n",
        "                              validation_data=(Val_sentence, Val_label),\n",
        "                              callbacks=[create_tensorboard_callback(SAVE_DIR,\n",
        "                                                                     \"tf_hub_sentence_encoder\")])"
      ],
      "metadata": {
        "colab": {
          "base_uri": "https://localhost:8080/"
        },
        "id": "zTqTua7KqPnz",
        "outputId": "f6686d4f-0d5e-47b8-bc72-d2919f9f98fb"
      },
      "execution_count": 138,
      "outputs": [
        {
          "output_type": "stream",
          "name": "stdout",
          "text": [
            "Saving TensorBoard log files to: model_logs/tf_hub_sentence_encoder/20230618-035545\n",
            "Epoch 1/5\n",
            "215/215 [==============================] - 6s 14ms/step - loss: 0.6497 - accuracy: 0.7268 - val_loss: 0.6156 - val_accuracy: 0.7822\n",
            "Epoch 2/5\n",
            "215/215 [==============================] - 3s 12ms/step - loss: 0.5824 - accuracy: 0.7878 - val_loss: 0.5654 - val_accuracy: 0.7900\n",
            "Epoch 3/5\n",
            "215/215 [==============================] - 3s 15ms/step - loss: 0.5391 - accuracy: 0.7938 - val_loss: 0.5333 - val_accuracy: 0.7913\n",
            "Epoch 4/5\n",
            "215/215 [==============================] - 2s 11ms/step - loss: 0.5102 - accuracy: 0.7990 - val_loss: 0.5118 - val_accuracy: 0.7927\n",
            "Epoch 5/5\n",
            "215/215 [==============================] - 2s 11ms/step - loss: 0.4900 - accuracy: 0.7990 - val_loss: 0.4971 - val_accuracy: 0.7913\n"
          ]
        }
      ]
    },
    {
      "cell_type": "code",
      "source": [
        "loss_accuracy = model_6.evaluate(Val_sentence , Val_label)\n",
        "print(\"Accuracy : \" , loss_accuracy[1]*100)\n",
        "print(\"Loss : \" , loss_accuracy[0])"
      ],
      "metadata": {
        "colab": {
          "base_uri": "https://localhost:8080/"
        },
        "id": "GolL2tKfqaiI",
        "outputId": "bfde3ac8-85b6-4e20-e681-15a6caa38d7a"
      },
      "execution_count": 139,
      "outputs": [
        {
          "output_type": "stream",
          "name": "stdout",
          "text": [
            "24/24 [==============================] - 0s 10ms/step - loss: 0.4971 - accuracy: 0.7913\n",
            "Accuracy :  79.1338562965393\n",
            "Loss :  0.4971221387386322\n"
          ]
        }
      ]
    },
    {
      "cell_type": "code",
      "source": [],
      "metadata": {
        "id": "WXhZtQMbqamO"
      },
      "execution_count": 139,
      "outputs": []
    },
    {
      "cell_type": "code",
      "source": [
        "from keras.models import Sequential\n",
        "from keras.layers import Dense\n",
        "model_6 = Sequential(sentence_encoder_layer ,  name=\"model_6_USE\")\n",
        "model_6.add(Dense(units = 64 , activation = \"relu\"))\n",
        "model_6.add(Dense(units = 1 , activation = \"sigmoid\"))\n",
        "\n",
        "\n",
        "model_6.compile(loss = \"binary_crossentropy\" , optimizer = \"adam\" , metrics = [\"accuracy\"])\n",
        "\n",
        "\n",
        "model_6_history = model_6.fit(train_sentence,\n",
        "                              train_label,\n",
        "                              epochs=5,\n",
        "                              validation_data=(Val_sentence, Val_label),\n",
        "                              callbacks=[create_tensorboard_callback(SAVE_DIR,\n",
        "                                                                     \"tf_hub_sentence_encoder\")])"
      ],
      "metadata": {
        "colab": {
          "base_uri": "https://localhost:8080/"
        },
        "id": "M5HM1esUhEY1",
        "outputId": "e625c877-c11b-4db6-e348-4cdd2c2b1604"
      },
      "execution_count": 140,
      "outputs": [
        {
          "output_type": "stream",
          "name": "stdout",
          "text": [
            "Saving TensorBoard log files to: model_logs/tf_hub_sentence_encoder/20230618-035608\n",
            "Epoch 1/5\n",
            "215/215 [==============================] - 5s 14ms/step - loss: 0.5073 - accuracy: 0.7848 - val_loss: 0.4469 - val_accuracy: 0.7979\n",
            "Epoch 2/5\n",
            "215/215 [==============================] - 3s 12ms/step - loss: 0.4151 - accuracy: 0.8132 - val_loss: 0.4359 - val_accuracy: 0.8084\n",
            "Epoch 3/5\n",
            "215/215 [==============================] - 4s 17ms/step - loss: 0.4006 - accuracy: 0.8205 - val_loss: 0.4317 - val_accuracy: 0.8110\n",
            "Epoch 4/5\n",
            "215/215 [==============================] - 3s 12ms/step - loss: 0.3935 - accuracy: 0.8240 - val_loss: 0.4276 - val_accuracy: 0.8136\n",
            "Epoch 5/5\n",
            "215/215 [==============================] - 3s 12ms/step - loss: 0.3875 - accuracy: 0.8279 - val_loss: 0.4292 - val_accuracy: 0.8150\n"
          ]
        }
      ]
    },
    {
      "cell_type": "code",
      "source": [
        "model_6.summary()"
      ],
      "metadata": {
        "colab": {
          "base_uri": "https://localhost:8080/"
        },
        "id": "uLPCzs-OhEca",
        "outputId": "4ba9d3d4-4c23-4a1e-f08a-13ef89e861fd"
      },
      "execution_count": 141,
      "outputs": [
        {
          "output_type": "stream",
          "name": "stdout",
          "text": [
            "Model: \"model_6_USE\"\n",
            "_________________________________________________________________\n",
            " Layer (type)                Output Shape              Param #   \n",
            "=================================================================\n",
            " USA (KerasLayer)            (None, 512)               256797824 \n",
            "                                                                 \n",
            " dense_10 (Dense)            (None, 64)                32832     \n",
            "                                                                 \n",
            " dense_11 (Dense)            (None, 1)                 65        \n",
            "                                                                 \n",
            "=================================================================\n",
            "Total params: 256,830,721\n",
            "Trainable params: 32,897\n",
            "Non-trainable params: 256,797,824\n",
            "_________________________________________________________________\n"
          ]
        }
      ]
    },
    {
      "cell_type": "code",
      "source": [
        "loss_accuracy = model_6.evaluate(Val_sentence , Val_label)\n",
        "print(\"Accuracy : \" , loss_accuracy[1]*100)\n",
        "print(\"Loss : \" , loss_accuracy[0])"
      ],
      "metadata": {
        "colab": {
          "base_uri": "https://localhost:8080/"
        },
        "id": "6D9KNDQLpqTt",
        "outputId": "7c0b6342-528c-406f-f162-0bda101675eb"
      },
      "execution_count": 142,
      "outputs": [
        {
          "output_type": "stream",
          "name": "stdout",
          "text": [
            "24/24 [==============================] - 0s 10ms/step - loss: 0.4292 - accuracy: 0.8150\n",
            "Accuracy :  81.49606585502625\n",
            "Loss :  0.42918136715888977\n"
          ]
        }
      ]
    },
    {
      "cell_type": "code",
      "source": [
        "model_6_pred = model_6.predict(Val_sentence)\n",
        "model_6_pred = model_6_pred.round()\n",
        "model_6_pred[:20]"
      ],
      "metadata": {
        "colab": {
          "base_uri": "https://localhost:8080/"
        },
        "id": "baFFS_htq0cQ",
        "outputId": "22596a82-0329-45ef-d56a-526a3dfc5539"
      },
      "execution_count": 143,
      "outputs": [
        {
          "output_type": "stream",
          "name": "stdout",
          "text": [
            "24/24 [==============================] - 1s 9ms/step\n"
          ]
        },
        {
          "output_type": "execute_result",
          "data": {
            "text/plain": [
              "array([[0.],\n",
              "       [1.],\n",
              "       [1.],\n",
              "       [0.],\n",
              "       [1.],\n",
              "       [1.],\n",
              "       [1.],\n",
              "       [1.],\n",
              "       [1.],\n",
              "       [0.],\n",
              "       [1.],\n",
              "       [0.],\n",
              "       [0.],\n",
              "       [1.],\n",
              "       [0.],\n",
              "       [0.],\n",
              "       [0.],\n",
              "       [1.],\n",
              "       [0.],\n",
              "       [0.]], dtype=float32)"
            ]
          },
          "metadata": {},
          "execution_count": 143
        }
      ]
    },
    {
      "cell_type": "code",
      "source": [
        "model_6_results = calculate_results(y_true=Val_label,\n",
        "                                    y_pred=model_6_pred)\n",
        "model_6_results"
      ],
      "metadata": {
        "colab": {
          "base_uri": "https://localhost:8080/"
        },
        "id": "BMFXHlMEq0f4",
        "outputId": "ee0a3955-91e2-4ce0-be04-aae1ec6eea73"
      },
      "execution_count": 144,
      "outputs": [
        {
          "output_type": "execute_result",
          "data": {
            "text/plain": [
              "{'accuracy': 81.49606299212599,\n",
              " 'precision': 0.8179063565195398,\n",
              " 'recall': 0.8149606299212598,\n",
              " 'f1': 0.8132300658103407}"
            ]
          },
          "metadata": {},
          "execution_count": 144
        }
      ]
    },
    {
      "cell_type": "code",
      "source": [],
      "metadata": {
        "id": "8-WleWZjq0ku"
      },
      "execution_count": 144,
      "outputs": []
    },
    {
      "cell_type": "code",
      "source": [],
      "metadata": {
        "id": "Pj8WDacLq0pB"
      },
      "execution_count": 144,
      "outputs": []
    },
    {
      "cell_type": "markdown",
      "source": [
        "# ***Comparing Model 0 & 6***"
      ],
      "metadata": {
        "id": "W3jt_RPqhbKw"
      }
    },
    {
      "cell_type": "code",
      "source": [
        "np.array(list(model_6_results.values())) > np.array(list(model_0_results.values()))"
      ],
      "metadata": {
        "colab": {
          "base_uri": "https://localhost:8080/"
        },
        "id": "m9lLvCAshgHR",
        "outputId": "4103fb17-3a68-4310-a60b-fda469b34b1c"
      },
      "execution_count": 145,
      "outputs": [
        {
          "output_type": "execute_result",
          "data": {
            "text/plain": [
              "array([ True,  True,  True,  True])"
            ]
          },
          "metadata": {},
          "execution_count": 145
        }
      ]
    },
    {
      "cell_type": "code",
      "source": [],
      "metadata": {
        "id": "p4mTSQL8rBxY"
      },
      "execution_count": 145,
      "outputs": []
    },
    {
      "cell_type": "code",
      "source": [],
      "metadata": {
        "id": "tKmkrfEXrB1G"
      },
      "execution_count": 145,
      "outputs": []
    },
    {
      "cell_type": "markdown",
      "source": [
        "# ***Model 7 : TensorFlow Hub Pretrained Sentence Encoder(10% data)***\n",
        "\n",
        "# * Model 7 is almost equal to model 6"
      ],
      "metadata": {
        "id": "J74LK6BirB8b"
      }
    },
    {
      "cell_type": "code",
      "source": [
        "ten_percent_train_data = train_data.sample(frac = 0.1 ,random_state = 42)\n",
        "ten_percent_train_data"
      ],
      "metadata": {
        "colab": {
          "base_uri": "https://localhost:8080/",
          "height": 424
        },
        "id": "WxQDIHpprMIT",
        "outputId": "eda591d6-8b48-47cb-a9c3-f09a57d17841"
      },
      "execution_count": 146,
      "outputs": [
        {
          "output_type": "execute_result",
          "data": {
            "text/plain": [
              "        id       keyword               location  \\\n",
              "2644  3796   destruction                    NaN   \n",
              "2227  3185        deluge                    NaN   \n",
              "5448  7769        police                     UK   \n",
              "132    191    aftershock                    NaN   \n",
              "6845  9810        trauma  Montgomery County, MD   \n",
              "...    ...           ...                    ...   \n",
              "1153  1661       bombing                    NaN   \n",
              "1034  1500   body%20bags          WAISTDEEP, TX   \n",
              "3107  4458  electrocuted                    HTX   \n",
              "4379  6220      hijacker              worldwide   \n",
              "2288  3283      demolish             us-east-1a   \n",
              "\n",
              "                                                   text  target  \n",
              "2644  So you have a new weapon that can cause un-ima...       1  \n",
              "2227  The f$&amp;@ing things I do for #GISHWHES Just...       0  \n",
              "5448  DT @georgegalloway: RT @Galloway4Mayor: ÛÏThe...       1  \n",
              "132   Aftershock back to school kick off was great. ...       0  \n",
              "6845  in response to trauma Children of Addicts deve...       0  \n",
              "...                                                 ...     ...  \n",
              "1153  Today is the day Hiroshima got Atomic bomb 70 ...       1  \n",
              "1034               @Deeeznvtzzz bring the body bags tho       0  \n",
              "3107  Fr cuz I risk being electrocuted every shower ...       0  \n",
              "4379  RT NotExplained: The only known image of infam...       0  \n",
              "2288  Read this already in '14 but it was and remain...       0  \n",
              "\n",
              "[761 rows x 5 columns]"
            ],
            "text/html": [
              "\n",
              "  <div id=\"df-05ab4385-eb83-4e42-a403-0591fb5710b1\">\n",
              "    <div class=\"colab-df-container\">\n",
              "      <div>\n",
              "<style scoped>\n",
              "    .dataframe tbody tr th:only-of-type {\n",
              "        vertical-align: middle;\n",
              "    }\n",
              "\n",
              "    .dataframe tbody tr th {\n",
              "        vertical-align: top;\n",
              "    }\n",
              "\n",
              "    .dataframe thead th {\n",
              "        text-align: right;\n",
              "    }\n",
              "</style>\n",
              "<table border=\"1\" class=\"dataframe\">\n",
              "  <thead>\n",
              "    <tr style=\"text-align: right;\">\n",
              "      <th></th>\n",
              "      <th>id</th>\n",
              "      <th>keyword</th>\n",
              "      <th>location</th>\n",
              "      <th>text</th>\n",
              "      <th>target</th>\n",
              "    </tr>\n",
              "  </thead>\n",
              "  <tbody>\n",
              "    <tr>\n",
              "      <th>2644</th>\n",
              "      <td>3796</td>\n",
              "      <td>destruction</td>\n",
              "      <td>NaN</td>\n",
              "      <td>So you have a new weapon that can cause un-ima...</td>\n",
              "      <td>1</td>\n",
              "    </tr>\n",
              "    <tr>\n",
              "      <th>2227</th>\n",
              "      <td>3185</td>\n",
              "      <td>deluge</td>\n",
              "      <td>NaN</td>\n",
              "      <td>The f$&amp;amp;@ing things I do for #GISHWHES Just...</td>\n",
              "      <td>0</td>\n",
              "    </tr>\n",
              "    <tr>\n",
              "      <th>5448</th>\n",
              "      <td>7769</td>\n",
              "      <td>police</td>\n",
              "      <td>UK</td>\n",
              "      <td>DT @georgegalloway: RT @Galloway4Mayor: ÛÏThe...</td>\n",
              "      <td>1</td>\n",
              "    </tr>\n",
              "    <tr>\n",
              "      <th>132</th>\n",
              "      <td>191</td>\n",
              "      <td>aftershock</td>\n",
              "      <td>NaN</td>\n",
              "      <td>Aftershock back to school kick off was great. ...</td>\n",
              "      <td>0</td>\n",
              "    </tr>\n",
              "    <tr>\n",
              "      <th>6845</th>\n",
              "      <td>9810</td>\n",
              "      <td>trauma</td>\n",
              "      <td>Montgomery County, MD</td>\n",
              "      <td>in response to trauma Children of Addicts deve...</td>\n",
              "      <td>0</td>\n",
              "    </tr>\n",
              "    <tr>\n",
              "      <th>...</th>\n",
              "      <td>...</td>\n",
              "      <td>...</td>\n",
              "      <td>...</td>\n",
              "      <td>...</td>\n",
              "      <td>...</td>\n",
              "    </tr>\n",
              "    <tr>\n",
              "      <th>1153</th>\n",
              "      <td>1661</td>\n",
              "      <td>bombing</td>\n",
              "      <td>NaN</td>\n",
              "      <td>Today is the day Hiroshima got Atomic bomb 70 ...</td>\n",
              "      <td>1</td>\n",
              "    </tr>\n",
              "    <tr>\n",
              "      <th>1034</th>\n",
              "      <td>1500</td>\n",
              "      <td>body%20bags</td>\n",
              "      <td>WAISTDEEP, TX</td>\n",
              "      <td>@Deeeznvtzzz bring the body bags tho</td>\n",
              "      <td>0</td>\n",
              "    </tr>\n",
              "    <tr>\n",
              "      <th>3107</th>\n",
              "      <td>4458</td>\n",
              "      <td>electrocuted</td>\n",
              "      <td>HTX</td>\n",
              "      <td>Fr cuz I risk being electrocuted every shower ...</td>\n",
              "      <td>0</td>\n",
              "    </tr>\n",
              "    <tr>\n",
              "      <th>4379</th>\n",
              "      <td>6220</td>\n",
              "      <td>hijacker</td>\n",
              "      <td>worldwide</td>\n",
              "      <td>RT NotExplained: The only known image of infam...</td>\n",
              "      <td>0</td>\n",
              "    </tr>\n",
              "    <tr>\n",
              "      <th>2288</th>\n",
              "      <td>3283</td>\n",
              "      <td>demolish</td>\n",
              "      <td>us-east-1a</td>\n",
              "      <td>Read this already in '14 but it was and remain...</td>\n",
              "      <td>0</td>\n",
              "    </tr>\n",
              "  </tbody>\n",
              "</table>\n",
              "<p>761 rows × 5 columns</p>\n",
              "</div>\n",
              "      <button class=\"colab-df-convert\" onclick=\"convertToInteractive('df-05ab4385-eb83-4e42-a403-0591fb5710b1')\"\n",
              "              title=\"Convert this dataframe to an interactive table.\"\n",
              "              style=\"display:none;\">\n",
              "        \n",
              "  <svg xmlns=\"http://www.w3.org/2000/svg\" height=\"24px\"viewBox=\"0 0 24 24\"\n",
              "       width=\"24px\">\n",
              "    <path d=\"M0 0h24v24H0V0z\" fill=\"none\"/>\n",
              "    <path d=\"M18.56 5.44l.94 2.06.94-2.06 2.06-.94-2.06-.94-.94-2.06-.94 2.06-2.06.94zm-11 1L8.5 8.5l.94-2.06 2.06-.94-2.06-.94L8.5 2.5l-.94 2.06-2.06.94zm10 10l.94 2.06.94-2.06 2.06-.94-2.06-.94-.94-2.06-.94 2.06-2.06.94z\"/><path d=\"M17.41 7.96l-1.37-1.37c-.4-.4-.92-.59-1.43-.59-.52 0-1.04.2-1.43.59L10.3 9.45l-7.72 7.72c-.78.78-.78 2.05 0 2.83L4 21.41c.39.39.9.59 1.41.59.51 0 1.02-.2 1.41-.59l7.78-7.78 2.81-2.81c.8-.78.8-2.07 0-2.86zM5.41 20L4 18.59l7.72-7.72 1.47 1.35L5.41 20z\"/>\n",
              "  </svg>\n",
              "      </button>\n",
              "      \n",
              "  <style>\n",
              "    .colab-df-container {\n",
              "      display:flex;\n",
              "      flex-wrap:wrap;\n",
              "      gap: 12px;\n",
              "    }\n",
              "\n",
              "    .colab-df-convert {\n",
              "      background-color: #E8F0FE;\n",
              "      border: none;\n",
              "      border-radius: 50%;\n",
              "      cursor: pointer;\n",
              "      display: none;\n",
              "      fill: #1967D2;\n",
              "      height: 32px;\n",
              "      padding: 0 0 0 0;\n",
              "      width: 32px;\n",
              "    }\n",
              "\n",
              "    .colab-df-convert:hover {\n",
              "      background-color: #E2EBFA;\n",
              "      box-shadow: 0px 1px 2px rgba(60, 64, 67, 0.3), 0px 1px 3px 1px rgba(60, 64, 67, 0.15);\n",
              "      fill: #174EA6;\n",
              "    }\n",
              "\n",
              "    [theme=dark] .colab-df-convert {\n",
              "      background-color: #3B4455;\n",
              "      fill: #D2E3FC;\n",
              "    }\n",
              "\n",
              "    [theme=dark] .colab-df-convert:hover {\n",
              "      background-color: #434B5C;\n",
              "      box-shadow: 0px 1px 3px 1px rgba(0, 0, 0, 0.15);\n",
              "      filter: drop-shadow(0px 1px 2px rgba(0, 0, 0, 0.3));\n",
              "      fill: #FFFFFF;\n",
              "    }\n",
              "  </style>\n",
              "\n",
              "      <script>\n",
              "        const buttonEl =\n",
              "          document.querySelector('#df-05ab4385-eb83-4e42-a403-0591fb5710b1 button.colab-df-convert');\n",
              "        buttonEl.style.display =\n",
              "          google.colab.kernel.accessAllowed ? 'block' : 'none';\n",
              "\n",
              "        async function convertToInteractive(key) {\n",
              "          const element = document.querySelector('#df-05ab4385-eb83-4e42-a403-0591fb5710b1');\n",
              "          const dataTable =\n",
              "            await google.colab.kernel.invokeFunction('convertToInteractive',\n",
              "                                                     [key], {});\n",
              "          if (!dataTable) return;\n",
              "\n",
              "          const docLinkHtml = 'Like what you see? Visit the ' +\n",
              "            '<a target=\"_blank\" href=https://colab.research.google.com/notebooks/data_table.ipynb>data table notebook</a>'\n",
              "            + ' to learn more about interactive tables.';\n",
              "          element.innerHTML = '';\n",
              "          dataTable['output_type'] = 'display_data';\n",
              "          await google.colab.output.renderOutput(dataTable, element);\n",
              "          const docLink = document.createElement('div');\n",
              "          docLink.innerHTML = docLinkHtml;\n",
              "          element.appendChild(docLink);\n",
              "        }\n",
              "      </script>\n",
              "    </div>\n",
              "  </div>\n",
              "  "
            ]
          },
          "metadata": {},
          "execution_count": 146
        }
      ]
    },
    {
      "cell_type": "code",
      "source": [
        "ten_percent_train_sentence = ten_percent_train_data[\"text\"]\n",
        "ten_percent_train_sentence"
      ],
      "metadata": {
        "colab": {
          "base_uri": "https://localhost:8080/"
        },
        "id": "MlhNiJwyrVo4",
        "outputId": "c12e1972-b30a-49e4-d0c7-c333495ca151"
      },
      "execution_count": 147,
      "outputs": [
        {
          "output_type": "execute_result",
          "data": {
            "text/plain": [
              "2644    So you have a new weapon that can cause un-ima...\n",
              "2227    The f$&amp;@ing things I do for #GISHWHES Just...\n",
              "5448    DT @georgegalloway: RT @Galloway4Mayor: ÛÏThe...\n",
              "132     Aftershock back to school kick off was great. ...\n",
              "6845    in response to trauma Children of Addicts deve...\n",
              "                              ...                        \n",
              "1153    Today is the day Hiroshima got Atomic bomb 70 ...\n",
              "1034                 @Deeeznvtzzz bring the body bags tho\n",
              "3107    Fr cuz I risk being electrocuted every shower ...\n",
              "4379    RT NotExplained: The only known image of infam...\n",
              "2288    Read this already in '14 but it was and remain...\n",
              "Name: text, Length: 761, dtype: object"
            ]
          },
          "metadata": {},
          "execution_count": 147
        }
      ]
    },
    {
      "cell_type": "code",
      "source": [
        "ten_percent_train_label = ten_percent_train_data[\"target\"]\n",
        "ten_percent_train_label"
      ],
      "metadata": {
        "colab": {
          "base_uri": "https://localhost:8080/"
        },
        "id": "VqLRM-Xrrm7z",
        "outputId": "4d93630c-1caf-4cce-a8d3-1ce5714a55e6"
      },
      "execution_count": 148,
      "outputs": [
        {
          "output_type": "execute_result",
          "data": {
            "text/plain": [
              "2644    1\n",
              "2227    0\n",
              "5448    1\n",
              "132     0\n",
              "6845    0\n",
              "       ..\n",
              "1153    1\n",
              "1034    0\n",
              "3107    0\n",
              "4379    0\n",
              "2288    0\n",
              "Name: target, Length: 761, dtype: int64"
            ]
          },
          "metadata": {},
          "execution_count": 148
        }
      ]
    },
    {
      "cell_type": "code",
      "source": [
        "ten_percent_train_label.value_counts()"
      ],
      "metadata": {
        "colab": {
          "base_uri": "https://localhost:8080/"
        },
        "id": "Iseom8TvrsXZ",
        "outputId": "3f90143d-1517-40ea-9bc3-d0415da69dd3"
      },
      "execution_count": 149,
      "outputs": [
        {
          "output_type": "execute_result",
          "data": {
            "text/plain": [
              "0    425\n",
              "1    336\n",
              "Name: target, dtype: int64"
            ]
          },
          "metadata": {},
          "execution_count": 149
        }
      ]
    },
    {
      "cell_type": "code",
      "source": [
        "from tensorflow.keras.models import clone_model\n",
        "model_7 = clone_model(model_6)"
      ],
      "metadata": {
        "id": "BxcaMwV5rvvC"
      },
      "execution_count": 150,
      "outputs": []
    },
    {
      "cell_type": "code",
      "source": [
        "model_7.summary()"
      ],
      "metadata": {
        "colab": {
          "base_uri": "https://localhost:8080/"
        },
        "id": "MSpb4Q8FsMoJ",
        "outputId": "6fe2bae8-73ca-4609-92b3-1f8dfef11bb4"
      },
      "execution_count": 151,
      "outputs": [
        {
          "output_type": "stream",
          "name": "stdout",
          "text": [
            "Model: \"model_6_USE\"\n",
            "_________________________________________________________________\n",
            " Layer (type)                Output Shape              Param #   \n",
            "=================================================================\n",
            " USA (KerasLayer)            (None, 512)               256797824 \n",
            "                                                                 \n",
            " dense_10 (Dense)            (None, 64)                32832     \n",
            "                                                                 \n",
            " dense_11 (Dense)            (None, 1)                 65        \n",
            "                                                                 \n",
            "=================================================================\n",
            "Total params: 256,830,721\n",
            "Trainable params: 32,897\n",
            "Non-trainable params: 256,797,824\n",
            "_________________________________________________________________\n"
          ]
        }
      ]
    },
    {
      "cell_type": "code",
      "source": [
        "model_7.compile(loss = \"binary_crossentropy\" , optimizer = \"adam\" , metrics = [\"accuracy\"])\n",
        "\n",
        "\n",
        "model_7_history = model_7.fit(ten_percent_train_sentence,\n",
        "                              ten_percent_train_label,\n",
        "                              epochs=5,\n",
        "                              validation_data=(Val_sentence, Val_label),\n",
        "                              callbacks=[create_tensorboard_callback(SAVE_DIR,\n",
        "                                                                     \"tf_hub_sentence_encoder_ten_percent\")])"
      ],
      "metadata": {
        "colab": {
          "base_uri": "https://localhost:8080/"
        },
        "id": "nnmUQuu2sYT8",
        "outputId": "77ed8509-e05a-4866-c7e6-c1873f5cea2d"
      },
      "execution_count": 152,
      "outputs": [
        {
          "output_type": "stream",
          "name": "stdout",
          "text": [
            "Saving TensorBoard log files to: model_logs/tf_hub_sentence_encoder_ten_percent/20230618-035631\n",
            "Epoch 1/5\n",
            "24/24 [==============================] - 4s 39ms/step - loss: 0.6727 - accuracy: 0.6702 - val_loss: 0.6418 - val_accuracy: 0.7887\n",
            "Epoch 2/5\n",
            "24/24 [==============================] - 1s 25ms/step - loss: 0.6037 - accuracy: 0.8016 - val_loss: 0.5750 - val_accuracy: 0.7874\n",
            "Epoch 3/5\n",
            "24/24 [==============================] - 1s 25ms/step - loss: 0.5269 - accuracy: 0.8121 - val_loss: 0.5158 - val_accuracy: 0.7848\n",
            "Epoch 4/5\n",
            "24/24 [==============================] - 1s 25ms/step - loss: 0.4646 - accuracy: 0.8160 - val_loss: 0.4799 - val_accuracy: 0.7822\n",
            "Epoch 5/5\n",
            "24/24 [==============================] - 1s 22ms/step - loss: 0.4221 - accuracy: 0.8226 - val_loss: 0.4631 - val_accuracy: 0.7900\n"
          ]
        }
      ]
    },
    {
      "cell_type": "code",
      "source": [
        "loss_accuracy = model_7.evaluate(Val_sentence , Val_label)\n",
        "print(\"Accuracy : \" , loss_accuracy[1]*100)\n",
        "print(\"Loss : \" , loss_accuracy[0])"
      ],
      "metadata": {
        "colab": {
          "base_uri": "https://localhost:8080/"
        },
        "id": "yok-msbCsnjr",
        "outputId": "e549301d-d78b-4d73-97d1-c99e5f34e41a"
      },
      "execution_count": 153,
      "outputs": [
        {
          "output_type": "stream",
          "name": "stdout",
          "text": [
            "24/24 [==============================] - 0s 10ms/step - loss: 0.4631 - accuracy: 0.7900\n",
            "Accuracy :  79.00262475013733\n",
            "Loss :  0.46308663487434387\n"
          ]
        }
      ]
    },
    {
      "cell_type": "code",
      "source": [
        "model_7_pred = model_7.predict(Val_sentence)\n",
        "model_7_pred = model_7_pred.round()\n",
        "model_7_pred[:20]"
      ],
      "metadata": {
        "colab": {
          "base_uri": "https://localhost:8080/"
        },
        "id": "EVvtwq_1ssF0",
        "outputId": "955e627f-2d60-415b-bfcf-977b856e2d26"
      },
      "execution_count": 154,
      "outputs": [
        {
          "output_type": "stream",
          "name": "stdout",
          "text": [
            "24/24 [==============================] - 1s 9ms/step\n"
          ]
        },
        {
          "output_type": "execute_result",
          "data": {
            "text/plain": [
              "array([[0.],\n",
              "       [1.],\n",
              "       [1.],\n",
              "       [0.],\n",
              "       [1.],\n",
              "       [1.],\n",
              "       [1.],\n",
              "       [1.],\n",
              "       [1.],\n",
              "       [0.],\n",
              "       [1.],\n",
              "       [0.],\n",
              "       [0.],\n",
              "       [0.],\n",
              "       [0.],\n",
              "       [0.],\n",
              "       [0.],\n",
              "       [0.],\n",
              "       [0.],\n",
              "       [1.]], dtype=float32)"
            ]
          },
          "metadata": {},
          "execution_count": 154
        }
      ]
    },
    {
      "cell_type": "code",
      "source": [
        "model_7_results = calculate_results(y_true=Val_label,\n",
        "                                    y_pred=model_7_pred)\n",
        "model_7_results"
      ],
      "metadata": {
        "colab": {
          "base_uri": "https://localhost:8080/"
        },
        "id": "flUMA7des2hE",
        "outputId": "59123d6c-ad06-4b9c-ce1b-a5ae54201e66"
      },
      "execution_count": 155,
      "outputs": [
        {
          "output_type": "execute_result",
          "data": {
            "text/plain": [
              "{'accuracy': 79.00262467191601,\n",
              " 'precision': 0.7897452941640452,\n",
              " 'recall': 0.7900262467191601,\n",
              " 'f1': 0.7896167159209722}"
            ]
          },
          "metadata": {},
          "execution_count": 155
        }
      ]
    },
    {
      "cell_type": "code",
      "source": [],
      "metadata": {
        "id": "UIzvt59fs7RB"
      },
      "execution_count": 155,
      "outputs": []
    },
    {
      "cell_type": "markdown",
      "source": [
        "# ***Compare model 0 & 7***"
      ],
      "metadata": {
        "id": "VI5c3ScmtG_w"
      }
    },
    {
      "cell_type": "code",
      "source": [
        "np.array(list(model_7_results.values())) > np.array(list(model_0_results.values()))"
      ],
      "metadata": {
        "colab": {
          "base_uri": "https://localhost:8080/"
        },
        "id": "Fz-BRImOtK8l",
        "outputId": "3443e9d5-8956-4ba6-fd79-aa6ab77213bd"
      },
      "execution_count": 156,
      "outputs": [
        {
          "output_type": "execute_result",
          "data": {
            "text/plain": [
              "array([False, False, False,  True])"
            ]
          },
          "metadata": {},
          "execution_count": 156
        }
      ]
    },
    {
      "cell_type": "code",
      "source": [],
      "metadata": {
        "id": "0nv7kM3LtOXM"
      },
      "execution_count": 156,
      "outputs": []
    },
    {
      "cell_type": "code",
      "source": [],
      "metadata": {
        "id": "n7gbluqGv2yH"
      },
      "execution_count": 156,
      "outputs": []
    },
    {
      "cell_type": "markdown",
      "source": [
        "# ***Comparing all Models***"
      ],
      "metadata": {
        "id": "8ryxEgh_xu4N"
      }
    },
    {
      "cell_type": "code",
      "source": [
        "all_model_results = pd.DataFrame()\n",
        "all_model_results[\"0_Baseline\"] = model_0_results\n",
        "all_model_results[\"1_Simple_dense_model\"] = model_1_results\n",
        "all_model_results[\"2_LSTM (RNN)\"] = model_2_results\n",
        "all_model_results[\"3_GRU (RNN)\"] = model_3_results\n",
        "all_model_results[\"4_Bidirectonal (RNN)\"] = model_4_results\n",
        "all_model_results[\"5_Conv1D\"] = model_5_results\n",
        "all_model_results[\"6_Tf_hub_USE\"] = model_6_results\n",
        "all_model_results[\"7_Tf_hub_USE_ten_percent\"] = model_7_results"
      ],
      "metadata": {
        "id": "o_wAXy9Dxyr8"
      },
      "execution_count": 157,
      "outputs": []
    },
    {
      "cell_type": "code",
      "source": [
        "all_model_results"
      ],
      "metadata": {
        "colab": {
          "base_uri": "https://localhost:8080/",
          "height": 175
        },
        "id": "YEvuzO1ox2Bg",
        "outputId": "e1c18628-64e8-4d64-a94f-3ee7c2739f2f"
      },
      "execution_count": 158,
      "outputs": [
        {
          "output_type": "execute_result",
          "data": {
            "text/plain": [
              "           0_Baseline  1_Simple_dense_model  2_LSTM (RNN)  3_GRU (RNN)  \\\n",
              "accuracy    79.265092             78.346457     76.509186    77.427822   \n",
              "precision    0.811139              0.787599      0.764720     0.774732   \n",
              "recall       0.792651              0.783465      0.765092     0.774278   \n",
              "f1           0.786219              0.780638      0.764746     0.772933   \n",
              "\n",
              "           4_Bidirectonal (RNN)   5_Conv1D  6_Tf_hub_USE  \\\n",
              "accuracy              77.427822  76.377953     81.496063   \n",
              "precision              0.775504   0.764768      0.817906   \n",
              "recall                 0.774278   0.763780      0.814961   \n",
              "f1                     0.772479   0.761896      0.813230   \n",
              "\n",
              "           7_Tf_hub_USE_ten_percent  \n",
              "accuracy                  79.002625  \n",
              "precision                  0.789745  \n",
              "recall                     0.790026  \n",
              "f1                         0.789617  "
            ],
            "text/html": [
              "\n",
              "  <div id=\"df-b8274b7a-c1d0-47bf-ad8d-290e569011ee\">\n",
              "    <div class=\"colab-df-container\">\n",
              "      <div>\n",
              "<style scoped>\n",
              "    .dataframe tbody tr th:only-of-type {\n",
              "        vertical-align: middle;\n",
              "    }\n",
              "\n",
              "    .dataframe tbody tr th {\n",
              "        vertical-align: top;\n",
              "    }\n",
              "\n",
              "    .dataframe thead th {\n",
              "        text-align: right;\n",
              "    }\n",
              "</style>\n",
              "<table border=\"1\" class=\"dataframe\">\n",
              "  <thead>\n",
              "    <tr style=\"text-align: right;\">\n",
              "      <th></th>\n",
              "      <th>0_Baseline</th>\n",
              "      <th>1_Simple_dense_model</th>\n",
              "      <th>2_LSTM (RNN)</th>\n",
              "      <th>3_GRU (RNN)</th>\n",
              "      <th>4_Bidirectonal (RNN)</th>\n",
              "      <th>5_Conv1D</th>\n",
              "      <th>6_Tf_hub_USE</th>\n",
              "      <th>7_Tf_hub_USE_ten_percent</th>\n",
              "    </tr>\n",
              "  </thead>\n",
              "  <tbody>\n",
              "    <tr>\n",
              "      <th>accuracy</th>\n",
              "      <td>79.265092</td>\n",
              "      <td>78.346457</td>\n",
              "      <td>76.509186</td>\n",
              "      <td>77.427822</td>\n",
              "      <td>77.427822</td>\n",
              "      <td>76.377953</td>\n",
              "      <td>81.496063</td>\n",
              "      <td>79.002625</td>\n",
              "    </tr>\n",
              "    <tr>\n",
              "      <th>precision</th>\n",
              "      <td>0.811139</td>\n",
              "      <td>0.787599</td>\n",
              "      <td>0.764720</td>\n",
              "      <td>0.774732</td>\n",
              "      <td>0.775504</td>\n",
              "      <td>0.764768</td>\n",
              "      <td>0.817906</td>\n",
              "      <td>0.789745</td>\n",
              "    </tr>\n",
              "    <tr>\n",
              "      <th>recall</th>\n",
              "      <td>0.792651</td>\n",
              "      <td>0.783465</td>\n",
              "      <td>0.765092</td>\n",
              "      <td>0.774278</td>\n",
              "      <td>0.774278</td>\n",
              "      <td>0.763780</td>\n",
              "      <td>0.814961</td>\n",
              "      <td>0.790026</td>\n",
              "    </tr>\n",
              "    <tr>\n",
              "      <th>f1</th>\n",
              "      <td>0.786219</td>\n",
              "      <td>0.780638</td>\n",
              "      <td>0.764746</td>\n",
              "      <td>0.772933</td>\n",
              "      <td>0.772479</td>\n",
              "      <td>0.761896</td>\n",
              "      <td>0.813230</td>\n",
              "      <td>0.789617</td>\n",
              "    </tr>\n",
              "  </tbody>\n",
              "</table>\n",
              "</div>\n",
              "      <button class=\"colab-df-convert\" onclick=\"convertToInteractive('df-b8274b7a-c1d0-47bf-ad8d-290e569011ee')\"\n",
              "              title=\"Convert this dataframe to an interactive table.\"\n",
              "              style=\"display:none;\">\n",
              "        \n",
              "  <svg xmlns=\"http://www.w3.org/2000/svg\" height=\"24px\"viewBox=\"0 0 24 24\"\n",
              "       width=\"24px\">\n",
              "    <path d=\"M0 0h24v24H0V0z\" fill=\"none\"/>\n",
              "    <path d=\"M18.56 5.44l.94 2.06.94-2.06 2.06-.94-2.06-.94-.94-2.06-.94 2.06-2.06.94zm-11 1L8.5 8.5l.94-2.06 2.06-.94-2.06-.94L8.5 2.5l-.94 2.06-2.06.94zm10 10l.94 2.06.94-2.06 2.06-.94-2.06-.94-.94-2.06-.94 2.06-2.06.94z\"/><path d=\"M17.41 7.96l-1.37-1.37c-.4-.4-.92-.59-1.43-.59-.52 0-1.04.2-1.43.59L10.3 9.45l-7.72 7.72c-.78.78-.78 2.05 0 2.83L4 21.41c.39.39.9.59 1.41.59.51 0 1.02-.2 1.41-.59l7.78-7.78 2.81-2.81c.8-.78.8-2.07 0-2.86zM5.41 20L4 18.59l7.72-7.72 1.47 1.35L5.41 20z\"/>\n",
              "  </svg>\n",
              "      </button>\n",
              "      \n",
              "  <style>\n",
              "    .colab-df-container {\n",
              "      display:flex;\n",
              "      flex-wrap:wrap;\n",
              "      gap: 12px;\n",
              "    }\n",
              "\n",
              "    .colab-df-convert {\n",
              "      background-color: #E8F0FE;\n",
              "      border: none;\n",
              "      border-radius: 50%;\n",
              "      cursor: pointer;\n",
              "      display: none;\n",
              "      fill: #1967D2;\n",
              "      height: 32px;\n",
              "      padding: 0 0 0 0;\n",
              "      width: 32px;\n",
              "    }\n",
              "\n",
              "    .colab-df-convert:hover {\n",
              "      background-color: #E2EBFA;\n",
              "      box-shadow: 0px 1px 2px rgba(60, 64, 67, 0.3), 0px 1px 3px 1px rgba(60, 64, 67, 0.15);\n",
              "      fill: #174EA6;\n",
              "    }\n",
              "\n",
              "    [theme=dark] .colab-df-convert {\n",
              "      background-color: #3B4455;\n",
              "      fill: #D2E3FC;\n",
              "    }\n",
              "\n",
              "    [theme=dark] .colab-df-convert:hover {\n",
              "      background-color: #434B5C;\n",
              "      box-shadow: 0px 1px 3px 1px rgba(0, 0, 0, 0.15);\n",
              "      filter: drop-shadow(0px 1px 2px rgba(0, 0, 0, 0.3));\n",
              "      fill: #FFFFFF;\n",
              "    }\n",
              "  </style>\n",
              "\n",
              "      <script>\n",
              "        const buttonEl =\n",
              "          document.querySelector('#df-b8274b7a-c1d0-47bf-ad8d-290e569011ee button.colab-df-convert');\n",
              "        buttonEl.style.display =\n",
              "          google.colab.kernel.accessAllowed ? 'block' : 'none';\n",
              "\n",
              "        async function convertToInteractive(key) {\n",
              "          const element = document.querySelector('#df-b8274b7a-c1d0-47bf-ad8d-290e569011ee');\n",
              "          const dataTable =\n",
              "            await google.colab.kernel.invokeFunction('convertToInteractive',\n",
              "                                                     [key], {});\n",
              "          if (!dataTable) return;\n",
              "\n",
              "          const docLinkHtml = 'Like what you see? Visit the ' +\n",
              "            '<a target=\"_blank\" href=https://colab.research.google.com/notebooks/data_table.ipynb>data table notebook</a>'\n",
              "            + ' to learn more about interactive tables.';\n",
              "          element.innerHTML = '';\n",
              "          dataTable['output_type'] = 'display_data';\n",
              "          await google.colab.output.renderOutput(dataTable, element);\n",
              "          const docLink = document.createElement('div');\n",
              "          docLink.innerHTML = docLinkHtml;\n",
              "          element.appendChild(docLink);\n",
              "        }\n",
              "      </script>\n",
              "    </div>\n",
              "  </div>\n",
              "  "
            ]
          },
          "metadata": {},
          "execution_count": 158
        }
      ]
    },
    {
      "cell_type": "code",
      "source": [
        "all_model_results = all_model_results.transpose()\n",
        "all_model_results"
      ],
      "metadata": {
        "colab": {
          "base_uri": "https://localhost:8080/",
          "height": 300
        },
        "id": "SIsZ03tFzKhP",
        "outputId": "f98e03e9-a278-4607-9f18-06314e9e87b6"
      },
      "execution_count": 159,
      "outputs": [
        {
          "output_type": "execute_result",
          "data": {
            "text/plain": [
              "                           accuracy  precision    recall        f1\n",
              "0_Baseline                79.265092   0.811139  0.792651  0.786219\n",
              "1_Simple_dense_model      78.346457   0.787599  0.783465  0.780638\n",
              "2_LSTM (RNN)              76.509186   0.764720  0.765092  0.764746\n",
              "3_GRU (RNN)               77.427822   0.774732  0.774278  0.772933\n",
              "4_Bidirectonal (RNN)      77.427822   0.775504  0.774278  0.772479\n",
              "5_Conv1D                  76.377953   0.764768  0.763780  0.761896\n",
              "6_Tf_hub_USE              81.496063   0.817906  0.814961  0.813230\n",
              "7_Tf_hub_USE_ten_percent  79.002625   0.789745  0.790026  0.789617"
            ],
            "text/html": [
              "\n",
              "  <div id=\"df-9fe65e93-167e-4ab2-a74f-ce38d72ce3e9\">\n",
              "    <div class=\"colab-df-container\">\n",
              "      <div>\n",
              "<style scoped>\n",
              "    .dataframe tbody tr th:only-of-type {\n",
              "        vertical-align: middle;\n",
              "    }\n",
              "\n",
              "    .dataframe tbody tr th {\n",
              "        vertical-align: top;\n",
              "    }\n",
              "\n",
              "    .dataframe thead th {\n",
              "        text-align: right;\n",
              "    }\n",
              "</style>\n",
              "<table border=\"1\" class=\"dataframe\">\n",
              "  <thead>\n",
              "    <tr style=\"text-align: right;\">\n",
              "      <th></th>\n",
              "      <th>accuracy</th>\n",
              "      <th>precision</th>\n",
              "      <th>recall</th>\n",
              "      <th>f1</th>\n",
              "    </tr>\n",
              "  </thead>\n",
              "  <tbody>\n",
              "    <tr>\n",
              "      <th>0_Baseline</th>\n",
              "      <td>79.265092</td>\n",
              "      <td>0.811139</td>\n",
              "      <td>0.792651</td>\n",
              "      <td>0.786219</td>\n",
              "    </tr>\n",
              "    <tr>\n",
              "      <th>1_Simple_dense_model</th>\n",
              "      <td>78.346457</td>\n",
              "      <td>0.787599</td>\n",
              "      <td>0.783465</td>\n",
              "      <td>0.780638</td>\n",
              "    </tr>\n",
              "    <tr>\n",
              "      <th>2_LSTM (RNN)</th>\n",
              "      <td>76.509186</td>\n",
              "      <td>0.764720</td>\n",
              "      <td>0.765092</td>\n",
              "      <td>0.764746</td>\n",
              "    </tr>\n",
              "    <tr>\n",
              "      <th>3_GRU (RNN)</th>\n",
              "      <td>77.427822</td>\n",
              "      <td>0.774732</td>\n",
              "      <td>0.774278</td>\n",
              "      <td>0.772933</td>\n",
              "    </tr>\n",
              "    <tr>\n",
              "      <th>4_Bidirectonal (RNN)</th>\n",
              "      <td>77.427822</td>\n",
              "      <td>0.775504</td>\n",
              "      <td>0.774278</td>\n",
              "      <td>0.772479</td>\n",
              "    </tr>\n",
              "    <tr>\n",
              "      <th>5_Conv1D</th>\n",
              "      <td>76.377953</td>\n",
              "      <td>0.764768</td>\n",
              "      <td>0.763780</td>\n",
              "      <td>0.761896</td>\n",
              "    </tr>\n",
              "    <tr>\n",
              "      <th>6_Tf_hub_USE</th>\n",
              "      <td>81.496063</td>\n",
              "      <td>0.817906</td>\n",
              "      <td>0.814961</td>\n",
              "      <td>0.813230</td>\n",
              "    </tr>\n",
              "    <tr>\n",
              "      <th>7_Tf_hub_USE_ten_percent</th>\n",
              "      <td>79.002625</td>\n",
              "      <td>0.789745</td>\n",
              "      <td>0.790026</td>\n",
              "      <td>0.789617</td>\n",
              "    </tr>\n",
              "  </tbody>\n",
              "</table>\n",
              "</div>\n",
              "      <button class=\"colab-df-convert\" onclick=\"convertToInteractive('df-9fe65e93-167e-4ab2-a74f-ce38d72ce3e9')\"\n",
              "              title=\"Convert this dataframe to an interactive table.\"\n",
              "              style=\"display:none;\">\n",
              "        \n",
              "  <svg xmlns=\"http://www.w3.org/2000/svg\" height=\"24px\"viewBox=\"0 0 24 24\"\n",
              "       width=\"24px\">\n",
              "    <path d=\"M0 0h24v24H0V0z\" fill=\"none\"/>\n",
              "    <path d=\"M18.56 5.44l.94 2.06.94-2.06 2.06-.94-2.06-.94-.94-2.06-.94 2.06-2.06.94zm-11 1L8.5 8.5l.94-2.06 2.06-.94-2.06-.94L8.5 2.5l-.94 2.06-2.06.94zm10 10l.94 2.06.94-2.06 2.06-.94-2.06-.94-.94-2.06-.94 2.06-2.06.94z\"/><path d=\"M17.41 7.96l-1.37-1.37c-.4-.4-.92-.59-1.43-.59-.52 0-1.04.2-1.43.59L10.3 9.45l-7.72 7.72c-.78.78-.78 2.05 0 2.83L4 21.41c.39.39.9.59 1.41.59.51 0 1.02-.2 1.41-.59l7.78-7.78 2.81-2.81c.8-.78.8-2.07 0-2.86zM5.41 20L4 18.59l7.72-7.72 1.47 1.35L5.41 20z\"/>\n",
              "  </svg>\n",
              "      </button>\n",
              "      \n",
              "  <style>\n",
              "    .colab-df-container {\n",
              "      display:flex;\n",
              "      flex-wrap:wrap;\n",
              "      gap: 12px;\n",
              "    }\n",
              "\n",
              "    .colab-df-convert {\n",
              "      background-color: #E8F0FE;\n",
              "      border: none;\n",
              "      border-radius: 50%;\n",
              "      cursor: pointer;\n",
              "      display: none;\n",
              "      fill: #1967D2;\n",
              "      height: 32px;\n",
              "      padding: 0 0 0 0;\n",
              "      width: 32px;\n",
              "    }\n",
              "\n",
              "    .colab-df-convert:hover {\n",
              "      background-color: #E2EBFA;\n",
              "      box-shadow: 0px 1px 2px rgba(60, 64, 67, 0.3), 0px 1px 3px 1px rgba(60, 64, 67, 0.15);\n",
              "      fill: #174EA6;\n",
              "    }\n",
              "\n",
              "    [theme=dark] .colab-df-convert {\n",
              "      background-color: #3B4455;\n",
              "      fill: #D2E3FC;\n",
              "    }\n",
              "\n",
              "    [theme=dark] .colab-df-convert:hover {\n",
              "      background-color: #434B5C;\n",
              "      box-shadow: 0px 1px 3px 1px rgba(0, 0, 0, 0.15);\n",
              "      filter: drop-shadow(0px 1px 2px rgba(0, 0, 0, 0.3));\n",
              "      fill: #FFFFFF;\n",
              "    }\n",
              "  </style>\n",
              "\n",
              "      <script>\n",
              "        const buttonEl =\n",
              "          document.querySelector('#df-9fe65e93-167e-4ab2-a74f-ce38d72ce3e9 button.colab-df-convert');\n",
              "        buttonEl.style.display =\n",
              "          google.colab.kernel.accessAllowed ? 'block' : 'none';\n",
              "\n",
              "        async function convertToInteractive(key) {\n",
              "          const element = document.querySelector('#df-9fe65e93-167e-4ab2-a74f-ce38d72ce3e9');\n",
              "          const dataTable =\n",
              "            await google.colab.kernel.invokeFunction('convertToInteractive',\n",
              "                                                     [key], {});\n",
              "          if (!dataTable) return;\n",
              "\n",
              "          const docLinkHtml = 'Like what you see? Visit the ' +\n",
              "            '<a target=\"_blank\" href=https://colab.research.google.com/notebooks/data_table.ipynb>data table notebook</a>'\n",
              "            + ' to learn more about interactive tables.';\n",
              "          element.innerHTML = '';\n",
              "          dataTable['output_type'] = 'display_data';\n",
              "          await google.colab.output.renderOutput(dataTable, element);\n",
              "          const docLink = document.createElement('div');\n",
              "          docLink.innerHTML = docLinkHtml;\n",
              "          element.appendChild(docLink);\n",
              "        }\n",
              "      </script>\n",
              "    </div>\n",
              "  </div>\n",
              "  "
            ]
          },
          "metadata": {},
          "execution_count": 159
        }
      ]
    },
    {
      "cell_type": "code",
      "source": [
        "all_model_results[\"accuracy\"] = all_model_results[\"accuracy\"]/100"
      ],
      "metadata": {
        "id": "9kR-J6wtx_Gj"
      },
      "execution_count": 160,
      "outputs": []
    },
    {
      "cell_type": "code",
      "source": [
        "all_model_results"
      ],
      "metadata": {
        "colab": {
          "base_uri": "https://localhost:8080/",
          "height": 300
        },
        "id": "PKD7C_Rryrwv",
        "outputId": "1d9b03b9-d5c7-48fe-aa01-6d6bcabda709"
      },
      "execution_count": 161,
      "outputs": [
        {
          "output_type": "execute_result",
          "data": {
            "text/plain": [
              "                          accuracy  precision    recall        f1\n",
              "0_Baseline                0.792651   0.811139  0.792651  0.786219\n",
              "1_Simple_dense_model      0.783465   0.787599  0.783465  0.780638\n",
              "2_LSTM (RNN)              0.765092   0.764720  0.765092  0.764746\n",
              "3_GRU (RNN)               0.774278   0.774732  0.774278  0.772933\n",
              "4_Bidirectonal (RNN)      0.774278   0.775504  0.774278  0.772479\n",
              "5_Conv1D                  0.763780   0.764768  0.763780  0.761896\n",
              "6_Tf_hub_USE              0.814961   0.817906  0.814961  0.813230\n",
              "7_Tf_hub_USE_ten_percent  0.790026   0.789745  0.790026  0.789617"
            ],
            "text/html": [
              "\n",
              "  <div id=\"df-83e77ba5-dc8a-4fc1-8afc-da1257953b49\">\n",
              "    <div class=\"colab-df-container\">\n",
              "      <div>\n",
              "<style scoped>\n",
              "    .dataframe tbody tr th:only-of-type {\n",
              "        vertical-align: middle;\n",
              "    }\n",
              "\n",
              "    .dataframe tbody tr th {\n",
              "        vertical-align: top;\n",
              "    }\n",
              "\n",
              "    .dataframe thead th {\n",
              "        text-align: right;\n",
              "    }\n",
              "</style>\n",
              "<table border=\"1\" class=\"dataframe\">\n",
              "  <thead>\n",
              "    <tr style=\"text-align: right;\">\n",
              "      <th></th>\n",
              "      <th>accuracy</th>\n",
              "      <th>precision</th>\n",
              "      <th>recall</th>\n",
              "      <th>f1</th>\n",
              "    </tr>\n",
              "  </thead>\n",
              "  <tbody>\n",
              "    <tr>\n",
              "      <th>0_Baseline</th>\n",
              "      <td>0.792651</td>\n",
              "      <td>0.811139</td>\n",
              "      <td>0.792651</td>\n",
              "      <td>0.786219</td>\n",
              "    </tr>\n",
              "    <tr>\n",
              "      <th>1_Simple_dense_model</th>\n",
              "      <td>0.783465</td>\n",
              "      <td>0.787599</td>\n",
              "      <td>0.783465</td>\n",
              "      <td>0.780638</td>\n",
              "    </tr>\n",
              "    <tr>\n",
              "      <th>2_LSTM (RNN)</th>\n",
              "      <td>0.765092</td>\n",
              "      <td>0.764720</td>\n",
              "      <td>0.765092</td>\n",
              "      <td>0.764746</td>\n",
              "    </tr>\n",
              "    <tr>\n",
              "      <th>3_GRU (RNN)</th>\n",
              "      <td>0.774278</td>\n",
              "      <td>0.774732</td>\n",
              "      <td>0.774278</td>\n",
              "      <td>0.772933</td>\n",
              "    </tr>\n",
              "    <tr>\n",
              "      <th>4_Bidirectonal (RNN)</th>\n",
              "      <td>0.774278</td>\n",
              "      <td>0.775504</td>\n",
              "      <td>0.774278</td>\n",
              "      <td>0.772479</td>\n",
              "    </tr>\n",
              "    <tr>\n",
              "      <th>5_Conv1D</th>\n",
              "      <td>0.763780</td>\n",
              "      <td>0.764768</td>\n",
              "      <td>0.763780</td>\n",
              "      <td>0.761896</td>\n",
              "    </tr>\n",
              "    <tr>\n",
              "      <th>6_Tf_hub_USE</th>\n",
              "      <td>0.814961</td>\n",
              "      <td>0.817906</td>\n",
              "      <td>0.814961</td>\n",
              "      <td>0.813230</td>\n",
              "    </tr>\n",
              "    <tr>\n",
              "      <th>7_Tf_hub_USE_ten_percent</th>\n",
              "      <td>0.790026</td>\n",
              "      <td>0.789745</td>\n",
              "      <td>0.790026</td>\n",
              "      <td>0.789617</td>\n",
              "    </tr>\n",
              "  </tbody>\n",
              "</table>\n",
              "</div>\n",
              "      <button class=\"colab-df-convert\" onclick=\"convertToInteractive('df-83e77ba5-dc8a-4fc1-8afc-da1257953b49')\"\n",
              "              title=\"Convert this dataframe to an interactive table.\"\n",
              "              style=\"display:none;\">\n",
              "        \n",
              "  <svg xmlns=\"http://www.w3.org/2000/svg\" height=\"24px\"viewBox=\"0 0 24 24\"\n",
              "       width=\"24px\">\n",
              "    <path d=\"M0 0h24v24H0V0z\" fill=\"none\"/>\n",
              "    <path d=\"M18.56 5.44l.94 2.06.94-2.06 2.06-.94-2.06-.94-.94-2.06-.94 2.06-2.06.94zm-11 1L8.5 8.5l.94-2.06 2.06-.94-2.06-.94L8.5 2.5l-.94 2.06-2.06.94zm10 10l.94 2.06.94-2.06 2.06-.94-2.06-.94-.94-2.06-.94 2.06-2.06.94z\"/><path d=\"M17.41 7.96l-1.37-1.37c-.4-.4-.92-.59-1.43-.59-.52 0-1.04.2-1.43.59L10.3 9.45l-7.72 7.72c-.78.78-.78 2.05 0 2.83L4 21.41c.39.39.9.59 1.41.59.51 0 1.02-.2 1.41-.59l7.78-7.78 2.81-2.81c.8-.78.8-2.07 0-2.86zM5.41 20L4 18.59l7.72-7.72 1.47 1.35L5.41 20z\"/>\n",
              "  </svg>\n",
              "      </button>\n",
              "      \n",
              "  <style>\n",
              "    .colab-df-container {\n",
              "      display:flex;\n",
              "      flex-wrap:wrap;\n",
              "      gap: 12px;\n",
              "    }\n",
              "\n",
              "    .colab-df-convert {\n",
              "      background-color: #E8F0FE;\n",
              "      border: none;\n",
              "      border-radius: 50%;\n",
              "      cursor: pointer;\n",
              "      display: none;\n",
              "      fill: #1967D2;\n",
              "      height: 32px;\n",
              "      padding: 0 0 0 0;\n",
              "      width: 32px;\n",
              "    }\n",
              "\n",
              "    .colab-df-convert:hover {\n",
              "      background-color: #E2EBFA;\n",
              "      box-shadow: 0px 1px 2px rgba(60, 64, 67, 0.3), 0px 1px 3px 1px rgba(60, 64, 67, 0.15);\n",
              "      fill: #174EA6;\n",
              "    }\n",
              "\n",
              "    [theme=dark] .colab-df-convert {\n",
              "      background-color: #3B4455;\n",
              "      fill: #D2E3FC;\n",
              "    }\n",
              "\n",
              "    [theme=dark] .colab-df-convert:hover {\n",
              "      background-color: #434B5C;\n",
              "      box-shadow: 0px 1px 3px 1px rgba(0, 0, 0, 0.15);\n",
              "      filter: drop-shadow(0px 1px 2px rgba(0, 0, 0, 0.3));\n",
              "      fill: #FFFFFF;\n",
              "    }\n",
              "  </style>\n",
              "\n",
              "      <script>\n",
              "        const buttonEl =\n",
              "          document.querySelector('#df-83e77ba5-dc8a-4fc1-8afc-da1257953b49 button.colab-df-convert');\n",
              "        buttonEl.style.display =\n",
              "          google.colab.kernel.accessAllowed ? 'block' : 'none';\n",
              "\n",
              "        async function convertToInteractive(key) {\n",
              "          const element = document.querySelector('#df-83e77ba5-dc8a-4fc1-8afc-da1257953b49');\n",
              "          const dataTable =\n",
              "            await google.colab.kernel.invokeFunction('convertToInteractive',\n",
              "                                                     [key], {});\n",
              "          if (!dataTable) return;\n",
              "\n",
              "          const docLinkHtml = 'Like what you see? Visit the ' +\n",
              "            '<a target=\"_blank\" href=https://colab.research.google.com/notebooks/data_table.ipynb>data table notebook</a>'\n",
              "            + ' to learn more about interactive tables.';\n",
              "          element.innerHTML = '';\n",
              "          dataTable['output_type'] = 'display_data';\n",
              "          await google.colab.output.renderOutput(dataTable, element);\n",
              "          const docLink = document.createElement('div');\n",
              "          docLink.innerHTML = docLinkHtml;\n",
              "          element.appendChild(docLink);\n",
              "        }\n",
              "      </script>\n",
              "    </div>\n",
              "  </div>\n",
              "  "
            ]
          },
          "metadata": {},
          "execution_count": 161
        }
      ]
    },
    {
      "cell_type": "code",
      "source": [
        "import matplotlib.pyplot as plt\n",
        "all_model_results[\"accuracy\"].plot(kind = \"bar\")"
      ],
      "metadata": {
        "colab": {
          "base_uri": "https://localhost:8080/",
          "height": 620
        },
        "id": "NXbidC-5zR-H",
        "outputId": "84d812eb-55a8-42f0-d2de-8cb239db20e4"
      },
      "execution_count": 162,
      "outputs": [
        {
          "output_type": "execute_result",
          "data": {
            "text/plain": [
              "<Axes: >"
            ]
          },
          "metadata": {},
          "execution_count": 162
        },
        {
          "output_type": "display_data",
          "data": {
            "text/plain": [
              "<Figure size 640x480 with 1 Axes>"
            ],
            "image/png": "[encoded data removed]"
          },
          "metadata": {}
        }
      ]
    },
    {
      "cell_type": "code",
      "source": [
        "all_model_results.plot(kind = \"bar\")\n",
        "plt.legend(loc = (1.1 , 0.8))"
      ],
      "metadata": {
        "colab": {
          "base_uri": "https://localhost:8080/",
          "height": 634
        },
        "id": "qQwsD85lzWoh",
        "outputId": "a0f2b015-a828-4900-8f71-8f3724456544"
      },
      "execution_count": 163,
      "outputs": [
        {
          "output_type": "execute_result",
          "data": {
            "text/plain": [
              "<matplotlib.legend.Legend at 0x7fa3097d25c0>"
            ]
          },
          "metadata": {},
          "execution_count": 163
        },
        {
          "output_type": "display_data",
          "data": {
            "text/plain": [
              "<Figure size 640x480 with 1 Axes>"
            ],
            "image/png": "[encoded data removed]"
          },
          "metadata": {}
        }
      ]
    },
    {
      "cell_type": "code",
      "source": [
        "all_model_results.sort_values(by = \"f1\" , ascending = False)[\"f1\"].plot(kind = \"bar\")"
      ],
      "metadata": {
        "colab": {
          "base_uri": "https://localhost:8080/",
          "height": 620
        },
        "id": "XL8vJboMz71e",
        "outputId": "cd1b3d95-f228-4643-9652-0147cb97cf65"
      },
      "execution_count": 164,
      "outputs": [
        {
          "output_type": "execute_result",
          "data": {
            "text/plain": [
              "<Axes: >"
            ]
          },
          "metadata": {},
          "execution_count": 164
        },
        {
          "output_type": "display_data",
          "data": {
            "text/plain": [
              "<Figure size 640x480 with 1 Axes>"
            ],
            "image/png": "[encoded data removed]"
          },
          "metadata": {}
        }
      ]
    },
    {
      "cell_type": "code",
      "source": [],
      "metadata": {
        "id": "JExzTYdx0kGs"
      },
      "execution_count": 164,
      "outputs": []
    },
    {
      "cell_type": "code",
      "source": [],
      "metadata": {
        "id": "C3gcITY4iiUU"
      },
      "execution_count": 164,
      "outputs": []
    },
    {
      "cell_type": "code",
      "source": [],
      "metadata": {
        "id": "dLyf_g6HiiYy"
      },
      "execution_count": 164,
      "outputs": []
    },
    {
      "cell_type": "code",
      "source": [],
      "metadata": {
        "id": "_Zc0l3X_iieg"
      },
      "execution_count": 164,
      "outputs": []
    },
    {
      "cell_type": "markdown",
      "source": [
        "# ***Tensorboard dev***"
      ],
      "metadata": {
        "id": "zx2aqcsniiq8"
      }
    },
    {
      "cell_type": "code",
      "source": [],
      "metadata": {
        "id": "KfP54oA8im6Z"
      },
      "execution_count": 164,
      "outputs": []
    },
    {
      "cell_type": "markdown",
      "source": [
        "# ***Saving & Loading our best model ***\n",
        "\n",
        "2 Types :\n",
        "1) HDF5 Format\n",
        "2) SaveModel Format"
      ],
      "metadata": {
        "id": "qGFtk-DKiwxf"
      }
    },
    {
      "cell_type": "code",
      "source": [
        "model_6.save(\"model_6.hd5\")"
      ],
      "metadata": {
        "colab": {
          "base_uri": "https://localhost:8080/"
        },
        "id": "0Qdk3YS5jHsJ",
        "outputId": "ca1ac598-2729-4a6c-dd86-448395171dae"
      },
      "execution_count": 165,
      "outputs": [
        {
          "output_type": "stream",
          "name": "stderr",
          "text": [
            "WARNING:absl:Function `_wrapped_model` contains input name(s) USA_input with unsupported characters which will be renamed to usa_input in the SavedModel.\n"
          ]
        }
      ]
    },
    {
      "cell_type": "code",
      "source": [
        "from keras.models import load_model\n",
        "import tensorflow_hub as hub\n",
        "load_model_6 = load_model(\"model_6.hd5\" , custom_objects = {\"KerasLayers\" : hub.KerasLayer})"
      ],
      "metadata": {
        "id": "LX9tGDr7jQp_"
      },
      "execution_count": 166,
      "outputs": []
    },
    {
      "cell_type": "code",
      "source": [
        "load_model_6.evaluate(Val_sentence , Val_label)"
      ],
      "metadata": {
        "colab": {
          "base_uri": "https://localhost:8080/"
        },
        "id": "dcirdb_mkUtr",
        "outputId": "4bce925d-89e2-4937-fd03-0d454a889101"
      },
      "execution_count": 167,
      "outputs": [
        {
          "output_type": "stream",
          "name": "stdout",
          "text": [
            "24/24 [==============================] - 1s 11ms/step - loss: 0.4292 - accuracy: 0.8150\n"
          ]
        },
        {
          "output_type": "execute_result",
          "data": {
            "text/plain": [
              "[0.42918136715888977, 0.8149606585502625]"
            ]
          },
          "metadata": {},
          "execution_count": 167
        }
      ]
    },
    {
      "cell_type": "code",
      "source": [
        "model_6_results"
      ],
      "metadata": {
        "colab": {
          "base_uri": "https://localhost:8080/"
        },
        "id": "zMZ8bge6m8Xc",
        "outputId": "eb263acf-99f9-4e06-d709-1ced373f5fbf"
      },
      "execution_count": 168,
      "outputs": [
        {
          "output_type": "execute_result",
          "data": {
            "text/plain": [
              "{'accuracy': 81.49606299212599,\n",
              " 'precision': 0.8179063565195398,\n",
              " 'recall': 0.8149606299212598,\n",
              " 'f1': 0.8132300658103407}"
            ]
          },
          "metadata": {},
          "execution_count": 168
        }
      ]
    },
    {
      "cell_type": "code",
      "source": [],
      "metadata": {
        "id": "hOUB4qm1m-5n"
      },
      "execution_count": 168,
      "outputs": []
    },
    {
      "cell_type": "code",
      "source": [],
      "metadata": {
        "id": "wbBql-9anBuE"
      },
      "execution_count": 168,
      "outputs": []
    },
    {
      "cell_type": "code",
      "source": [
        "model_6.save(\"model_6_SaveModel_format\")"
      ],
      "metadata": {
        "colab": {
          "base_uri": "https://localhost:8080/"
        },
        "id": "Bw08ZuzYnByT",
        "outputId": "b2432593-9e28-4b98-c2a4-32cb6fb074d3"
      },
      "execution_count": 169,
      "outputs": [
        {
          "output_type": "stream",
          "name": "stderr",
          "text": [
            "WARNING:absl:Function `_wrapped_model` contains input name(s) USA_input with unsupported characters which will be renamed to usa_input in the SavedModel.\n"
          ]
        }
      ]
    },
    {
      "cell_type": "code",
      "source": [
        "load_model_6 = load_model(\"model_6_SaveModel_format\")"
      ],
      "metadata": {
        "id": "ffl7ZfWsnHNm"
      },
      "execution_count": 170,
      "outputs": []
    },
    {
      "cell_type": "code",
      "source": [
        "load_model_6.evaluate(Val_sentence , Val_label)"
      ],
      "metadata": {
        "colab": {
          "base_uri": "https://localhost:8080/"
        },
        "id": "7mhGdC_4nNXw",
        "outputId": "46b0267f-4332-4c01-e4d5-9d2d1a3971c5"
      },
      "execution_count": 171,
      "outputs": [
        {
          "output_type": "stream",
          "name": "stdout",
          "text": [
            "24/24 [==============================] - 1s 10ms/step - loss: 0.4292 - accuracy: 0.8150\n"
          ]
        },
        {
          "output_type": "execute_result",
          "data": {
            "text/plain": [
              "[0.42918136715888977, 0.8149606585502625]"
            ]
          },
          "metadata": {},
          "execution_count": 171
        }
      ]
    },
    {
      "cell_type": "code",
      "source": [
        "model_6_results"
      ],
      "metadata": {
        "colab": {
          "base_uri": "https://localhost:8080/"
        },
        "id": "VO_hDq7znRN3",
        "outputId": "4813e752-b09c-45e0-d2cf-524575afe052"
      },
      "execution_count": 172,
      "outputs": [
        {
          "output_type": "execute_result",
          "data": {
            "text/plain": [
              "{'accuracy': 81.49606299212599,\n",
              " 'precision': 0.8179063565195398,\n",
              " 'recall': 0.8149606299212598,\n",
              " 'f1': 0.8132300658103407}"
            ]
          },
          "metadata": {},
          "execution_count": 172
        }
      ]
    },
    {
      "cell_type": "code",
      "source": [],
      "metadata": {
        "id": "xmajZoCTnS8R"
      },
      "execution_count": 172,
      "outputs": []
    },
    {
      "cell_type": "code",
      "source": [],
      "metadata": {
        "id": "O8G3CSyVo86A"
      },
      "execution_count": 172,
      "outputs": []
    },
    {
      "cell_type": "code",
      "source": [],
      "metadata": {
        "id": "wQOe62Bho9Ae"
      },
      "execution_count": 172,
      "outputs": []
    },
    {
      "cell_type": "markdown",
      "source": [
        "# ***Finding the wrong predictions***"
      ],
      "metadata": {
        "id": "KKzSGYGto9Gp"
      }
    },
    {
      "cell_type": "code",
      "source": [
        "model_6_pred[:10]"
      ],
      "metadata": {
        "colab": {
          "base_uri": "https://localhost:8080/"
        },
        "id": "iEOBcHMopDp4",
        "outputId": "095c2e0a-4b38-485c-d034-e3808f149346"
      },
      "execution_count": 173,
      "outputs": [
        {
          "output_type": "execute_result",
          "data": {
            "text/plain": [
              "array([[0.],\n",
              "       [1.],\n",
              "       [1.],\n",
              "       [0.],\n",
              "       [1.],\n",
              "       [1.],\n",
              "       [1.],\n",
              "       [1.],\n",
              "       [1.],\n",
              "       [0.]], dtype=float32)"
            ]
          },
          "metadata": {},
          "execution_count": 173
        }
      ]
    },
    {
      "cell_type": "code",
      "source": [
        "model_6_pred_proba  = model_6.predict(Val_sentence)"
      ],
      "metadata": {
        "colab": {
          "base_uri": "https://localhost:8080/"
        },
        "id": "fmlDB9BWpr7s",
        "outputId": "db049f82-5552-499c-ca64-3e77c7c01e9f"
      },
      "execution_count": 174,
      "outputs": [
        {
          "output_type": "stream",
          "name": "stdout",
          "text": [
            "24/24 [==============================] - 0s 10ms/step\n"
          ]
        }
      ]
    },
    {
      "cell_type": "code",
      "source": [
        "model_6_pred = model_6.predict(Val_sentence).round()\n",
        "model_6_pred[:10]"
      ],
      "metadata": {
        "colab": {
          "base_uri": "https://localhost:8080/"
        },
        "id": "QlkJFucjqPH7",
        "outputId": "01d53d2b-1c28-4c41-a666-e16a94f2a9cc"
      },
      "execution_count": 175,
      "outputs": [
        {
          "output_type": "stream",
          "name": "stdout",
          "text": [
            "24/24 [==============================] - 0s 9ms/step\n"
          ]
        },
        {
          "output_type": "execute_result",
          "data": {
            "text/plain": [
              "array([[0.],\n",
              "       [1.],\n",
              "       [1.],\n",
              "       [0.],\n",
              "       [1.],\n",
              "       [1.],\n",
              "       [1.],\n",
              "       [1.],\n",
              "       [1.],\n",
              "       [0.]], dtype=float32)"
            ]
          },
          "metadata": {},
          "execution_count": 175
        }
      ]
    },
    {
      "cell_type": "code",
      "source": [
        "val_df = pd.DataFrame()\n",
        "val_df[\"text\"] = Val_sentence\n",
        "val_df[\"target\"] = Val_label\n",
        "val_df[\"predicted_label\"] = model_6_pred\n",
        "val_df[\"predicted_probability\"] = model_6_pred_proba\n"
      ],
      "metadata": {
        "id": "HDDGBKJmpRlp"
      },
      "execution_count": 176,
      "outputs": []
    },
    {
      "cell_type": "code",
      "source": [
        "val_df"
      ],
      "metadata": {
        "colab": {
          "base_uri": "https://localhost:8080/",
          "height": 424
        },
        "id": "TILZd_rZpa07",
        "outputId": "c585bf2c-5f4c-44b9-d7f6-f01485f1dd7d"
      },
      "execution_count": 177,
      "outputs": [
        {
          "output_type": "execute_result",
          "data": {
            "text/plain": [
              "                                                   text  target  \\\n",
              "4955  DFR EP016 Monthly Meltdown - On Dnbheaven 2015...       0   \n",
              "584   FedEx no longer to transport bioterror germs i...       0   \n",
              "7411  Gunmen kill four in El Salvador bus attack: Su...       1   \n",
              "5950  @camilacabello97 Internally and externally scr...       1   \n",
              "5541  Radiation emergency #preparedness starts with ...       1   \n",
              "...                                                 ...     ...   \n",
              "2638            That's the ultimate road to destruction       0   \n",
              "859   @SetZorah dad why dont you claim me that mean ...       0   \n",
              "578   FedEx will no longer transport bioterror patho...       0   \n",
              "7445  Crack in the path where I wiped out this morni...       0   \n",
              "7226  I liked a @YouTube video from @dannyonpc http:...       0   \n",
              "\n",
              "      predicted_label  predicted_probability  \n",
              "4955              0.0               0.152752  \n",
              "584               1.0               0.740868  \n",
              "7411              1.0               0.988524  \n",
              "5950              0.0               0.200073  \n",
              "5541              1.0               0.722904  \n",
              "...               ...                    ...  \n",
              "2638              0.0               0.101962  \n",
              "859               0.0               0.092677  \n",
              "578               1.0               0.861344  \n",
              "7445              1.0               0.677738  \n",
              "7226              0.0               0.082229  \n",
              "\n",
              "[762 rows x 4 columns]"
            ],
            "text/html": [
              "\n",
              "  <div id=\"df-efe169ba-2415-4049-bc24-74f014309b08\">\n",
              "    <div class=\"colab-df-container\">\n",
              "      <div>\n",
              "<style scoped>\n",
              "    .dataframe tbody tr th:only-of-type {\n",
              "        vertical-align: middle;\n",
              "    }\n",
              "\n",
              "    .dataframe tbody tr th {\n",
              "        vertical-align: top;\n",
              "    }\n",
              "\n",
              "    .dataframe thead th {\n",
              "        text-align: right;\n",
              "    }\n",
              "</style>\n",
              "<table border=\"1\" class=\"dataframe\">\n",
              "  <thead>\n",
              "    <tr style=\"text-align: right;\">\n",
              "      <th></th>\n",
              "      <th>text</th>\n",
              "      <th>target</th>\n",
              "      <th>predicted_label</th>\n",
              "      <th>predicted_probability</th>\n",
              "    </tr>\n",
              "  </thead>\n",
              "  <tbody>\n",
              "    <tr>\n",
              "      <th>4955</th>\n",
              "      <td>DFR EP016 Monthly Meltdown - On Dnbheaven 2015...</td>\n",
              "      <td>0</td>\n",
              "      <td>0.0</td>\n",
              "      <td>0.152752</td>\n",
              "    </tr>\n",
              "    <tr>\n",
              "      <th>584</th>\n",
              "      <td>FedEx no longer to transport bioterror germs i...</td>\n",
              "      <td>0</td>\n",
              "      <td>1.0</td>\n",
              "      <td>0.740868</td>\n",
              "    </tr>\n",
              "    <tr>\n",
              "      <th>7411</th>\n",
              "      <td>Gunmen kill four in El Salvador bus attack: Su...</td>\n",
              "      <td>1</td>\n",
              "      <td>1.0</td>\n",
              "      <td>0.988524</td>\n",
              "    </tr>\n",
              "    <tr>\n",
              "      <th>5950</th>\n",
              "      <td>@camilacabello97 Internally and externally scr...</td>\n",
              "      <td>1</td>\n",
              "      <td>0.0</td>\n",
              "      <td>0.200073</td>\n",
              "    </tr>\n",
              "    <tr>\n",
              "      <th>5541</th>\n",
              "      <td>Radiation emergency #preparedness starts with ...</td>\n",
              "      <td>1</td>\n",
              "      <td>1.0</td>\n",
              "      <td>0.722904</td>\n",
              "    </tr>\n",
              "    <tr>\n",
              "      <th>...</th>\n",
              "      <td>...</td>\n",
              "      <td>...</td>\n",
              "      <td>...</td>\n",
              "      <td>...</td>\n",
              "    </tr>\n",
              "    <tr>\n",
              "      <th>2638</th>\n",
              "      <td>That's the ultimate road to destruction</td>\n",
              "      <td>0</td>\n",
              "      <td>0.0</td>\n",
              "      <td>0.101962</td>\n",
              "    </tr>\n",
              "    <tr>\n",
              "      <th>859</th>\n",
              "      <td>@SetZorah dad why dont you claim me that mean ...</td>\n",
              "      <td>0</td>\n",
              "      <td>0.0</td>\n",
              "      <td>0.092677</td>\n",
              "    </tr>\n",
              "    <tr>\n",
              "      <th>578</th>\n",
              "      <td>FedEx will no longer transport bioterror patho...</td>\n",
              "      <td>0</td>\n",
              "      <td>1.0</td>\n",
              "      <td>0.861344</td>\n",
              "    </tr>\n",
              "    <tr>\n",
              "      <th>7445</th>\n",
              "      <td>Crack in the path where I wiped out this morni...</td>\n",
              "      <td>0</td>\n",
              "      <td>1.0</td>\n",
              "      <td>0.677738</td>\n",
              "    </tr>\n",
              "    <tr>\n",
              "      <th>7226</th>\n",
              "      <td>I liked a @YouTube video from @dannyonpc http:...</td>\n",
              "      <td>0</td>\n",
              "      <td>0.0</td>\n",
              "      <td>0.082229</td>\n",
              "    </tr>\n",
              "  </tbody>\n",
              "</table>\n",
              "<p>762 rows × 4 columns</p>\n",
              "</div>\n",
              "      <button class=\"colab-df-convert\" onclick=\"convertToInteractive('df-efe169ba-2415-4049-bc24-74f014309b08')\"\n",
              "              title=\"Convert this dataframe to an interactive table.\"\n",
              "              style=\"display:none;\">\n",
              "        \n",
              "  <svg xmlns=\"http://www.w3.org/2000/svg\" height=\"24px\"viewBox=\"0 0 24 24\"\n",
              "       width=\"24px\">\n",
              "    <path d=\"M0 0h24v24H0V0z\" fill=\"none\"/>\n",
              "    <path d=\"M18.56 5.44l.94 2.06.94-2.06 2.06-.94-2.06-.94-.94-2.06-.94 2.06-2.06.94zm-11 1L8.5 8.5l.94-2.06 2.06-.94-2.06-.94L8.5 2.5l-.94 2.06-2.06.94zm10 10l.94 2.06.94-2.06 2.06-.94-2.06-.94-.94-2.06-.94 2.06-2.06.94z\"/><path d=\"M17.41 7.96l-1.37-1.37c-.4-.4-.92-.59-1.43-.59-.52 0-1.04.2-1.43.59L10.3 9.45l-7.72 7.72c-.78.78-.78 2.05 0 2.83L4 21.41c.39.39.9.59 1.41.59.51 0 1.02-.2 1.41-.59l7.78-7.78 2.81-2.81c.8-.78.8-2.07 0-2.86zM5.41 20L4 18.59l7.72-7.72 1.47 1.35L5.41 20z\"/>\n",
              "  </svg>\n",
              "      </button>\n",
              "      \n",
              "  <style>\n",
              "    .colab-df-container {\n",
              "      display:flex;\n",
              "      flex-wrap:wrap;\n",
              "      gap: 12px;\n",
              "    }\n",
              "\n",
              "    .colab-df-convert {\n",
              "      background-color: #E8F0FE;\n",
              "      border: none;\n",
              "      border-radius: 50%;\n",
              "      cursor: pointer;\n",
              "      display: none;\n",
              "      fill: #1967D2;\n",
              "      height: 32px;\n",
              "      padding: 0 0 0 0;\n",
              "      width: 32px;\n",
              "    }\n",
              "\n",
              "    .colab-df-convert:hover {\n",
              "      background-color: #E2EBFA;\n",
              "      box-shadow: 0px 1px 2px rgba(60, 64, 67, 0.3), 0px 1px 3px 1px rgba(60, 64, 67, 0.15);\n",
              "      fill: #174EA6;\n",
              "    }\n",
              "\n",
              "    [theme=dark] .colab-df-convert {\n",
              "      background-color: #3B4455;\n",
              "      fill: #D2E3FC;\n",
              "    }\n",
              "\n",
              "    [theme=dark] .colab-df-convert:hover {\n",
              "      background-color: #434B5C;\n",
              "      box-shadow: 0px 1px 3px 1px rgba(0, 0, 0, 0.15);\n",
              "      filter: drop-shadow(0px 1px 2px rgba(0, 0, 0, 0.3));\n",
              "      fill: #FFFFFF;\n",
              "    }\n",
              "  </style>\n",
              "\n",
              "      <script>\n",
              "        const buttonEl =\n",
              "          document.querySelector('#df-efe169ba-2415-4049-bc24-74f014309b08 button.colab-df-convert');\n",
              "        buttonEl.style.display =\n",
              "          google.colab.kernel.accessAllowed ? 'block' : 'none';\n",
              "\n",
              "        async function convertToInteractive(key) {\n",
              "          const element = document.querySelector('#df-efe169ba-2415-4049-bc24-74f014309b08');\n",
              "          const dataTable =\n",
              "            await google.colab.kernel.invokeFunction('convertToInteractive',\n",
              "                                                     [key], {});\n",
              "          if (!dataTable) return;\n",
              "\n",
              "          const docLinkHtml = 'Like what you see? Visit the ' +\n",
              "            '<a target=\"_blank\" href=https://colab.research.google.com/notebooks/data_table.ipynb>data table notebook</a>'\n",
              "            + ' to learn more about interactive tables.';\n",
              "          element.innerHTML = '';\n",
              "          dataTable['output_type'] = 'display_data';\n",
              "          await google.colab.output.renderOutput(dataTable, element);\n",
              "          const docLink = document.createElement('div');\n",
              "          docLink.innerHTML = docLinkHtml;\n",
              "          element.appendChild(docLink);\n",
              "        }\n",
              "      </script>\n",
              "    </div>\n",
              "  </div>\n",
              "  "
            ]
          },
          "metadata": {},
          "execution_count": 177
        }
      ]
    },
    {
      "cell_type": "code",
      "source": [
        "wrong_prediction = val_df[val_df[\"target\"] != val_df[\"predicted_label\"]]\n",
        "wrong_prediction = wrong_prediction.sort_values(\"predicted_probability\" , ascending = True)\n",
        "wrong_prediction"
      ],
      "metadata": {
        "colab": {
          "base_uri": "https://localhost:8080/",
          "height": 424
        },
        "id": "aB03fJZfqfbV",
        "outputId": "13f89774-642c-430a-ed99-55868a3a842b"
      },
      "execution_count": 178,
      "outputs": [
        {
          "output_type": "execute_result",
          "data": {
            "text/plain": [
              "                                                   text  target  \\\n",
              "1861  Ron &amp; Fez - Dave's High School Crush https...       1   \n",
              "5464  Reddit Will Now QuarantineÛ_ http://t.co/pkUA...       1   \n",
              "6160  @SoonerMagic_ I mean I'm a fan but I don't nee...       1   \n",
              "2250  Why are you deluged with low self-image? Take ...       1   \n",
              "6221                    I get to smoke my shit in peace       1   \n",
              "...                                                 ...     ...   \n",
              "3991  @madonnamking RSPCA site multiple 7 story high...       0   \n",
              "1195  @SonofLiberty357 all illuminated by the bright...       0   \n",
              "4821  @noah_anyname That's where the concentration c...       0   \n",
              "578   FedEx will no longer transport bioterror patho...       0   \n",
              "1206  ? High Skies - Burning Buildings ? http://t.co...       0   \n",
              "\n",
              "      predicted_label  predicted_probability  \n",
              "1861              0.0               0.035934  \n",
              "5464              0.0               0.039842  \n",
              "6160              0.0               0.041077  \n",
              "2250              0.0               0.042743  \n",
              "6221              0.0               0.043332  \n",
              "...               ...                    ...  \n",
              "3991              1.0               0.831406  \n",
              "1195              1.0               0.832751  \n",
              "4821              1.0               0.852105  \n",
              "578               1.0               0.861344  \n",
              "1206              1.0               0.915631  \n",
              "\n",
              "[141 rows x 4 columns]"
            ],
            "text/html": [
              "\n",
              "  <div id=\"df-94a88f57-b118-46c8-a94f-2b2297ace91a\">\n",
              "    <div class=\"colab-df-container\">\n",
              "      <div>\n",
              "<style scoped>\n",
              "    .dataframe tbody tr th:only-of-type {\n",
              "        vertical-align: middle;\n",
              "    }\n",
              "\n",
              "    .dataframe tbody tr th {\n",
              "        vertical-align: top;\n",
              "    }\n",
              "\n",
              "    .dataframe thead th {\n",
              "        text-align: right;\n",
              "    }\n",
              "</style>\n",
              "<table border=\"1\" class=\"dataframe\">\n",
              "  <thead>\n",
              "    <tr style=\"text-align: right;\">\n",
              "      <th></th>\n",
              "      <th>text</th>\n",
              "      <th>target</th>\n",
              "      <th>predicted_label</th>\n",
              "      <th>predicted_probability</th>\n",
              "    </tr>\n",
              "  </thead>\n",
              "  <tbody>\n",
              "    <tr>\n",
              "      <th>1861</th>\n",
              "      <td>Ron &amp;amp; Fez - Dave's High School Crush https...</td>\n",
              "      <td>1</td>\n",
              "      <td>0.0</td>\n",
              "      <td>0.035934</td>\n",
              "    </tr>\n",
              "    <tr>\n",
              "      <th>5464</th>\n",
              "      <td>Reddit Will Now QuarantineÛ_ http://t.co/pkUA...</td>\n",
              "      <td>1</td>\n",
              "      <td>0.0</td>\n",
              "      <td>0.039842</td>\n",
              "    </tr>\n",
              "    <tr>\n",
              "      <th>6160</th>\n",
              "      <td>@SoonerMagic_ I mean I'm a fan but I don't nee...</td>\n",
              "      <td>1</td>\n",
              "      <td>0.0</td>\n",
              "      <td>0.041077</td>\n",
              "    </tr>\n",
              "    <tr>\n",
              "      <th>2250</th>\n",
              "      <td>Why are you deluged with low self-image? Take ...</td>\n",
              "      <td>1</td>\n",
              "      <td>0.0</td>\n",
              "      <td>0.042743</td>\n",
              "    </tr>\n",
              "    <tr>\n",
              "      <th>6221</th>\n",
              "      <td>I get to smoke my shit in peace</td>\n",
              "      <td>1</td>\n",
              "      <td>0.0</td>\n",
              "      <td>0.043332</td>\n",
              "    </tr>\n",
              "    <tr>\n",
              "      <th>...</th>\n",
              "      <td>...</td>\n",
              "      <td>...</td>\n",
              "      <td>...</td>\n",
              "      <td>...</td>\n",
              "    </tr>\n",
              "    <tr>\n",
              "      <th>3991</th>\n",
              "      <td>@madonnamking RSPCA site multiple 7 story high...</td>\n",
              "      <td>0</td>\n",
              "      <td>1.0</td>\n",
              "      <td>0.831406</td>\n",
              "    </tr>\n",
              "    <tr>\n",
              "      <th>1195</th>\n",
              "      <td>@SonofLiberty357 all illuminated by the bright...</td>\n",
              "      <td>0</td>\n",
              "      <td>1.0</td>\n",
              "      <td>0.832751</td>\n",
              "    </tr>\n",
              "    <tr>\n",
              "      <th>4821</th>\n",
              "      <td>@noah_anyname That's where the concentration c...</td>\n",
              "      <td>0</td>\n",
              "      <td>1.0</td>\n",
              "      <td>0.852105</td>\n",
              "    </tr>\n",
              "    <tr>\n",
              "      <th>578</th>\n",
              "      <td>FedEx will no longer transport bioterror patho...</td>\n",
              "      <td>0</td>\n",
              "      <td>1.0</td>\n",
              "      <td>0.861344</td>\n",
              "    </tr>\n",
              "    <tr>\n",
              "      <th>1206</th>\n",
              "      <td>? High Skies - Burning Buildings ? http://t.co...</td>\n",
              "      <td>0</td>\n",
              "      <td>1.0</td>\n",
              "      <td>0.915631</td>\n",
              "    </tr>\n",
              "  </tbody>\n",
              "</table>\n",
              "<p>141 rows × 4 columns</p>\n",
              "</div>\n",
              "      <button class=\"colab-df-convert\" onclick=\"convertToInteractive('df-94a88f57-b118-46c8-a94f-2b2297ace91a')\"\n",
              "              title=\"Convert this dataframe to an interactive table.\"\n",
              "              style=\"display:none;\">\n",
              "        \n",
              "  <svg xmlns=\"http://www.w3.org/2000/svg\" height=\"24px\"viewBox=\"0 0 24 24\"\n",
              "       width=\"24px\">\n",
              "    <path d=\"M0 0h24v24H0V0z\" fill=\"none\"/>\n",
              "    <path d=\"M18.56 5.44l.94 2.06.94-2.06 2.06-.94-2.06-.94-.94-2.06-.94 2.06-2.06.94zm-11 1L8.5 8.5l.94-2.06 2.06-.94-2.06-.94L8.5 2.5l-.94 2.06-2.06.94zm10 10l.94 2.06.94-2.06 2.06-.94-2.06-.94-.94-2.06-.94 2.06-2.06.94z\"/><path d=\"M17.41 7.96l-1.37-1.37c-.4-.4-.92-.59-1.43-.59-.52 0-1.04.2-1.43.59L10.3 9.45l-7.72 7.72c-.78.78-.78 2.05 0 2.83L4 21.41c.39.39.9.59 1.41.59.51 0 1.02-.2 1.41-.59l7.78-7.78 2.81-2.81c.8-.78.8-2.07 0-2.86zM5.41 20L4 18.59l7.72-7.72 1.47 1.35L5.41 20z\"/>\n",
              "  </svg>\n",
              "      </button>\n",
              "      \n",
              "  <style>\n",
              "    .colab-df-container {\n",
              "      display:flex;\n",
              "      flex-wrap:wrap;\n",
              "      gap: 12px;\n",
              "    }\n",
              "\n",
              "    .colab-df-convert {\n",
              "      background-color: #E8F0FE;\n",
              "      border: none;\n",
              "      border-radius: 50%;\n",
              "      cursor: pointer;\n",
              "      display: none;\n",
              "      fill: #1967D2;\n",
              "      height: 32px;\n",
              "      padding: 0 0 0 0;\n",
              "      width: 32px;\n",
              "    }\n",
              "\n",
              "    .colab-df-convert:hover {\n",
              "      background-color: #E2EBFA;\n",
              "      box-shadow: 0px 1px 2px rgba(60, 64, 67, 0.3), 0px 1px 3px 1px rgba(60, 64, 67, 0.15);\n",
              "      fill: #174EA6;\n",
              "    }\n",
              "\n",
              "    [theme=dark] .colab-df-convert {\n",
              "      background-color: #3B4455;\n",
              "      fill: #D2E3FC;\n",
              "    }\n",
              "\n",
              "    [theme=dark] .colab-df-convert:hover {\n",
              "      background-color: #434B5C;\n",
              "      box-shadow: 0px 1px 3px 1px rgba(0, 0, 0, 0.15);\n",
              "      filter: drop-shadow(0px 1px 2px rgba(0, 0, 0, 0.3));\n",
              "      fill: #FFFFFF;\n",
              "    }\n",
              "  </style>\n",
              "\n",
              "      <script>\n",
              "        const buttonEl =\n",
              "          document.querySelector('#df-94a88f57-b118-46c8-a94f-2b2297ace91a button.colab-df-convert');\n",
              "        buttonEl.style.display =\n",
              "          google.colab.kernel.accessAllowed ? 'block' : 'none';\n",
              "\n",
              "        async function convertToInteractive(key) {\n",
              "          const element = document.querySelector('#df-94a88f57-b118-46c8-a94f-2b2297ace91a');\n",
              "          const dataTable =\n",
              "            await google.colab.kernel.invokeFunction('convertToInteractive',\n",
              "                                                     [key], {});\n",
              "          if (!dataTable) return;\n",
              "\n",
              "          const docLinkHtml = 'Like what you see? Visit the ' +\n",
              "            '<a target=\"_blank\" href=https://colab.research.google.com/notebooks/data_table.ipynb>data table notebook</a>'\n",
              "            + ' to learn more about interactive tables.';\n",
              "          element.innerHTML = '';\n",
              "          dataTable['output_type'] = 'display_data';\n",
              "          await google.colab.output.renderOutput(dataTable, element);\n",
              "          const docLink = document.createElement('div');\n",
              "          docLink.innerHTML = docLinkHtml;\n",
              "          element.appendChild(docLink);\n",
              "        }\n",
              "      </script>\n",
              "    </div>\n",
              "  </div>\n",
              "  "
            ]
          },
          "metadata": {},
          "execution_count": 178
        }
      ]
    },
    {
      "cell_type": "code",
      "source": [
        "wrong_prediction[:10]  # False Negative"
      ],
      "metadata": {
        "colab": {
          "base_uri": "https://localhost:8080/",
          "height": 363
        },
        "id": "UQ9wROqSq1P2",
        "outputId": "77cb1165-68d4-40a3-c1dc-576274a0eb52"
      },
      "execution_count": 179,
      "outputs": [
        {
          "output_type": "execute_result",
          "data": {
            "text/plain": [
              "                                                   text  target  \\\n",
              "1861  Ron &amp; Fez - Dave's High School Crush https...       1   \n",
              "5464  Reddit Will Now QuarantineÛ_ http://t.co/pkUA...       1   \n",
              "6160  @SoonerMagic_ I mean I'm a fan but I don't nee...       1   \n",
              "2250  Why are you deluged with low self-image? Take ...       1   \n",
              "6221                    I get to smoke my shit in peace       1   \n",
              "4154  You can never escape me. Bullets don't harm me...       1   \n",
              "257   @willienelson We need help! Horses will die!Pl...       1   \n",
              "3272  Lucas Duda is Ghost Rider. Not the Nic Cage ve...       1   \n",
              "2522  going to redo my nails and watch behind the sc...       1   \n",
              "6836  @BoyInAHorsemask its a panda trapped in a dogs...       1   \n",
              "\n",
              "      predicted_label  predicted_probability  \n",
              "1861              0.0               0.035934  \n",
              "5464              0.0               0.039842  \n",
              "6160              0.0               0.041077  \n",
              "2250              0.0               0.042743  \n",
              "6221              0.0               0.043332  \n",
              "4154              0.0               0.048199  \n",
              "257               0.0               0.049484  \n",
              "3272              0.0               0.055026  \n",
              "2522              0.0               0.056358  \n",
              "6836              0.0               0.062424  "
            ],
            "text/html": [
              "\n",
              "  <div id=\"df-97f0e469-4d20-4daf-b7ab-da3654ecdff6\">\n",
              "    <div class=\"colab-df-container\">\n",
              "      <div>\n",
              "<style scoped>\n",
              "    .dataframe tbody tr th:only-of-type {\n",
              "        vertical-align: middle;\n",
              "    }\n",
              "\n",
              "    .dataframe tbody tr th {\n",
              "        vertical-align: top;\n",
              "    }\n",
              "\n",
              "    .dataframe thead th {\n",
              "        text-align: right;\n",
              "    }\n",
              "</style>\n",
              "<table border=\"1\" class=\"dataframe\">\n",
              "  <thead>\n",
              "    <tr style=\"text-align: right;\">\n",
              "      <th></th>\n",
              "      <th>text</th>\n",
              "      <th>target</th>\n",
              "      <th>predicted_label</th>\n",
              "      <th>predicted_probability</th>\n",
              "    </tr>\n",
              "  </thead>\n",
              "  <tbody>\n",
              "    <tr>\n",
              "      <th>1861</th>\n",
              "      <td>Ron &amp;amp; Fez - Dave's High School Crush https...</td>\n",
              "      <td>1</td>\n",
              "      <td>0.0</td>\n",
              "      <td>0.035934</td>\n",
              "    </tr>\n",
              "    <tr>\n",
              "      <th>5464</th>\n",
              "      <td>Reddit Will Now QuarantineÛ_ http://t.co/pkUA...</td>\n",
              "      <td>1</td>\n",
              "      <td>0.0</td>\n",
              "      <td>0.039842</td>\n",
              "    </tr>\n",
              "    <tr>\n",
              "      <th>6160</th>\n",
              "      <td>@SoonerMagic_ I mean I'm a fan but I don't nee...</td>\n",
              "      <td>1</td>\n",
              "      <td>0.0</td>\n",
              "      <td>0.041077</td>\n",
              "    </tr>\n",
              "    <tr>\n",
              "      <th>2250</th>\n",
              "      <td>Why are you deluged with low self-image? Take ...</td>\n",
              "      <td>1</td>\n",
              "      <td>0.0</td>\n",
              "      <td>0.042743</td>\n",
              "    </tr>\n",
              "    <tr>\n",
              "      <th>6221</th>\n",
              "      <td>I get to smoke my shit in peace</td>\n",
              "      <td>1</td>\n",
              "      <td>0.0</td>\n",
              "      <td>0.043332</td>\n",
              "    </tr>\n",
              "    <tr>\n",
              "      <th>4154</th>\n",
              "      <td>You can never escape me. Bullets don't harm me...</td>\n",
              "      <td>1</td>\n",
              "      <td>0.0</td>\n",
              "      <td>0.048199</td>\n",
              "    </tr>\n",
              "    <tr>\n",
              "      <th>257</th>\n",
              "      <td>@willienelson We need help! Horses will die!Pl...</td>\n",
              "      <td>1</td>\n",
              "      <td>0.0</td>\n",
              "      <td>0.049484</td>\n",
              "    </tr>\n",
              "    <tr>\n",
              "      <th>3272</th>\n",
              "      <td>Lucas Duda is Ghost Rider. Not the Nic Cage ve...</td>\n",
              "      <td>1</td>\n",
              "      <td>0.0</td>\n",
              "      <td>0.055026</td>\n",
              "    </tr>\n",
              "    <tr>\n",
              "      <th>2522</th>\n",
              "      <td>going to redo my nails and watch behind the sc...</td>\n",
              "      <td>1</td>\n",
              "      <td>0.0</td>\n",
              "      <td>0.056358</td>\n",
              "    </tr>\n",
              "    <tr>\n",
              "      <th>6836</th>\n",
              "      <td>@BoyInAHorsemask its a panda trapped in a dogs...</td>\n",
              "      <td>1</td>\n",
              "      <td>0.0</td>\n",
              "      <td>0.062424</td>\n",
              "    </tr>\n",
              "  </tbody>\n",
              "</table>\n",
              "</div>\n",
              "      <button class=\"colab-df-convert\" onclick=\"convertToInteractive('df-97f0e469-4d20-4daf-b7ab-da3654ecdff6')\"\n",
              "              title=\"Convert this dataframe to an interactive table.\"\n",
              "              style=\"display:none;\">\n",
              "        \n",
              "  <svg xmlns=\"http://www.w3.org/2000/svg\" height=\"24px\"viewBox=\"0 0 24 24\"\n",
              "       width=\"24px\">\n",
              "    <path d=\"M0 0h24v24H0V0z\" fill=\"none\"/>\n",
              "    <path d=\"M18.56 5.44l.94 2.06.94-2.06 2.06-.94-2.06-.94-.94-2.06-.94 2.06-2.06.94zm-11 1L8.5 8.5l.94-2.06 2.06-.94-2.06-.94L8.5 2.5l-.94 2.06-2.06.94zm10 10l.94 2.06.94-2.06 2.06-.94-2.06-.94-.94-2.06-.94 2.06-2.06.94z\"/><path d=\"M17.41 7.96l-1.37-1.37c-.4-.4-.92-.59-1.43-.59-.52 0-1.04.2-1.43.59L10.3 9.45l-7.72 7.72c-.78.78-.78 2.05 0 2.83L4 21.41c.39.39.9.59 1.41.59.51 0 1.02-.2 1.41-.59l7.78-7.78 2.81-2.81c.8-.78.8-2.07 0-2.86zM5.41 20L4 18.59l7.72-7.72 1.47 1.35L5.41 20z\"/>\n",
              "  </svg>\n",
              "      </button>\n",
              "      \n",
              "  <style>\n",
              "    .colab-df-container {\n",
              "      display:flex;\n",
              "      flex-wrap:wrap;\n",
              "      gap: 12px;\n",
              "    }\n",
              "\n",
              "    .colab-df-convert {\n",
              "      background-color: #E8F0FE;\n",
              "      border: none;\n",
              "      border-radius: 50%;\n",
              "      cursor: pointer;\n",
              "      display: none;\n",
              "      fill: #1967D2;\n",
              "      height: 32px;\n",
              "      padding: 0 0 0 0;\n",
              "      width: 32px;\n",
              "    }\n",
              "\n",
              "    .colab-df-convert:hover {\n",
              "      background-color: #E2EBFA;\n",
              "      box-shadow: 0px 1px 2px rgba(60, 64, 67, 0.3), 0px 1px 3px 1px rgba(60, 64, 67, 0.15);\n",
              "      fill: #174EA6;\n",
              "    }\n",
              "\n",
              "    [theme=dark] .colab-df-convert {\n",
              "      background-color: #3B4455;\n",
              "      fill: #D2E3FC;\n",
              "    }\n",
              "\n",
              "    [theme=dark] .colab-df-convert:hover {\n",
              "      background-color: #434B5C;\n",
              "      box-shadow: 0px 1px 3px 1px rgba(0, 0, 0, 0.15);\n",
              "      filter: drop-shadow(0px 1px 2px rgba(0, 0, 0, 0.3));\n",
              "      fill: #FFFFFF;\n",
              "    }\n",
              "  </style>\n",
              "\n",
              "      <script>\n",
              "        const buttonEl =\n",
              "          document.querySelector('#df-97f0e469-4d20-4daf-b7ab-da3654ecdff6 button.colab-df-convert');\n",
              "        buttonEl.style.display =\n",
              "          google.colab.kernel.accessAllowed ? 'block' : 'none';\n",
              "\n",
              "        async function convertToInteractive(key) {\n",
              "          const element = document.querySelector('#df-97f0e469-4d20-4daf-b7ab-da3654ecdff6');\n",
              "          const dataTable =\n",
              "            await google.colab.kernel.invokeFunction('convertToInteractive',\n",
              "                                                     [key], {});\n",
              "          if (!dataTable) return;\n",
              "\n",
              "          const docLinkHtml = 'Like what you see? Visit the ' +\n",
              "            '<a target=\"_blank\" href=https://colab.research.google.com/notebooks/data_table.ipynb>data table notebook</a>'\n",
              "            + ' to learn more about interactive tables.';\n",
              "          element.innerHTML = '';\n",
              "          dataTable['output_type'] = 'display_data';\n",
              "          await google.colab.output.renderOutput(dataTable, element);\n",
              "          const docLink = document.createElement('div');\n",
              "          docLink.innerHTML = docLinkHtml;\n",
              "          element.appendChild(docLink);\n",
              "        }\n",
              "      </script>\n",
              "    </div>\n",
              "  </div>\n",
              "  "
            ]
          },
          "metadata": {},
          "execution_count": 179
        }
      ]
    },
    {
      "cell_type": "code",
      "source": [
        "wrong_prediction.tail(10) # False Positive"
      ],
      "metadata": {
        "colab": {
          "base_uri": "https://localhost:8080/",
          "height": 363
        },
        "id": "ZvA9qbpcrFpe",
        "outputId": "a2075146-e8c7-4114-d193-713da2709044"
      },
      "execution_count": 180,
      "outputs": [
        {
          "output_type": "execute_result",
          "data": {
            "text/plain": [
              "                                                   text  target  \\\n",
              "388                                  The Sound of Arson       0   \n",
              "1628  åÈMGN-AFRICAå¨ pin:263789F4 åÈ Correction: Ten...       0   \n",
              "6213  [55436] 1950 LIONEL TRAINS SMOKE LOCOMOTIVES W...       0   \n",
              "6859  @AshGhebranious civil rights continued in the ...       0   \n",
              "1186  Ashes 2015: AustraliaÛªs collapse at Trent Br...       0   \n",
              "3991  @madonnamking RSPCA site multiple 7 story high...       0   \n",
              "1195  @SonofLiberty357 all illuminated by the bright...       0   \n",
              "4821  @noah_anyname That's where the concentration c...       0   \n",
              "578   FedEx will no longer transport bioterror patho...       0   \n",
              "1206  ? High Skies - Burning Buildings ? http://t.co...       0   \n",
              "\n",
              "      predicted_label  predicted_probability  \n",
              "388               1.0               0.769751  \n",
              "1628              1.0               0.771438  \n",
              "6213              1.0               0.783324  \n",
              "6859              1.0               0.789535  \n",
              "1186              1.0               0.815826  \n",
              "3991              1.0               0.831406  \n",
              "1195              1.0               0.832751  \n",
              "4821              1.0               0.852105  \n",
              "578               1.0               0.861344  \n",
              "1206              1.0               0.915631  "
            ],
            "text/html": [
              "\n",
              "  <div id=\"df-f542ba91-5ba4-4d46-8335-7f56fd3d1c38\">\n",
              "    <div class=\"colab-df-container\">\n",
              "      <div>\n",
              "<style scoped>\n",
              "    .dataframe tbody tr th:only-of-type {\n",
              "        vertical-align: middle;\n",
              "    }\n",
              "\n",
              "    .dataframe tbody tr th {\n",
              "        vertical-align: top;\n",
              "    }\n",
              "\n",
              "    .dataframe thead th {\n",
              "        text-align: right;\n",
              "    }\n",
              "</style>\n",
              "<table border=\"1\" class=\"dataframe\">\n",
              "  <thead>\n",
              "    <tr style=\"text-align: right;\">\n",
              "      <th></th>\n",
              "      <th>text</th>\n",
              "      <th>target</th>\n",
              "      <th>predicted_label</th>\n",
              "      <th>predicted_probability</th>\n",
              "    </tr>\n",
              "  </thead>\n",
              "  <tbody>\n",
              "    <tr>\n",
              "      <th>388</th>\n",
              "      <td>The Sound of Arson</td>\n",
              "      <td>0</td>\n",
              "      <td>1.0</td>\n",
              "      <td>0.769751</td>\n",
              "    </tr>\n",
              "    <tr>\n",
              "      <th>1628</th>\n",
              "      <td>åÈMGN-AFRICAå¨ pin:263789F4 åÈ Correction: Ten...</td>\n",
              "      <td>0</td>\n",
              "      <td>1.0</td>\n",
              "      <td>0.771438</td>\n",
              "    </tr>\n",
              "    <tr>\n",
              "      <th>6213</th>\n",
              "      <td>[55436] 1950 LIONEL TRAINS SMOKE LOCOMOTIVES W...</td>\n",
              "      <td>0</td>\n",
              "      <td>1.0</td>\n",
              "      <td>0.783324</td>\n",
              "    </tr>\n",
              "    <tr>\n",
              "      <th>6859</th>\n",
              "      <td>@AshGhebranious civil rights continued in the ...</td>\n",
              "      <td>0</td>\n",
              "      <td>1.0</td>\n",
              "      <td>0.789535</td>\n",
              "    </tr>\n",
              "    <tr>\n",
              "      <th>1186</th>\n",
              "      <td>Ashes 2015: AustraliaÛªs collapse at Trent Br...</td>\n",
              "      <td>0</td>\n",
              "      <td>1.0</td>\n",
              "      <td>0.815826</td>\n",
              "    </tr>\n",
              "    <tr>\n",
              "      <th>3991</th>\n",
              "      <td>@madonnamking RSPCA site multiple 7 story high...</td>\n",
              "      <td>0</td>\n",
              "      <td>1.0</td>\n",
              "      <td>0.831406</td>\n",
              "    </tr>\n",
              "    <tr>\n",
              "      <th>1195</th>\n",
              "      <td>@SonofLiberty357 all illuminated by the bright...</td>\n",
              "      <td>0</td>\n",
              "      <td>1.0</td>\n",
              "      <td>0.832751</td>\n",
              "    </tr>\n",
              "    <tr>\n",
              "      <th>4821</th>\n",
              "      <td>@noah_anyname That's where the concentration c...</td>\n",
              "      <td>0</td>\n",
              "      <td>1.0</td>\n",
              "      <td>0.852105</td>\n",
              "    </tr>\n",
              "    <tr>\n",
              "      <th>578</th>\n",
              "      <td>FedEx will no longer transport bioterror patho...</td>\n",
              "      <td>0</td>\n",
              "      <td>1.0</td>\n",
              "      <td>0.861344</td>\n",
              "    </tr>\n",
              "    <tr>\n",
              "      <th>1206</th>\n",
              "      <td>? High Skies - Burning Buildings ? http://t.co...</td>\n",
              "      <td>0</td>\n",
              "      <td>1.0</td>\n",
              "      <td>0.915631</td>\n",
              "    </tr>\n",
              "  </tbody>\n",
              "</table>\n",
              "</div>\n",
              "      <button class=\"colab-df-convert\" onclick=\"convertToInteractive('df-f542ba91-5ba4-4d46-8335-7f56fd3d1c38')\"\n",
              "              title=\"Convert this dataframe to an interactive table.\"\n",
              "              style=\"display:none;\">\n",
              "        \n",
              "  <svg xmlns=\"http://www.w3.org/2000/svg\" height=\"24px\"viewBox=\"0 0 24 24\"\n",
              "       width=\"24px\">\n",
              "    <path d=\"M0 0h24v24H0V0z\" fill=\"none\"/>\n",
              "    <path d=\"M18.56 5.44l.94 2.06.94-2.06 2.06-.94-2.06-.94-.94-2.06-.94 2.06-2.06.94zm-11 1L8.5 8.5l.94-2.06 2.06-.94-2.06-.94L8.5 2.5l-.94 2.06-2.06.94zm10 10l.94 2.06.94-2.06 2.06-.94-2.06-.94-.94-2.06-.94 2.06-2.06.94z\"/><path d=\"M17.41 7.96l-1.37-1.37c-.4-.4-.92-.59-1.43-.59-.52 0-1.04.2-1.43.59L10.3 9.45l-7.72 7.72c-.78.78-.78 2.05 0 2.83L4 21.41c.39.39.9.59 1.41.59.51 0 1.02-.2 1.41-.59l7.78-7.78 2.81-2.81c.8-.78.8-2.07 0-2.86zM5.41 20L4 18.59l7.72-7.72 1.47 1.35L5.41 20z\"/>\n",
              "  </svg>\n",
              "      </button>\n",
              "      \n",
              "  <style>\n",
              "    .colab-df-container {\n",
              "      display:flex;\n",
              "      flex-wrap:wrap;\n",
              "      gap: 12px;\n",
              "    }\n",
              "\n",
              "    .colab-df-convert {\n",
              "      background-color: #E8F0FE;\n",
              "      border: none;\n",
              "      border-radius: 50%;\n",
              "      cursor: pointer;\n",
              "      display: none;\n",
              "      fill: #1967D2;\n",
              "      height: 32px;\n",
              "      padding: 0 0 0 0;\n",
              "      width: 32px;\n",
              "    }\n",
              "\n",
              "    .colab-df-convert:hover {\n",
              "      background-color: #E2EBFA;\n",
              "      box-shadow: 0px 1px 2px rgba(60, 64, 67, 0.3), 0px 1px 3px 1px rgba(60, 64, 67, 0.15);\n",
              "      fill: #174EA6;\n",
              "    }\n",
              "\n",
              "    [theme=dark] .colab-df-convert {\n",
              "      background-color: #3B4455;\n",
              "      fill: #D2E3FC;\n",
              "    }\n",
              "\n",
              "    [theme=dark] .colab-df-convert:hover {\n",
              "      background-color: #434B5C;\n",
              "      box-shadow: 0px 1px 3px 1px rgba(0, 0, 0, 0.15);\n",
              "      filter: drop-shadow(0px 1px 2px rgba(0, 0, 0, 0.3));\n",
              "      fill: #FFFFFF;\n",
              "    }\n",
              "  </style>\n",
              "\n",
              "      <script>\n",
              "        const buttonEl =\n",
              "          document.querySelector('#df-f542ba91-5ba4-4d46-8335-7f56fd3d1c38 button.colab-df-convert');\n",
              "        buttonEl.style.display =\n",
              "          google.colab.kernel.accessAllowed ? 'block' : 'none';\n",
              "\n",
              "        async function convertToInteractive(key) {\n",
              "          const element = document.querySelector('#df-f542ba91-5ba4-4d46-8335-7f56fd3d1c38');\n",
              "          const dataTable =\n",
              "            await google.colab.kernel.invokeFunction('convertToInteractive',\n",
              "                                                     [key], {});\n",
              "          if (!dataTable) return;\n",
              "\n",
              "          const docLinkHtml = 'Like what you see? Visit the ' +\n",
              "            '<a target=\"_blank\" href=https://colab.research.google.com/notebooks/data_table.ipynb>data table notebook</a>'\n",
              "            + ' to learn more about interactive tables.';\n",
              "          element.innerHTML = '';\n",
              "          dataTable['output_type'] = 'display_data';\n",
              "          await google.colab.output.renderOutput(dataTable, element);\n",
              "          const docLink = document.createElement('div');\n",
              "          docLink.innerHTML = docLinkHtml;\n",
              "          element.appendChild(docLink);\n",
              "        }\n",
              "      </script>\n",
              "    </div>\n",
              "  </div>\n",
              "  "
            ]
          },
          "metadata": {},
          "execution_count": 180
        }
      ]
    },
    {
      "cell_type": "code",
      "source": [],
      "metadata": {
        "id": "sok_hwcHwi6l"
      },
      "execution_count": 180,
      "outputs": []
    },
    {
      "cell_type": "code",
      "source": [
        "for row in wrong_prediction[:10].itertuples():\n",
        "  _ , text , target , predicted_label , predicted_probability = row\n",
        "  print(\"Target : {}\".format(target) )\n",
        "  print(\"predicted_label : {}\".format(predicted_label) )\n",
        "  print(\"predicted_probability : {}\".format(predicted_probability) )\n",
        "  print(\"\\n\")\n",
        "  print(\"text : {}\".format(text) )\n",
        "  print(\"\\n\")\n",
        "  print(\"----\\n\")\n"
      ],
      "metadata": {
        "colab": {
          "base_uri": "https://localhost:8080/"
        },
        "id": "PL-ypNyUwjAM",
        "outputId": "bfadc6e3-5532-4544-9499-ee5393a32136"
      },
      "execution_count": 181,
      "outputs": [
        {
          "output_type": "stream",
          "name": "stdout",
          "text": [
            "Target : 1\n",
            "predicted_label : 0.0\n",
            "predicted_probability : 0.03593357652425766\n",
            "\n",
            "\n",
            "text : Ron &amp; Fez - Dave's High School Crush https://t.co/aN3W16c8F6 via @YouTube\n",
            "\n",
            "\n",
            "----\n",
            "\n",
            "Target : 1\n",
            "predicted_label : 0.0\n",
            "predicted_probability : 0.039841677993535995\n",
            "\n",
            "\n",
            "text : Reddit Will Now QuarantineÛ_ http://t.co/pkUAMXw6pm #onlinecommunities #reddit #amageddon #freespeech #Business http://t.co/PAWvNJ4sAP\n",
            "\n",
            "\n",
            "----\n",
            "\n",
            "Target : 1\n",
            "predicted_label : 0.0\n",
            "predicted_probability : 0.04107734188437462\n",
            "\n",
            "\n",
            "text : @SoonerMagic_ I mean I'm a fan but I don't need a girl sounding off like a damn siren\n",
            "\n",
            "\n",
            "----\n",
            "\n",
            "Target : 1\n",
            "predicted_label : 0.0\n",
            "predicted_probability : 0.04274279624223709\n",
            "\n",
            "\n",
            "text : Why are you deluged with low self-image? Take the quiz: http://t.co/XsPqdOrIqj http://t.co/CQYvFR4UCy\n",
            "\n",
            "\n",
            "----\n",
            "\n",
            "Target : 1\n",
            "predicted_label : 0.0\n",
            "predicted_probability : 0.043331701308488846\n",
            "\n",
            "\n",
            "text : I get to smoke my shit in peace\n",
            "\n",
            "\n",
            "----\n",
            "\n",
            "Target : 1\n",
            "predicted_label : 0.0\n",
            "predicted_probability : 0.04819898307323456\n",
            "\n",
            "\n",
            "text : You can never escape me. Bullets don't harm me. Nothing harms me. But I know pain. I know pain. Sometimes I share it. With someone like you.\n",
            "\n",
            "\n",
            "----\n",
            "\n",
            "Target : 1\n",
            "predicted_label : 0.0\n",
            "predicted_probability : 0.0494842454791069\n",
            "\n",
            "\n",
            "text : @willienelson We need help! Horses will die!Please RT &amp; sign petition!Take a stand &amp; be a voice for them! #gilbert23 https://t.co/e8dl1lNCVu\n",
            "\n",
            "\n",
            "----\n",
            "\n",
            "Target : 1\n",
            "predicted_label : 0.0\n",
            "predicted_probability : 0.055026184767484665\n",
            "\n",
            "\n",
            "text : Lucas Duda is Ghost Rider. Not the Nic Cage version but an actual 'engulfed in flames' badass. #Mets\n",
            "\n",
            "\n",
            "----\n",
            "\n",
            "Target : 1\n",
            "predicted_label : 0.0\n",
            "predicted_probability : 0.056357625871896744\n",
            "\n",
            "\n",
            "text : going to redo my nails and watch behind the scenes of desolation of smaug ayyy\n",
            "\n",
            "\n",
            "----\n",
            "\n",
            "Target : 1\n",
            "predicted_label : 0.0\n",
            "predicted_probability : 0.06242391839623451\n",
            "\n",
            "\n",
            "text : @BoyInAHorsemask its a panda trapped in a dogs body\n",
            "\n",
            "\n",
            "----\n",
            "\n"
          ]
        }
      ]
    },
    {
      "cell_type": "code",
      "source": [
        "for row in wrong_prediction.tail(10).itertuples():\n",
        "  _ , text , target , predicted_label , predicted_probability = row\n",
        "  print(\"Target : {}\".format(target) )\n",
        "  print(\"predicted_label : {}\".format(predicted_label) )\n",
        "  print(\"predicted_probability : {}\".format(predicted_probability) )\n",
        "  print(\"\\n\")\n",
        "  print(\"text : {}\".format(text) )\n",
        "  print(\"\\n\")\n",
        "  print(\"----\\n\")"
      ],
      "metadata": {
        "colab": {
          "base_uri": "https://localhost:8080/"
        },
        "id": "Nz_YhC9crHCY",
        "outputId": "88bc3670-4849-411b-be8f-75a5d3df2369"
      },
      "execution_count": 182,
      "outputs": [
        {
          "output_type": "stream",
          "name": "stdout",
          "text": [
            "Target : 0\n",
            "predicted_label : 1.0\n",
            "predicted_probability : 0.769750714302063\n",
            "\n",
            "\n",
            "text : The Sound of Arson\n",
            "\n",
            "\n",
            "----\n",
            "\n",
            "Target : 0\n",
            "predicted_label : 1.0\n",
            "predicted_probability : 0.7714381217956543\n",
            "\n",
            "\n",
            "text : åÈMGN-AFRICAå¨ pin:263789F4 åÈ Correction: Tent Collapse Story: Correction: Tent Collapse story åÈ http://t.co/fDJUYvZMrv @wizkidayo\n",
            "\n",
            "\n",
            "----\n",
            "\n",
            "Target : 0\n",
            "predicted_label : 1.0\n",
            "predicted_probability : 0.7833243608474731\n",
            "\n",
            "\n",
            "text : [55436] 1950 LIONEL TRAINS SMOKE LOCOMOTIVES WITH MAGNE-TRACTION INSTRUCTIONS http://t.co/xEZBs3sq0y http://t.co/C2x0QoKGlY\n",
            "\n",
            "\n",
            "----\n",
            "\n",
            "Target : 0\n",
            "predicted_label : 1.0\n",
            "predicted_probability : 0.7895347476005554\n",
            "\n",
            "\n",
            "text : @AshGhebranious civil rights continued in the 60s. And what about trans-generational trauma? if anything we should listen to the Americans.\n",
            "\n",
            "\n",
            "----\n",
            "\n",
            "Target : 0\n",
            "predicted_label : 1.0\n",
            "predicted_probability : 0.8158259391784668\n",
            "\n",
            "\n",
            "text : Ashes 2015: AustraliaÛªs collapse at Trent Bridge among worst in history: England bundled out Australia for 60 ... http://t.co/t5TrhjUAU0\n",
            "\n",
            "\n",
            "----\n",
            "\n",
            "Target : 0\n",
            "predicted_label : 1.0\n",
            "predicted_probability : 0.8314064145088196\n",
            "\n",
            "\n",
            "text : @madonnamking RSPCA site multiple 7 story high rise buildings next to low density character residential in an area that floods\n",
            "\n",
            "\n",
            "----\n",
            "\n",
            "Target : 0\n",
            "predicted_label : 1.0\n",
            "predicted_probability : 0.8327507376670837\n",
            "\n",
            "\n",
            "text : @SonofLiberty357 all illuminated by the brightly burning buildings all around the town!\n",
            "\n",
            "\n",
            "----\n",
            "\n",
            "Target : 0\n",
            "predicted_label : 1.0\n",
            "predicted_probability : 0.852104902267456\n",
            "\n",
            "\n",
            "text : @noah_anyname That's where the concentration camps and mass murder come in. \n",
            " \n",
            "EVERY. FUCKING. TIME.\n",
            "\n",
            "\n",
            "----\n",
            "\n",
            "Target : 0\n",
            "predicted_label : 1.0\n",
            "predicted_probability : 0.861344039440155\n",
            "\n",
            "\n",
            "text : FedEx will no longer transport bioterror pathogens in wake of anthrax lab mishaps http://t.co/lHpgxc4b8J\n",
            "\n",
            "\n",
            "----\n",
            "\n",
            "Target : 0\n",
            "predicted_label : 1.0\n",
            "predicted_probability : 0.9156307578086853\n",
            "\n",
            "\n",
            "text : ? High Skies - Burning Buildings ? http://t.co/uVq41i3Kx2 #nowplaying\n",
            "\n",
            "\n",
            "----\n",
            "\n"
          ]
        }
      ]
    },
    {
      "cell_type": "code",
      "source": [],
      "metadata": {
        "id": "4f8dDJJWyBfz"
      },
      "execution_count": 182,
      "outputs": []
    },
    {
      "cell_type": "code",
      "source": [],
      "metadata": {
        "id": "5OFk5FHCyBly"
      },
      "execution_count": 182,
      "outputs": []
    },
    {
      "cell_type": "markdown",
      "source": [],
      "metadata": {
        "id": "Bd2GIr3GyB7a"
      }
    },
    {
      "cell_type": "markdown",
      "source": [
        "# ***Prediction on test data***"
      ],
      "metadata": {
        "id": "EuHKAZ9xyC8E"
      }
    },
    {
      "cell_type": "code",
      "source": [
        "test_data"
      ],
      "metadata": {
        "colab": {
          "base_uri": "https://localhost:8080/",
          "height": 424
        },
        "id": "kKPZa2CqOyRp",
        "outputId": "227e9fa8-bb3a-42a4-e4b9-ade1a396ff87"
      },
      "execution_count": 183,
      "outputs": [
        {
          "output_type": "execute_result",
          "data": {
            "text/plain": [
              "         id keyword location  \\\n",
              "0         0     NaN      NaN   \n",
              "1         2     NaN      NaN   \n",
              "2         3     NaN      NaN   \n",
              "3         9     NaN      NaN   \n",
              "4        11     NaN      NaN   \n",
              "...     ...     ...      ...   \n",
              "3258  10861     NaN      NaN   \n",
              "3259  10865     NaN      NaN   \n",
              "3260  10868     NaN      NaN   \n",
              "3261  10874     NaN      NaN   \n",
              "3262  10875     NaN      NaN   \n",
              "\n",
              "                                                   text  \n",
              "0                    Just happened a terrible car crash  \n",
              "1     Heard about #earthquake is different cities, s...  \n",
              "2     there is a forest fire at spot pond, geese are...  \n",
              "3              Apocalypse lighting. #Spokane #wildfires  \n",
              "4         Typhoon Soudelor kills 28 in China and Taiwan  \n",
              "...                                                 ...  \n",
              "3258  EARTHQUAKE SAFETY LOS ANGELES ÛÒ SAFETY FASTE...  \n",
              "3259  Storm in RI worse than last hurricane. My city...  \n",
              "3260  Green Line derailment in Chicago http://t.co/U...  \n",
              "3261  MEG issues Hazardous Weather Outlook (HWO) htt...  \n",
              "3262  #CityofCalgary has activated its Municipal Eme...  \n",
              "\n",
              "[3263 rows x 4 columns]"
            ],
            "text/html": [
              "\n",
              "  <div id=\"df-5a6b16b9-60fa-4cf8-96de-198d34dc4583\">\n",
              "    <div class=\"colab-df-container\">\n",
              "      <div>\n",
              "<style scoped>\n",
              "    .dataframe tbody tr th:only-of-type {\n",
              "        vertical-align: middle;\n",
              "    }\n",
              "\n",
              "    .dataframe tbody tr th {\n",
              "        vertical-align: top;\n",
              "    }\n",
              "\n",
              "    .dataframe thead th {\n",
              "        text-align: right;\n",
              "    }\n",
              "</style>\n",
              "<table border=\"1\" class=\"dataframe\">\n",
              "  <thead>\n",
              "    <tr style=\"text-align: right;\">\n",
              "      <th></th>\n",
              "      <th>id</th>\n",
              "      <th>keyword</th>\n",
              "      <th>location</th>\n",
              "      <th>text</th>\n",
              "    </tr>\n",
              "  </thead>\n",
              "  <tbody>\n",
              "    <tr>\n",
              "      <th>0</th>\n",
              "      <td>0</td>\n",
              "      <td>NaN</td>\n",
              "      <td>NaN</td>\n",
              "      <td>Just happened a terrible car crash</td>\n",
              "    </tr>\n",
              "    <tr>\n",
              "      <th>1</th>\n",
              "      <td>2</td>\n",
              "      <td>NaN</td>\n",
              "      <td>NaN</td>\n",
              "      <td>Heard about #earthquake is different cities, s...</td>\n",
              "    </tr>\n",
              "    <tr>\n",
              "      <th>2</th>\n",
              "      <td>3</td>\n",
              "      <td>NaN</td>\n",
              "      <td>NaN</td>\n",
              "      <td>there is a forest fire at spot pond, geese are...</td>\n",
              "    </tr>\n",
              "    <tr>\n",
              "      <th>3</th>\n",
              "      <td>9</td>\n",
              "      <td>NaN</td>\n",
              "      <td>NaN</td>\n",
              "      <td>Apocalypse lighting. #Spokane #wildfires</td>\n",
              "    </tr>\n",
              "    <tr>\n",
              "      <th>4</th>\n",
              "      <td>11</td>\n",
              "      <td>NaN</td>\n",
              "      <td>NaN</td>\n",
              "      <td>Typhoon Soudelor kills 28 in China and Taiwan</td>\n",
              "    </tr>\n",
              "    <tr>\n",
              "      <th>...</th>\n",
              "      <td>...</td>\n",
              "      <td>...</td>\n",
              "      <td>...</td>\n",
              "      <td>...</td>\n",
              "    </tr>\n",
              "    <tr>\n",
              "      <th>3258</th>\n",
              "      <td>10861</td>\n",
              "      <td>NaN</td>\n",
              "      <td>NaN</td>\n",
              "      <td>EARTHQUAKE SAFETY LOS ANGELES ÛÒ SAFETY FASTE...</td>\n",
              "    </tr>\n",
              "    <tr>\n",
              "      <th>3259</th>\n",
              "      <td>10865</td>\n",
              "      <td>NaN</td>\n",
              "      <td>NaN</td>\n",
              "      <td>Storm in RI worse than last hurricane. My city...</td>\n",
              "    </tr>\n",
              "    <tr>\n",
              "      <th>3260</th>\n",
              "      <td>10868</td>\n",
              "      <td>NaN</td>\n",
              "      <td>NaN</td>\n",
              "      <td>Green Line derailment in Chicago http://t.co/U...</td>\n",
              "    </tr>\n",
              "    <tr>\n",
              "      <th>3261</th>\n",
              "      <td>10874</td>\n",
              "      <td>NaN</td>\n",
              "      <td>NaN</td>\n",
              "      <td>MEG issues Hazardous Weather Outlook (HWO) htt...</td>\n",
              "    </tr>\n",
              "    <tr>\n",
              "      <th>3262</th>\n",
              "      <td>10875</td>\n",
              "      <td>NaN</td>\n",
              "      <td>NaN</td>\n",
              "      <td>#CityofCalgary has activated its Municipal Eme...</td>\n",
              "    </tr>\n",
              "  </tbody>\n",
              "</table>\n",
              "<p>3263 rows × 4 columns</p>\n",
              "</div>\n",
              "      <button class=\"colab-df-convert\" onclick=\"convertToInteractive('df-5a6b16b9-60fa-4cf8-96de-198d34dc4583')\"\n",
              "              title=\"Convert this dataframe to an interactive table.\"\n",
              "              style=\"display:none;\">\n",
              "        \n",
              "  <svg xmlns=\"http://www.w3.org/2000/svg\" height=\"24px\"viewBox=\"0 0 24 24\"\n",
              "       width=\"24px\">\n",
              "    <path d=\"M0 0h24v24H0V0z\" fill=\"none\"/>\n",
              "    <path d=\"M18.56 5.44l.94 2.06.94-2.06 2.06-.94-2.06-.94-.94-2.06-.94 2.06-2.06.94zm-11 1L8.5 8.5l.94-2.06 2.06-.94-2.06-.94L8.5 2.5l-.94 2.06-2.06.94zm10 10l.94 2.06.94-2.06 2.06-.94-2.06-.94-.94-2.06-.94 2.06-2.06.94z\"/><path d=\"M17.41 7.96l-1.37-1.37c-.4-.4-.92-.59-1.43-.59-.52 0-1.04.2-1.43.59L10.3 9.45l-7.72 7.72c-.78.78-.78 2.05 0 2.83L4 21.41c.39.39.9.59 1.41.59.51 0 1.02-.2 1.41-.59l7.78-7.78 2.81-2.81c.8-.78.8-2.07 0-2.86zM5.41 20L4 18.59l7.72-7.72 1.47 1.35L5.41 20z\"/>\n",
              "  </svg>\n",
              "      </button>\n",
              "      \n",
              "  <style>\n",
              "    .colab-df-container {\n",
              "      display:flex;\n",
              "      flex-wrap:wrap;\n",
              "      gap: 12px;\n",
              "    }\n",
              "\n",
              "    .colab-df-convert {\n",
              "      background-color: #E8F0FE;\n",
              "      border: none;\n",
              "      border-radius: 50%;\n",
              "      cursor: pointer;\n",
              "      display: none;\n",
              "      fill: #1967D2;\n",
              "      height: 32px;\n",
              "      padding: 0 0 0 0;\n",
              "      width: 32px;\n",
              "    }\n",
              "\n",
              "    .colab-df-convert:hover {\n",
              "      background-color: #E2EBFA;\n",
              "      box-shadow: 0px 1px 2px rgba(60, 64, 67, 0.3), 0px 1px 3px 1px rgba(60, 64, 67, 0.15);\n",
              "      fill: #174EA6;\n",
              "    }\n",
              "\n",
              "    [theme=dark] .colab-df-convert {\n",
              "      background-color: #3B4455;\n",
              "      fill: #D2E3FC;\n",
              "    }\n",
              "\n",
              "    [theme=dark] .colab-df-convert:hover {\n",
              "      background-color: #434B5C;\n",
              "      box-shadow: 0px 1px 3px 1px rgba(0, 0, 0, 0.15);\n",
              "      filter: drop-shadow(0px 1px 2px rgba(0, 0, 0, 0.3));\n",
              "      fill: #FFFFFF;\n",
              "    }\n",
              "  </style>\n",
              "\n",
              "      <script>\n",
              "        const buttonEl =\n",
              "          document.querySelector('#df-5a6b16b9-60fa-4cf8-96de-198d34dc4583 button.colab-df-convert');\n",
              "        buttonEl.style.display =\n",
              "          google.colab.kernel.accessAllowed ? 'block' : 'none';\n",
              "\n",
              "        async function convertToInteractive(key) {\n",
              "          const element = document.querySelector('#df-5a6b16b9-60fa-4cf8-96de-198d34dc4583');\n",
              "          const dataTable =\n",
              "            await google.colab.kernel.invokeFunction('convertToInteractive',\n",
              "                                                     [key], {});\n",
              "          if (!dataTable) return;\n",
              "\n",
              "          const docLinkHtml = 'Like what you see? Visit the ' +\n",
              "            '<a target=\"_blank\" href=https://colab.research.google.com/notebooks/data_table.ipynb>data table notebook</a>'\n",
              "            + ' to learn more about interactive tables.';\n",
              "          element.innerHTML = '';\n",
              "          dataTable['output_type'] = 'display_data';\n",
              "          await google.colab.output.renderOutput(dataTable, element);\n",
              "          const docLink = document.createElement('div');\n",
              "          docLink.innerHTML = docLinkHtml;\n",
              "          element.appendChild(docLink);\n",
              "        }\n",
              "      </script>\n",
              "    </div>\n",
              "  </div>\n",
              "  "
            ]
          },
          "metadata": {},
          "execution_count": 183
        }
      ]
    },
    {
      "cell_type": "code",
      "source": [
        "test_data[\"text\"].head(10)"
      ],
      "metadata": {
        "colab": {
          "base_uri": "https://localhost:8080/"
        },
        "id": "CmjiEeFAO1M5",
        "outputId": "a0feefdc-9926-4e8e-c052-1031f791bc81"
      },
      "execution_count": 184,
      "outputs": [
        {
          "output_type": "execute_result",
          "data": {
            "text/plain": [
              "0                   Just happened a terrible car crash\n",
              "1    Heard about #earthquake is different cities, s...\n",
              "2    there is a forest fire at spot pond, geese are...\n",
              "3             Apocalypse lighting. #Spokane #wildfires\n",
              "4        Typhoon Soudelor kills 28 in China and Taiwan\n",
              "5                   We're shaking...It's an earthquake\n",
              "6    They'd probably still show more life than Arse...\n",
              "7                                    Hey! How are you?\n",
              "8                                     What a nice hat?\n",
              "9                                            Fuck off!\n",
              "Name: text, dtype: object"
            ]
          },
          "metadata": {},
          "execution_count": 184
        }
      ]
    },
    {
      "cell_type": "code",
      "source": [
        "len(test_data)"
      ],
      "metadata": {
        "colab": {
          "base_uri": "https://localhost:8080/"
        },
        "id": "B8Q4ai-kPKrR",
        "outputId": "ccf3f9fa-36d4-49ba-c48d-b739e54d6f8a"
      },
      "execution_count": 185,
      "outputs": [
        {
          "output_type": "execute_result",
          "data": {
            "text/plain": [
              "3263"
            ]
          },
          "metadata": {},
          "execution_count": 185
        }
      ]
    },
    {
      "cell_type": "code",
      "source": [
        "test_sentence = test_data[\"text\"].to_list()\n",
        "test_sentence[:10]"
      ],
      "metadata": {
        "colab": {
          "base_uri": "https://localhost:8080/"
        },
        "id": "TWY1jbzQPTf2",
        "outputId": "16249373-266f-4688-f8cd-868f7466d24e"
      },
      "execution_count": 186,
      "outputs": [
        {
          "output_type": "execute_result",
          "data": {
            "text/plain": [
              "['Just happened a terrible car crash',\n",
              " 'Heard about #earthquake is different cities, stay safe everyone.',\n",
              " 'there is a forest fire at spot pond, geese are fleeing across the street, I cannot save them all',\n",
              " 'Apocalypse lighting. #Spokane #wildfires',\n",
              " 'Typhoon Soudelor kills 28 in China and Taiwan',\n",
              " \"We're shaking...It's an earthquake\",\n",
              " \"They'd probably still show more life than Arsenal did yesterday, eh? EH?\",\n",
              " 'Hey! How are you?',\n",
              " 'What a nice hat?',\n",
              " 'Fuck off!']"
            ]
          },
          "metadata": {},
          "execution_count": 186
        }
      ]
    },
    {
      "cell_type": "code",
      "source": [
        "test_samples = random.sample(test_sentence , 10)\n",
        "test_samples\n"
      ],
      "metadata": {
        "colab": {
          "base_uri": "https://localhost:8080/"
        },
        "id": "4AAsIBscPwe6",
        "outputId": "b2d394ea-6132-422a-f3cd-35920a26a3a4"
      },
      "execution_count": 187,
      "outputs": [
        {
          "output_type": "execute_result",
          "data": {
            "text/plain": [
              "['08 Army personnel including 5 Majors were martyred when a helicopter of Army Medical Corps crashed near Mansehra. http://t.co/wyMrtwsZHU',\n",
              " '@unitedutilities not happy I received text now about #Parasite danger.I am a #transplantee &amp; #Virus can kill #kidney https://t.co/9AasSFrdP1',\n",
              " 'Canceling Deal for 2 Warships France Agrees to Repay Russia via @nytimes http://t.co/j7vbskHAXn',\n",
              " '#NYCHA says the pipe that burst and flooded apartments in a senior center is being repaired. http://t.co/eCyui3290H http://t.co/6S6sYUYypL',\n",
              " '#CNNHoTD soccer mom wild swimming handcuffed child teen hookup case nuclear devastation showers Miss Piggy... http://t.co/XG9s40AFtZ',\n",
              " '(SJ GIST): 148 Houses Farm Produce Destroyed By Flood In Sokoto: About 148 houses were on Saturday destroyed ... http://t.co/vqU1Y31hKU',\n",
              " \"Wreckage 'conclusively confirmed' as from MH370: Malaysia PM http://t.co/Se1QkNPltS | https://t.co/DnhRviV1dJ\",\n",
              " \"He said he's 'gonna put a ring in my Harvey's burger since i love it so much it's the perfect metaphor'.. NOOO you can't ruin my burger wtf\",\n",
              " 'Nuclear-Powered Brassiere Explodes During Seismic Survey http://t.co/76mKIdOOLh\\n #Calgary #Edmonton #oilandgas #Vancouver #Toronto',\n",
              " '@Kayhow21 I may have a panic attack during this coinflip']"
            ]
          },
          "metadata": {},
          "execution_count": 187
        }
      ]
    },
    {
      "cell_type": "code",
      "source": [
        "for i in test_samples:\n",
        "  pred_proba = model_6.predict([i])\n",
        "  pred = pred_proba.round()\n",
        "  print(f\"Pred: {int(pred)}, Prob: {pred_proba}\")\n",
        "  print(f\"Text:\\n{i}\\n\")\n",
        "  print(\"----\\n\")"
      ],
      "metadata": {
        "colab": {
          "base_uri": "https://localhost:8080/"
        },
        "id": "jXu1CbqiQHQw",
        "outputId": "233eb1e4-ff43-4439-d4b8-d88cd1ff6b3d"
      },
      "execution_count": 188,
      "outputs": [
        {
          "output_type": "stream",
          "name": "stdout",
          "text": [
            "1/1 [==============================] - 0s 416ms/step\n",
            "Pred: 1, Prob: [[0.96641123]]\n",
            "Text:\n",
            "08 Army personnel including 5 Majors were martyred when a helicopter of Army Medical Corps crashed near Mansehra. http://t.co/wyMrtwsZHU\n",
            "\n",
            "----\n",
            "\n",
            "1/1 [==============================] - 0s 38ms/step\n",
            "Pred: 0, Prob: [[0.12390438]]\n",
            "Text:\n",
            "@unitedutilities not happy I received text now about #Parasite danger.I am a #transplantee &amp; #Virus can kill #kidney https://t.co/9AasSFrdP1\n",
            "\n",
            "----\n",
            "\n",
            "1/1 [==============================] - 0s 44ms/step\n",
            "Pred: 1, Prob: [[0.658476]]\n",
            "Text:\n",
            "Canceling Deal for 2 Warships France Agrees to Repay Russia via @nytimes http://t.co/j7vbskHAXn\n",
            "\n",
            "----\n",
            "\n",
            "1/1 [==============================] - 0s 40ms/step\n",
            "Pred: 1, Prob: [[0.8795549]]\n",
            "Text:\n",
            "#NYCHA says the pipe that burst and flooded apartments in a senior center is being repaired. http://t.co/eCyui3290H http://t.co/6S6sYUYypL\n",
            "\n",
            "----\n",
            "\n",
            "1/1 [==============================] - 0s 39ms/step\n",
            "Pred: 0, Prob: [[0.2991256]]\n",
            "Text:\n",
            "#CNNHoTD soccer mom wild swimming handcuffed child teen hookup case nuclear devastation showers Miss Piggy... http://t.co/XG9s40AFtZ\n",
            "\n",
            "----\n",
            "\n",
            "1/1 [==============================] - 0s 41ms/step\n",
            "Pred: 1, Prob: [[0.8492123]]\n",
            "Text:\n",
            "(SJ GIST): 148 Houses Farm Produce Destroyed By Flood In Sokoto: About 148 houses were on Saturday destroyed ... http://t.co/vqU1Y31hKU\n",
            "\n",
            "----\n",
            "\n",
            "1/1 [==============================] - 0s 41ms/step\n",
            "Pred: 1, Prob: [[0.98051435]]\n",
            "Text:\n",
            "Wreckage 'conclusively confirmed' as from MH370: Malaysia PM http://t.co/Se1QkNPltS | https://t.co/DnhRviV1dJ\n",
            "\n",
            "----\n",
            "\n",
            "1/1 [==============================] - 0s 40ms/step\n",
            "Pred: 0, Prob: [[0.03210792]]\n",
            "Text:\n",
            "He said he's 'gonna put a ring in my Harvey's burger since i love it so much it's the perfect metaphor'.. NOOO you can't ruin my burger wtf\n",
            "\n",
            "----\n",
            "\n",
            "1/1 [==============================] - 0s 38ms/step\n",
            "Pred: 1, Prob: [[0.841068]]\n",
            "Text:\n",
            "Nuclear-Powered Brassiere Explodes During Seismic Survey http://t.co/76mKIdOOLh\n",
            " #Calgary #Edmonton #oilandgas #Vancouver #Toronto\n",
            "\n",
            "----\n",
            "\n",
            "1/1 [==============================] - 0s 39ms/step\n",
            "Pred: 0, Prob: [[0.19626234]]\n",
            "Text:\n",
            "@Kayhow21 I may have a panic attack during this coinflip\n",
            "\n",
            "----\n",
            "\n"
          ]
        }
      ]
    },
    {
      "cell_type": "code",
      "source": [],
      "metadata": {
        "id": "5vyo7PnBQxMI"
      },
      "execution_count": 188,
      "outputs": []
    },
    {
      "cell_type": "markdown",
      "source": [
        "# ***Testing Twitter Sentence***"
      ],
      "metadata": {
        "id": "KLkdiRaCSrGg"
      }
    },
    {
      "cell_type": "code",
      "source": [
        "def prediction_on_twitter_sentence(sentence , model):\n",
        "  pred_proba = model.predict([sentence])\n",
        "  pred = pred_proba.round()\n",
        "  print(f\"Sentence : {sentence}\")\n",
        "  print(f\"pred_proba : {pred_proba}\")\n",
        "  print(f\"pred : {pred}\")\n",
        "  if pred == 0:\n",
        "    print(\"Safe\")\n",
        "  else :\n",
        "    print(\"Disaster\")\n"
      ],
      "metadata": {
        "id": "cY2OaQHYQxvQ"
      },
      "execution_count": 189,
      "outputs": []
    },
    {
      "cell_type": "code",
      "source": [
        "sent_1 = \"A lot of City is affected by Earthquake !\"\n"
      ],
      "metadata": {
        "id": "IQH3ITw2RczE"
      },
      "execution_count": 190,
      "outputs": []
    },
    {
      "cell_type": "code",
      "source": [
        "prediction_on_twitter_sentence(sentence = sent_1 , model =  model_6)"
      ],
      "metadata": {
        "colab": {
          "base_uri": "https://localhost:8080/"
        },
        "id": "S7FZbfr3R8UW",
        "outputId": "ced0a6e8-0621-412d-c914-e3b13883a9eb"
      },
      "execution_count": 191,
      "outputs": [
        {
          "output_type": "stream",
          "name": "stdout",
          "text": [
            "1/1 [==============================] - 0s 38ms/step\n",
            "Sentence : A lot of City is affected by Earthquake !\n",
            "pred_proba : [[0.91740286]]\n",
            "pred : [[1.]]\n",
            "Disaster\n"
          ]
        }
      ]
    },
    {
      "cell_type": "code",
      "source": [],
      "metadata": {
        "id": "fALAzNmJSv2f"
      },
      "execution_count": 191,
      "outputs": []
    },
    {
      "cell_type": "code",
      "source": [],
      "metadata": {
        "id": "AXlQBj8USv9_"
      },
      "execution_count": 191,
      "outputs": []
    },
    {
      "cell_type": "markdown",
      "source": [
        "# ***Speed/Score Tradeoff***"
      ],
      "metadata": {
        "id": "6JY81rMkSznq"
      }
    },
    {
      "cell_type": "code",
      "source": [
        "import time"
      ],
      "metadata": {
        "id": "YrjUPvyCTLbS"
      },
      "execution_count": 192,
      "outputs": []
    },
    {
      "cell_type": "code",
      "source": [
        "def predict_time(samples , model):\n",
        "  start_time = time.perf_counter()\n",
        "  prediction = model.predict(samples)\n",
        "  end_time = time.perf_counter()\n",
        "  total_time = end_time - start_time\n",
        "  time_per_pred = total_time/len(samples)\n",
        "  return total_time , time_per_pred"
      ],
      "metadata": {
        "id": "P3xX1YTHSKxl"
      },
      "execution_count": 193,
      "outputs": []
    },
    {
      "cell_type": "code",
      "source": [
        "model_0_total_time  , model_0_total_time_per_pred = predict_time(Val_sentence , model_0)\n",
        "model_0_total_time  , model_0_total_time_per_pred"
      ],
      "metadata": {
        "colab": {
          "base_uri": "https://localhost:8080/"
        },
        "id": "g7ScLlNPTyFT",
        "outputId": "22ac9394-d6ce-40bd-e322-4962c87e1ebe"
      },
      "execution_count": 194,
      "outputs": [
        {
          "output_type": "execute_result",
          "data": {
            "text/plain": [
              "(0.019147628999917288, 2.5128122047135548e-05)"
            ]
          },
          "metadata": {},
          "execution_count": 194
        }
      ]
    },
    {
      "cell_type": "code",
      "source": [
        "model_6_total_time  , model_6_total_time_per_pred = predict_time(Val_sentence , model_6)\n",
        "model_6_total_time  , model_6_total_time_per_pred"
      ],
      "metadata": {
        "colab": {
          "base_uri": "https://localhost:8080/"
        },
        "id": "duuqJGxQT7j3",
        "outputId": "d9634c4e-815f-4717-dcf4-7763b3a14388"
      },
      "execution_count": 195,
      "outputs": [
        {
          "output_type": "stream",
          "name": "stdout",
          "text": [
            "24/24 [==============================] - 0s 9ms/step\n"
          ]
        },
        {
          "output_type": "execute_result",
          "data": {
            "text/plain": [
              "(0.3742807050000465, 0.0004911820275591162)"
            ]
          },
          "metadata": {},
          "execution_count": 195
        }
      ]
    },
    {
      "cell_type": "code",
      "source": [
        "plt.figure(figsize=(16, 6))\n",
        "plt.scatter(model_0_total_time_per_pred , model_0_results[\"f1\"] , label = \"Baseline_Model\")\n",
        "plt.scatter(model_6_total_time_per_pred , model_6_results[\"f1\"] , label = \"Tf_hub_Sentence_Encoder\")\n",
        "plt.legend()\n",
        "plt.title(\"F1-score versus time per prediction\")\n",
        "plt.xlabel(\"Time per prediction\")\n",
        "plt.ylabel(\"F1-Score\");"
      ],
      "metadata": {
        "colab": {
          "base_uri": "https://localhost:8080/",
          "height": 560
        },
        "id": "urNK62j3ULpO",
        "outputId": "aeb5e48c-cde8-48c8-8c20-c252532ba1ea"
      },
      "execution_count": 196,
      "outputs": [
        {
          "output_type": "display_data",
          "data": {
            "text/plain": [
              "<Figure size 1600x600 with 1 Axes>"
            ],
            "image/png": "[encoded data removed]"
          },
          "metadata": {}
        }
      ]
    },
    {
      "cell_type": "code",
      "source": [],
      "metadata": {
        "id": "3MEaqffNUzBR"
      },
      "execution_count": 196,
      "outputs": []
    }
  ]
}